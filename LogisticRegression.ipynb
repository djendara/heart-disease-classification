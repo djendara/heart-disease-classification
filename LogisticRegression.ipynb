{
 "cells": [
  {
   "cell_type": "markdown",
   "id": "a89ed8e9",
   "metadata": {
    "papermill": {
     "duration": 0.036885,
     "end_time": "2021-11-02T14:35:08.540959",
     "exception": false,
     "start_time": "2021-11-02T14:35:08.504074",
     "status": "completed"
    },
    "tags": []
   },
   "source": [
    "## Imports"
   ]
  },
  {
   "cell_type": "code",
   "execution_count": 1,
   "id": "de98e6a2",
   "metadata": {
    "_cell_guid": "b1076dfc-b9ad-4769-8c92-a6c4dae69d19",
    "_uuid": "8f2839f25d086af736a60e9eeb907d3b93b6e0e5",
    "execution": {
     "iopub.execute_input": "2021-11-02T14:35:08.612120Z",
     "iopub.status.busy": "2021-11-02T14:35:08.610906Z",
     "iopub.status.idle": "2021-11-02T14:35:10.080106Z",
     "shell.execute_reply": "2021-11-02T14:35:10.080654Z",
     "shell.execute_reply.started": "2021-11-02T13:21:15.634913Z"
    },
    "papermill": {
     "duration": 1.506595,
     "end_time": "2021-11-02T14:35:10.081036",
     "exception": false,
     "start_time": "2021-11-02T14:35:08.574441",
     "status": "completed"
    },
    "tags": []
   },
   "outputs": [],
   "source": [
    "import pandas as pd\n",
    "import numpy as np\n",
    "import matplotlib.pyplot as plt\n",
    "import seaborn as sns\n",
    "\n",
    "from sklearn.model_selection import train_test_split, GridSearchCV, cross_val_score, validation_curve\n",
    "\n",
    "from sklearn.linear_model import LogisticRegression\n",
    "\n",
    "from sklearn.metrics import accuracy_score, confusion_matrix, classification_report, plot_roc_curve, plot_confusion_matrix, f1_score"
   ]
  },
  {
   "cell_type": "markdown",
   "id": "0196c0cc",
   "metadata": {
    "papermill": {
     "duration": 0.035277,
     "end_time": "2021-11-02T14:35:10.151529",
     "exception": false,
     "start_time": "2021-11-02T14:35:10.116252",
     "status": "completed"
    },
    "tags": []
   },
   "source": [
    "## Loading the data"
   ]
  },
  {
   "cell_type": "code",
   "execution_count": 2,
   "id": "1d90a0f8",
   "metadata": {
    "execution": {
     "iopub.execute_input": "2021-11-02T14:35:10.222972Z",
     "iopub.status.busy": "2021-11-02T14:35:10.222296Z",
     "iopub.status.idle": "2021-11-02T14:35:10.266756Z",
     "shell.execute_reply": "2021-11-02T14:35:10.267421Z",
     "shell.execute_reply.started": "2021-11-02T13:21:16.349066Z"
    },
    "papermill": {
     "duration": 0.082009,
     "end_time": "2021-11-02T14:35:10.267635",
     "exception": false,
     "start_time": "2021-11-02T14:35:10.185626",
     "status": "completed"
    },
    "tags": []
   },
   "outputs": [
    {
     "data": {
      "text/html": [
       "<div>\n",
       "<style scoped>\n",
       "    .dataframe tbody tr th:only-of-type {\n",
       "        vertical-align: middle;\n",
       "    }\n",
       "\n",
       "    .dataframe tbody tr th {\n",
       "        vertical-align: top;\n",
       "    }\n",
       "\n",
       "    .dataframe thead th {\n",
       "        text-align: right;\n",
       "    }\n",
       "</style>\n",
       "<table border=\"1\" class=\"dataframe\">\n",
       "  <thead>\n",
       "    <tr style=\"text-align: right;\">\n",
       "      <th></th>\n",
       "      <th>age</th>\n",
       "      <th>sex</th>\n",
       "      <th>cp</th>\n",
       "      <th>trestbps</th>\n",
       "      <th>chol</th>\n",
       "      <th>fbs</th>\n",
       "      <th>restecg</th>\n",
       "      <th>thalach</th>\n",
       "      <th>exang</th>\n",
       "      <th>oldpeak</th>\n",
       "      <th>slope</th>\n",
       "      <th>ca</th>\n",
       "      <th>thal</th>\n",
       "      <th>target</th>\n",
       "    </tr>\n",
       "  </thead>\n",
       "  <tbody>\n",
       "    <tr>\n",
       "      <th>0</th>\n",
       "      <td>63</td>\n",
       "      <td>1</td>\n",
       "      <td>3</td>\n",
       "      <td>145</td>\n",
       "      <td>233</td>\n",
       "      <td>1</td>\n",
       "      <td>0</td>\n",
       "      <td>150</td>\n",
       "      <td>0</td>\n",
       "      <td>2.3</td>\n",
       "      <td>0</td>\n",
       "      <td>0</td>\n",
       "      <td>1</td>\n",
       "      <td>1</td>\n",
       "    </tr>\n",
       "    <tr>\n",
       "      <th>1</th>\n",
       "      <td>37</td>\n",
       "      <td>1</td>\n",
       "      <td>2</td>\n",
       "      <td>130</td>\n",
       "      <td>250</td>\n",
       "      <td>0</td>\n",
       "      <td>1</td>\n",
       "      <td>187</td>\n",
       "      <td>0</td>\n",
       "      <td>3.5</td>\n",
       "      <td>0</td>\n",
       "      <td>0</td>\n",
       "      <td>2</td>\n",
       "      <td>1</td>\n",
       "    </tr>\n",
       "    <tr>\n",
       "      <th>2</th>\n",
       "      <td>41</td>\n",
       "      <td>0</td>\n",
       "      <td>1</td>\n",
       "      <td>130</td>\n",
       "      <td>204</td>\n",
       "      <td>0</td>\n",
       "      <td>0</td>\n",
       "      <td>172</td>\n",
       "      <td>0</td>\n",
       "      <td>1.4</td>\n",
       "      <td>2</td>\n",
       "      <td>0</td>\n",
       "      <td>2</td>\n",
       "      <td>1</td>\n",
       "    </tr>\n",
       "    <tr>\n",
       "      <th>3</th>\n",
       "      <td>56</td>\n",
       "      <td>1</td>\n",
       "      <td>1</td>\n",
       "      <td>120</td>\n",
       "      <td>236</td>\n",
       "      <td>0</td>\n",
       "      <td>1</td>\n",
       "      <td>178</td>\n",
       "      <td>0</td>\n",
       "      <td>0.8</td>\n",
       "      <td>2</td>\n",
       "      <td>0</td>\n",
       "      <td>2</td>\n",
       "      <td>1</td>\n",
       "    </tr>\n",
       "    <tr>\n",
       "      <th>4</th>\n",
       "      <td>57</td>\n",
       "      <td>0</td>\n",
       "      <td>0</td>\n",
       "      <td>120</td>\n",
       "      <td>354</td>\n",
       "      <td>0</td>\n",
       "      <td>1</td>\n",
       "      <td>163</td>\n",
       "      <td>1</td>\n",
       "      <td>0.6</td>\n",
       "      <td>2</td>\n",
       "      <td>0</td>\n",
       "      <td>2</td>\n",
       "      <td>1</td>\n",
       "    </tr>\n",
       "  </tbody>\n",
       "</table>\n",
       "</div>"
      ],
      "text/plain": [
       "   age  sex  cp  trestbps  chol  fbs  restecg  thalach  exang  oldpeak  slope  \\\n",
       "0   63    1   3       145   233    1        0      150      0      2.3      0   \n",
       "1   37    1   2       130   250    0        1      187      0      3.5      0   \n",
       "2   41    0   1       130   204    0        0      172      0      1.4      2   \n",
       "3   56    1   1       120   236    0        1      178      0      0.8      2   \n",
       "4   57    0   0       120   354    0        1      163      1      0.6      2   \n",
       "\n",
       "   ca  thal  target  \n",
       "0   0     1       1  \n",
       "1   0     2       1  \n",
       "2   0     2       1  \n",
       "3   0     2       1  \n",
       "4   0     2       1  "
      ]
     },
     "execution_count": 2,
     "metadata": {},
     "output_type": "execute_result"
    }
   ],
   "source": [
    "df = pd.read_csv('../input/heart-disease-uci/heart.csv')\n",
    "df.head()"
   ]
  },
  {
   "cell_type": "code",
   "execution_count": 3,
   "id": "44e160bc",
   "metadata": {
    "execution": {
     "iopub.execute_input": "2021-11-02T14:35:10.342440Z",
     "iopub.status.busy": "2021-11-02T14:35:10.341616Z",
     "iopub.status.idle": "2021-11-02T14:35:10.345724Z",
     "shell.execute_reply": "2021-11-02T14:35:10.344934Z",
     "shell.execute_reply.started": "2021-11-02T13:21:16.613713Z"
    },
    "papermill": {
     "duration": 0.044053,
     "end_time": "2021-11-02T14:35:10.345885",
     "exception": false,
     "start_time": "2021-11-02T14:35:10.301832",
     "status": "completed"
    },
    "tags": []
   },
   "outputs": [
    {
     "data": {
      "text/plain": [
       "(303, 14)"
      ]
     },
     "execution_count": 3,
     "metadata": {},
     "output_type": "execute_result"
    }
   ],
   "source": [
    "df.shape"
   ]
  },
  {
   "cell_type": "markdown",
   "id": "98b49346",
   "metadata": {
    "papermill": {
     "duration": 0.033134,
     "end_time": "2021-11-02T14:35:10.414199",
     "exception": false,
     "start_time": "2021-11-02T14:35:10.381065",
     "status": "completed"
    },
    "tags": []
   },
   "source": [
    "#### as we can see this data this data is about 303 rows and 14 column"
   ]
  },
  {
   "cell_type": "markdown",
   "id": "1f1c9dac",
   "metadata": {
    "papermill": {
     "duration": 0.033373,
     "end_time": "2021-11-02T14:35:10.480835",
     "exception": false,
     "start_time": "2021-11-02T14:35:10.447462",
     "status": "completed"
    },
    "tags": []
   },
   "source": [
    "## Exploring our dataset "
   ]
  },
  {
   "cell_type": "code",
   "execution_count": 4,
   "id": "dd1bc1a2",
   "metadata": {
    "execution": {
     "iopub.execute_input": "2021-11-02T14:35:10.551313Z",
     "iopub.status.busy": "2021-11-02T14:35:10.550566Z",
     "iopub.status.idle": "2021-11-02T14:35:10.566545Z",
     "shell.execute_reply": "2021-11-02T14:35:10.565943Z",
     "shell.execute_reply.started": "2021-11-02T13:21:17.591083Z"
    },
    "papermill": {
     "duration": 0.052752,
     "end_time": "2021-11-02T14:35:10.566694",
     "exception": false,
     "start_time": "2021-11-02T14:35:10.513942",
     "status": "completed"
    },
    "tags": []
   },
   "outputs": [
    {
     "data": {
      "text/plain": [
       "1    0.683168\n",
       "0    0.316832\n",
       "Name: sex, dtype: float64"
      ]
     },
     "execution_count": 4,
     "metadata": {},
     "output_type": "execute_result"
    }
   ],
   "source": [
    "df.sex.value_counts(normalize=True)"
   ]
  },
  {
   "cell_type": "markdown",
   "id": "fad64bc1",
   "metadata": {
    "papermill": {
     "duration": 0.033354,
     "end_time": "2021-11-02T14:35:10.633713",
     "exception": false,
     "start_time": "2021-11-02T14:35:10.600359",
     "status": "completed"
    },
    "tags": []
   },
   "source": [
    "#### this mean we have more female then male."
   ]
  },
  {
   "cell_type": "markdown",
   "id": "4bf3e01b",
   "metadata": {
    "papermill": {
     "duration": 0.034057,
     "end_time": "2021-11-02T14:35:10.701877",
     "exception": false,
     "start_time": "2021-11-02T14:35:10.667820",
     "status": "completed"
    },
    "tags": []
   },
   "source": [
    "#### let's plot only people who got disease by sex"
   ]
  },
  {
   "cell_type": "code",
   "execution_count": 5,
   "id": "2a75efd5",
   "metadata": {
    "execution": {
     "iopub.execute_input": "2021-11-02T14:35:10.778255Z",
     "iopub.status.busy": "2021-11-02T14:35:10.777445Z",
     "iopub.status.idle": "2021-11-02T14:35:11.019872Z",
     "shell.execute_reply": "2021-11-02T14:35:11.020396Z",
     "shell.execute_reply.started": "2021-11-02T13:21:18.756846Z"
    },
    "papermill": {
     "duration": 0.28446,
     "end_time": "2021-11-02T14:35:11.020614",
     "exception": false,
     "start_time": "2021-11-02T14:35:10.736154",
     "status": "completed"
    },
    "tags": []
   },
   "outputs": [
    {
     "data": {
      "image/png": "[encoded data removed]",
      "text/plain": [
       "<Figure size 432x288 with 1 Axes>"
      ]
     },
     "metadata": {
      "needs_background": "light"
     },
     "output_type": "display_data"
    }
   ],
   "source": [
    "df.sex[df.target==1].value_counts().plot(kind=\"bar\")\n",
    "# commenting the plot \n",
    "plt.title(\"people who got disease by sex\")\n",
    "plt.xlabel(\"sex\")\n",
    "plt.ylabel(\"effected\"); \n",
    "plt.xticks(rotation = 0);"
   ]
  },
  {
   "cell_type": "code",
   "execution_count": 6,
   "id": "b2b6de0c",
   "metadata": {
    "execution": {
     "iopub.execute_input": "2021-11-02T14:35:11.098905Z",
     "iopub.status.busy": "2021-11-02T14:35:11.098154Z",
     "iopub.status.idle": "2021-11-02T14:35:11.102148Z",
     "shell.execute_reply": "2021-11-02T14:35:11.101548Z",
     "shell.execute_reply.started": "2021-11-02T13:21:19.369978Z"
    },
    "papermill": {
     "duration": 0.046455,
     "end_time": "2021-11-02T14:35:11.102351",
     "exception": false,
     "start_time": "2021-11-02T14:35:11.055896",
     "status": "completed"
    },
    "tags": []
   },
   "outputs": [
    {
     "data": {
      "text/plain": [
       "1    0.544554\n",
       "0    0.455446\n",
       "Name: target, dtype: float64"
      ]
     },
     "execution_count": 6,
     "metadata": {},
     "output_type": "execute_result"
    }
   ],
   "source": [
    "df.target.value_counts(normalize=True)"
   ]
  },
  {
   "cell_type": "markdown",
   "id": "7c9c49f9",
   "metadata": {
    "papermill": {
     "duration": 0.034922,
     "end_time": "2021-11-02T14:35:11.173530",
     "exception": false,
     "start_time": "2021-11-02T14:35:11.138608",
     "status": "completed"
    },
    "tags": []
   },
   "source": [
    "#### the two classes are almost equal"
   ]
  },
  {
   "cell_type": "markdown",
   "id": "986bf431",
   "metadata": {
    "papermill": {
     "duration": 0.035439,
     "end_time": "2021-11-02T14:35:11.245579",
     "exception": false,
     "start_time": "2021-11-02T14:35:11.210140",
     "status": "completed"
    },
    "tags": []
   },
   "source": [
    "### Ploting Heart Disease by Age / Max Heart Rate"
   ]
  },
  {
   "cell_type": "code",
   "execution_count": 7,
   "id": "81e69133",
   "metadata": {
    "execution": {
     "iopub.execute_input": "2021-11-02T14:35:11.322070Z",
     "iopub.status.busy": "2021-11-02T14:35:11.319599Z",
     "iopub.status.idle": "2021-11-02T14:35:11.647835Z",
     "shell.execute_reply": "2021-11-02T14:35:11.648393Z",
     "shell.execute_reply.started": "2021-11-02T13:21:20.557098Z"
    },
    "papermill": {
     "duration": 0.367683,
     "end_time": "2021-11-02T14:35:11.648599",
     "exception": false,
     "start_time": "2021-11-02T14:35:11.280916",
     "status": "completed"
    },
    "tags": []
   },
   "outputs": [
    {
     "data": {
      "image/png": "[encoded data removed]",
      "text/plain": [
       "<Figure size 432x288 with 1 Axes>"
      ]
     },
     "metadata": {
      "needs_background": "light"
     },
     "output_type": "display_data"
    }
   ],
   "source": [
    "sns.scatterplot(x=df.age, y=df.thalach, hue = df.target);\n",
    "# commenting the plot \n",
    "plt.title(\"Heart Disease by Age / Max Heart Rate\")\n",
    "plt.xlabel(\"Age\")\n",
    "plt.legend([\"Disease\", \"No Disease\"])\n",
    "plt.ylabel(\"Max Heart Rate\");"
   ]
  },
  {
   "cell_type": "markdown",
   "id": "36bbc490",
   "metadata": {
    "papermill": {
     "duration": 0.03651,
     "end_time": "2021-11-02T14:35:11.723992",
     "exception": false,
     "start_time": "2021-11-02T14:35:11.687482",
     "status": "completed"
    },
    "tags": []
   },
   "source": [
    "### Correlation matrix  "
   ]
  },
  {
   "cell_type": "code",
   "execution_count": 8,
   "id": "6663f77d",
   "metadata": {
    "execution": {
     "iopub.execute_input": "2021-11-02T14:35:11.806286Z",
     "iopub.status.busy": "2021-11-02T14:35:11.803757Z",
     "iopub.status.idle": "2021-11-02T14:35:13.175498Z",
     "shell.execute_reply": "2021-11-02T14:35:13.176148Z",
     "shell.execute_reply.started": "2021-11-02T13:21:21.374203Z"
    },
    "papermill": {
     "duration": 1.413416,
     "end_time": "2021-11-02T14:35:13.176393",
     "exception": false,
     "start_time": "2021-11-02T14:35:11.762977",
     "status": "completed"
    },
    "tags": []
   },
   "outputs": [
    {
     "data": {
      "image/png": "[encoded data removed]",
      "text/plain": [
       "<Figure size 864x720 with 2 Axes>"
      ]
     },
     "metadata": {
      "needs_background": "light"
     },
     "output_type": "display_data"
    }
   ],
   "source": [
    "corr = df.corr()\n",
    "f, ax = plt.subplots(figsize=(12, 10))\n",
    "sns.heatmap(corr, annot=True, fmt='.2f', ax=ax);"
   ]
  },
  {
   "cell_type": "code",
   "execution_count": 9,
   "id": "3dc53e49",
   "metadata": {
    "execution": {
     "iopub.execute_input": "2021-11-02T14:35:13.263334Z",
     "iopub.status.busy": "2021-11-02T14:35:13.262649Z",
     "iopub.status.idle": "2021-11-02T14:35:13.276080Z",
     "shell.execute_reply": "2021-11-02T14:35:13.275401Z",
     "shell.execute_reply.started": "2021-11-02T13:21:22.755459Z"
    },
    "papermill": {
     "duration": 0.059497,
     "end_time": "2021-11-02T14:35:13.276243",
     "exception": false,
     "start_time": "2021-11-02T14:35:13.216746",
     "status": "completed"
    },
    "tags": []
   },
   "outputs": [
    {
     "data": {
      "text/html": [
       "<div>\n",
       "<style scoped>\n",
       "    .dataframe tbody tr th:only-of-type {\n",
       "        vertical-align: middle;\n",
       "    }\n",
       "\n",
       "    .dataframe tbody tr th {\n",
       "        vertical-align: top;\n",
       "    }\n",
       "\n",
       "    .dataframe thead th {\n",
       "        text-align: right;\n",
       "    }\n",
       "</style>\n",
       "<table border=\"1\" class=\"dataframe\">\n",
       "  <thead>\n",
       "    <tr style=\"text-align: right;\">\n",
       "      <th></th>\n",
       "      <th>age</th>\n",
       "      <th>sex</th>\n",
       "      <th>cp</th>\n",
       "      <th>trestbps</th>\n",
       "      <th>chol</th>\n",
       "      <th>fbs</th>\n",
       "      <th>restecg</th>\n",
       "      <th>thalach</th>\n",
       "      <th>exang</th>\n",
       "      <th>oldpeak</th>\n",
       "      <th>slope</th>\n",
       "      <th>ca</th>\n",
       "      <th>thal</th>\n",
       "      <th>target</th>\n",
       "    </tr>\n",
       "  </thead>\n",
       "  <tbody>\n",
       "    <tr>\n",
       "      <th>0</th>\n",
       "      <td>63</td>\n",
       "      <td>1</td>\n",
       "      <td>3</td>\n",
       "      <td>145</td>\n",
       "      <td>233</td>\n",
       "      <td>1</td>\n",
       "      <td>0</td>\n",
       "      <td>150</td>\n",
       "      <td>0</td>\n",
       "      <td>2.3</td>\n",
       "      <td>0</td>\n",
       "      <td>0</td>\n",
       "      <td>1</td>\n",
       "      <td>1</td>\n",
       "    </tr>\n",
       "    <tr>\n",
       "      <th>1</th>\n",
       "      <td>37</td>\n",
       "      <td>1</td>\n",
       "      <td>2</td>\n",
       "      <td>130</td>\n",
       "      <td>250</td>\n",
       "      <td>0</td>\n",
       "      <td>1</td>\n",
       "      <td>187</td>\n",
       "      <td>0</td>\n",
       "      <td>3.5</td>\n",
       "      <td>0</td>\n",
       "      <td>0</td>\n",
       "      <td>2</td>\n",
       "      <td>1</td>\n",
       "    </tr>\n",
       "    <tr>\n",
       "      <th>2</th>\n",
       "      <td>41</td>\n",
       "      <td>0</td>\n",
       "      <td>1</td>\n",
       "      <td>130</td>\n",
       "      <td>204</td>\n",
       "      <td>0</td>\n",
       "      <td>0</td>\n",
       "      <td>172</td>\n",
       "      <td>0</td>\n",
       "      <td>1.4</td>\n",
       "      <td>2</td>\n",
       "      <td>0</td>\n",
       "      <td>2</td>\n",
       "      <td>1</td>\n",
       "    </tr>\n",
       "    <tr>\n",
       "      <th>3</th>\n",
       "      <td>56</td>\n",
       "      <td>1</td>\n",
       "      <td>1</td>\n",
       "      <td>120</td>\n",
       "      <td>236</td>\n",
       "      <td>0</td>\n",
       "      <td>1</td>\n",
       "      <td>178</td>\n",
       "      <td>0</td>\n",
       "      <td>0.8</td>\n",
       "      <td>2</td>\n",
       "      <td>0</td>\n",
       "      <td>2</td>\n",
       "      <td>1</td>\n",
       "    </tr>\n",
       "    <tr>\n",
       "      <th>4</th>\n",
       "      <td>57</td>\n",
       "      <td>0</td>\n",
       "      <td>0</td>\n",
       "      <td>120</td>\n",
       "      <td>354</td>\n",
       "      <td>0</td>\n",
       "      <td>1</td>\n",
       "      <td>163</td>\n",
       "      <td>1</td>\n",
       "      <td>0.6</td>\n",
       "      <td>2</td>\n",
       "      <td>0</td>\n",
       "      <td>2</td>\n",
       "      <td>1</td>\n",
       "    </tr>\n",
       "  </tbody>\n",
       "</table>\n",
       "</div>"
      ],
      "text/plain": [
       "   age  sex  cp  trestbps  chol  fbs  restecg  thalach  exang  oldpeak  slope  \\\n",
       "0   63    1   3       145   233    1        0      150      0      2.3      0   \n",
       "1   37    1   2       130   250    0        1      187      0      3.5      0   \n",
       "2   41    0   1       130   204    0        0      172      0      1.4      2   \n",
       "3   56    1   1       120   236    0        1      178      0      0.8      2   \n",
       "4   57    0   0       120   354    0        1      163      1      0.6      2   \n",
       "\n",
       "   ca  thal  target  \n",
       "0   0     1       1  \n",
       "1   0     2       1  \n",
       "2   0     2       1  \n",
       "3   0     2       1  \n",
       "4   0     2       1  "
      ]
     },
     "execution_count": 9,
     "metadata": {},
     "output_type": "execute_result"
    }
   ],
   "source": [
    "df.head()"
   ]
  },
  {
   "cell_type": "markdown",
   "id": "ac5dc0f1",
   "metadata": {
    "papermill": {
     "duration": 0.039905,
     "end_time": "2021-11-02T14:35:13.356613",
     "exception": false,
     "start_time": "2021-11-02T14:35:13.316708",
     "status": "completed"
    },
    "tags": []
   },
   "source": [
    "## Modeling"
   ]
  },
  {
   "cell_type": "code",
   "execution_count": 10,
   "id": "65c0b19a",
   "metadata": {
    "execution": {
     "iopub.execute_input": "2021-11-02T14:35:13.452850Z",
     "iopub.status.busy": "2021-11-02T14:35:13.452137Z",
     "iopub.status.idle": "2021-11-02T14:35:13.456417Z",
     "shell.execute_reply": "2021-11-02T14:35:13.456885Z",
     "shell.execute_reply.started": "2021-11-02T13:21:23.082535Z"
    },
    "papermill": {
     "duration": 0.060602,
     "end_time": "2021-11-02T14:35:13.457076",
     "exception": false,
     "start_time": "2021-11-02T14:35:13.396474",
     "status": "completed"
    },
    "tags": []
   },
   "outputs": [
    {
     "data": {
      "text/html": [
       "<div>\n",
       "<style scoped>\n",
       "    .dataframe tbody tr th:only-of-type {\n",
       "        vertical-align: middle;\n",
       "    }\n",
       "\n",
       "    .dataframe tbody tr th {\n",
       "        vertical-align: top;\n",
       "    }\n",
       "\n",
       "    .dataframe thead th {\n",
       "        text-align: right;\n",
       "    }\n",
       "</style>\n",
       "<table border=\"1\" class=\"dataframe\">\n",
       "  <thead>\n",
       "    <tr style=\"text-align: right;\">\n",
       "      <th></th>\n",
       "      <th>age</th>\n",
       "      <th>sex</th>\n",
       "      <th>cp</th>\n",
       "      <th>trestbps</th>\n",
       "      <th>chol</th>\n",
       "      <th>fbs</th>\n",
       "      <th>restecg</th>\n",
       "      <th>thalach</th>\n",
       "      <th>exang</th>\n",
       "      <th>oldpeak</th>\n",
       "      <th>slope</th>\n",
       "      <th>ca</th>\n",
       "      <th>thal</th>\n",
       "      <th>target</th>\n",
       "    </tr>\n",
       "  </thead>\n",
       "  <tbody>\n",
       "    <tr>\n",
       "      <th>0</th>\n",
       "      <td>63</td>\n",
       "      <td>1</td>\n",
       "      <td>3</td>\n",
       "      <td>145</td>\n",
       "      <td>233</td>\n",
       "      <td>1</td>\n",
       "      <td>0</td>\n",
       "      <td>150</td>\n",
       "      <td>0</td>\n",
       "      <td>2.3</td>\n",
       "      <td>0</td>\n",
       "      <td>0</td>\n",
       "      <td>1</td>\n",
       "      <td>1</td>\n",
       "    </tr>\n",
       "    <tr>\n",
       "      <th>1</th>\n",
       "      <td>37</td>\n",
       "      <td>1</td>\n",
       "      <td>2</td>\n",
       "      <td>130</td>\n",
       "      <td>250</td>\n",
       "      <td>0</td>\n",
       "      <td>1</td>\n",
       "      <td>187</td>\n",
       "      <td>0</td>\n",
       "      <td>3.5</td>\n",
       "      <td>0</td>\n",
       "      <td>0</td>\n",
       "      <td>2</td>\n",
       "      <td>1</td>\n",
       "    </tr>\n",
       "    <tr>\n",
       "      <th>2</th>\n",
       "      <td>41</td>\n",
       "      <td>0</td>\n",
       "      <td>1</td>\n",
       "      <td>130</td>\n",
       "      <td>204</td>\n",
       "      <td>0</td>\n",
       "      <td>0</td>\n",
       "      <td>172</td>\n",
       "      <td>0</td>\n",
       "      <td>1.4</td>\n",
       "      <td>2</td>\n",
       "      <td>0</td>\n",
       "      <td>2</td>\n",
       "      <td>1</td>\n",
       "    </tr>\n",
       "    <tr>\n",
       "      <th>3</th>\n",
       "      <td>56</td>\n",
       "      <td>1</td>\n",
       "      <td>1</td>\n",
       "      <td>120</td>\n",
       "      <td>236</td>\n",
       "      <td>0</td>\n",
       "      <td>1</td>\n",
       "      <td>178</td>\n",
       "      <td>0</td>\n",
       "      <td>0.8</td>\n",
       "      <td>2</td>\n",
       "      <td>0</td>\n",
       "      <td>2</td>\n",
       "      <td>1</td>\n",
       "    </tr>\n",
       "    <tr>\n",
       "      <th>4</th>\n",
       "      <td>57</td>\n",
       "      <td>0</td>\n",
       "      <td>0</td>\n",
       "      <td>120</td>\n",
       "      <td>354</td>\n",
       "      <td>0</td>\n",
       "      <td>1</td>\n",
       "      <td>163</td>\n",
       "      <td>1</td>\n",
       "      <td>0.6</td>\n",
       "      <td>2</td>\n",
       "      <td>0</td>\n",
       "      <td>2</td>\n",
       "      <td>1</td>\n",
       "    </tr>\n",
       "  </tbody>\n",
       "</table>\n",
       "</div>"
      ],
      "text/plain": [
       "   age  sex  cp  trestbps  chol  fbs  restecg  thalach  exang  oldpeak  slope  \\\n",
       "0   63    1   3       145   233    1        0      150      0      2.3      0   \n",
       "1   37    1   2       130   250    0        1      187      0      3.5      0   \n",
       "2   41    0   1       130   204    0        0      172      0      1.4      2   \n",
       "3   56    1   1       120   236    0        1      178      0      0.8      2   \n",
       "4   57    0   0       120   354    0        1      163      1      0.6      2   \n",
       "\n",
       "   ca  thal  target  \n",
       "0   0     1       1  \n",
       "1   0     2       1  \n",
       "2   0     2       1  \n",
       "3   0     2       1  \n",
       "4   0     2       1  "
      ]
     },
     "execution_count": 10,
     "metadata": {},
     "output_type": "execute_result"
    }
   ],
   "source": [
    "df.head()"
   ]
  },
  {
   "cell_type": "markdown",
   "id": "1422ff1b",
   "metadata": {
    "papermill": {
     "duration": 0.040201,
     "end_time": "2021-11-02T14:35:13.538064",
     "exception": false,
     "start_time": "2021-11-02T14:35:13.497863",
     "status": "completed"
    },
    "tags": []
   },
   "source": [
    "#### Features / Lable"
   ]
  },
  {
   "cell_type": "code",
   "execution_count": 11,
   "id": "12e9e1e0",
   "metadata": {
    "execution": {
     "iopub.execute_input": "2021-11-02T14:35:13.632801Z",
     "iopub.status.busy": "2021-11-02T14:35:13.632066Z",
     "iopub.status.idle": "2021-11-02T14:35:13.640201Z",
     "shell.execute_reply": "2021-11-02T14:35:13.640669Z",
     "shell.execute_reply.started": "2021-11-02T13:21:24.187776Z"
    },
    "papermill": {
     "duration": 0.061074,
     "end_time": "2021-11-02T14:35:13.640843",
     "exception": false,
     "start_time": "2021-11-02T14:35:13.579769",
     "status": "completed"
    },
    "tags": []
   },
   "outputs": [
    {
     "data": {
      "text/html": [
       "<div>\n",
       "<style scoped>\n",
       "    .dataframe tbody tr th:only-of-type {\n",
       "        vertical-align: middle;\n",
       "    }\n",
       "\n",
       "    .dataframe tbody tr th {\n",
       "        vertical-align: top;\n",
       "    }\n",
       "\n",
       "    .dataframe thead th {\n",
       "        text-align: right;\n",
       "    }\n",
       "</style>\n",
       "<table border=\"1\" class=\"dataframe\">\n",
       "  <thead>\n",
       "    <tr style=\"text-align: right;\">\n",
       "      <th></th>\n",
       "      <th>age</th>\n",
       "      <th>sex</th>\n",
       "      <th>cp</th>\n",
       "      <th>trestbps</th>\n",
       "      <th>chol</th>\n",
       "      <th>fbs</th>\n",
       "      <th>restecg</th>\n",
       "      <th>thalach</th>\n",
       "      <th>exang</th>\n",
       "      <th>oldpeak</th>\n",
       "      <th>slope</th>\n",
       "      <th>ca</th>\n",
       "      <th>thal</th>\n",
       "    </tr>\n",
       "  </thead>\n",
       "  <tbody>\n",
       "    <tr>\n",
       "      <th>0</th>\n",
       "      <td>63</td>\n",
       "      <td>1</td>\n",
       "      <td>3</td>\n",
       "      <td>145</td>\n",
       "      <td>233</td>\n",
       "      <td>1</td>\n",
       "      <td>0</td>\n",
       "      <td>150</td>\n",
       "      <td>0</td>\n",
       "      <td>2.3</td>\n",
       "      <td>0</td>\n",
       "      <td>0</td>\n",
       "      <td>1</td>\n",
       "    </tr>\n",
       "    <tr>\n",
       "      <th>1</th>\n",
       "      <td>37</td>\n",
       "      <td>1</td>\n",
       "      <td>2</td>\n",
       "      <td>130</td>\n",
       "      <td>250</td>\n",
       "      <td>0</td>\n",
       "      <td>1</td>\n",
       "      <td>187</td>\n",
       "      <td>0</td>\n",
       "      <td>3.5</td>\n",
       "      <td>0</td>\n",
       "      <td>0</td>\n",
       "      <td>2</td>\n",
       "    </tr>\n",
       "    <tr>\n",
       "      <th>2</th>\n",
       "      <td>41</td>\n",
       "      <td>0</td>\n",
       "      <td>1</td>\n",
       "      <td>130</td>\n",
       "      <td>204</td>\n",
       "      <td>0</td>\n",
       "      <td>0</td>\n",
       "      <td>172</td>\n",
       "      <td>0</td>\n",
       "      <td>1.4</td>\n",
       "      <td>2</td>\n",
       "      <td>0</td>\n",
       "      <td>2</td>\n",
       "    </tr>\n",
       "    <tr>\n",
       "      <th>3</th>\n",
       "      <td>56</td>\n",
       "      <td>1</td>\n",
       "      <td>1</td>\n",
       "      <td>120</td>\n",
       "      <td>236</td>\n",
       "      <td>0</td>\n",
       "      <td>1</td>\n",
       "      <td>178</td>\n",
       "      <td>0</td>\n",
       "      <td>0.8</td>\n",
       "      <td>2</td>\n",
       "      <td>0</td>\n",
       "      <td>2</td>\n",
       "    </tr>\n",
       "    <tr>\n",
       "      <th>4</th>\n",
       "      <td>57</td>\n",
       "      <td>0</td>\n",
       "      <td>0</td>\n",
       "      <td>120</td>\n",
       "      <td>354</td>\n",
       "      <td>0</td>\n",
       "      <td>1</td>\n",
       "      <td>163</td>\n",
       "      <td>1</td>\n",
       "      <td>0.6</td>\n",
       "      <td>2</td>\n",
       "      <td>0</td>\n",
       "      <td>2</td>\n",
       "    </tr>\n",
       "  </tbody>\n",
       "</table>\n",
       "</div>"
      ],
      "text/plain": [
       "   age  sex  cp  trestbps  chol  fbs  restecg  thalach  exang  oldpeak  slope  \\\n",
       "0   63    1   3       145   233    1        0      150      0      2.3      0   \n",
       "1   37    1   2       130   250    0        1      187      0      3.5      0   \n",
       "2   41    0   1       130   204    0        0      172      0      1.4      2   \n",
       "3   56    1   1       120   236    0        1      178      0      0.8      2   \n",
       "4   57    0   0       120   354    0        1      163      1      0.6      2   \n",
       "\n",
       "   ca  thal  \n",
       "0   0     1  \n",
       "1   0     2  \n",
       "2   0     2  \n",
       "3   0     2  \n",
       "4   0     2  "
      ]
     },
     "execution_count": 11,
     "metadata": {},
     "output_type": "execute_result"
    }
   ],
   "source": [
    "X = df.drop('target', axis=1)\n",
    "X.head()"
   ]
  },
  {
   "cell_type": "code",
   "execution_count": 12,
   "id": "8ade5c1a",
   "metadata": {
    "execution": {
     "iopub.execute_input": "2021-11-02T14:35:13.728342Z",
     "iopub.status.busy": "2021-11-02T14:35:13.727674Z",
     "iopub.status.idle": "2021-11-02T14:35:13.733887Z",
     "shell.execute_reply": "2021-11-02T14:35:13.734453Z",
     "shell.execute_reply.started": "2021-11-02T13:21:24.674238Z"
    },
    "papermill": {
     "duration": 0.052253,
     "end_time": "2021-11-02T14:35:13.734627",
     "exception": false,
     "start_time": "2021-11-02T14:35:13.682374",
     "status": "completed"
    },
    "tags": []
   },
   "outputs": [
    {
     "data": {
      "text/plain": [
       "0    1\n",
       "1    1\n",
       "2    1\n",
       "3    1\n",
       "4    1\n",
       "Name: target, dtype: int64"
      ]
     },
     "execution_count": 12,
     "metadata": {},
     "output_type": "execute_result"
    }
   ],
   "source": [
    "y = df.target\n",
    "y.head()"
   ]
  },
  {
   "cell_type": "markdown",
   "id": "5e5cfa72",
   "metadata": {
    "papermill": {
     "duration": 0.04197,
     "end_time": "2021-11-02T14:35:13.817627",
     "exception": false,
     "start_time": "2021-11-02T14:35:13.775657",
     "status": "completed"
    },
    "tags": []
   },
   "source": [
    "#### Spliting our dataset with 20% for test"
   ]
  },
  {
   "cell_type": "code",
   "execution_count": 13,
   "id": "d8726c21",
   "metadata": {
    "execution": {
     "iopub.execute_input": "2021-11-02T14:35:13.906450Z",
     "iopub.status.busy": "2021-11-02T14:35:13.905689Z",
     "iopub.status.idle": "2021-11-02T14:35:13.914351Z",
     "shell.execute_reply": "2021-11-02T14:35:13.913778Z",
     "shell.execute_reply.started": "2021-11-02T13:21:25.849511Z"
    },
    "papermill": {
     "duration": 0.05467,
     "end_time": "2021-11-02T14:35:13.914501",
     "exception": false,
     "start_time": "2021-11-02T14:35:13.859831",
     "status": "completed"
    },
    "tags": []
   },
   "outputs": [],
   "source": [
    "np.random.seed(42)\n",
    "X_train, X_test, y_train, y_test = train_test_split(X, y, test_size=0.2)"
   ]
  },
  {
   "cell_type": "code",
   "execution_count": 14,
   "id": "f034a151",
   "metadata": {
    "execution": {
     "iopub.execute_input": "2021-11-02T14:35:14.075630Z",
     "iopub.status.busy": "2021-11-02T14:35:14.074866Z",
     "iopub.status.idle": "2021-11-02T14:35:14.077746Z",
     "shell.execute_reply": "2021-11-02T14:35:14.078381Z",
     "shell.execute_reply.started": "2021-11-02T13:21:27.212962Z"
    },
    "papermill": {
     "duration": 0.122117,
     "end_time": "2021-11-02T14:35:14.078559",
     "exception": false,
     "start_time": "2021-11-02T14:35:13.956442",
     "status": "completed"
    },
    "tags": []
   },
   "outputs": [
    {
     "data": {
      "text/plain": [
       "132    1\n",
       "202    0\n",
       "196    0\n",
       "75     1\n",
       "176    0\n",
       "Name: target, dtype: int64"
      ]
     },
     "execution_count": 14,
     "metadata": {},
     "output_type": "execute_result"
    }
   ],
   "source": [
    "y_train.head()"
   ]
  },
  {
   "cell_type": "markdown",
   "id": "3cb35749",
   "metadata": {
    "papermill": {
     "duration": 0.041706,
     "end_time": "2021-11-02T14:35:14.162037",
     "exception": false,
     "start_time": "2021-11-02T14:35:14.120331",
     "status": "completed"
    },
    "tags": []
   },
   "source": [
    "## Evaluation metrics"
   ]
  },
  {
   "cell_type": "markdown",
   "id": "d900dd11",
   "metadata": {
    "papermill": {
     "duration": 0.041705,
     "end_time": "2021-11-02T14:35:14.245652",
     "exception": false,
     "start_time": "2021-11-02T14:35:14.203947",
     "status": "completed"
    },
    "tags": []
   },
   "source": [
    "#### Function for geting score (f1 and acc) and ploting the confusion metrix"
   ]
  },
  {
   "cell_type": "code",
   "execution_count": 15,
   "id": "bce69a50",
   "metadata": {
    "execution": {
     "iopub.execute_input": "2021-11-02T14:35:14.334110Z",
     "iopub.status.busy": "2021-11-02T14:35:14.333387Z",
     "iopub.status.idle": "2021-11-02T14:35:14.339201Z",
     "shell.execute_reply": "2021-11-02T14:35:14.339681Z",
     "shell.execute_reply.started": "2021-11-02T13:21:29.816352Z"
    },
    "papermill": {
     "duration": 0.051578,
     "end_time": "2021-11-02T14:35:14.339854",
     "exception": false,
     "start_time": "2021-11-02T14:35:14.288276",
     "status": "completed"
    },
    "tags": []
   },
   "outputs": [],
   "source": [
    "def getScore(model, X_test, y_test):\n",
    "    y_pred = model.predict(X_test)\n",
    "    print('f1_score')\n",
    "    print(f1_score(y_test,y_pred,average='binary'))\n",
    "    print('accuracy')\n",
    "    acc = accuracy_score(y_test,y_pred, normalize=True)\n",
    "    print(acc)\n",
    "    print('Confusion Matrix :')\n",
    "    plot_confusion_matrix(model, X_test, y_test)\n",
    "    plt.show()\n",
    "    return acc"
   ]
  },
  {
   "cell_type": "code",
   "execution_count": 16,
   "id": "1b16492c",
   "metadata": {
    "execution": {
     "iopub.execute_input": "2021-11-02T14:35:14.432297Z",
     "iopub.status.busy": "2021-11-02T14:35:14.431584Z",
     "iopub.status.idle": "2021-11-02T14:35:14.686345Z",
     "shell.execute_reply": "2021-11-02T14:35:14.685744Z",
     "shell.execute_reply.started": "2021-11-02T13:43:36.387947Z"
    },
    "papermill": {
     "duration": 0.304907,
     "end_time": "2021-11-02T14:35:14.686495",
     "exception": false,
     "start_time": "2021-11-02T14:35:14.381588",
     "status": "completed"
    },
    "tags": []
   },
   "outputs": [
    {
     "name": "stdout",
     "output_type": "stream",
     "text": [
      "f1_score\n",
      "0.875\n",
      "accuracy\n",
      "0.8688524590163934\n",
      "Confusion Matrix :\n"
     ]
    },
    {
     "data": {
      "image/png": "[encoded data removed]",
      "text/plain": [
       "<Figure size 432x288 with 2 Axes>"
      ]
     },
     "metadata": {
      "needs_background": "light"
     },
     "output_type": "display_data"
    }
   ],
   "source": [
    "np.random.seed(42)\n",
    "clf = LogisticRegression(solver='liblinear')\n",
    "clf.fit(X_train, y_train);\n",
    "clf_accuracy = getScore(clf, X_test, y_test)"
   ]
  },
  {
   "cell_type": "markdown",
   "id": "d1c95067",
   "metadata": {
    "execution": {
     "iopub.execute_input": "2021-11-02T05:53:13.520136Z",
     "iopub.status.busy": "2021-11-02T05:53:13.519882Z",
     "iopub.status.idle": "2021-11-02T05:53:13.525584Z",
     "shell.execute_reply": "2021-11-02T05:53:13.524519Z",
     "shell.execute_reply.started": "2021-11-02T05:53:13.520105Z"
    },
    "papermill": {
     "duration": 0.042543,
     "end_time": "2021-11-02T14:35:14.772097",
     "exception": false,
     "start_time": "2021-11-02T14:35:14.729554",
     "status": "completed"
    },
    "tags": []
   },
   "source": [
    "#### Classification report"
   ]
  },
  {
   "cell_type": "code",
   "execution_count": 17,
   "id": "d85ce9c9",
   "metadata": {
    "execution": {
     "iopub.execute_input": "2021-11-02T14:35:14.865973Z",
     "iopub.status.busy": "2021-11-02T14:35:14.865278Z",
     "iopub.status.idle": "2021-11-02T14:35:14.874961Z",
     "shell.execute_reply": "2021-11-02T14:35:14.875714Z",
     "shell.execute_reply.started": "2021-11-02T13:24:30.673056Z"
    },
    "papermill": {
     "duration": 0.060966,
     "end_time": "2021-11-02T14:35:14.875995",
     "exception": false,
     "start_time": "2021-11-02T14:35:14.815029",
     "status": "completed"
    },
    "tags": []
   },
   "outputs": [
    {
     "name": "stdout",
     "output_type": "stream",
     "text": [
      "              precision    recall  f1-score   support\n",
      "\n",
      "           0       0.86      0.86      0.86        29\n",
      "           1       0.88      0.88      0.88        32\n",
      "\n",
      "    accuracy                           0.87        61\n",
      "   macro avg       0.87      0.87      0.87        61\n",
      "weighted avg       0.87      0.87      0.87        61\n",
      "\n"
     ]
    }
   ],
   "source": [
    "print(classification_report(y_test, clf.predict(X_test)))"
   ]
  },
  {
   "cell_type": "markdown",
   "id": "d67b79ee",
   "metadata": {
    "papermill": {
     "duration": 0.043537,
     "end_time": "2021-11-02T14:35:14.963882",
     "exception": false,
     "start_time": "2021-11-02T14:35:14.920345",
     "status": "completed"
    },
    "tags": []
   },
   "source": [
    "### ROC curve"
   ]
  },
  {
   "cell_type": "code",
   "execution_count": 18,
   "id": "ff97d80b",
   "metadata": {
    "execution": {
     "iopub.execute_input": "2021-11-02T14:35:15.061523Z",
     "iopub.status.busy": "2021-11-02T14:35:15.060388Z",
     "iopub.status.idle": "2021-11-02T14:35:15.301881Z",
     "shell.execute_reply": "2021-11-02T14:35:15.301086Z",
     "shell.execute_reply.started": "2021-11-02T13:24:33.272916Z"
    },
    "papermill": {
     "duration": 0.294064,
     "end_time": "2021-11-02T14:35:15.302067",
     "exception": false,
     "start_time": "2021-11-02T14:35:15.008003",
     "status": "completed"
    },
    "tags": []
   },
   "outputs": [
    {
     "data": {
      "image/png": "[encoded data removed]",
      "text/plain": [
       "<Figure size 432x288 with 1 Axes>"
      ]
     },
     "metadata": {
      "needs_background": "light"
     },
     "output_type": "display_data"
    }
   ],
   "source": [
    "plot_roc_curve(clf, X_test, y_test);"
   ]
  },
  {
   "cell_type": "markdown",
   "id": "ae62c17d",
   "metadata": {
    "papermill": {
     "duration": 0.044944,
     "end_time": "2021-11-02T14:35:15.392724",
     "exception": false,
     "start_time": "2021-11-02T14:35:15.347780",
     "status": "completed"
    },
    "tags": []
   },
   "source": [
    "## Feature importance"
   ]
  },
  {
   "cell_type": "code",
   "execution_count": 19,
   "id": "d2548daa",
   "metadata": {
    "execution": {
     "iopub.execute_input": "2021-11-02T14:35:15.490340Z",
     "iopub.status.busy": "2021-11-02T14:35:15.489606Z",
     "iopub.status.idle": "2021-11-02T14:35:15.492578Z",
     "shell.execute_reply": "2021-11-02T14:35:15.493102Z",
     "shell.execute_reply.started": "2021-11-02T13:25:45.127992Z"
    },
    "papermill": {
     "duration": 0.054723,
     "end_time": "2021-11-02T14:35:15.493297",
     "exception": false,
     "start_time": "2021-11-02T14:35:15.438574",
     "status": "completed"
    },
    "tags": []
   },
   "outputs": [
    {
     "data": {
      "text/plain": [
       "array([[ 0.00648034, -1.35477565,  0.78943444, -0.01259066, -0.00234524,\n",
       "         0.12834042,  0.52165902,  0.02596187, -0.89084977, -0.61440893,\n",
       "         0.66162394, -0.77062692, -0.85796389]])"
      ]
     },
     "execution_count": 19,
     "metadata": {},
     "output_type": "execute_result"
    }
   ],
   "source": [
    "clf.coef_"
   ]
  },
  {
   "cell_type": "code",
   "execution_count": 20,
   "id": "c428ebf4",
   "metadata": {
    "execution": {
     "iopub.execute_input": "2021-11-02T14:35:15.586394Z",
     "iopub.status.busy": "2021-11-02T14:35:15.585664Z",
     "iopub.status.idle": "2021-11-02T14:35:15.858762Z",
     "shell.execute_reply": "2021-11-02T14:35:15.859262Z",
     "shell.execute_reply.started": "2021-11-02T13:56:06.419128Z"
    },
    "papermill": {
     "duration": 0.321772,
     "end_time": "2021-11-02T14:35:15.859448",
     "exception": false,
     "start_time": "2021-11-02T14:35:15.537676",
     "status": "completed"
    },
    "tags": []
   },
   "outputs": [
    {
     "data": {
      "image/png": "[encoded data removed]",
      "text/plain": [
       "<Figure size 720x288 with 1 Axes>"
      ]
     },
     "metadata": {
      "needs_background": "light"
     },
     "output_type": "display_data"
    }
   ],
   "source": [
    "f_dict = dict(zip(X.columns , clf.coef_[0]))\n",
    "f_data = pd.DataFrame(f_dict, index=[0])\n",
    "f_data.T.plot.bar(title=\"Feature Importance\", legend=False, figsize=(10,4));\n",
    "plt.xticks(rotation = 0);\n"
   ]
  },
  {
   "cell_type": "markdown",
   "id": "09991302",
   "metadata": {
    "papermill": {
     "duration": 0.046823,
     "end_time": "2021-11-02T14:35:15.951331",
     "exception": false,
     "start_time": "2021-11-02T14:35:15.904508",
     "status": "completed"
    },
    "tags": []
   },
   "source": [
    "#### from this plot we can see features who have importance or not"
   ]
  },
  {
   "cell_type": "markdown",
   "id": "cdae16c8",
   "metadata": {
    "papermill": {
     "duration": 0.046974,
     "end_time": "2021-11-02T14:35:16.043974",
     "exception": false,
     "start_time": "2021-11-02T14:35:15.997000",
     "status": "completed"
    },
    "tags": []
   },
   "source": [
    "#### for example features like age, trestbps, chol and thalach has the lees importance, \n",
    "#### but features like sex, cp, exang, ...etc, have more importance"
   ]
  },
  {
   "cell_type": "markdown",
   "id": "449df30a",
   "metadata": {
    "papermill": {
     "duration": 0.045079,
     "end_time": "2021-11-02T14:35:16.135585",
     "exception": false,
     "start_time": "2021-11-02T14:35:16.090506",
     "status": "completed"
    },
    "tags": []
   },
   "source": [
    "## Cross-validation"
   ]
  },
  {
   "cell_type": "code",
   "execution_count": 21,
   "id": "f61dad87",
   "metadata": {
    "execution": {
     "iopub.execute_input": "2021-11-02T14:35:16.233558Z",
     "iopub.status.busy": "2021-11-02T14:35:16.232811Z",
     "iopub.status.idle": "2021-11-02T14:35:16.275963Z",
     "shell.execute_reply": "2021-11-02T14:35:16.276543Z",
     "shell.execute_reply.started": "2021-11-02T14:00:31.873128Z"
    },
    "papermill": {
     "duration": 0.09621,
     "end_time": "2021-11-02T14:35:16.276753",
     "exception": false,
     "start_time": "2021-11-02T14:35:16.180543",
     "status": "completed"
    },
    "tags": []
   },
   "outputs": [
    {
     "data": {
      "text/plain": [
       "0.817900063251107"
      ]
     },
     "execution_count": 21,
     "metadata": {},
     "output_type": "execute_result"
    }
   ],
   "source": [
    "cv_precision = np.mean(cross_val_score(clf,\n",
    "                                       X,\n",
    "                                       y,\n",
    "                                       cv=5, \n",
    "                                       scoring=\"precision\")) \n",
    "cv_precision"
   ]
  },
  {
   "cell_type": "code",
   "execution_count": 22,
   "id": "f84c8c84",
   "metadata": {
    "execution": {
     "iopub.execute_input": "2021-11-02T14:35:16.374529Z",
     "iopub.status.busy": "2021-11-02T14:35:16.373730Z",
     "iopub.status.idle": "2021-11-02T14:35:16.817256Z",
     "shell.execute_reply": "2021-11-02T14:35:16.816644Z",
     "shell.execute_reply.started": "2021-11-02T14:00:34.913478Z"
    },
    "papermill": {
     "duration": 0.494448,
     "end_time": "2021-11-02T14:35:16.817423",
     "exception": false,
     "start_time": "2021-11-02T14:35:16.322975",
     "status": "completed"
    },
    "tags": []
   },
   "outputs": [
    {
     "data": {
      "image/png": "[encoded data removed]",
      "text/plain": [
       "<Figure size 432x288 with 1 Axes>"
      ]
     },
     "metadata": {
      "needs_background": "light"
     },
     "output_type": "display_data"
    }
   ],
   "source": [
    "model = LogisticRegression(solver= 'liblinear')\n",
    "param_range = [0.001, 0.05, 0.1, 0.5, 1.0, 10.0]\n",
    "train_score, val_score = validation_curve(model, X_train, y_train, param_name='C', param_range=param_range, cv=5)\n",
    "plt.plot(param_range, val_score.mean(axis=1));"
   ]
  },
  {
   "cell_type": "markdown",
   "id": "d06383d3",
   "metadata": {
    "papermill": {
     "duration": 0.045858,
     "end_time": "2021-11-02T14:35:16.910282",
     "exception": false,
     "start_time": "2021-11-02T14:35:16.864424",
     "status": "completed"
    },
    "tags": []
   },
   "source": [
    "## GreadSearcheCV"
   ]
  },
  {
   "cell_type": "code",
   "execution_count": 23,
   "id": "f5a30000",
   "metadata": {
    "collapsed": true,
    "execution": {
     "iopub.execute_input": "2021-11-02T14:35:17.014255Z",
     "iopub.status.busy": "2021-11-02T14:35:17.013504Z",
     "iopub.status.idle": "2021-11-02T14:35:20.314675Z",
     "shell.execute_reply": "2021-11-02T14:35:20.315261Z",
     "shell.execute_reply.started": "2021-11-02T14:04:26.655638Z"
    },
    "jupyter": {
     "outputs_hidden": true
    },
    "papermill": {
     "duration": 3.358349,
     "end_time": "2021-11-02T14:35:20.315453",
     "exception": false,
     "start_time": "2021-11-02T14:35:16.957104",
     "status": "completed"
    },
    "tags": []
   },
   "outputs": [
    {
     "name": "stdout",
     "output_type": "stream",
     "text": [
      "Fitting 10 folds for each of 14 candidates, totalling 140 fits\n"
     ]
    },
    {
     "name": "stderr",
     "output_type": "stream",
     "text": [
      "[Parallel(n_jobs=-1)]: Using backend LokyBackend with 4 concurrent workers.\n",
      "[Parallel(n_jobs=-1)]: Done  38 tasks      | elapsed:    2.8s\n"
     ]
    },
    {
     "name": "stdout",
     "output_type": "stream",
     "text": [
      "best grid =  {'C': 0.1, 'penalty': 'l2'}\n",
      "Grid Score =  0.8852459016393442\n"
     ]
    },
    {
     "name": "stderr",
     "output_type": "stream",
     "text": [
      "[Parallel(n_jobs=-1)]: Done 140 out of 140 | elapsed:    3.3s finished\n"
     ]
    }
   ],
   "source": [
    "np.random.seed(42)\n",
    "param_grid = {\"C\":np.logspace(-3,3,7), \"penalty\":[\"l1\",\"l2\"]}\n",
    "\n",
    "grid_search = GridSearchCV(estimator = LogisticRegression(solver='liblinear'), param_grid = param_grid, \n",
    "                          cv = 10, n_jobs = -1, verbose = 2)\n",
    "grid_search.fit(X_train, y_train)\n",
    "best_grid = grid_search.best_params_\n",
    "print('best grid = ', best_grid)\n",
    "grid_accuracy = grid_search.score(X_test, y_test)\n",
    "print('Grid Score = ', grid_accuracy)"
   ]
  },
  {
   "cell_type": "code",
   "execution_count": 24,
   "id": "fc4af920",
   "metadata": {
    "execution": {
     "iopub.execute_input": "2021-11-02T14:35:20.429982Z",
     "iopub.status.busy": "2021-11-02T14:35:20.429303Z",
     "iopub.status.idle": "2021-11-02T14:35:20.432949Z",
     "shell.execute_reply": "2021-11-02T14:35:20.433542Z",
     "shell.execute_reply.started": "2021-11-02T14:04:39.063011Z"
    },
    "papermill": {
     "duration": 0.062765,
     "end_time": "2021-11-02T14:35:20.433723",
     "exception": false,
     "start_time": "2021-11-02T14:35:20.370958",
     "status": "completed"
    },
    "tags": []
   },
   "outputs": [
    {
     "data": {
      "text/plain": [
       "{'C': 0.1, 'penalty': 'l2'}"
      ]
     },
     "execution_count": 24,
     "metadata": {},
     "output_type": "execute_result"
    }
   ],
   "source": [
    "best_grid\n"
   ]
  },
  {
   "cell_type": "code",
   "execution_count": 25,
   "id": "99c839e6",
   "metadata": {
    "execution": {
     "iopub.execute_input": "2021-11-02T14:35:20.536130Z",
     "iopub.status.busy": "2021-11-02T14:35:20.535415Z",
     "iopub.status.idle": "2021-11-02T14:35:20.542831Z",
     "shell.execute_reply": "2021-11-02T14:35:20.543438Z",
     "shell.execute_reply.started": "2021-11-02T14:04:41.117470Z"
    },
    "papermill": {
     "duration": 0.060562,
     "end_time": "2021-11-02T14:35:20.543618",
     "exception": false,
     "start_time": "2021-11-02T14:35:20.483056",
     "status": "completed"
    },
    "tags": []
   },
   "outputs": [
    {
     "data": {
      "text/plain": [
       "0.8852459016393442"
      ]
     },
     "execution_count": 25,
     "metadata": {},
     "output_type": "execute_result"
    }
   ],
   "source": [
    "grid_accuracy"
   ]
  },
  {
   "cell_type": "markdown",
   "id": "c3d8965b",
   "metadata": {
    "papermill": {
     "duration": 0.049536,
     "end_time": "2021-11-02T14:35:20.643048",
     "exception": false,
     "start_time": "2021-11-02T14:35:20.593512",
     "status": "completed"
    },
    "tags": []
   },
   "source": [
    "## Comparing results"
   ]
  },
  {
   "cell_type": "code",
   "execution_count": 26,
   "id": "64c2619f",
   "metadata": {
    "execution": {
     "iopub.execute_input": "2021-11-02T14:35:20.746051Z",
     "iopub.status.busy": "2021-11-02T14:35:20.745339Z",
     "iopub.status.idle": "2021-11-02T14:35:23.337313Z",
     "shell.execute_reply": "2021-11-02T14:35:23.336641Z",
     "shell.execute_reply.started": "2021-11-02T14:31:58.987987Z"
    },
    "papermill": {
     "duration": 2.64512,
     "end_time": "2021-11-02T14:35:23.337477",
     "exception": false,
     "start_time": "2021-11-02T14:35:20.692357",
     "status": "completed"
    },
    "tags": []
   },
   "outputs": [
    {
     "data": {
      "text/html": [
       "        <script type=\"text/javascript\">\n",
       "        window.PlotlyConfig = {MathJaxConfig: 'local'};\n",
       "        if (window.MathJax) {MathJax.Hub.Config({SVG: {font: \"STIX-Web\"}});}\n",
       "        if (typeof require !== 'undefined') {\n",
       "        require.undef(\"plotly\");\n",
       "        requirejs.config({\n",
       "            paths: {\n",
       "                'plotly': ['https://cdn.plot.ly/plotly-2.4.2.min']\n",
       "            }\n",
       "        });\n",
       "        require(['plotly'], function(Plotly) {\n",
       "            window._Plotly = Plotly;\n",
       "        });\n",
       "        }\n",
       "        </script>\n",
       "        "
      ]
     },
     "metadata": {},
     "output_type": "display_data"
    },
    {
     "data": {
      "text/html": [
       "<div>                            <div id=\"9fd78822-8053-4470-87d0-4149ab97a170\" class=\"plotly-graph-div\" style=\"height:525px; width:100%;\"></div>            <script type=\"text/javascript\">                require([\"plotly\"], function(Plotly) {                    window.PLOTLYENV=window.PLOTLYENV || {};                                    if (document.getElementById(\"9fd78822-8053-4470-87d0-4149ab97a170\")) {                    Plotly.newPlot(                        \"9fd78822-8053-4470-87d0-4149ab97a170\",                        [{\"alignmentgroup\":\"True\",\"hovertemplate\":\"Models=%{x}<br>Score=%{y}<extra></extra>\",\"legendgroup\":\"clf\",\"marker\":{\"color\":\"#636efa\",\"pattern\":{\"shape\":\"\"}},\"name\":\"clf\",\"offsetgroup\":\"clf\",\"orientation\":\"v\",\"showlegend\":true,\"textposition\":\"auto\",\"type\":\"bar\",\"x\":[\"clf\"],\"xaxis\":\"x\",\"y\":[0.8688524590163934],\"yaxis\":\"y\"},{\"alignmentgroup\":\"True\",\"hovertemplate\":\"Models=%{x}<br>Score=%{y}<extra></extra>\",\"legendgroup\":\"grid\",\"marker\":{\"color\":\"#EF553B\",\"pattern\":{\"shape\":\"\"}},\"name\":\"grid\",\"offsetgroup\":\"grid\",\"orientation\":\"v\",\"showlegend\":true,\"textposition\":\"auto\",\"type\":\"bar\",\"x\":[\"grid\"],\"xaxis\":\"x\",\"y\":[0.8852459016393442],\"yaxis\":\"y\"}],                        {\"bargap\":0.5,\"barmode\":\"relative\",\"legend\":{\"title\":{\"text\":\"Models\"},\"tracegroupgap\":0},\"template\":{\"data\":{\"bar\":[{\"error_x\":{\"color\":\"#f2f5fa\"},\"error_y\":{\"color\":\"#f2f5fa\"},\"marker\":{\"line\":{\"color\":\"rgb(17,17,17)\",\"width\":0.5},\"pattern\":{\"fillmode\":\"overlay\",\"size\":10,\"solidity\":0.2}},\"type\":\"bar\"}],\"barpolar\":[{\"marker\":{\"line\":{\"color\":\"rgb(17,17,17)\",\"width\":0.5},\"pattern\":{\"fillmode\":\"overlay\",\"size\":10,\"solidity\":0.2}},\"type\":\"barpolar\"}],\"carpet\":[{\"aaxis\":{\"endlinecolor\":\"#A2B1C6\",\"gridcolor\":\"#506784\",\"linecolor\":\"#506784\",\"minorgridcolor\":\"#506784\",\"startlinecolor\":\"#A2B1C6\"},\"baxis\":{\"endlinecolor\":\"#A2B1C6\",\"gridcolor\":\"#506784\",\"linecolor\":\"#506784\",\"minorgridcolor\":\"#506784\",\"startlinecolor\":\"#A2B1C6\"},\"type\":\"carpet\"}],\"choropleth\":[{\"colorbar\":{\"outlinewidth\":0,\"ticks\":\"\"},\"type\":\"choropleth\"}],\"contour\":[{\"colorbar\":{\"outlinewidth\":0,\"ticks\":\"\"},\"colorscale\":[[0.0,\"#0d0887\"],[0.1111111111111111,\"#46039f\"],[0.2222222222222222,\"#7201a8\"],[0.3333333333333333,\"#9c179e\"],[0.4444444444444444,\"#bd3786\"],[0.5555555555555556,\"#d8576b\"],[0.6666666666666666,\"#ed7953\"],[0.7777777777777778,\"#fb9f3a\"],[0.8888888888888888,\"#fdca26\"],[1.0,\"#f0f921\"]],\"type\":\"contour\"}],\"contourcarpet\":[{\"colorbar\":{\"outlinewidth\":0,\"ticks\":\"\"},\"type\":\"contourcarpet\"}],\"heatmap\":[{\"colorbar\":{\"outlinewidth\":0,\"ticks\":\"\"},\"colorscale\":[[0.0,\"#0d0887\"],[0.1111111111111111,\"#46039f\"],[0.2222222222222222,\"#7201a8\"],[0.3333333333333333,\"#9c179e\"],[0.4444444444444444,\"#bd3786\"],[0.5555555555555556,\"#d8576b\"],[0.6666666666666666,\"#ed7953\"],[0.7777777777777778,\"#fb9f3a\"],[0.8888888888888888,\"#fdca26\"],[1.0,\"#f0f921\"]],\"type\":\"heatmap\"}],\"heatmapgl\":[{\"colorbar\":{\"outlinewidth\":0,\"ticks\":\"\"},\"colorscale\":[[0.0,\"#0d0887\"],[0.1111111111111111,\"#46039f\"],[0.2222222222222222,\"#7201a8\"],[0.3333333333333333,\"#9c179e\"],[0.4444444444444444,\"#bd3786\"],[0.5555555555555556,\"#d8576b\"],[0.6666666666666666,\"#ed7953\"],[0.7777777777777778,\"#fb9f3a\"],[0.8888888888888888,\"#fdca26\"],[1.0,\"#f0f921\"]],\"type\":\"heatmapgl\"}],\"histogram\":[{\"marker\":{\"pattern\":{\"fillmode\":\"overlay\",\"size\":10,\"solidity\":0.2}},\"type\":\"histogram\"}],\"histogram2d\":[{\"colorbar\":{\"outlinewidth\":0,\"ticks\":\"\"},\"colorscale\":[[0.0,\"#0d0887\"],[0.1111111111111111,\"#46039f\"],[0.2222222222222222,\"#7201a8\"],[0.3333333333333333,\"#9c179e\"],[0.4444444444444444,\"#bd3786\"],[0.5555555555555556,\"#d8576b\"],[0.6666666666666666,\"#ed7953\"],[0.7777777777777778,\"#fb9f3a\"],[0.8888888888888888,\"#fdca26\"],[1.0,\"#f0f921\"]],\"type\":\"histogram2d\"}],\"histogram2dcontour\":[{\"colorbar\":{\"outlinewidth\":0,\"ticks\":\"\"},\"colorscale\":[[0.0,\"#0d0887\"],[0.1111111111111111,\"#46039f\"],[0.2222222222222222,\"#7201a8\"],[0.3333333333333333,\"#9c179e\"],[0.4444444444444444,\"#bd3786\"],[0.5555555555555556,\"#d8576b\"],[0.6666666666666666,\"#ed7953\"],[0.7777777777777778,\"#fb9f3a\"],[0.8888888888888888,\"#fdca26\"],[1.0,\"#f0f921\"]],\"type\":\"histogram2dcontour\"}],\"mesh3d\":[{\"colorbar\":{\"outlinewidth\":0,\"ticks\":\"\"},\"type\":\"mesh3d\"}],\"parcoords\":[{\"line\":{\"colorbar\":{\"outlinewidth\":0,\"ticks\":\"\"}},\"type\":\"parcoords\"}],\"pie\":[{\"automargin\":true,\"type\":\"pie\"}],\"scatter\":[{\"marker\":{\"line\":{\"color\":\"#283442\"}},\"type\":\"scatter\"}],\"scatter3d\":[{\"line\":{\"colorbar\":{\"outlinewidth\":0,\"ticks\":\"\"}},\"marker\":{\"colorbar\":{\"outlinewidth\":0,\"ticks\":\"\"}},\"type\":\"scatter3d\"}],\"scattercarpet\":[{\"marker\":{\"colorbar\":{\"outlinewidth\":0,\"ticks\":\"\"}},\"type\":\"scattercarpet\"}],\"scattergeo\":[{\"marker\":{\"colorbar\":{\"outlinewidth\":0,\"ticks\":\"\"}},\"type\":\"scattergeo\"}],\"scattergl\":[{\"marker\":{\"line\":{\"color\":\"#283442\"}},\"type\":\"scattergl\"}],\"scattermapbox\":[{\"marker\":{\"colorbar\":{\"outlinewidth\":0,\"ticks\":\"\"}},\"type\":\"scattermapbox\"}],\"scatterpolar\":[{\"marker\":{\"colorbar\":{\"outlinewidth\":0,\"ticks\":\"\"}},\"type\":\"scatterpolar\"}],\"scatterpolargl\":[{\"marker\":{\"colorbar\":{\"outlinewidth\":0,\"ticks\":\"\"}},\"type\":\"scatterpolargl\"}],\"scatterternary\":[{\"marker\":{\"colorbar\":{\"outlinewidth\":0,\"ticks\":\"\"}},\"type\":\"scatterternary\"}],\"surface\":[{\"colorbar\":{\"outlinewidth\":0,\"ticks\":\"\"},\"colorscale\":[[0.0,\"#0d0887\"],[0.1111111111111111,\"#46039f\"],[0.2222222222222222,\"#7201a8\"],[0.3333333333333333,\"#9c179e\"],[0.4444444444444444,\"#bd3786\"],[0.5555555555555556,\"#d8576b\"],[0.6666666666666666,\"#ed7953\"],[0.7777777777777778,\"#fb9f3a\"],[0.8888888888888888,\"#fdca26\"],[1.0,\"#f0f921\"]],\"type\":\"surface\"}],\"table\":[{\"cells\":{\"fill\":{\"color\":\"#506784\"},\"line\":{\"color\":\"rgb(17,17,17)\"}},\"header\":{\"fill\":{\"color\":\"#2a3f5f\"},\"line\":{\"color\":\"rgb(17,17,17)\"}},\"type\":\"table\"}]},\"layout\":{\"annotationdefaults\":{\"arrowcolor\":\"#f2f5fa\",\"arrowhead\":0,\"arrowwidth\":1},\"autotypenumbers\":\"strict\",\"coloraxis\":{\"colorbar\":{\"outlinewidth\":0,\"ticks\":\"\"}},\"colorscale\":{\"diverging\":[[0,\"#8e0152\"],[0.1,\"#c51b7d\"],[0.2,\"#de77ae\"],[0.3,\"#f1b6da\"],[0.4,\"#fde0ef\"],[0.5,\"#f7f7f7\"],[0.6,\"#e6f5d0\"],[0.7,\"#b8e186\"],[0.8,\"#7fbc41\"],[0.9,\"#4d9221\"],[1,\"#276419\"]],\"sequential\":[[0.0,\"#0d0887\"],[0.1111111111111111,\"#46039f\"],[0.2222222222222222,\"#7201a8\"],[0.3333333333333333,\"#9c179e\"],[0.4444444444444444,\"#bd3786\"],[0.5555555555555556,\"#d8576b\"],[0.6666666666666666,\"#ed7953\"],[0.7777777777777778,\"#fb9f3a\"],[0.8888888888888888,\"#fdca26\"],[1.0,\"#f0f921\"]],\"sequentialminus\":[[0.0,\"#0d0887\"],[0.1111111111111111,\"#46039f\"],[0.2222222222222222,\"#7201a8\"],[0.3333333333333333,\"#9c179e\"],[0.4444444444444444,\"#bd3786\"],[0.5555555555555556,\"#d8576b\"],[0.6666666666666666,\"#ed7953\"],[0.7777777777777778,\"#fb9f3a\"],[0.8888888888888888,\"#fdca26\"],[1.0,\"#f0f921\"]]},\"colorway\":[\"#636efa\",\"#EF553B\",\"#00cc96\",\"#ab63fa\",\"#FFA15A\",\"#19d3f3\",\"#FF6692\",\"#B6E880\",\"#FF97FF\",\"#FECB52\"],\"font\":{\"color\":\"#f2f5fa\"},\"geo\":{\"bgcolor\":\"rgb(17,17,17)\",\"lakecolor\":\"rgb(17,17,17)\",\"landcolor\":\"rgb(17,17,17)\",\"showlakes\":true,\"showland\":true,\"subunitcolor\":\"#506784\"},\"hoverlabel\":{\"align\":\"left\"},\"hovermode\":\"closest\",\"mapbox\":{\"style\":\"dark\"},\"paper_bgcolor\":\"rgb(17,17,17)\",\"plot_bgcolor\":\"rgb(17,17,17)\",\"polar\":{\"angularaxis\":{\"gridcolor\":\"#506784\",\"linecolor\":\"#506784\",\"ticks\":\"\"},\"bgcolor\":\"rgb(17,17,17)\",\"radialaxis\":{\"gridcolor\":\"#506784\",\"linecolor\":\"#506784\",\"ticks\":\"\"}},\"scene\":{\"xaxis\":{\"backgroundcolor\":\"rgb(17,17,17)\",\"gridcolor\":\"#506784\",\"gridwidth\":2,\"linecolor\":\"#506784\",\"showbackground\":true,\"ticks\":\"\",\"zerolinecolor\":\"#C8D4E3\"},\"yaxis\":{\"backgroundcolor\":\"rgb(17,17,17)\",\"gridcolor\":\"#506784\",\"gridwidth\":2,\"linecolor\":\"#506784\",\"showbackground\":true,\"ticks\":\"\",\"zerolinecolor\":\"#C8D4E3\"},\"zaxis\":{\"backgroundcolor\":\"rgb(17,17,17)\",\"gridcolor\":\"#506784\",\"gridwidth\":2,\"linecolor\":\"#506784\",\"showbackground\":true,\"ticks\":\"\",\"zerolinecolor\":\"#C8D4E3\"}},\"shapedefaults\":{\"line\":{\"color\":\"#f2f5fa\"}},\"sliderdefaults\":{\"bgcolor\":\"#C8D4E3\",\"bordercolor\":\"rgb(17,17,17)\",\"borderwidth\":1,\"tickwidth\":0},\"ternary\":{\"aaxis\":{\"gridcolor\":\"#506784\",\"linecolor\":\"#506784\",\"ticks\":\"\"},\"baxis\":{\"gridcolor\":\"#506784\",\"linecolor\":\"#506784\",\"ticks\":\"\"},\"bgcolor\":\"rgb(17,17,17)\",\"caxis\":{\"gridcolor\":\"#506784\",\"linecolor\":\"#506784\",\"ticks\":\"\"}},\"title\":{\"x\":0.05},\"updatemenudefaults\":{\"bgcolor\":\"#506784\",\"borderwidth\":0},\"xaxis\":{\"automargin\":true,\"gridcolor\":\"#283442\",\"linecolor\":\"#506784\",\"ticks\":\"\",\"title\":{\"standoff\":15},\"zerolinecolor\":\"#283442\",\"zerolinewidth\":2},\"yaxis\":{\"automargin\":true,\"gridcolor\":\"#283442\",\"linecolor\":\"#506784\",\"ticks\":\"\",\"title\":{\"standoff\":15},\"zerolinecolor\":\"#283442\",\"zerolinewidth\":2}}},\"title\":{\"text\":\"<b>Models Score</b>\"},\"xaxis\":{\"anchor\":\"y\",\"categoryarray\":[\"clf\",\"grid\"],\"categoryorder\":\"array\",\"domain\":[0.0,1.0],\"title\":{\"text\":\"Models\"}},\"yaxis\":{\"anchor\":\"x\",\"domain\":[0.0,1.0],\"title\":{\"text\":\"Score\"}}},                        {\"responsive\": true}                    ).then(function(){\n",
       "                            \n",
       "var gd = document.getElementById('9fd78822-8053-4470-87d0-4149ab97a170');\n",
       "var x = new MutationObserver(function (mutations, observer) {{\n",
       "        var display = window.getComputedStyle(gd).display;\n",
       "        if (!display || display === 'none') {{\n",
       "            console.log([gd, 'removed!']);\n",
       "            Plotly.purge(gd);\n",
       "            observer.disconnect();\n",
       "        }}\n",
       "}});\n",
       "\n",
       "// Listen for the removal of the full notebook cells\n",
       "var notebookContainer = gd.closest('#notebook-container');\n",
       "if (notebookContainer) {{\n",
       "    x.observe(notebookContainer, {childList: true});\n",
       "}}\n",
       "\n",
       "// Listen for the clearing of the current output cell\n",
       "var outputEl = gd.closest('.output');\n",
       "if (outputEl) {{\n",
       "    x.observe(outputEl, {childList: true});\n",
       "}}\n",
       "\n",
       "                        })                };                });            </script>        </div>"
      ]
     },
     "metadata": {},
     "output_type": "display_data"
    }
   ],
   "source": [
    "import plotly.express as px\n",
    "data = pd.DataFrame([[\"clf\", clf_accuracy], [\"grid\", grid_accuracy]], columns = ['Models','Score'])\n",
    "fig = px.bar(data_frame = data,\n",
    "             x=\"Models\",\n",
    "             y=\"Score\",\n",
    "             color=\"Models\", title = \"<b>Models Score</b>\", template = 'plotly_dark')\n",
    "\n",
    "fig.update_layout(bargap=0.5)\n",
    "\n",
    "fig.show()"
   ]
  },
  {
   "cell_type": "code",
   "execution_count": null,
   "id": "86166e0a",
   "metadata": {
    "papermill": {
     "duration": 0.049787,
     "end_time": "2021-11-02T14:35:23.437576",
     "exception": false,
     "start_time": "2021-11-02T14:35:23.387789",
     "status": "completed"
    },
    "tags": []
   },
   "outputs": [],
   "source": []
  }
 ],
 "metadata": {
  "kernelspec": {
   "display_name": "Python 3",
   "language": "python",
   "name": "python3"
  },
  "language_info": {
   "codemirror_mode": {
    "name": "ipython",
    "version": 3
   },
   "file_extension": ".py",
   "mimetype": "text/x-python",
   "name": "python",
   "nbconvert_exporter": "python",
   "pygments_lexer": "ipython3",
   "version": "3.7.10"
  },
  "papermill": {
   "default_parameters": {},
   "duration": 26.458929,
   "end_time": "2021-11-02T14:35:24.504905",
   "environment_variables": {},
   "exception": null,
   "input_path": "__notebook__.ipynb",
   "output_path": "__notebook__.ipynb",
   "parameters": {},
   "start_time": "2021-11-02T14:34:58.045976",
   "version": "2.3.3"
  }
 },
 "nbformat": 4,
 "nbformat_minor": 5
}
