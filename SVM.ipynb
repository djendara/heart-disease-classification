{
 "cells": [
  {
   "cell_type": "markdown",
   "id": "5f80a62f",
   "metadata": {
    "papermill": {
     "duration": 0.027527,
     "end_time": "2021-11-02T17:33:17.905502",
     "exception": false,
     "start_time": "2021-11-02T17:33:17.877975",
     "status": "completed"
    },
    "tags": []
   },
   "source": [
    "## Imports"
   ]
  },
  {
   "cell_type": "code",
   "execution_count": 1,
   "id": "53ffa281",
   "metadata": {
    "_cell_guid": "b1076dfc-b9ad-4769-8c92-a6c4dae69d19",
    "_uuid": "8f2839f25d086af736a60e9eeb907d3b93b6e0e5",
    "execution": {
     "iopub.execute_input": "2021-11-02T17:33:17.960686Z",
     "iopub.status.busy": "2021-11-02T17:33:17.958926Z",
     "iopub.status.idle": "2021-11-02T17:33:19.354524Z",
     "shell.execute_reply": "2021-11-02T17:33:19.353841Z",
     "shell.execute_reply.started": "2021-11-02T15:14:11.243482Z"
    },
    "papermill": {
     "duration": 1.424193,
     "end_time": "2021-11-02T17:33:19.354695",
     "exception": false,
     "start_time": "2021-11-02T17:33:17.930502",
     "status": "completed"
    },
    "tags": []
   },
   "outputs": [],
   "source": [
    "import pandas as pd\n",
    "import numpy as np\n",
    "import matplotlib.pyplot as plt\n",
    "import seaborn as sns\n",
    "\n",
    "from sklearn.model_selection import train_test_split, GridSearchCV, cross_val_score, validation_curve\n",
    "\n",
    "from sklearn.svm import SVC\n",
    "\n",
    "from sklearn.metrics import accuracy_score, confusion_matrix, classification_report, plot_roc_curve, plot_confusion_matrix, f1_score"
   ]
  },
  {
   "cell_type": "markdown",
   "id": "99b6229c",
   "metadata": {
    "papermill": {
     "duration": 0.023755,
     "end_time": "2021-11-02T17:33:19.403365",
     "exception": false,
     "start_time": "2021-11-02T17:33:19.379610",
     "status": "completed"
    },
    "tags": []
   },
   "source": [
    "## Loading the data"
   ]
  },
  {
   "cell_type": "code",
   "execution_count": 2,
   "id": "eb39c8a7",
   "metadata": {
    "execution": {
     "iopub.execute_input": "2021-11-02T17:33:19.455212Z",
     "iopub.status.busy": "2021-11-02T17:33:19.454568Z",
     "iopub.status.idle": "2021-11-02T17:33:19.493049Z",
     "shell.execute_reply": "2021-11-02T17:33:19.493574Z",
     "shell.execute_reply.started": "2021-11-02T15:14:12.510448Z"
    },
    "papermill": {
     "duration": 0.066525,
     "end_time": "2021-11-02T17:33:19.493753",
     "exception": false,
     "start_time": "2021-11-02T17:33:19.427228",
     "status": "completed"
    },
    "tags": []
   },
   "outputs": [
    {
     "data": {
      "text/html": [
       "<div>\n",
       "<style scoped>\n",
       "    .dataframe tbody tr th:only-of-type {\n",
       "        vertical-align: middle;\n",
       "    }\n",
       "\n",
       "    .dataframe tbody tr th {\n",
       "        vertical-align: top;\n",
       "    }\n",
       "\n",
       "    .dataframe thead th {\n",
       "        text-align: right;\n",
       "    }\n",
       "</style>\n",
       "<table border=\"1\" class=\"dataframe\">\n",
       "  <thead>\n",
       "    <tr style=\"text-align: right;\">\n",
       "      <th></th>\n",
       "      <th>age</th>\n",
       "      <th>sex</th>\n",
       "      <th>cp</th>\n",
       "      <th>trestbps</th>\n",
       "      <th>chol</th>\n",
       "      <th>fbs</th>\n",
       "      <th>restecg</th>\n",
       "      <th>thalach</th>\n",
       "      <th>exang</th>\n",
       "      <th>oldpeak</th>\n",
       "      <th>slope</th>\n",
       "      <th>ca</th>\n",
       "      <th>thal</th>\n",
       "      <th>target</th>\n",
       "    </tr>\n",
       "  </thead>\n",
       "  <tbody>\n",
       "    <tr>\n",
       "      <th>0</th>\n",
       "      <td>63</td>\n",
       "      <td>1</td>\n",
       "      <td>3</td>\n",
       "      <td>145</td>\n",
       "      <td>233</td>\n",
       "      <td>1</td>\n",
       "      <td>0</td>\n",
       "      <td>150</td>\n",
       "      <td>0</td>\n",
       "      <td>2.3</td>\n",
       "      <td>0</td>\n",
       "      <td>0</td>\n",
       "      <td>1</td>\n",
       "      <td>1</td>\n",
       "    </tr>\n",
       "    <tr>\n",
       "      <th>1</th>\n",
       "      <td>37</td>\n",
       "      <td>1</td>\n",
       "      <td>2</td>\n",
       "      <td>130</td>\n",
       "      <td>250</td>\n",
       "      <td>0</td>\n",
       "      <td>1</td>\n",
       "      <td>187</td>\n",
       "      <td>0</td>\n",
       "      <td>3.5</td>\n",
       "      <td>0</td>\n",
       "      <td>0</td>\n",
       "      <td>2</td>\n",
       "      <td>1</td>\n",
       "    </tr>\n",
       "    <tr>\n",
       "      <th>2</th>\n",
       "      <td>41</td>\n",
       "      <td>0</td>\n",
       "      <td>1</td>\n",
       "      <td>130</td>\n",
       "      <td>204</td>\n",
       "      <td>0</td>\n",
       "      <td>0</td>\n",
       "      <td>172</td>\n",
       "      <td>0</td>\n",
       "      <td>1.4</td>\n",
       "      <td>2</td>\n",
       "      <td>0</td>\n",
       "      <td>2</td>\n",
       "      <td>1</td>\n",
       "    </tr>\n",
       "    <tr>\n",
       "      <th>3</th>\n",
       "      <td>56</td>\n",
       "      <td>1</td>\n",
       "      <td>1</td>\n",
       "      <td>120</td>\n",
       "      <td>236</td>\n",
       "      <td>0</td>\n",
       "      <td>1</td>\n",
       "      <td>178</td>\n",
       "      <td>0</td>\n",
       "      <td>0.8</td>\n",
       "      <td>2</td>\n",
       "      <td>0</td>\n",
       "      <td>2</td>\n",
       "      <td>1</td>\n",
       "    </tr>\n",
       "    <tr>\n",
       "      <th>4</th>\n",
       "      <td>57</td>\n",
       "      <td>0</td>\n",
       "      <td>0</td>\n",
       "      <td>120</td>\n",
       "      <td>354</td>\n",
       "      <td>0</td>\n",
       "      <td>1</td>\n",
       "      <td>163</td>\n",
       "      <td>1</td>\n",
       "      <td>0.6</td>\n",
       "      <td>2</td>\n",
       "      <td>0</td>\n",
       "      <td>2</td>\n",
       "      <td>1</td>\n",
       "    </tr>\n",
       "  </tbody>\n",
       "</table>\n",
       "</div>"
      ],
      "text/plain": [
       "   age  sex  cp  trestbps  chol  fbs  restecg  thalach  exang  oldpeak  slope  \\\n",
       "0   63    1   3       145   233    1        0      150      0      2.3      0   \n",
       "1   37    1   2       130   250    0        1      187      0      3.5      0   \n",
       "2   41    0   1       130   204    0        0      172      0      1.4      2   \n",
       "3   56    1   1       120   236    0        1      178      0      0.8      2   \n",
       "4   57    0   0       120   354    0        1      163      1      0.6      2   \n",
       "\n",
       "   ca  thal  target  \n",
       "0   0     1       1  \n",
       "1   0     2       1  \n",
       "2   0     2       1  \n",
       "3   0     2       1  \n",
       "4   0     2       1  "
      ]
     },
     "execution_count": 2,
     "metadata": {},
     "output_type": "execute_result"
    }
   ],
   "source": [
    "df = pd.read_csv('../input/heart-disease-uci/heart.csv')\n",
    "df.head()"
   ]
  },
  {
   "cell_type": "code",
   "execution_count": 3,
   "id": "7db4d0d7",
   "metadata": {
    "execution": {
     "iopub.execute_input": "2021-11-02T17:33:19.548212Z",
     "iopub.status.busy": "2021-11-02T17:33:19.547597Z",
     "iopub.status.idle": "2021-11-02T17:33:19.552140Z",
     "shell.execute_reply": "2021-11-02T17:33:19.552665Z",
     "shell.execute_reply.started": "2021-11-02T15:14:12.551038Z"
    },
    "papermill": {
     "duration": 0.032793,
     "end_time": "2021-11-02T17:33:19.552838",
     "exception": false,
     "start_time": "2021-11-02T17:33:19.520045",
     "status": "completed"
    },
    "tags": []
   },
   "outputs": [
    {
     "data": {
      "text/plain": [
       "(303, 14)"
      ]
     },
     "execution_count": 3,
     "metadata": {},
     "output_type": "execute_result"
    }
   ],
   "source": [
    "df.shape"
   ]
  },
  {
   "cell_type": "markdown",
   "id": "544b6525",
   "metadata": {
    "papermill": {
     "duration": 0.024192,
     "end_time": "2021-11-02T17:33:19.602474",
     "exception": false,
     "start_time": "2021-11-02T17:33:19.578282",
     "status": "completed"
    },
    "tags": []
   },
   "source": [
    "#### as we can see this data this data is about 303 rows and 14 column"
   ]
  },
  {
   "cell_type": "markdown",
   "id": "a5d00212",
   "metadata": {
    "papermill": {
     "duration": 0.025842,
     "end_time": "2021-11-02T17:33:19.652865",
     "exception": false,
     "start_time": "2021-11-02T17:33:19.627023",
     "status": "completed"
    },
    "tags": []
   },
   "source": [
    "## Exploring our dataset "
   ]
  },
  {
   "cell_type": "code",
   "execution_count": 4,
   "id": "0a62031b",
   "metadata": {
    "execution": {
     "iopub.execute_input": "2021-11-02T17:33:19.704646Z",
     "iopub.status.busy": "2021-11-02T17:33:19.704013Z",
     "iopub.status.idle": "2021-11-02T17:33:19.716037Z",
     "shell.execute_reply": "2021-11-02T17:33:19.716632Z",
     "shell.execute_reply.started": "2021-11-02T15:14:12.557827Z"
    },
    "papermill": {
     "duration": 0.039593,
     "end_time": "2021-11-02T17:33:19.716895",
     "exception": false,
     "start_time": "2021-11-02T17:33:19.677302",
     "status": "completed"
    },
    "tags": []
   },
   "outputs": [
    {
     "data": {
      "text/plain": [
       "1    0.683168\n",
       "0    0.316832\n",
       "Name: sex, dtype: float64"
      ]
     },
     "execution_count": 4,
     "metadata": {},
     "output_type": "execute_result"
    }
   ],
   "source": [
    "df.sex.value_counts(normalize=True)"
   ]
  },
  {
   "cell_type": "markdown",
   "id": "3712ec2f",
   "metadata": {
    "papermill": {
     "duration": 0.025512,
     "end_time": "2021-11-02T17:33:19.767956",
     "exception": false,
     "start_time": "2021-11-02T17:33:19.742444",
     "status": "completed"
    },
    "tags": []
   },
   "source": [
    "#### this mean we have more female then male."
   ]
  },
  {
   "cell_type": "markdown",
   "id": "7e744e7e",
   "metadata": {
    "papermill": {
     "duration": 0.024764,
     "end_time": "2021-11-02T17:33:19.820134",
     "exception": false,
     "start_time": "2021-11-02T17:33:19.795370",
     "status": "completed"
    },
    "tags": []
   },
   "source": [
    "#### let's plot only people who got disease by sex"
   ]
  },
  {
   "cell_type": "code",
   "execution_count": 5,
   "id": "f0b506d4",
   "metadata": {
    "execution": {
     "iopub.execute_input": "2021-11-02T17:33:19.874680Z",
     "iopub.status.busy": "2021-11-02T17:33:19.874061Z",
     "iopub.status.idle": "2021-11-02T17:33:20.109977Z",
     "shell.execute_reply": "2021-11-02T17:33:20.109470Z",
     "shell.execute_reply.started": "2021-11-02T15:14:12.579004Z"
    },
    "papermill": {
     "duration": 0.26362,
     "end_time": "2021-11-02T17:33:20.110111",
     "exception": false,
     "start_time": "2021-11-02T17:33:19.846491",
     "status": "completed"
    },
    "tags": []
   },
   "outputs": [
    {
     "data": {
      "image/png": "[encoded data removed]",
      "text/plain": [
       "<Figure size 432x288 with 1 Axes>"
      ]
     },
     "metadata": {
      "needs_background": "light"
     },
     "output_type": "display_data"
    }
   ],
   "source": [
    "df.sex[df.target==1].value_counts().plot(kind=\"bar\")\n",
    "# commenting the plot \n",
    "plt.title(\"people who got disease by sex\")\n",
    "plt.xlabel(\"sex\")\n",
    "plt.ylabel(\"effected\"); \n",
    "plt.xticks(rotation = 0);"
   ]
  },
  {
   "cell_type": "code",
   "execution_count": 6,
   "id": "6c419344",
   "metadata": {
    "execution": {
     "iopub.execute_input": "2021-11-02T17:33:20.168883Z",
     "iopub.status.busy": "2021-11-02T17:33:20.168163Z",
     "iopub.status.idle": "2021-11-02T17:33:20.172296Z",
     "shell.execute_reply": "2021-11-02T17:33:20.171805Z",
     "shell.execute_reply.started": "2021-11-02T15:14:12.820569Z"
    },
    "papermill": {
     "duration": 0.036835,
     "end_time": "2021-11-02T17:33:20.172461",
     "exception": false,
     "start_time": "2021-11-02T17:33:20.135626",
     "status": "completed"
    },
    "tags": []
   },
   "outputs": [
    {
     "data": {
      "text/plain": [
       "1    0.544554\n",
       "0    0.455446\n",
       "Name: target, dtype: float64"
      ]
     },
     "execution_count": 6,
     "metadata": {},
     "output_type": "execute_result"
    }
   ],
   "source": [
    "df.target.value_counts(normalize=True)"
   ]
  },
  {
   "cell_type": "markdown",
   "id": "f76e24b3",
   "metadata": {
    "papermill": {
     "duration": 0.027344,
     "end_time": "2021-11-02T17:33:20.225722",
     "exception": false,
     "start_time": "2021-11-02T17:33:20.198378",
     "status": "completed"
    },
    "tags": []
   },
   "source": [
    "#### the two classes are almost equal"
   ]
  },
  {
   "cell_type": "markdown",
   "id": "e9e3c084",
   "metadata": {
    "papermill": {
     "duration": 0.026506,
     "end_time": "2021-11-02T17:33:20.278839",
     "exception": false,
     "start_time": "2021-11-02T17:33:20.252333",
     "status": "completed"
    },
    "tags": []
   },
   "source": [
    "### Ploting Heart Disease by Age / Max Heart Rate"
   ]
  },
  {
   "cell_type": "code",
   "execution_count": 7,
   "id": "72d5d1ff",
   "metadata": {
    "execution": {
     "iopub.execute_input": "2021-11-02T17:33:20.339775Z",
     "iopub.status.busy": "2021-11-02T17:33:20.338714Z",
     "iopub.status.idle": "2021-11-02T17:33:20.648333Z",
     "shell.execute_reply": "2021-11-02T17:33:20.647453Z",
     "shell.execute_reply.started": "2021-11-02T15:14:12.831279Z"
    },
    "papermill": {
     "duration": 0.34399,
     "end_time": "2021-11-02T17:33:20.648511",
     "exception": false,
     "start_time": "2021-11-02T17:33:20.304521",
     "status": "completed"
    },
    "tags": []
   },
   "outputs": [
    {
     "data": {
      "image/png": "[encoded data removed]",
      "text/plain": [
       "<Figure size 432x288 with 1 Axes>"
      ]
     },
     "metadata": {
      "needs_background": "light"
     },
     "output_type": "display_data"
    }
   ],
   "source": [
    "sns.scatterplot(x=df.age, y=df.thalach, hue = df.target);\n",
    "# commenting the plot \n",
    "plt.title(\"Heart Disease by Age / Max Heart Rate\")\n",
    "plt.xlabel(\"Age\")\n",
    "plt.legend([\"Disease\", \"No Disease\"])\n",
    "plt.ylabel(\"Max Heart Rate\");"
   ]
  },
  {
   "cell_type": "markdown",
   "id": "f497bb94",
   "metadata": {
    "papermill": {
     "duration": 0.026965,
     "end_time": "2021-11-02T17:33:20.705755",
     "exception": false,
     "start_time": "2021-11-02T17:33:20.678790",
     "status": "completed"
    },
    "tags": []
   },
   "source": [
    "### Correlation matrix  "
   ]
  },
  {
   "cell_type": "code",
   "execution_count": 8,
   "id": "2585a190",
   "metadata": {
    "execution": {
     "iopub.execute_input": "2021-11-02T17:33:20.766073Z",
     "iopub.status.busy": "2021-11-02T17:33:20.765453Z",
     "iopub.status.idle": "2021-11-02T17:33:22.027002Z",
     "shell.execute_reply": "2021-11-02T17:33:22.027438Z",
     "shell.execute_reply.started": "2021-11-02T15:14:13.168279Z"
    },
    "papermill": {
     "duration": 1.294309,
     "end_time": "2021-11-02T17:33:22.027608",
     "exception": false,
     "start_time": "2021-11-02T17:33:20.733299",
     "status": "completed"
    },
    "tags": []
   },
   "outputs": [
    {
     "data": {
      "image/png": "[encoded data removed]",
      "text/plain": [
       "<Figure size 864x720 with 2 Axes>"
      ]
     },
     "metadata": {
      "needs_background": "light"
     },
     "output_type": "display_data"
    }
   ],
   "source": [
    "corr = df.corr()\n",
    "f, ax = plt.subplots(figsize=(12, 10))\n",
    "sns.heatmap(corr, annot=True, fmt='.2f', ax=ax);"
   ]
  },
  {
   "cell_type": "code",
   "execution_count": 9,
   "id": "ebd5ebfe",
   "metadata": {
    "execution": {
     "iopub.execute_input": "2021-11-02T17:33:22.096377Z",
     "iopub.status.busy": "2021-11-02T17:33:22.090793Z",
     "iopub.status.idle": "2021-11-02T17:33:22.104703Z",
     "shell.execute_reply": "2021-11-02T17:33:22.104179Z",
     "shell.execute_reply.started": "2021-11-02T15:14:14.566370Z"
    },
    "papermill": {
     "duration": 0.047213,
     "end_time": "2021-11-02T17:33:22.104834",
     "exception": false,
     "start_time": "2021-11-02T17:33:22.057621",
     "status": "completed"
    },
    "tags": []
   },
   "outputs": [
    {
     "data": {
      "text/html": [
       "<div>\n",
       "<style scoped>\n",
       "    .dataframe tbody tr th:only-of-type {\n",
       "        vertical-align: middle;\n",
       "    }\n",
       "\n",
       "    .dataframe tbody tr th {\n",
       "        vertical-align: top;\n",
       "    }\n",
       "\n",
       "    .dataframe thead th {\n",
       "        text-align: right;\n",
       "    }\n",
       "</style>\n",
       "<table border=\"1\" class=\"dataframe\">\n",
       "  <thead>\n",
       "    <tr style=\"text-align: right;\">\n",
       "      <th></th>\n",
       "      <th>age</th>\n",
       "      <th>sex</th>\n",
       "      <th>cp</th>\n",
       "      <th>trestbps</th>\n",
       "      <th>chol</th>\n",
       "      <th>fbs</th>\n",
       "      <th>restecg</th>\n",
       "      <th>thalach</th>\n",
       "      <th>exang</th>\n",
       "      <th>oldpeak</th>\n",
       "      <th>slope</th>\n",
       "      <th>ca</th>\n",
       "      <th>thal</th>\n",
       "      <th>target</th>\n",
       "    </tr>\n",
       "  </thead>\n",
       "  <tbody>\n",
       "    <tr>\n",
       "      <th>0</th>\n",
       "      <td>63</td>\n",
       "      <td>1</td>\n",
       "      <td>3</td>\n",
       "      <td>145</td>\n",
       "      <td>233</td>\n",
       "      <td>1</td>\n",
       "      <td>0</td>\n",
       "      <td>150</td>\n",
       "      <td>0</td>\n",
       "      <td>2.3</td>\n",
       "      <td>0</td>\n",
       "      <td>0</td>\n",
       "      <td>1</td>\n",
       "      <td>1</td>\n",
       "    </tr>\n",
       "    <tr>\n",
       "      <th>1</th>\n",
       "      <td>37</td>\n",
       "      <td>1</td>\n",
       "      <td>2</td>\n",
       "      <td>130</td>\n",
       "      <td>250</td>\n",
       "      <td>0</td>\n",
       "      <td>1</td>\n",
       "      <td>187</td>\n",
       "      <td>0</td>\n",
       "      <td>3.5</td>\n",
       "      <td>0</td>\n",
       "      <td>0</td>\n",
       "      <td>2</td>\n",
       "      <td>1</td>\n",
       "    </tr>\n",
       "    <tr>\n",
       "      <th>2</th>\n",
       "      <td>41</td>\n",
       "      <td>0</td>\n",
       "      <td>1</td>\n",
       "      <td>130</td>\n",
       "      <td>204</td>\n",
       "      <td>0</td>\n",
       "      <td>0</td>\n",
       "      <td>172</td>\n",
       "      <td>0</td>\n",
       "      <td>1.4</td>\n",
       "      <td>2</td>\n",
       "      <td>0</td>\n",
       "      <td>2</td>\n",
       "      <td>1</td>\n",
       "    </tr>\n",
       "    <tr>\n",
       "      <th>3</th>\n",
       "      <td>56</td>\n",
       "      <td>1</td>\n",
       "      <td>1</td>\n",
       "      <td>120</td>\n",
       "      <td>236</td>\n",
       "      <td>0</td>\n",
       "      <td>1</td>\n",
       "      <td>178</td>\n",
       "      <td>0</td>\n",
       "      <td>0.8</td>\n",
       "      <td>2</td>\n",
       "      <td>0</td>\n",
       "      <td>2</td>\n",
       "      <td>1</td>\n",
       "    </tr>\n",
       "    <tr>\n",
       "      <th>4</th>\n",
       "      <td>57</td>\n",
       "      <td>0</td>\n",
       "      <td>0</td>\n",
       "      <td>120</td>\n",
       "      <td>354</td>\n",
       "      <td>0</td>\n",
       "      <td>1</td>\n",
       "      <td>163</td>\n",
       "      <td>1</td>\n",
       "      <td>0.6</td>\n",
       "      <td>2</td>\n",
       "      <td>0</td>\n",
       "      <td>2</td>\n",
       "      <td>1</td>\n",
       "    </tr>\n",
       "  </tbody>\n",
       "</table>\n",
       "</div>"
      ],
      "text/plain": [
       "   age  sex  cp  trestbps  chol  fbs  restecg  thalach  exang  oldpeak  slope  \\\n",
       "0   63    1   3       145   233    1        0      150      0      2.3      0   \n",
       "1   37    1   2       130   250    0        1      187      0      3.5      0   \n",
       "2   41    0   1       130   204    0        0      172      0      1.4      2   \n",
       "3   56    1   1       120   236    0        1      178      0      0.8      2   \n",
       "4   57    0   0       120   354    0        1      163      1      0.6      2   \n",
       "\n",
       "   ca  thal  target  \n",
       "0   0     1       1  \n",
       "1   0     2       1  \n",
       "2   0     2       1  \n",
       "3   0     2       1  \n",
       "4   0     2       1  "
      ]
     },
     "execution_count": 9,
     "metadata": {},
     "output_type": "execute_result"
    }
   ],
   "source": [
    "df.head()"
   ]
  },
  {
   "cell_type": "markdown",
   "id": "61857e6e",
   "metadata": {
    "papermill": {
     "duration": 0.030215,
     "end_time": "2021-11-02T17:33:22.165567",
     "exception": false,
     "start_time": "2021-11-02T17:33:22.135352",
     "status": "completed"
    },
    "tags": []
   },
   "source": [
    "## Modeling"
   ]
  },
  {
   "cell_type": "code",
   "execution_count": 10,
   "id": "0a0f4f35",
   "metadata": {
    "execution": {
     "iopub.execute_input": "2021-11-02T17:33:22.240112Z",
     "iopub.status.busy": "2021-11-02T17:33:22.235216Z",
     "iopub.status.idle": "2021-11-02T17:33:22.243530Z",
     "shell.execute_reply": "2021-11-02T17:33:22.244085Z",
     "shell.execute_reply.started": "2021-11-02T15:14:14.586790Z"
    },
    "papermill": {
     "duration": 0.048237,
     "end_time": "2021-11-02T17:33:22.244263",
     "exception": false,
     "start_time": "2021-11-02T17:33:22.196026",
     "status": "completed"
    },
    "tags": []
   },
   "outputs": [
    {
     "data": {
      "text/html": [
       "<div>\n",
       "<style scoped>\n",
       "    .dataframe tbody tr th:only-of-type {\n",
       "        vertical-align: middle;\n",
       "    }\n",
       "\n",
       "    .dataframe tbody tr th {\n",
       "        vertical-align: top;\n",
       "    }\n",
       "\n",
       "    .dataframe thead th {\n",
       "        text-align: right;\n",
       "    }\n",
       "</style>\n",
       "<table border=\"1\" class=\"dataframe\">\n",
       "  <thead>\n",
       "    <tr style=\"text-align: right;\">\n",
       "      <th></th>\n",
       "      <th>age</th>\n",
       "      <th>sex</th>\n",
       "      <th>cp</th>\n",
       "      <th>trestbps</th>\n",
       "      <th>chol</th>\n",
       "      <th>fbs</th>\n",
       "      <th>restecg</th>\n",
       "      <th>thalach</th>\n",
       "      <th>exang</th>\n",
       "      <th>oldpeak</th>\n",
       "      <th>slope</th>\n",
       "      <th>ca</th>\n",
       "      <th>thal</th>\n",
       "      <th>target</th>\n",
       "    </tr>\n",
       "  </thead>\n",
       "  <tbody>\n",
       "    <tr>\n",
       "      <th>0</th>\n",
       "      <td>63</td>\n",
       "      <td>1</td>\n",
       "      <td>3</td>\n",
       "      <td>145</td>\n",
       "      <td>233</td>\n",
       "      <td>1</td>\n",
       "      <td>0</td>\n",
       "      <td>150</td>\n",
       "      <td>0</td>\n",
       "      <td>2.3</td>\n",
       "      <td>0</td>\n",
       "      <td>0</td>\n",
       "      <td>1</td>\n",
       "      <td>1</td>\n",
       "    </tr>\n",
       "    <tr>\n",
       "      <th>1</th>\n",
       "      <td>37</td>\n",
       "      <td>1</td>\n",
       "      <td>2</td>\n",
       "      <td>130</td>\n",
       "      <td>250</td>\n",
       "      <td>0</td>\n",
       "      <td>1</td>\n",
       "      <td>187</td>\n",
       "      <td>0</td>\n",
       "      <td>3.5</td>\n",
       "      <td>0</td>\n",
       "      <td>0</td>\n",
       "      <td>2</td>\n",
       "      <td>1</td>\n",
       "    </tr>\n",
       "    <tr>\n",
       "      <th>2</th>\n",
       "      <td>41</td>\n",
       "      <td>0</td>\n",
       "      <td>1</td>\n",
       "      <td>130</td>\n",
       "      <td>204</td>\n",
       "      <td>0</td>\n",
       "      <td>0</td>\n",
       "      <td>172</td>\n",
       "      <td>0</td>\n",
       "      <td>1.4</td>\n",
       "      <td>2</td>\n",
       "      <td>0</td>\n",
       "      <td>2</td>\n",
       "      <td>1</td>\n",
       "    </tr>\n",
       "    <tr>\n",
       "      <th>3</th>\n",
       "      <td>56</td>\n",
       "      <td>1</td>\n",
       "      <td>1</td>\n",
       "      <td>120</td>\n",
       "      <td>236</td>\n",
       "      <td>0</td>\n",
       "      <td>1</td>\n",
       "      <td>178</td>\n",
       "      <td>0</td>\n",
       "      <td>0.8</td>\n",
       "      <td>2</td>\n",
       "      <td>0</td>\n",
       "      <td>2</td>\n",
       "      <td>1</td>\n",
       "    </tr>\n",
       "    <tr>\n",
       "      <th>4</th>\n",
       "      <td>57</td>\n",
       "      <td>0</td>\n",
       "      <td>0</td>\n",
       "      <td>120</td>\n",
       "      <td>354</td>\n",
       "      <td>0</td>\n",
       "      <td>1</td>\n",
       "      <td>163</td>\n",
       "      <td>1</td>\n",
       "      <td>0.6</td>\n",
       "      <td>2</td>\n",
       "      <td>0</td>\n",
       "      <td>2</td>\n",
       "      <td>1</td>\n",
       "    </tr>\n",
       "  </tbody>\n",
       "</table>\n",
       "</div>"
      ],
      "text/plain": [
       "   age  sex  cp  trestbps  chol  fbs  restecg  thalach  exang  oldpeak  slope  \\\n",
       "0   63    1   3       145   233    1        0      150      0      2.3      0   \n",
       "1   37    1   2       130   250    0        1      187      0      3.5      0   \n",
       "2   41    0   1       130   204    0        0      172      0      1.4      2   \n",
       "3   56    1   1       120   236    0        1      178      0      0.8      2   \n",
       "4   57    0   0       120   354    0        1      163      1      0.6      2   \n",
       "\n",
       "   ca  thal  target  \n",
       "0   0     1       1  \n",
       "1   0     2       1  \n",
       "2   0     2       1  \n",
       "3   0     2       1  \n",
       "4   0     2       1  "
      ]
     },
     "execution_count": 10,
     "metadata": {},
     "output_type": "execute_result"
    }
   ],
   "source": [
    "df.head()"
   ]
  },
  {
   "cell_type": "markdown",
   "id": "cf5f13d0",
   "metadata": {
    "papermill": {
     "duration": 0.032278,
     "end_time": "2021-11-02T17:33:22.308353",
     "exception": false,
     "start_time": "2021-11-02T17:33:22.276075",
     "status": "completed"
    },
    "tags": []
   },
   "source": [
    "#### Features / Lable"
   ]
  },
  {
   "cell_type": "code",
   "execution_count": 11,
   "id": "0fec6bad",
   "metadata": {
    "execution": {
     "iopub.execute_input": "2021-11-02T17:33:22.375847Z",
     "iopub.status.busy": "2021-11-02T17:33:22.375185Z",
     "iopub.status.idle": "2021-11-02T17:33:22.388040Z",
     "shell.execute_reply": "2021-11-02T17:33:22.388572Z",
     "shell.execute_reply.started": "2021-11-02T15:14:14.606076Z"
    },
    "papermill": {
     "duration": 0.048097,
     "end_time": "2021-11-02T17:33:22.388759",
     "exception": false,
     "start_time": "2021-11-02T17:33:22.340662",
     "status": "completed"
    },
    "tags": []
   },
   "outputs": [
    {
     "data": {
      "text/html": [
       "<div>\n",
       "<style scoped>\n",
       "    .dataframe tbody tr th:only-of-type {\n",
       "        vertical-align: middle;\n",
       "    }\n",
       "\n",
       "    .dataframe tbody tr th {\n",
       "        vertical-align: top;\n",
       "    }\n",
       "\n",
       "    .dataframe thead th {\n",
       "        text-align: right;\n",
       "    }\n",
       "</style>\n",
       "<table border=\"1\" class=\"dataframe\">\n",
       "  <thead>\n",
       "    <tr style=\"text-align: right;\">\n",
       "      <th></th>\n",
       "      <th>age</th>\n",
       "      <th>sex</th>\n",
       "      <th>cp</th>\n",
       "      <th>trestbps</th>\n",
       "      <th>chol</th>\n",
       "      <th>fbs</th>\n",
       "      <th>restecg</th>\n",
       "      <th>thalach</th>\n",
       "      <th>exang</th>\n",
       "      <th>oldpeak</th>\n",
       "      <th>slope</th>\n",
       "      <th>ca</th>\n",
       "      <th>thal</th>\n",
       "    </tr>\n",
       "  </thead>\n",
       "  <tbody>\n",
       "    <tr>\n",
       "      <th>0</th>\n",
       "      <td>63</td>\n",
       "      <td>1</td>\n",
       "      <td>3</td>\n",
       "      <td>145</td>\n",
       "      <td>233</td>\n",
       "      <td>1</td>\n",
       "      <td>0</td>\n",
       "      <td>150</td>\n",
       "      <td>0</td>\n",
       "      <td>2.3</td>\n",
       "      <td>0</td>\n",
       "      <td>0</td>\n",
       "      <td>1</td>\n",
       "    </tr>\n",
       "    <tr>\n",
       "      <th>1</th>\n",
       "      <td>37</td>\n",
       "      <td>1</td>\n",
       "      <td>2</td>\n",
       "      <td>130</td>\n",
       "      <td>250</td>\n",
       "      <td>0</td>\n",
       "      <td>1</td>\n",
       "      <td>187</td>\n",
       "      <td>0</td>\n",
       "      <td>3.5</td>\n",
       "      <td>0</td>\n",
       "      <td>0</td>\n",
       "      <td>2</td>\n",
       "    </tr>\n",
       "    <tr>\n",
       "      <th>2</th>\n",
       "      <td>41</td>\n",
       "      <td>0</td>\n",
       "      <td>1</td>\n",
       "      <td>130</td>\n",
       "      <td>204</td>\n",
       "      <td>0</td>\n",
       "      <td>0</td>\n",
       "      <td>172</td>\n",
       "      <td>0</td>\n",
       "      <td>1.4</td>\n",
       "      <td>2</td>\n",
       "      <td>0</td>\n",
       "      <td>2</td>\n",
       "    </tr>\n",
       "    <tr>\n",
       "      <th>3</th>\n",
       "      <td>56</td>\n",
       "      <td>1</td>\n",
       "      <td>1</td>\n",
       "      <td>120</td>\n",
       "      <td>236</td>\n",
       "      <td>0</td>\n",
       "      <td>1</td>\n",
       "      <td>178</td>\n",
       "      <td>0</td>\n",
       "      <td>0.8</td>\n",
       "      <td>2</td>\n",
       "      <td>0</td>\n",
       "      <td>2</td>\n",
       "    </tr>\n",
       "    <tr>\n",
       "      <th>4</th>\n",
       "      <td>57</td>\n",
       "      <td>0</td>\n",
       "      <td>0</td>\n",
       "      <td>120</td>\n",
       "      <td>354</td>\n",
       "      <td>0</td>\n",
       "      <td>1</td>\n",
       "      <td>163</td>\n",
       "      <td>1</td>\n",
       "      <td>0.6</td>\n",
       "      <td>2</td>\n",
       "      <td>0</td>\n",
       "      <td>2</td>\n",
       "    </tr>\n",
       "  </tbody>\n",
       "</table>\n",
       "</div>"
      ],
      "text/plain": [
       "   age  sex  cp  trestbps  chol  fbs  restecg  thalach  exang  oldpeak  slope  \\\n",
       "0   63    1   3       145   233    1        0      150      0      2.3      0   \n",
       "1   37    1   2       130   250    0        1      187      0      3.5      0   \n",
       "2   41    0   1       130   204    0        0      172      0      1.4      2   \n",
       "3   56    1   1       120   236    0        1      178      0      0.8      2   \n",
       "4   57    0   0       120   354    0        1      163      1      0.6      2   \n",
       "\n",
       "   ca  thal  \n",
       "0   0     1  \n",
       "1   0     2  \n",
       "2   0     2  \n",
       "3   0     2  \n",
       "4   0     2  "
      ]
     },
     "execution_count": 11,
     "metadata": {},
     "output_type": "execute_result"
    }
   ],
   "source": [
    "X = df.drop('target', axis=1)\n",
    "X.head()"
   ]
  },
  {
   "cell_type": "code",
   "execution_count": 12,
   "id": "62a6e299",
   "metadata": {
    "execution": {
     "iopub.execute_input": "2021-11-02T17:33:22.458821Z",
     "iopub.status.busy": "2021-11-02T17:33:22.458066Z",
     "iopub.status.idle": "2021-11-02T17:33:22.463553Z",
     "shell.execute_reply": "2021-11-02T17:33:22.463984Z",
     "shell.execute_reply.started": "2021-11-02T15:14:14.630282Z"
    },
    "papermill": {
     "duration": 0.04301,
     "end_time": "2021-11-02T17:33:22.464158",
     "exception": false,
     "start_time": "2021-11-02T17:33:22.421148",
     "status": "completed"
    },
    "tags": []
   },
   "outputs": [
    {
     "data": {
      "text/plain": [
       "0    1\n",
       "1    1\n",
       "2    1\n",
       "3    1\n",
       "4    1\n",
       "Name: target, dtype: int64"
      ]
     },
     "execution_count": 12,
     "metadata": {},
     "output_type": "execute_result"
    }
   ],
   "source": [
    "y = df.target\n",
    "y.head()"
   ]
  },
  {
   "cell_type": "markdown",
   "id": "49736a73",
   "metadata": {
    "papermill": {
     "duration": 0.031466,
     "end_time": "2021-11-02T17:33:22.528233",
     "exception": false,
     "start_time": "2021-11-02T17:33:22.496767",
     "status": "completed"
    },
    "tags": []
   },
   "source": [
    "#### Spliting our dataset with 20% for test"
   ]
  },
  {
   "cell_type": "code",
   "execution_count": 13,
   "id": "1b6c09b7",
   "metadata": {
    "execution": {
     "iopub.execute_input": "2021-11-02T17:33:22.595924Z",
     "iopub.status.busy": "2021-11-02T17:33:22.594967Z",
     "iopub.status.idle": "2021-11-02T17:33:22.603241Z",
     "shell.execute_reply": "2021-11-02T17:33:22.603783Z",
     "shell.execute_reply.started": "2021-11-02T15:14:14.642486Z"
    },
    "papermill": {
     "duration": 0.043989,
     "end_time": "2021-11-02T17:33:22.603957",
     "exception": false,
     "start_time": "2021-11-02T17:33:22.559968",
     "status": "completed"
    },
    "tags": []
   },
   "outputs": [],
   "source": [
    "np.random.seed(42)\n",
    "X_train, X_test, y_train, y_test = train_test_split(X, y, test_size=0.2)"
   ]
  },
  {
   "cell_type": "code",
   "execution_count": 14,
   "id": "e961075e",
   "metadata": {
    "execution": {
     "iopub.execute_input": "2021-11-02T17:33:22.739820Z",
     "iopub.status.busy": "2021-11-02T17:33:22.738866Z",
     "iopub.status.idle": "2021-11-02T17:33:22.744948Z",
     "shell.execute_reply": "2021-11-02T17:33:22.745483Z",
     "shell.execute_reply.started": "2021-11-02T15:14:14.655587Z"
    },
    "papermill": {
     "duration": 0.108323,
     "end_time": "2021-11-02T17:33:22.745655",
     "exception": false,
     "start_time": "2021-11-02T17:33:22.637332",
     "status": "completed"
    },
    "tags": []
   },
   "outputs": [
    {
     "data": {
      "text/plain": [
       "132    1\n",
       "202    0\n",
       "196    0\n",
       "75     1\n",
       "176    0\n",
       "Name: target, dtype: int64"
      ]
     },
     "execution_count": 14,
     "metadata": {},
     "output_type": "execute_result"
    }
   ],
   "source": [
    "y_train.head()"
   ]
  },
  {
   "cell_type": "markdown",
   "id": "90f8192b",
   "metadata": {
    "papermill": {
     "duration": 0.032045,
     "end_time": "2021-11-02T17:33:22.810882",
     "exception": false,
     "start_time": "2021-11-02T17:33:22.778837",
     "status": "completed"
    },
    "tags": []
   },
   "source": [
    "## Evaluation metrics"
   ]
  },
  {
   "cell_type": "markdown",
   "id": "f6a5d6a2",
   "metadata": {
    "papermill": {
     "duration": 0.032246,
     "end_time": "2021-11-02T17:33:22.875292",
     "exception": false,
     "start_time": "2021-11-02T17:33:22.843046",
     "status": "completed"
    },
    "tags": []
   },
   "source": [
    "#### Function for geting score (f1 and acc) and ploting the confusion metrix"
   ]
  },
  {
   "cell_type": "code",
   "execution_count": 15,
   "id": "0b9e9846",
   "metadata": {
    "execution": {
     "iopub.execute_input": "2021-11-02T17:33:22.946447Z",
     "iopub.status.busy": "2021-11-02T17:33:22.945443Z",
     "iopub.status.idle": "2021-11-02T17:33:22.950880Z",
     "shell.execute_reply": "2021-11-02T17:33:22.951400Z",
     "shell.execute_reply.started": "2021-11-02T15:14:14.668352Z"
    },
    "papermill": {
     "duration": 0.041379,
     "end_time": "2021-11-02T17:33:22.951590",
     "exception": false,
     "start_time": "2021-11-02T17:33:22.910211",
     "status": "completed"
    },
    "tags": []
   },
   "outputs": [],
   "source": [
    "def getScore(model, X_test, y_test):\n",
    "    y_pred = model.predict(X_test)\n",
    "    print('f1_score')\n",
    "    print(f1_score(y_test,y_pred,average='binary'))\n",
    "    print('accuracy')\n",
    "    acc = accuracy_score(y_test,y_pred, normalize=True)\n",
    "    print(acc)\n",
    "    print('Confusion Matrix :')\n",
    "    plot_confusion_matrix(model, X_test, y_test)\n",
    "    plt.show()\n",
    "    return acc"
   ]
  },
  {
   "cell_type": "code",
   "execution_count": 16,
   "id": "b25b3eb0",
   "metadata": {
    "execution": {
     "iopub.execute_input": "2021-11-02T17:33:23.022057Z",
     "iopub.status.busy": "2021-11-02T17:33:23.021009Z",
     "iopub.status.idle": "2021-11-02T17:33:23.653323Z",
     "shell.execute_reply": "2021-11-02T17:33:23.653860Z",
     "shell.execute_reply.started": "2021-11-02T15:25:32.138016Z"
    },
    "papermill": {
     "duration": 0.669295,
     "end_time": "2021-11-02T17:33:23.654044",
     "exception": false,
     "start_time": "2021-11-02T17:33:22.984749",
     "status": "completed"
    },
    "tags": []
   },
   "outputs": [
    {
     "name": "stdout",
     "output_type": "stream",
     "text": [
      "f1_score\n",
      "0.875\n",
      "accuracy\n",
      "0.8688524590163934\n",
      "Confusion Matrix :\n"
     ]
    },
    {
     "data": {
      "image/png": "[encoded data removed]",
      "text/plain": [
       "<Figure size 432x288 with 2 Axes>"
      ]
     },
     "metadata": {
      "needs_background": "light"
     },
     "output_type": "display_data"
    }
   ],
   "source": [
    "np.random.seed(42)\n",
    "clf = SVC(kernel='linear')\n",
    "clf.fit(X_train, y_train);\n",
    "clf_accuracy = getScore(clf, X_test, y_test)"
   ]
  },
  {
   "cell_type": "markdown",
   "id": "8afcc119",
   "metadata": {
    "execution": {
     "iopub.execute_input": "2021-11-02T05:53:13.520136Z",
     "iopub.status.busy": "2021-11-02T05:53:13.519882Z",
     "iopub.status.idle": "2021-11-02T05:53:13.525584Z",
     "shell.execute_reply": "2021-11-02T05:53:13.524519Z",
     "shell.execute_reply.started": "2021-11-02T05:53:13.520105Z"
    },
    "papermill": {
     "duration": 0.032688,
     "end_time": "2021-11-02T17:33:23.720326",
     "exception": false,
     "start_time": "2021-11-02T17:33:23.687638",
     "status": "completed"
    },
    "tags": []
   },
   "source": [
    "#### Classification report"
   ]
  },
  {
   "cell_type": "code",
   "execution_count": 17,
   "id": "aebd38e8",
   "metadata": {
    "execution": {
     "iopub.execute_input": "2021-11-02T17:33:23.790941Z",
     "iopub.status.busy": "2021-11-02T17:33:23.789963Z",
     "iopub.status.idle": "2021-11-02T17:33:23.800786Z",
     "shell.execute_reply": "2021-11-02T17:33:23.801292Z",
     "shell.execute_reply.started": "2021-11-02T15:15:59.826717Z"
    },
    "papermill": {
     "duration": 0.048236,
     "end_time": "2021-11-02T17:33:23.801473",
     "exception": false,
     "start_time": "2021-11-02T17:33:23.753237",
     "status": "completed"
    },
    "tags": []
   },
   "outputs": [
    {
     "name": "stdout",
     "output_type": "stream",
     "text": [
      "              precision    recall  f1-score   support\n",
      "\n",
      "           0       0.86      0.86      0.86        29\n",
      "           1       0.88      0.88      0.88        32\n",
      "\n",
      "    accuracy                           0.87        61\n",
      "   macro avg       0.87      0.87      0.87        61\n",
      "weighted avg       0.87      0.87      0.87        61\n",
      "\n"
     ]
    }
   ],
   "source": [
    "print(classification_report(y_test, clf.predict(X_test)))"
   ]
  },
  {
   "cell_type": "markdown",
   "id": "966687e9",
   "metadata": {
    "papermill": {
     "duration": 0.033293,
     "end_time": "2021-11-02T17:33:23.868000",
     "exception": false,
     "start_time": "2021-11-02T17:33:23.834707",
     "status": "completed"
    },
    "tags": []
   },
   "source": [
    "### ROC curve"
   ]
  },
  {
   "cell_type": "code",
   "execution_count": 18,
   "id": "c9346ba6",
   "metadata": {
    "execution": {
     "iopub.execute_input": "2021-11-02T17:33:23.941849Z",
     "iopub.status.busy": "2021-11-02T17:33:23.941211Z",
     "iopub.status.idle": "2021-11-02T17:33:24.149667Z",
     "shell.execute_reply": "2021-11-02T17:33:24.150221Z",
     "shell.execute_reply.started": "2021-11-02T15:16:00.962687Z"
    },
    "papermill": {
     "duration": 0.249198,
     "end_time": "2021-11-02T17:33:24.150400",
     "exception": false,
     "start_time": "2021-11-02T17:33:23.901202",
     "status": "completed"
    },
    "tags": []
   },
   "outputs": [
    {
     "data": {
      "image/png": "[encoded data removed]",
      "text/plain": [
       "<Figure size 432x288 with 1 Axes>"
      ]
     },
     "metadata": {
      "needs_background": "light"
     },
     "output_type": "display_data"
    }
   ],
   "source": [
    "plot_roc_curve(clf, X_test, y_test);"
   ]
  },
  {
   "cell_type": "markdown",
   "id": "4eb73d26",
   "metadata": {
    "papermill": {
     "duration": 0.034406,
     "end_time": "2021-11-02T17:33:24.218733",
     "exception": false,
     "start_time": "2021-11-02T17:33:24.184327",
     "status": "completed"
    },
    "tags": []
   },
   "source": [
    "## Feature importance"
   ]
  },
  {
   "cell_type": "code",
   "execution_count": 19,
   "id": "0f7fe63d",
   "metadata": {
    "execution": {
     "iopub.execute_input": "2021-11-02T17:33:24.293863Z",
     "iopub.status.busy": "2021-11-02T17:33:24.293087Z",
     "iopub.status.idle": "2021-11-02T17:33:24.296027Z",
     "shell.execute_reply": "2021-11-02T17:33:24.296488Z",
     "shell.execute_reply.started": "2021-11-02T15:16:03.485615Z"
    },
    "papermill": {
     "duration": 0.044044,
     "end_time": "2021-11-02T17:33:24.296655",
     "exception": false,
     "start_time": "2021-11-02T17:33:24.252611",
     "status": "completed"
    },
    "tags": []
   },
   "outputs": [
    {
     "data": {
      "text/plain": [
       "array([[ 0.00609556, -0.99254634,  0.61699588, -0.0170269 , -0.00190245,\n",
       "         0.43019654,  0.18124373,  0.01232462, -0.59604274, -0.50634219,\n",
       "         0.4924634 , -0.59762528, -0.88652235]])"
      ]
     },
     "execution_count": 19,
     "metadata": {},
     "output_type": "execute_result"
    }
   ],
   "source": [
    "clf.coef_"
   ]
  },
  {
   "cell_type": "code",
   "execution_count": 20,
   "id": "9f91b9be",
   "metadata": {
    "execution": {
     "iopub.execute_input": "2021-11-02T17:33:24.368466Z",
     "iopub.status.busy": "2021-11-02T17:33:24.367516Z",
     "iopub.status.idle": "2021-11-02T17:33:24.632861Z",
     "shell.execute_reply": "2021-11-02T17:33:24.633328Z",
     "shell.execute_reply.started": "2021-11-02T15:17:27.775828Z"
    },
    "papermill": {
     "duration": 0.302907,
     "end_time": "2021-11-02T17:33:24.633516",
     "exception": false,
     "start_time": "2021-11-02T17:33:24.330609",
     "status": "completed"
    },
    "tags": []
   },
   "outputs": [
    {
     "data": {
      "image/png": "[encoded data removed]",
      "text/plain": [
       "<Figure size 720x288 with 1 Axes>"
      ]
     },
     "metadata": {
      "needs_background": "light"
     },
     "output_type": "display_data"
    }
   ],
   "source": [
    "f_dict = dict(zip(X.columns , clf.coef_[0]))\n",
    "f_data = pd.DataFrame(f_dict, index=[0])\n",
    "f_data.T.plot.bar(title=\"Feature Importance\", legend=False, figsize=(10,4));\n",
    "plt.xticks(rotation = 0);"
   ]
  },
  {
   "cell_type": "markdown",
   "id": "215c151c",
   "metadata": {
    "papermill": {
     "duration": 0.034575,
     "end_time": "2021-11-02T17:33:24.703149",
     "exception": false,
     "start_time": "2021-11-02T17:33:24.668574",
     "status": "completed"
    },
    "tags": []
   },
   "source": [
    "#### from this plot we can see features who have importance or not"
   ]
  },
  {
   "cell_type": "markdown",
   "id": "dd4a13bd",
   "metadata": {
    "papermill": {
     "duration": 0.034963,
     "end_time": "2021-11-02T17:33:24.773153",
     "exception": false,
     "start_time": "2021-11-02T17:33:24.738190",
     "status": "completed"
    },
    "tags": []
   },
   "source": [
    "#### for example features like age, trestbps, chol and thalach has the lees importance, \n",
    "#### but features like sex, cp, exang, ...etc, have more importance"
   ]
  },
  {
   "cell_type": "markdown",
   "id": "f762dc0e",
   "metadata": {
    "papermill": {
     "duration": 0.034983,
     "end_time": "2021-11-02T17:33:24.844336",
     "exception": false,
     "start_time": "2021-11-02T17:33:24.809353",
     "status": "completed"
    },
    "tags": []
   },
   "source": [
    "## Cross-validation"
   ]
  },
  {
   "cell_type": "code",
   "execution_count": 21,
   "id": "44a47465",
   "metadata": {
    "execution": {
     "iopub.execute_input": "2021-11-02T17:33:24.920603Z",
     "iopub.status.busy": "2021-11-02T17:33:24.919515Z",
     "iopub.status.idle": "2021-11-02T17:33:27.825594Z",
     "shell.execute_reply": "2021-11-02T17:33:27.826035Z",
     "shell.execute_reply.started": "2021-11-02T15:27:59.528159Z"
    },
    "papermill": {
     "duration": 2.946595,
     "end_time": "2021-11-02T17:33:27.826211",
     "exception": false,
     "start_time": "2021-11-02T17:33:24.879616",
     "status": "completed"
    },
    "tags": []
   },
   "outputs": [
    {
     "data": {
      "text/plain": [
       "0.8283060109289618"
      ]
     },
     "execution_count": 21,
     "metadata": {},
     "output_type": "execute_result"
    }
   ],
   "source": [
    "cv_precision = np.mean(cross_val_score(SVC(kernel='linear'),\n",
    "                                       X,\n",
    "                                       y,\n",
    "                                       cv=5)) \n",
    "cv_precision"
   ]
  },
  {
   "cell_type": "code",
   "execution_count": 22,
   "id": "d0dc09e2",
   "metadata": {
    "execution": {
     "iopub.execute_input": "2021-11-02T17:33:27.904986Z",
     "iopub.status.busy": "2021-11-02T17:33:27.903965Z",
     "iopub.status.idle": "2021-11-02T17:33:28.361035Z",
     "shell.execute_reply": "2021-11-02T17:33:28.360445Z",
     "shell.execute_reply.started": "2021-11-02T15:28:32.822195Z"
    },
    "papermill": {
     "duration": 0.499837,
     "end_time": "2021-11-02T17:33:28.361178",
     "exception": false,
     "start_time": "2021-11-02T17:33:27.861341",
     "status": "completed"
    },
    "tags": []
   },
   "outputs": [
    {
     "data": {
      "image/png": "[encoded data removed]",
      "text/plain": [
       "<Figure size 432x288 with 1 Axes>"
      ]
     },
     "metadata": {
      "needs_background": "light"
     },
     "output_type": "display_data"
    }
   ],
   "source": [
    "param_range = np.logspace(-6, -1, 5)\n",
    "train_score, val_score = validation_curve(SVC(), X_train, y_train, param_name='gamma', param_range=param_range, cv=5)\n",
    "plt.plot(param_range, val_score.mean(axis=1));"
   ]
  },
  {
   "cell_type": "markdown",
   "id": "9ad7afd9",
   "metadata": {
    "papermill": {
     "duration": 0.038038,
     "end_time": "2021-11-02T17:33:28.436274",
     "exception": false,
     "start_time": "2021-11-02T17:33:28.398236",
     "status": "completed"
    },
    "tags": []
   },
   "source": [
    "## GreadSearcheCV"
   ]
  },
  {
   "cell_type": "code",
   "execution_count": 23,
   "id": "6ce17d24",
   "metadata": {
    "collapsed": true,
    "execution": {
     "iopub.execute_input": "2021-11-02T17:33:28.513053Z",
     "iopub.status.busy": "2021-11-02T17:33:28.512030Z",
     "iopub.status.idle": "2021-11-02T17:43:07.625392Z",
     "shell.execute_reply": "2021-11-02T17:43:07.625917Z",
     "shell.execute_reply.started": "2021-11-02T15:42:04.775834Z"
    },
    "jupyter": {
     "outputs_hidden": true
    },
    "papermill": {
     "duration": 579.153711,
     "end_time": "2021-11-02T17:43:07.626122",
     "exception": false,
     "start_time": "2021-11-02T17:33:28.472411",
     "status": "completed"
    },
    "tags": []
   },
   "outputs": [
    {
     "name": "stdout",
     "output_type": "stream",
     "text": [
      "Fitting 10 folds for each of 75 candidates, totalling 750 fits\n"
     ]
    },
    {
     "name": "stderr",
     "output_type": "stream",
     "text": [
      "[Parallel(n_jobs=-1)]: Using backend LokyBackend with 4 concurrent workers.\n",
      "[Parallel(n_jobs=-1)]: Done  34 tasks      | elapsed:    2.7s\n"
     ]
    },
    {
     "name": "stdout",
     "output_type": "stream",
     "text": [
      "[CV] C=0.1, gamma=1, kernel=rbf ......................................\n",
      "[CV] ....................... C=0.1, gamma=1, kernel=rbf, total=   0.0s\n",
      "[CV] C=0.1, gamma=1, kernel=linear ...................................\n",
      "[CV] .................... C=0.1, gamma=1, kernel=linear, total=   0.1s\n",
      "[CV] C=0.1, gamma=1, kernel=sigmoid ..................................\n",
      "[CV] ................... C=0.1, gamma=1, kernel=sigmoid, total=   0.0s\n",
      "[CV] C=0.1, gamma=1, kernel=sigmoid ..................................\n",
      "[CV] ................... C=0.1, gamma=1, kernel=sigmoid, total=   0.0s\n",
      "[CV] C=0.1, gamma=1, kernel=sigmoid ..................................\n",
      "[CV] ................... C=0.1, gamma=1, kernel=sigmoid, total=   0.0s\n",
      "[CV] C=0.1, gamma=0.1, kernel=rbf ....................................\n",
      "[CV] ..................... C=0.1, gamma=0.1, kernel=rbf, total=   0.0s\n",
      "[CV] C=0.1, gamma=0.1, kernel=rbf ....................................\n",
      "[CV] ..................... C=0.1, gamma=0.1, kernel=rbf, total=   0.0s\n",
      "[CV] C=0.1, gamma=0.1, kernel=rbf ....................................\n",
      "[CV] ..................... C=0.1, gamma=0.1, kernel=rbf, total=   0.0s\n",
      "[CV] C=0.1, gamma=0.1, kernel=linear .................................\n",
      "[CV] .................. C=0.1, gamma=0.1, kernel=linear, total=   0.1s\n",
      "[CV] C=0.1, gamma=0.1, kernel=linear .................................\n",
      "[CV] .................. C=0.1, gamma=0.1, kernel=linear, total=   0.1s\n",
      "[CV] C=0.1, gamma=0.01, kernel=rbf ...................................\n",
      "[CV] .................... C=0.1, gamma=0.01, kernel=rbf, total=   0.0s\n",
      "[CV] C=0.1, gamma=0.01, kernel=rbf ...................................\n",
      "[CV] .................... C=0.1, gamma=0.01, kernel=rbf, total=   0.0s\n",
      "[CV] C=0.1, gamma=0.01, kernel=linear ................................\n",
      "[CV] ................. C=0.1, gamma=0.01, kernel=linear, total=   0.1s\n",
      "[CV] C=0.1, gamma=0.01, kernel=linear ................................\n",
      "[CV] ................. C=0.1, gamma=0.01, kernel=linear, total=   0.1s\n",
      "[CV] C=0.1, gamma=0.01, kernel=sigmoid ...............................\n",
      "[CV] ................ C=0.1, gamma=0.01, kernel=sigmoid, total=   0.0s\n",
      "[CV] C=0.1, gamma=0.01, kernel=sigmoid ...............................\n",
      "[CV] ................ C=0.1, gamma=0.01, kernel=sigmoid, total=   0.0s\n",
      "[CV] C=0.1, gamma=0.001, kernel=rbf ..................................\n",
      "[CV] ................... C=0.1, gamma=0.001, kernel=rbf, total=   0.0s\n",
      "[CV] C=0.1, gamma=0.001, kernel=rbf ..................................\n",
      "[CV] ................... C=0.1, gamma=0.001, kernel=rbf, total=   0.0s\n",
      "[CV] C=0.1, gamma=0.001, kernel=rbf ..................................\n",
      "[CV] ................... C=0.1, gamma=0.001, kernel=rbf, total=   0.0s\n",
      "[CV] C=0.1, gamma=0.001, kernel=rbf ..................................\n",
      "[CV] ................... C=0.1, gamma=0.001, kernel=rbf, total=   0.0s\n",
      "[CV] C=0.1, gamma=0.001, kernel=rbf ..................................\n",
      "[CV] ................... C=0.1, gamma=0.001, kernel=rbf, total=   0.0s\n",
      "[CV] C=0.1, gamma=0.001, kernel=rbf ..................................\n",
      "[CV] ................... C=0.1, gamma=0.001, kernel=rbf, total=   0.0s\n",
      "[CV] C=0.1, gamma=0.001, kernel=sigmoid ..............................\n",
      "[CV] ............... C=0.1, gamma=0.001, kernel=sigmoid, total=   0.0s\n",
      "[CV] C=0.1, gamma=0.001, kernel=sigmoid ..............................\n",
      "[CV] ............... C=0.1, gamma=0.001, kernel=sigmoid, total=   0.0s\n",
      "[CV] C=0.1, gamma=0.001, kernel=sigmoid ..............................\n",
      "[CV] ............... C=0.1, gamma=0.001, kernel=sigmoid, total=   0.0s\n",
      "[CV] C=0.1, gamma=0.001, kernel=sigmoid ..............................\n",
      "[CV] ............... C=0.1, gamma=0.001, kernel=sigmoid, total=   0.0s\n",
      "[CV] C=0.1, gamma=0.001, kernel=sigmoid ..............................\n",
      "[CV] ............... C=0.1, gamma=0.001, kernel=sigmoid, total=   0.0s\n",
      "[CV] C=0.1, gamma=0.001, kernel=sigmoid ..............................\n",
      "[CV] ............... C=0.1, gamma=0.001, kernel=sigmoid, total=   0.0s\n",
      "[CV] C=0.1, gamma=0.001, kernel=sigmoid ..............................\n",
      "[CV] ............... C=0.1, gamma=0.001, kernel=sigmoid, total=   0.0s\n",
      "[CV] C=0.1, gamma=0.001, kernel=sigmoid ..............................\n",
      "[CV] ............... C=0.1, gamma=0.001, kernel=sigmoid, total=   0.0s\n",
      "[CV] C=0.1, gamma=0.0001, kernel=rbf .................................\n",
      "[CV] .................. C=0.1, gamma=0.0001, kernel=rbf, total=   0.0s\n",
      "[CV] C=0.1, gamma=0.0001, kernel=rbf .................................\n",
      "[CV] .................. C=0.1, gamma=0.0001, kernel=rbf, total=   0.0s\n",
      "[CV] C=0.1, gamma=0.0001, kernel=rbf .................................\n",
      "[CV] .................. C=0.1, gamma=0.0001, kernel=rbf, total=   0.0s\n",
      "[CV] C=0.1, gamma=0.0001, kernel=rbf .................................\n",
      "[CV] .................. C=0.1, gamma=0.0001, kernel=rbf, total=   0.0s\n",
      "[CV] C=0.1, gamma=0.0001, kernel=rbf .................................\n",
      "[CV] .................. C=0.1, gamma=0.0001, kernel=rbf, total=   0.0s\n",
      "[CV] C=0.1, gamma=0.0001, kernel=rbf .................................\n",
      "[CV] .................. C=0.1, gamma=0.0001, kernel=rbf, total=   0.0s\n",
      "[CV] C=0.1, gamma=0.0001, kernel=rbf .................................\n",
      "[CV] .................. C=0.1, gamma=0.0001, kernel=rbf, total=   0.0s\n",
      "[CV] C=0.1, gamma=0.0001, kernel=rbf .................................\n",
      "[CV] .................. C=0.1, gamma=0.0001, kernel=rbf, total=   0.0s\n",
      "[CV] C=0.1, gamma=0.0001, kernel=linear ..............................\n",
      "[CV] ............... C=0.1, gamma=0.0001, kernel=linear, total=   0.1s\n",
      "[CV] C=0.1, gamma=0.0001, kernel=linear ..............................\n",
      "[CV] ............... C=0.1, gamma=0.0001, kernel=linear, total=   0.1s\n",
      "[CV] C=0.1, gamma=0.0001, kernel=linear ..............................\n",
      "[CV] ............... C=0.1, gamma=0.0001, kernel=linear, total=   0.1s\n",
      "[CV] C=0.1, gamma=0.0001, kernel=linear ..............................\n",
      "[CV] ............... C=0.1, gamma=0.0001, kernel=linear, total=   0.1s\n",
      "[CV] C=0.1, gamma=0.0001, kernel=sigmoid .............................\n",
      "[CV] .............. C=0.1, gamma=0.0001, kernel=sigmoid, total=   0.0s\n",
      "[CV] C=0.1, gamma=0.0001, kernel=sigmoid .............................\n",
      "[CV] .............. C=0.1, gamma=0.0001, kernel=sigmoid, total=   0.0s\n",
      "[CV] C=0.1, gamma=0.0001, kernel=sigmoid .............................\n",
      "[CV] .............. C=0.1, gamma=0.0001, kernel=sigmoid, total=   0.0s\n",
      "[CV] C=0.1, gamma=0.0001, kernel=sigmoid .............................\n",
      "[CV] .............. C=0.1, gamma=0.0001, kernel=sigmoid, total=   0.0s\n",
      "[CV] C=1, gamma=0.1, kernel=sigmoid ..................................\n",
      "[CV] ................... C=1, gamma=0.1, kernel=sigmoid, total=   0.0s\n",
      "[CV] C=1, gamma=0.1, kernel=sigmoid ..................................\n",
      "[CV] ................... C=1, gamma=0.1, kernel=sigmoid, total=   0.0s\n",
      "[CV] C=1, gamma=0.01, kernel=rbf .....................................\n",
      "[CV] ...................... C=1, gamma=0.01, kernel=rbf, total=   0.0s\n",
      "[CV] C=1, gamma=0.01, kernel=rbf .....................................\n",
      "[CV] ...................... C=1, gamma=0.01, kernel=rbf, total=   0.0s\n",
      "[CV] C=1, gamma=0.01, kernel=rbf .....................................\n",
      "[CV] ...................... C=1, gamma=0.01, kernel=rbf, total=   0.0s\n",
      "[CV] C=1, gamma=0.01, kernel=rbf .....................................\n",
      "[CV] ...................... C=1, gamma=0.01, kernel=rbf, total=   0.0s\n",
      "[CV] C=1, gamma=0.01, kernel=rbf .....................................\n",
      "[CV] ...................... C=1, gamma=0.01, kernel=rbf, total=   0.0s\n",
      "[CV] C=1, gamma=0.01, kernel=rbf .....................................\n",
      "[CV] ...................... C=1, gamma=0.01, kernel=rbf, total=   0.0s\n",
      "[CV] C=1, gamma=0.01, kernel=rbf .....................................\n",
      "[CV] ...................... C=1, gamma=0.01, kernel=rbf, total=   0.0s\n",
      "[CV] C=1, gamma=0.01, kernel=rbf .....................................\n",
      "[CV] ...................... C=1, gamma=0.01, kernel=rbf, total=   0.0s\n",
      "[CV] C=1, gamma=0.01, kernel=rbf .....................................\n",
      "[CV] ...................... C=1, gamma=0.01, kernel=rbf, total=   0.0s\n",
      "[CV] C=1, gamma=0.01, kernel=rbf .....................................\n",
      "[CV] ...................... C=1, gamma=0.01, kernel=rbf, total=   0.0s[CV] C=0.1, gamma=1, kernel=rbf ......................................\n",
      "[CV] ....................... C=0.1, gamma=1, kernel=rbf, total=   0.0s\n",
      "[CV] C=0.1, gamma=1, kernel=rbf ......................................\n",
      "[CV] ....................... C=0.1, gamma=1, kernel=rbf, total=   0.0s\n",
      "[CV] C=0.1, gamma=1, kernel=rbf ......................................\n",
      "[CV] ....................... C=0.1, gamma=1, kernel=rbf, total=   0.0s\n",
      "[CV] C=0.1, gamma=1, kernel=rbf ......................................\n",
      "[CV] ....................... C=0.1, gamma=1, kernel=rbf, total=   0.0s\n",
      "[CV] C=0.1, gamma=1, kernel=rbf ......................................\n",
      "[CV] ....................... C=0.1, gamma=1, kernel=rbf, total=   0.0s\n",
      "[CV] C=0.1, gamma=1, kernel=linear ...................................\n",
      "[CV] .................... C=0.1, gamma=1, kernel=linear, total=   0.1s\n",
      "[CV] C=0.1, gamma=1, kernel=linear ...................................\n",
      "[CV] .................... C=0.1, gamma=1, kernel=linear, total=   0.1s\n",
      "[CV] C=0.1, gamma=1, kernel=linear ...................................\n",
      "[CV] .................... C=0.1, gamma=1, kernel=linear, total=   0.1s\n",
      "[CV] C=0.1, gamma=1, kernel=sigmoid ..................................\n",
      "[CV] ................... C=0.1, gamma=1, kernel=sigmoid, total=   0.0s\n",
      "[CV] C=0.1, gamma=0.1, kernel=rbf ....................................\n",
      "[CV] ..................... C=0.1, gamma=0.1, kernel=rbf, total=   0.0s\n",
      "[CV] C=0.1, gamma=0.1, kernel=rbf ....................................\n",
      "[CV] ..................... C=0.1, gamma=0.1, kernel=rbf, total=   0.0s\n",
      "[CV] C=0.1, gamma=0.1, kernel=rbf ....................................\n",
      "[CV] ..................... C=0.1, gamma=0.1, kernel=rbf, total=   0.0s\n",
      "[CV] C=0.1, gamma=0.1, kernel=linear .................................\n",
      "[CV] .................. C=0.1, gamma=0.1, kernel=linear, total=   0.1s\n",
      "[CV] C=0.1, gamma=0.1, kernel=linear .................................\n",
      "[CV] .................. C=0.1, gamma=0.1, kernel=linear, total=   0.1s\n",
      "[CV] C=0.1, gamma=0.1, kernel=linear .................................\n",
      "[CV] .................. C=0.1, gamma=0.1, kernel=linear, total=   0.1s\n",
      "[CV] C=0.1, gamma=0.1, kernel=linear .................................\n",
      "[CV] .................. C=0.1, gamma=0.1, kernel=linear, total=   0.1s\n",
      "[CV] C=0.1, gamma=0.1, kernel=sigmoid ................................\n",
      "[CV] ................. C=0.1, gamma=0.1, kernel=sigmoid, total=   0.0s\n",
      "[CV] C=0.1, gamma=0.1, kernel=sigmoid ................................\n",
      "[CV] ................. C=0.1, gamma=0.1, kernel=sigmoid, total=   0.0s\n",
      "[CV] C=0.1, gamma=0.01, kernel=sigmoid ...............................\n",
      "[CV] ................ C=0.1, gamma=0.01, kernel=sigmoid, total=   0.0s\n",
      "[CV] C=0.1, gamma=0.01, kernel=sigmoid ...............................\n",
      "[CV] ................ C=0.1, gamma=0.01, kernel=sigmoid, total=   0.0s\n",
      "[CV] C=0.1, gamma=0.01, kernel=sigmoid ...............................\n",
      "[CV] ................ C=0.1, gamma=0.01, kernel=sigmoid, total=   0.0s\n",
      "[CV] C=0.1, gamma=0.01, kernel=sigmoid ...............................\n",
      "[CV] ................ C=0.1, gamma=0.01, kernel=sigmoid, total=   0.0s\n",
      "[CV] C=0.1, gamma=0.01, kernel=sigmoid ...............................\n",
      "[CV] ................ C=0.1, gamma=0.01, kernel=sigmoid, total=   0.0s\n",
      "[CV] C=0.1, gamma=0.01, kernel=sigmoid ...............................\n",
      "[CV] ................ C=0.1, gamma=0.01, kernel=sigmoid, total=   0.0s\n",
      "[CV] C=0.1, gamma=0.01, kernel=sigmoid ...............................\n",
      "[CV] ................ C=0.1, gamma=0.01, kernel=sigmoid, total=   0.0s\n",
      "[CV] C=0.1, gamma=0.01, kernel=sigmoid ...............................\n",
      "[CV] ................ C=0.1, gamma=0.01, kernel=sigmoid, total=   0.0s\n",
      "[CV] C=0.1, gamma=0.001, kernel=rbf ..................................\n",
      "[CV] ................... C=0.1, gamma=0.001, kernel=rbf, total=   0.0s\n",
      "[CV] C=0.1, gamma=0.001, kernel=rbf ..................................\n",
      "[CV] ................... C=0.1, gamma=0.001, kernel=rbf, total=   0.0s\n",
      "[CV] C=0.1, gamma=0.001, kernel=rbf ..................................\n",
      "[CV] ................... C=0.1, gamma=0.001, kernel=rbf, total=   0.0s\n",
      "[CV] C=0.1, gamma=0.001, kernel=rbf ..................................\n",
      "[CV] ................... C=0.1, gamma=0.001, kernel=rbf, total=   0.0s\n",
      "[CV] C=0.1, gamma=0.001, kernel=linear ...............................\n",
      "[CV] ................ C=0.1, gamma=0.001, kernel=linear, total=   0.1s\n",
      "[CV] C=0.1, gamma=0.001, kernel=linear ...............................\n",
      "[CV] ................ C=0.1, gamma=0.001, kernel=linear, total=   0.1s\n",
      "[CV] C=0.1, gamma=0.001, kernel=linear ...............................\n",
      "[CV] ................ C=0.1, gamma=0.001, kernel=linear, total=   0.0s\n",
      "[CV] C=0.1, gamma=0.001, kernel=linear ...............................\n",
      "[CV] ................ C=0.1, gamma=0.001, kernel=linear, total=   0.1s\n",
      "[CV] C=0.1, gamma=0.0001, kernel=sigmoid .............................\n",
      "[CV] .............. C=0.1, gamma=0.0001, kernel=sigmoid, total=   0.0s\n",
      "[CV] C=0.1, gamma=0.0001, kernel=sigmoid .............................\n",
      "[CV] .............. C=0.1, gamma=0.0001, kernel=sigmoid, total=   0.0s\n",
      "[CV] C=0.1, gamma=0.0001, kernel=sigmoid .............................\n",
      "[CV] .............. C=0.1, gamma=0.0001, kernel=sigmoid, total=   0.0s\n",
      "[CV] C=0.1, gamma=0.0001, kernel=sigmoid .............................\n",
      "[CV] .............. C=0.1, gamma=0.0001, kernel=sigmoid, total=   0.0s\n",
      "[CV] C=0.1, gamma=0.0001, kernel=sigmoid .............................\n",
      "[CV] .............. C=0.1, gamma=0.0001, kernel=sigmoid, total=   0.0s\n",
      "[CV] C=0.1, gamma=0.0001, kernel=sigmoid .............................\n",
      "[CV] .............. C=0.1, gamma=0.0001, kernel=sigmoid, total=   0.0s\n",
      "[CV] C=1, gamma=1, kernel=rbf ........................................\n",
      "[CV] ......................... C=1, gamma=1, kernel=rbf, total=   0.0s\n",
      "[CV] C=1, gamma=1, kernel=rbf ........................................\n",
      "[CV] ......................... C=1, gamma=1, kernel=rbf, total=   0.0s\n",
      "[CV] C=1, gamma=1, kernel=rbf ........................................\n",
      "[CV] ......................... C=1, gamma=1, kernel=rbf, total=   0.0s\n",
      "[CV] C=1, gamma=1, kernel=rbf ........................................\n",
      "[CV] ......................... C=1, gamma=1, kernel=rbf, total=   0.0s\n",
      "[CV] C=1, gamma=1, kernel=rbf ........................................\n",
      "[CV] ......................... C=1, gamma=1, kernel=rbf, total=   0.0s\n",
      "[CV] C=1, gamma=1, kernel=rbf ........................................\n",
      "[CV] ......................... C=1, gamma=1, kernel=rbf, total=   0.0s\n",
      "[CV] C=1, gamma=1, kernel=rbf ........................................\n",
      "[CV] ......................... C=1, gamma=1, kernel=rbf, total=   0.0s\n",
      "[CV] C=1, gamma=1, kernel=rbf ........................................\n",
      "[CV] ......................... C=1, gamma=1, kernel=rbf, total=   0.0s\n",
      "[CV] C=1, gamma=1, kernel=rbf ........................................\n",
      "[CV] ......................... C=1, gamma=1, kernel=rbf, total=   0.0s\n",
      "[CV] C=1, gamma=1, kernel=rbf ........................................\n",
      "[CV] ......................... C=1, gamma=1, kernel=rbf, total=   0.0s\n",
      "[CV] C=1, gamma=1, kernel=linear .....................................\n",
      "[CV] ...................... C=1, gamma=1, kernel=linear, total=   0.9s\n",
      "[CV] C=1, gamma=1, kernel=linear .....................................\n",
      "[CV] ...................... C=1, gamma=1, kernel=linear, total=   0.9s\n",
      "[CV] C=1, gamma=1, kernel=linear .....................................\n",
      "[CV] ...................... C=1, gamma=1, kernel=linear, total=   0.6s\n",
      "[CV] C=1, gamma=1, kernel=linear .....................................\n",
      "[CV] ...................... C=1, gamma=1, kernel=linear, total=   1.1s\n",
      "[CV] C=1, gamma=1, kernel=linear .....................................\n",
      "[CV] ...................... C=1, gamma=1, kernel=linear, total=   0.2s\n",
      "[CV] C=1, gamma=1, kernel=linear .....................................\n",
      "[CV] ...................... C=1, gamma=1, kernel=linear, total=   0.5s\n",
      "[CV] C=1, gamma=1, kernel=linear .....................................\n",
      "[CV] ...................... C=1, gamma=1, kernel=linear, total=   0.8s\n",
      "[CV] C=1, gamma=1, kernel=linear .....................................\n",
      "[CV] ...................... C=1, gamma=1, kernel=linear, total=   0.8s[CV] C=0.1, gamma=1, kernel=rbf ......................................\n",
      "[CV] ....................... C=0.1, gamma=1, kernel=rbf, total=   0.0s\n",
      "[CV] C=0.1, gamma=1, kernel=rbf ......................................\n",
      "[CV] ....................... C=0.1, gamma=1, kernel=rbf, total=   0.0s\n",
      "[CV] C=0.1, gamma=1, kernel=rbf ......................................\n",
      "[CV] ....................... C=0.1, gamma=1, kernel=rbf, total=   0.0s\n",
      "[CV] C=0.1, gamma=1, kernel=linear ...................................\n",
      "[CV] .................... C=0.1, gamma=1, kernel=linear, total=   0.0s\n",
      "[CV] C=0.1, gamma=1, kernel=linear ...................................\n",
      "[CV] .................... C=0.1, gamma=1, kernel=linear, total=   0.1s\n",
      "[CV] C=0.1, gamma=1, kernel=linear ...................................\n",
      "[CV] .................... C=0.1, gamma=1, kernel=linear, total=   0.1s\n",
      "[CV] C=0.1, gamma=1, kernel=sigmoid ..................................\n",
      "[CV] ................... C=0.1, gamma=1, kernel=sigmoid, total=   0.0s\n",
      "[CV] C=0.1, gamma=1, kernel=sigmoid ..................................\n",
      "[CV] ................... C=0.1, gamma=1, kernel=sigmoid, total=   0.0s\n",
      "[CV] C=0.1, gamma=1, kernel=sigmoid ..................................\n",
      "[CV] ................... C=0.1, gamma=1, kernel=sigmoid, total=   0.0s\n",
      "[CV] C=0.1, gamma=0.1, kernel=rbf ....................................\n",
      "[CV] ..................... C=0.1, gamma=0.1, kernel=rbf, total=   0.0s\n",
      "[CV] C=0.1, gamma=0.1, kernel=rbf ....................................\n",
      "[CV] ..................... C=0.1, gamma=0.1, kernel=rbf, total=   0.0s\n",
      "[CV] C=0.1, gamma=0.1, kernel=linear .................................\n",
      "[CV] .................. C=0.1, gamma=0.1, kernel=linear, total=   0.0s\n",
      "[CV] C=0.1, gamma=0.1, kernel=linear .................................\n",
      "[CV] .................. C=0.1, gamma=0.1, kernel=linear, total=   0.1s\n",
      "[CV] C=0.1, gamma=0.1, kernel=sigmoid ................................\n",
      "[CV] ................. C=0.1, gamma=0.1, kernel=sigmoid, total=   0.0s\n",
      "[CV] C=0.1, gamma=0.1, kernel=sigmoid ................................\n",
      "[CV] ................. C=0.1, gamma=0.1, kernel=sigmoid, total=   0.0s\n",
      "[CV] C=0.1, gamma=0.1, kernel=sigmoid ................................\n",
      "[CV] ................. C=0.1, gamma=0.1, kernel=sigmoid, total=   0.0s\n",
      "[CV] C=0.1, gamma=0.1, kernel=sigmoid ................................\n",
      "[CV] ................. C=0.1, gamma=0.1, kernel=sigmoid, total=   0.0s\n",
      "[CV] C=0.1, gamma=0.01, kernel=rbf ...................................\n",
      "[CV] .................... C=0.1, gamma=0.01, kernel=rbf, total=   0.0s\n",
      "[CV] C=0.1, gamma=0.01, kernel=rbf ...................................\n",
      "[CV] .................... C=0.1, gamma=0.01, kernel=rbf, total=   0.0s\n",
      "[CV] C=0.1, gamma=0.01, kernel=rbf ...................................\n",
      "[CV] .................... C=0.1, gamma=0.01, kernel=rbf, total=   0.0s\n",
      "[CV] C=0.1, gamma=0.01, kernel=rbf ...................................\n",
      "[CV] .................... C=0.1, gamma=0.01, kernel=rbf, total=   0.0s\n",
      "[CV] C=0.1, gamma=0.01, kernel=linear ................................\n",
      "[CV] ................. C=0.1, gamma=0.01, kernel=linear, total=   0.0s\n",
      "[CV] C=0.1, gamma=0.01, kernel=linear ................................\n",
      "[CV] ................. C=0.1, gamma=0.01, kernel=linear, total=   0.1s\n",
      "[CV] C=0.1, gamma=0.01, kernel=linear ................................\n",
      "[CV] ................. C=0.1, gamma=0.01, kernel=linear, total=   0.0s\n",
      "[CV] C=0.1, gamma=0.01, kernel=linear ................................\n",
      "[CV] ................. C=0.1, gamma=0.01, kernel=linear, total=   0.1s\n",
      "[CV] C=0.1, gamma=0.001, kernel=linear ...............................\n",
      "[CV] ................ C=0.1, gamma=0.001, kernel=linear, total=   0.0s\n",
      "[CV] C=0.1, gamma=0.001, kernel=linear ...............................\n",
      "[CV] ................ C=0.1, gamma=0.001, kernel=linear, total=   0.1s\n",
      "[CV] C=0.1, gamma=0.001, kernel=linear ...............................\n",
      "[CV] ................ C=0.1, gamma=0.001, kernel=linear, total=   0.1s\n",
      "[CV] C=0.1, gamma=0.001, kernel=linear ...............................\n",
      "[CV] ................ C=0.1, gamma=0.001, kernel=linear, total=   0.1s\n",
      "[CV] C=0.1, gamma=0.001, kernel=linear ...............................\n",
      "[CV] ................ C=0.1, gamma=0.001, kernel=linear, total=   0.1s\n",
      "[CV] C=0.1, gamma=0.001, kernel=linear ...............................\n",
      "[CV] ................ C=0.1, gamma=0.001, kernel=linear, total=   0.1s\n",
      "[CV] C=0.1, gamma=0.001, kernel=sigmoid ..............................\n",
      "[CV] ............... C=0.1, gamma=0.001, kernel=sigmoid, total=   0.0s\n",
      "[CV] C=0.1, gamma=0.001, kernel=sigmoid ..............................\n",
      "[CV] ............... C=0.1, gamma=0.001, kernel=sigmoid, total=   0.0s\n",
      "[CV] C=1, gamma=1, kernel=sigmoid ....................................\n",
      "[CV] ..................... C=1, gamma=1, kernel=sigmoid, total=   0.0s\n",
      "[CV] C=1, gamma=1, kernel=sigmoid ....................................\n",
      "[CV] ..................... C=1, gamma=1, kernel=sigmoid, total=   0.0s\n",
      "[CV] C=1, gamma=1, kernel=sigmoid ....................................\n",
      "[CV] ..................... C=1, gamma=1, kernel=sigmoid, total=   0.0s\n",
      "[CV] C=1, gamma=1, kernel=sigmoid ....................................\n",
      "[CV] ..................... C=1, gamma=1, kernel=sigmoid, total=   0.0s\n",
      "[CV] C=1, gamma=0.1, kernel=rbf ......................................\n",
      "[CV] ....................... C=1, gamma=0.1, kernel=rbf, total=   0.0s\n",
      "[CV] C=1, gamma=0.1, kernel=rbf ......................................\n",
      "[CV] ....................... C=1, gamma=0.1, kernel=rbf, total=   0.0s\n",
      "[CV] C=1, gamma=0.1, kernel=rbf ......................................\n",
      "[CV] ....................... C=1, gamma=0.1, kernel=rbf, total=   0.0s\n",
      "[CV] C=1, gamma=0.1, kernel=rbf ......................................\n",
      "[CV] ....................... C=1, gamma=0.1, kernel=rbf, total=   0.0s\n",
      "[CV] C=1, gamma=0.1, kernel=rbf ......................................\n",
      "[CV] ....................... C=1, gamma=0.1, kernel=rbf, total=   0.0s\n",
      "[CV] C=1, gamma=0.1, kernel=rbf ......................................\n",
      "[CV] ....................... C=1, gamma=0.1, kernel=rbf, total=   0.0s\n",
      "[CV] C=1, gamma=0.1, kernel=rbf ......................................\n",
      "[CV] ....................... C=1, gamma=0.1, kernel=rbf, total=   0.0s\n",
      "[CV] C=1, gamma=0.1, kernel=rbf ......................................\n",
      "[CV] ....................... C=1, gamma=0.1, kernel=rbf, total=   0.0s\n",
      "[CV] C=1, gamma=0.1, kernel=rbf ......................................\n",
      "[CV] ....................... C=1, gamma=0.1, kernel=rbf, total=   0.0s\n",
      "[CV] C=1, gamma=0.1, kernel=rbf ......................................\n",
      "[CV] ....................... C=1, gamma=0.1, kernel=rbf, total=   0.0s\n",
      "[CV] C=1, gamma=0.1, kernel=linear ...................................\n",
      "[CV] .................... C=1, gamma=0.1, kernel=linear, total=   0.9s\n",
      "[CV] C=1, gamma=0.1, kernel=linear ...................................\n",
      "[CV] .................... C=1, gamma=0.1, kernel=linear, total=   0.9s\n",
      "[CV] C=1, gamma=0.01, kernel=linear ..................................\n",
      "[CV] ................... C=1, gamma=0.01, kernel=linear, total=   0.2s\n",
      "[CV] C=1, gamma=0.01, kernel=linear ..................................\n",
      "[CV] ................... C=1, gamma=0.01, kernel=linear, total=   0.5s\n",
      "[CV] C=1, gamma=0.01, kernel=linear ..................................\n",
      "[CV] ................... C=1, gamma=0.01, kernel=linear, total=   0.8s\n",
      "[CV] C=1, gamma=0.01, kernel=linear ..................................\n",
      "[CV] ................... C=1, gamma=0.01, kernel=linear, total=   0.8s\n",
      "[CV] C=1, gamma=0.01, kernel=linear ..................................\n",
      "[CV] ................... C=1, gamma=0.01, kernel=linear, total=   1.1s\n",
      "[CV] C=1, gamma=0.01, kernel=linear ..................................\n",
      "[CV] ................... C=1, gamma=0.01, kernel=linear, total=   0.5s\n",
      "[CV] C=1, gamma=0.01, kernel=sigmoid .................................\n",
      "[CV] .................. C=1, gamma=0.01, kernel=sigmoid, total=   0.0s\n",
      "[CV] C=1, gamma=0.01, kernel=sigmoid .................................\n",
      "[CV] .................. C=1, gamma=0.01, kernel=sigmoid, total=   0.0s\n",
      "[CV] C=1, gamma=0.01, kernel=sigmoid .................................\n",
      "[CV] .................. C=1, gamma=0.01, kernel=sigmoid, total=   0.0s[CV] C=0.1, gamma=1, kernel=rbf ......................................\n",
      "[CV] ....................... C=0.1, gamma=1, kernel=rbf, total=   0.0s\n",
      "[CV] C=0.1, gamma=1, kernel=linear ...................................\n",
      "[CV] .................... C=0.1, gamma=1, kernel=linear, total=   0.1s\n",
      "[CV] C=0.1, gamma=1, kernel=linear ...................................\n",
      "[CV] .................... C=0.1, gamma=1, kernel=linear, total=   0.0s\n",
      "[CV] C=0.1, gamma=1, kernel=linear ...................................\n",
      "[CV] .................... C=0.1, gamma=1, kernel=linear, total=   0.1s\n",
      "[CV] C=0.1, gamma=1, kernel=sigmoid ..................................\n",
      "[CV] ................... C=0.1, gamma=1, kernel=sigmoid, total=   0.0s\n",
      "[CV] C=0.1, gamma=1, kernel=sigmoid ..................................\n",
      "[CV] ................... C=0.1, gamma=1, kernel=sigmoid, total=   0.0s\n",
      "[CV] C=0.1, gamma=1, kernel=sigmoid ..................................\n",
      "[CV] ................... C=0.1, gamma=1, kernel=sigmoid, total=   0.0s\n",
      "[CV] C=0.1, gamma=0.1, kernel=rbf ....................................\n",
      "[CV] ..................... C=0.1, gamma=0.1, kernel=rbf, total=   0.0s\n",
      "[CV] C=0.1, gamma=0.1, kernel=rbf ....................................\n",
      "[CV] ..................... C=0.1, gamma=0.1, kernel=rbf, total=   0.0s\n",
      "[CV] C=0.1, gamma=0.1, kernel=linear .................................\n",
      "[CV] .................. C=0.1, gamma=0.1, kernel=linear, total=   0.1s\n",
      "[CV] C=0.1, gamma=0.1, kernel=linear .................................\n",
      "[CV] .................. C=0.1, gamma=0.1, kernel=linear, total=   0.1s\n",
      "[CV] C=0.1, gamma=0.1, kernel=sigmoid ................................\n",
      "[CV] ................. C=0.1, gamma=0.1, kernel=sigmoid, total=   0.0s\n",
      "[CV] C=0.1, gamma=0.1, kernel=sigmoid ................................\n",
      "[CV] ................. C=0.1, gamma=0.1, kernel=sigmoid, total=   0.0s\n",
      "[CV] C=0.1, gamma=0.1, kernel=sigmoid ................................\n",
      "[CV] ................. C=0.1, gamma=0.1, kernel=sigmoid, total=   0.0s\n",
      "[CV] C=0.1, gamma=0.1, kernel=sigmoid ................................\n",
      "[CV] ................. C=0.1, gamma=0.1, kernel=sigmoid, total=   0.0s\n",
      "[CV] C=0.1, gamma=0.01, kernel=rbf ...................................\n",
      "[CV] .................... C=0.1, gamma=0.01, kernel=rbf, total=   0.0s\n",
      "[CV] C=0.1, gamma=0.01, kernel=rbf ...................................\n",
      "[CV] .................... C=0.1, gamma=0.01, kernel=rbf, total=   0.0s\n",
      "[CV] C=0.1, gamma=0.01, kernel=rbf ...................................\n",
      "[CV] .................... C=0.1, gamma=0.01, kernel=rbf, total=   0.0s\n",
      "[CV] C=0.1, gamma=0.01, kernel=rbf ...................................\n",
      "[CV] .................... C=0.1, gamma=0.01, kernel=rbf, total=   0.0s\n",
      "[CV] C=0.1, gamma=0.01, kernel=linear ................................\n",
      "[CV] ................. C=0.1, gamma=0.01, kernel=linear, total=   0.1s\n",
      "[CV] C=0.1, gamma=0.01, kernel=linear ................................\n",
      "[CV] ................. C=0.1, gamma=0.01, kernel=linear, total=   0.1s\n",
      "[CV] C=0.1, gamma=0.01, kernel=linear ................................\n",
      "[CV] ................. C=0.1, gamma=0.01, kernel=linear, total=   0.1s\n",
      "[CV] C=0.1, gamma=0.01, kernel=linear ................................\n",
      "[CV] ................. C=0.1, gamma=0.01, kernel=linear, total=   0.1s\n",
      "[CV] C=0.1, gamma=0.0001, kernel=rbf .................................\n",
      "[CV] .................. C=0.1, gamma=0.0001, kernel=rbf, total=   0.0s\n",
      "[CV] C=0.1, gamma=0.0001, kernel=rbf .................................\n",
      "[CV] .................. C=0.1, gamma=0.0001, kernel=rbf, total=   0.0s\n",
      "[CV] C=0.1, gamma=0.0001, kernel=linear ..............................\n",
      "[CV] ............... C=0.1, gamma=0.0001, kernel=linear, total=   0.1s\n",
      "[CV] C=0.1, gamma=0.0001, kernel=linear ..............................\n",
      "[CV] ............... C=0.1, gamma=0.0001, kernel=linear, total=   0.0s\n",
      "[CV] C=0.1, gamma=0.0001, kernel=linear ..............................\n",
      "[CV] ............... C=0.1, gamma=0.0001, kernel=linear, total=   0.0s\n",
      "[CV] C=0.1, gamma=0.0001, kernel=linear ..............................\n",
      "[CV] ............... C=0.1, gamma=0.0001, kernel=linear, total=   0.1s\n",
      "[CV] C=0.1, gamma=0.0001, kernel=linear ..............................\n",
      "[CV] ............... C=0.1, gamma=0.0001, kernel=linear, total=   0.0s\n",
      "[CV] C=0.1, gamma=0.0001, kernel=linear ..............................\n",
      "[CV] ............... C=0.1, gamma=0.0001, kernel=linear, total=   0.1s\n",
      "[CV] C=1, gamma=0.1, kernel=linear ...................................\n",
      "[CV] .................... C=1, gamma=0.1, kernel=linear, total=   0.6s\n",
      "[CV] C=1, gamma=0.1, kernel=linear ...................................\n",
      "[CV] .................... C=1, gamma=0.1, kernel=linear, total=   1.1s\n",
      "[CV] C=1, gamma=0.1, kernel=linear ...................................\n",
      "[CV] .................... C=1, gamma=0.1, kernel=linear, total=   0.2s\n",
      "[CV] C=1, gamma=0.1, kernel=linear ...................................\n",
      "[CV] .................... C=1, gamma=0.1, kernel=linear, total=   0.5s\n",
      "[CV] C=1, gamma=0.1, kernel=linear ...................................\n",
      "[CV] .................... C=1, gamma=0.1, kernel=linear, total=   0.8s\n",
      "[CV] C=1, gamma=0.1, kernel=linear ...................................\n",
      "[CV] .................... C=1, gamma=0.1, kernel=linear, total=   0.8s\n",
      "[CV] C=1, gamma=0.1, kernel=linear ...................................\n",
      "[CV] .................... C=1, gamma=0.1, kernel=linear, total=   1.1s\n",
      "[CV] C=1, gamma=0.1, kernel=linear ...................................\n",
      "[CV] .................... C=1, gamma=0.1, kernel=linear, total=   0.5s\n",
      "[CV] C=1, gamma=0.1, kernel=sigmoid ..................................\n",
      "[CV] ................... C=1, gamma=0.1, kernel=sigmoid, total=   0.0s\n",
      "[CV] C=1, gamma=0.1, kernel=sigmoid ..................................\n",
      "[CV] ................... C=1, gamma=0.1, kernel=sigmoid, total=   0.0s\n",
      "[CV] C=1, gamma=0.1, kernel=sigmoid ..................................\n",
      "[CV] ................... C=1, gamma=0.1, kernel=sigmoid, total=   0.0s\n",
      "[CV] C=1, gamma=0.1, kernel=sigmoid ..................................\n",
      "[CV] ................... C=1, gamma=0.1, kernel=sigmoid, total=   0.0s\n",
      "[CV] C=1, gamma=0.1, kernel=sigmoid ..................................\n",
      "[CV] ................... C=1, gamma=0.1, kernel=sigmoid, total=   0.0s\n",
      "[CV] C=1, gamma=0.1, kernel=sigmoid ..................................\n",
      "[CV] ................... C=1, gamma=0.1, kernel=sigmoid, total=   0.0s\n",
      "[CV] C=1, gamma=0.1, kernel=sigmoid ..................................\n",
      "[CV] ................... C=1, gamma=0.1, kernel=sigmoid, total=   0.0s\n",
      "[CV] C=1, gamma=0.1, kernel=sigmoid ..................................\n",
      "[CV] ................... C=1, gamma=0.1, kernel=sigmoid, total=   0.0s\n",
      "[CV] C=1, gamma=0.001, kernel=linear .................................\n",
      "[CV] .................. C=1, gamma=0.001, kernel=linear, total=   0.8s\n",
      "[CV] C=1, gamma=0.001, kernel=linear .................................\n",
      "[CV] .................. C=1, gamma=0.001, kernel=linear, total=   0.8s\n",
      "[CV] C=1, gamma=0.001, kernel=linear .................................\n",
      "[CV] .................. C=1, gamma=0.001, kernel=linear, total=   1.1s\n",
      "[CV] C=1, gamma=0.001, kernel=linear .................................\n",
      "[CV] .................. C=1, gamma=0.001, kernel=linear, total=   0.5s\n",
      "[CV] C=1, gamma=0.001, kernel=sigmoid ................................\n",
      "[CV] ................. C=1, gamma=0.001, kernel=sigmoid, total=   0.0s\n",
      "[CV] C=1, gamma=0.001, kernel=sigmoid ................................\n",
      "[CV] ................. C=1, gamma=0.001, kernel=sigmoid, total=   0.0s\n",
      "[CV] C=1, gamma=0.001, kernel=sigmoid ................................\n",
      "[CV] ................. C=1, gamma=0.001, kernel=sigmoid, total=   0.0s\n",
      "[CV] C=1, gamma=0.001, kernel=sigmoid ................................\n",
      "[CV] ................. C=1, gamma=0.001, kernel=sigmoid, total=   0.0s\n",
      "[CV] C=1, gamma=0.001, kernel=sigmoid ................................\n",
      "[CV] ................. C=1, gamma=0.001, kernel=sigmoid, total=   0.0s\n",
      "[CV] C=1, gamma=0.001, kernel=sigmoid ................................\n",
      "[CV] ................. C=1, gamma=0.001, kernel=sigmoid, total=   0.0s\n",
      "[CV] C=1, gamma=0.001, kernel=sigmoid ................................\n",
      "[CV] ................. C=1, gamma=0.001, kernel=sigmoid, total=   0.0s\n",
      "[CV] C=1, gamma=1, kernel=linear .....................................\n",
      "[CV] ...................... C=1, gamma=1, kernel=linear, total=   1.1s\n",
      "[CV] C=1, gamma=1, kernel=linear .....................................\n",
      "[CV] ...................... C=1, gamma=1, kernel=linear, total=   0.4s\n",
      "[CV] C=1, gamma=1, kernel=sigmoid ....................................\n",
      "[CV] ..................... C=1, gamma=1, kernel=sigmoid, total=   0.0s\n",
      "[CV] C=1, gamma=1, kernel=sigmoid ....................................\n",
      "[CV] ..................... C=1, gamma=1, kernel=sigmoid, total=   0.0s\n",
      "[CV] C=1, gamma=1, kernel=sigmoid ....................................\n",
      "[CV] ..................... C=1, gamma=1, kernel=sigmoid, total=   0.0s\n",
      "[CV] C=1, gamma=1, kernel=sigmoid ....................................\n",
      "[CV] ..................... C=1, gamma=1, kernel=sigmoid, total=   0.0s\n",
      "[CV] C=1, gamma=1, kernel=sigmoid ....................................\n",
      "[CV] ..................... C=1, gamma=1, kernel=sigmoid, total=   0.0s\n",
      "[CV] C=1, gamma=1, kernel=sigmoid ....................................\n",
      "[CV] ..................... C=1, gamma=1, kernel=sigmoid, total=   0.0s\n",
      "[CV] C=1, gamma=0.0001, kernel=linear ................................\n",
      "[CV] ................. C=1, gamma=0.0001, kernel=linear, total=   1.1s\n",
      "[CV] C=1, gamma=0.0001, kernel=linear ................................\n",
      "[CV] ................. C=1, gamma=0.0001, kernel=linear, total=   0.5s\n",
      "[CV] C=1, gamma=0.0001, kernel=sigmoid ...............................\n",
      "[CV] ................ C=1, gamma=0.0001, kernel=sigmoid, total=   0.0s\n",
      "[CV] C=1, gamma=0.0001, kernel=sigmoid ...............................\n",
      "[CV] ................ C=1, gamma=0.0001, kernel=sigmoid, total=   0.0s\n",
      "[CV] C=1, gamma=0.0001, kernel=sigmoid ...............................\n",
      "[CV] ................ C=1, gamma=0.0001, kernel=sigmoid, total=   0.0s\n",
      "[CV] C=1, gamma=0.0001, kernel=sigmoid ...............................\n",
      "[CV] ................ C=1, gamma=0.0001, kernel=sigmoid, total=   0.0s\n",
      "[CV] C=1, gamma=0.0001, kernel=sigmoid ...............................\n",
      "[CV] ................ C=1, gamma=0.0001, kernel=sigmoid, total=   0.0s\n",
      "[CV] C=1, gamma=0.0001, kernel=sigmoid ...............................\n",
      "[CV] ................ C=1, gamma=0.0001, kernel=sigmoid, total=   0.0s\n",
      "[CV] C=1, gamma=0.0001, kernel=sigmoid ...............................\n",
      "[CV] ................ C=1, gamma=0.0001, kernel=sigmoid, total=   0.0s\n",
      "[CV] C=1, gamma=0.0001, kernel=sigmoid ...............................\n",
      "[CV] ................ C=1, gamma=0.0001, kernel=sigmoid, total=   0.0s\n",
      "[CV] C=1, gamma=0.0001, kernel=sigmoid ...............................\n",
      "[CV] ................ C=1, gamma=0.0001, kernel=sigmoid, total=   0.0s\n",
      "[CV] C=1, gamma=0.0001, kernel=sigmoid ...............................\n",
      "[CV] ................ C=1, gamma=0.0001, kernel=sigmoid, total=   0.0s\n",
      "[CV] C=10, gamma=1, kernel=rbf .......................................\n",
      "[CV] ........................ C=10, gamma=1, kernel=rbf, total=   0.0s\n",
      "[CV] C=10, gamma=1, kernel=rbf .......................................\n",
      "[CV] ........................ C=10, gamma=1, kernel=rbf, total=   0.0s\n",
      "[CV] C=10, gamma=1, kernel=rbf .......................................\n",
      "[CV] ........................ C=10, gamma=1, kernel=rbf, total=   0.0s\n",
      "[CV] C=10, gamma=1, kernel=rbf .......................................\n",
      "[CV] ........................ C=10, gamma=1, kernel=rbf, total=   0.0s\n",
      "[CV] C=10, gamma=0.1, kernel=linear ..................................\n",
      "[CV] ................... C=10, gamma=0.1, kernel=linear, total=   9.9s\n",
      "[CV] C=10, gamma=0.1, kernel=linear ..................................\n",
      "[CV] ................... C=10, gamma=0.1, kernel=linear, total=   5.2s\n",
      "[CV] C=10, gamma=0.1, kernel=sigmoid .................................\n",
      "[CV] .................. C=10, gamma=0.1, kernel=sigmoid, total=   0.0s\n",
      "[CV] C=10, gamma=0.1, kernel=sigmoid .................................\n",
      "[CV] .................. C=10, gamma=0.1, kernel=sigmoid, total=   0.0s\n",
      "[CV] C=10, gamma=0.1, kernel=sigmoid .................................\n",
      "[CV] .................. C=10, gamma=0.1, kernel=sigmoid, total=   0.0s\n",
      "[CV] C=10, gamma=0.1, kernel=sigmoid .................................\n",
      "[CV] .................. C=10, gamma=0.1, kernel=sigmoid, total=   0.0s\n",
      "[CV] C=10, gamma=0.1, kernel=sigmoid .................................\n",
      "[CV] .................. C=10, gamma=0.1, kernel=sigmoid, total=   0.0s\n",
      "[CV] C=10, gamma=0.1, kernel=sigmoid .................................\n",
      "[CV] .................. C=10, gamma=0.1, kernel=sigmoid, total=   0.0s\n",
      "[CV] C=10, gamma=0.1, kernel=sigmoid .................................\n",
      "[CV] .................. C=10, gamma=0.1, kernel=sigmoid, total=   0.0s\n",
      "[CV] C=10, gamma=0.1, kernel=sigmoid .................................\n",
      "[CV] .................. C=10, gamma=0.1, kernel=sigmoid, total=   0.0s\n",
      "[CV] C=10, gamma=0.1, kernel=sigmoid .................................\n",
      "[CV] .................. C=10, gamma=0.1, kernel=sigmoid, total=   0.0s\n",
      "[CV] C=10, gamma=0.1, kernel=sigmoid .................................\n",
      "[CV] .................. C=10, gamma=0.1, kernel=sigmoid, total=   0.0s\n",
      "[CV] C=10, gamma=0.01, kernel=rbf ....................................\n",
      "[CV] ..................... C=10, gamma=0.01, kernel=rbf, total=   0.0s\n",
      "[CV] C=10, gamma=0.01, kernel=rbf ....................................\n",
      "[CV] ..................... C=10, gamma=0.01, kernel=rbf, total=   0.0s\n",
      "[CV] C=10, gamma=0.01, kernel=rbf ....................................\n",
      "[CV] ..................... C=10, gamma=0.01, kernel=rbf, total=   0.0s\n",
      "[CV] C=10, gamma=0.01, kernel=rbf ....................................\n",
      "[CV] ..................... C=10, gamma=0.01, kernel=rbf, total=   0.0s\n",
      "[CV] C=10, gamma=0.01, kernel=rbf ....................................\n",
      "[CV] ..................... C=10, gamma=0.01, kernel=rbf, total=   0.0s\n",
      "[CV] C=10, gamma=0.01, kernel=rbf ....................................\n",
      "[CV] ..................... C=10, gamma=0.01, kernel=rbf, total=   0.0s\n",
      "[CV] C=10, gamma=0.01, kernel=rbf ....................................\n",
      "[CV] ..................... C=10, gamma=0.01, kernel=rbf, total=   0.0s\n",
      "[CV] C=10, gamma=0.01, kernel=rbf ....................................\n",
      "[CV] ..................... C=10, gamma=0.01, kernel=rbf, total=   0.0s\n",
      "[CV] C=10, gamma=0.01, kernel=rbf ....................................\n",
      "[CV] ..................... C=10, gamma=0.01, kernel=rbf, total=   0.0s\n",
      "[CV] C=10, gamma=0.01, kernel=rbf ....................................\n",
      "[CV] ..................... C=10, gamma=0.01, kernel=rbf, total=   0.0s\n",
      "[CV] C=10, gamma=0.01, kernel=linear .................................\n",
      "[CV] .................. C=10, gamma=0.01, kernel=linear, total=   3.0s\n",
      "[CV] C=10, gamma=0.01, kernel=linear .................................\n",
      "[CV] .................. C=10, gamma=0.01, kernel=linear, total=   6.6s\n",
      "[CV] C=10, gamma=0.01, kernel=linear .................................\n",
      "[CV] .................. C=10, gamma=0.01, kernel=linear, total=   9.6s\n",
      "[CV] C=10, gamma=0.01, kernel=linear .................................\n",
      "[CV] .................. C=10, gamma=0.01, kernel=linear, total=   8.5s\n",
      "[CV] C=10, gamma=0.01, kernel=sigmoid ................................\n",
      "[CV] ................. C=10, gamma=0.01, kernel=sigmoid, total=   0.0s\n",
      "[CV] C=10, gamma=0.01, kernel=sigmoid ................................\n",
      "[CV] ................. C=10, gamma=0.01, kernel=sigmoid, total=   0.0s\n",
      "[CV] C=10, gamma=0.01, kernel=sigmoid ................................\n",
      "[CV] ................. C=10, gamma=0.01, kernel=sigmoid, total=   0.0s\n",
      "[CV] C=10, gamma=0.01, kernel=sigmoid ................................\n",
      "[CV] ................. C=10, gamma=0.01, kernel=sigmoid, total=   0.0s\n",
      "[CV] C=10, gamma=0.01, kernel=sigmoid ................................\n",
      "[CV] ................. C=10, gamma=0.01, kernel=sigmoid, total=   0.0s\n",
      "[CV] C=10, gamma=0.01, kernel=sigmoid ................................\n",
      "[CV] ................. C=10, gamma=0.01, kernel=sigmoid, total=   0.0s\n",
      "[CV] C=10, gamma=0.01, kernel=sigmoid ................................\n",
      "[CV] ................. C=10, gamma=0.01, kernel=sigmoid, total=   0.0s\n",
      "[CV] C=10, gamma=0.01, kernel=sigmoid ................................\n",
      "[CV] ................. C=10, gamma=0.01, kernel=sigmoid, total=   0.0s"
     ]
    },
    {
     "name": "stderr",
     "output_type": "stream",
     "text": [
      "[Parallel(n_jobs=-1)]: Done 430 tasks      | elapsed:  1.4min\n"
     ]
    },
    {
     "name": "stdout",
     "output_type": "stream",
     "text": [
      "\n",
      "[CV] C=1, gamma=0.01, kernel=linear ..................................\n",
      "[CV] ................... C=1, gamma=0.01, kernel=linear, total=   0.9s\n",
      "[CV] C=1, gamma=0.01, kernel=linear ..................................\n",
      "[CV] ................... C=1, gamma=0.01, kernel=linear, total=   0.9s\n",
      "[CV] C=1, gamma=0.01, kernel=linear ..................................\n",
      "[CV] ................... C=1, gamma=0.01, kernel=linear, total=   0.6s\n",
      "[CV] C=1, gamma=0.01, kernel=linear ..................................\n",
      "[CV] ................... C=1, gamma=0.01, kernel=linear, total=   1.1s\n",
      "[CV] C=1, gamma=0.001, kernel=rbf ....................................\n",
      "[CV] ..................... C=1, gamma=0.001, kernel=rbf, total=   0.0s\n",
      "[CV] C=1, gamma=0.001, kernel=rbf ....................................\n",
      "[CV] ..................... C=1, gamma=0.001, kernel=rbf, total=   0.0s\n",
      "[CV] C=1, gamma=0.001, kernel=rbf ....................................\n",
      "[CV] ..................... C=1, gamma=0.001, kernel=rbf, total=   0.0s\n",
      "[CV] C=1, gamma=0.001, kernel=rbf ....................................\n",
      "[CV] ..................... C=1, gamma=0.001, kernel=rbf, total=   0.0s\n",
      "[CV] C=1, gamma=0.001, kernel=rbf ....................................\n",
      "[CV] ..................... C=1, gamma=0.001, kernel=rbf, total=   0.0s\n",
      "[CV] C=1, gamma=0.001, kernel=rbf ....................................\n",
      "[CV] ..................... C=1, gamma=0.001, kernel=rbf, total=   0.0s\n",
      "[CV] C=1, gamma=0.001, kernel=rbf ....................................\n",
      "[CV] ..................... C=1, gamma=0.001, kernel=rbf, total=   0.0s\n",
      "[CV] C=1, gamma=0.001, kernel=rbf ....................................\n",
      "[CV] ..................... C=1, gamma=0.001, kernel=rbf, total=   0.0s\n",
      "[CV] C=1, gamma=0.001, kernel=rbf ....................................\n",
      "[CV] ..................... C=1, gamma=0.001, kernel=rbf, total=   0.0s\n",
      "[CV] C=1, gamma=0.001, kernel=rbf ....................................\n",
      "[CV] ..................... C=1, gamma=0.001, kernel=rbf, total=   0.0s\n",
      "[CV] C=1, gamma=0.001, kernel=linear .................................\n",
      "[CV] .................. C=1, gamma=0.001, kernel=linear, total=   1.0s\n",
      "[CV] C=1, gamma=0.001, kernel=linear .................................\n",
      "[CV] .................. C=1, gamma=0.001, kernel=linear, total=   0.9s\n",
      "[CV] C=1, gamma=0.001, kernel=linear .................................\n",
      "[CV] .................. C=1, gamma=0.001, kernel=linear, total=   0.7s\n",
      "[CV] C=1, gamma=0.001, kernel=linear .................................\n",
      "[CV] .................. C=1, gamma=0.001, kernel=linear, total=   1.1s\n",
      "[CV] C=1, gamma=0.001, kernel=linear .................................\n",
      "[CV] .................. C=1, gamma=0.001, kernel=linear, total=   0.2s\n",
      "[CV] C=1, gamma=0.001, kernel=linear .................................\n",
      "[CV] .................. C=1, gamma=0.001, kernel=linear, total=   0.5s\n",
      "[CV] C=10, gamma=1, kernel=rbf .......................................\n",
      "[CV] ........................ C=10, gamma=1, kernel=rbf, total=   0.0s\n",
      "[CV] C=10, gamma=1, kernel=rbf .......................................\n",
      "[CV] ........................ C=10, gamma=1, kernel=rbf, total=   0.0s\n",
      "[CV] C=10, gamma=1, kernel=rbf .......................................\n",
      "[CV] ........................ C=10, gamma=1, kernel=rbf, total=   0.0s\n",
      "[CV] C=10, gamma=1, kernel=rbf .......................................\n",
      "[CV] ........................ C=10, gamma=1, kernel=rbf, total=   0.0s\n",
      "[CV] C=10, gamma=1, kernel=rbf .......................................\n",
      "[CV] ........................ C=10, gamma=1, kernel=rbf, total=   0.0s\n",
      "[CV] C=10, gamma=1, kernel=rbf .......................................\n",
      "[CV] ........................ C=10, gamma=1, kernel=rbf, total=   0.0s\n",
      "[CV] C=10, gamma=1, kernel=linear ....................................\n",
      "[CV] ..................... C=10, gamma=1, kernel=linear, total=   3.1s\n",
      "[CV] C=10, gamma=1, kernel=linear ....................................\n",
      "[CV] ..................... C=10, gamma=1, kernel=linear, total=   7.0s\n",
      "[CV] C=10, gamma=1, kernel=linear ....................................\n",
      "[CV] ..................... C=10, gamma=1, kernel=linear, total=   9.6s\n",
      "[CV] C=10, gamma=1, kernel=linear ....................................\n",
      "[CV] ..................... C=10, gamma=1, kernel=linear, total=   5.2s\n",
      "[CV] C=10, gamma=1, kernel=linear ....................................\n",
      "[CV] ..................... C=10, gamma=1, kernel=linear, total=   2.6s\n",
      "[CV] C=10, gamma=1, kernel=linear ....................................\n",
      "[CV] ..................... C=10, gamma=1, kernel=linear, total=   6.4s\n",
      "[CV] C=10, gamma=1, kernel=linear ....................................\n",
      "[CV] ..................... C=10, gamma=1, kernel=linear, total=  10.7s\n",
      "[CV] C=10, gamma=1, kernel=linear ....................................\n",
      "[CV] ..................... C=10, gamma=1, kernel=linear, total=   8.1s\n",
      "[CV] C=10, gamma=1, kernel=linear ....................................\n",
      "[CV] ..................... C=10, gamma=1, kernel=linear, total=   5.9s\n",
      "[CV] C=10, gamma=1, kernel=linear ....................................\n",
      "[CV] ..................... C=10, gamma=1, kernel=linear, total=   8.2s\n",
      "[CV] C=10, gamma=0.0001, kernel=linear ...............................\n",
      "[CV] ................ C=10, gamma=0.0001, kernel=linear, total=  10.0s\n",
      "[CV] C=10, gamma=0.0001, kernel=linear ...............................\n",
      "[CV] ................ C=10, gamma=0.0001, kernel=linear, total=   5.9s\n",
      "[CV] C=10, gamma=0.0001, kernel=sigmoid ..............................\n",
      "[CV] ............... C=10, gamma=0.0001, kernel=sigmoid, total=   0.0s\n",
      "[CV] C=10, gamma=0.0001, kernel=sigmoid ..............................\n",
      "[CV] ............... C=10, gamma=0.0001, kernel=sigmoid, total=   0.0s\n",
      "[CV] C=10, gamma=0.0001, kernel=sigmoid ..............................\n",
      "[CV] ............... C=10, gamma=0.0001, kernel=sigmoid, total=   0.0s\n",
      "[CV] C=10, gamma=0.0001, kernel=sigmoid ..............................\n",
      "[CV] ............... C=10, gamma=0.0001, kernel=sigmoid, total=   0.0s\n",
      "[CV] C=10, gamma=0.0001, kernel=sigmoid ..............................\n",
      "[CV] ............... C=10, gamma=0.0001, kernel=sigmoid, total=   0.0s\n",
      "[CV] C=10, gamma=0.0001, kernel=sigmoid ..............................\n",
      "[CV] ............... C=10, gamma=0.0001, kernel=sigmoid, total=   0.0s\n",
      "[CV] C=10, gamma=0.0001, kernel=sigmoid ..............................\n",
      "[CV] ............... C=10, gamma=0.0001, kernel=sigmoid, total=   0.0s\n",
      "[CV] C=10, gamma=0.0001, kernel=sigmoid ..............................\n",
      "[CV] ............... C=10, gamma=0.0001, kernel=sigmoid, total=   0.0s\n",
      "[CV] C=10, gamma=0.0001, kernel=sigmoid ..............................\n",
      "[CV] ............... C=10, gamma=0.0001, kernel=sigmoid, total=   0.0s\n",
      "[CV] C=10, gamma=0.0001, kernel=sigmoid ..............................\n",
      "[CV] ............... C=10, gamma=0.0001, kernel=sigmoid, total=   0.0s\n",
      "[CV] C=100, gamma=1, kernel=rbf ......................................\n",
      "[CV] ....................... C=100, gamma=1, kernel=rbf, total=   0.0s\n",
      "[CV] C=100, gamma=1, kernel=rbf ......................................\n",
      "[CV] ....................... C=100, gamma=1, kernel=rbf, total=   0.0s\n",
      "[CV] C=100, gamma=1, kernel=rbf ......................................\n",
      "[CV] ....................... C=100, gamma=1, kernel=rbf, total=   0.0s\n",
      "[CV] C=100, gamma=1, kernel=rbf ......................................\n",
      "[CV] ....................... C=100, gamma=1, kernel=rbf, total=   0.0s\n",
      "[CV] C=100, gamma=1, kernel=rbf ......................................\n",
      "[CV] ....................... C=100, gamma=1, kernel=rbf, total=   0.0s\n",
      "[CV] C=100, gamma=1, kernel=rbf ......................................\n",
      "[CV] ....................... C=100, gamma=1, kernel=rbf, total=   0.0s\n",
      "[CV] C=100, gamma=1, kernel=rbf ......................................\n",
      "[CV] ....................... C=100, gamma=1, kernel=rbf, total=   0.0s\n",
      "[CV] C=100, gamma=1, kernel=rbf ......................................\n",
      "[CV] ....................... C=100, gamma=1, kernel=rbf, total=   0.0s\n",
      "[CV] C=100, gamma=1, kernel=rbf ......................................\n",
      "[CV] ....................... C=100, gamma=1, kernel=rbf, total=   0.0s\n",
      "[CV] C=100, gamma=1, kernel=rbf ......................................\n",
      "[CV] ....................... C=100, gamma=1, kernel=rbf, total=   0.0s\n",
      "[CV] C=1, gamma=0.01, kernel=sigmoid .................................\n",
      "[CV] .................. C=1, gamma=0.01, kernel=sigmoid, total=   0.0s\n",
      "[CV] C=1, gamma=0.01, kernel=sigmoid .................................\n",
      "[CV] .................. C=1, gamma=0.01, kernel=sigmoid, total=   0.0s\n",
      "[CV] C=1, gamma=0.01, kernel=sigmoid .................................\n",
      "[CV] .................. C=1, gamma=0.01, kernel=sigmoid, total=   0.0s\n",
      "[CV] C=1, gamma=0.01, kernel=sigmoid .................................\n",
      "[CV] .................. C=1, gamma=0.01, kernel=sigmoid, total=   0.0s\n",
      "[CV] C=1, gamma=0.01, kernel=sigmoid .................................\n",
      "[CV] .................. C=1, gamma=0.01, kernel=sigmoid, total=   0.0s\n",
      "[CV] C=1, gamma=0.01, kernel=sigmoid .................................\n",
      "[CV] .................. C=1, gamma=0.01, kernel=sigmoid, total=   0.0s\n",
      "[CV] C=1, gamma=0.01, kernel=sigmoid .................................\n",
      "[CV] .................. C=1, gamma=0.01, kernel=sigmoid, total=   0.0s\n",
      "[CV] C=1, gamma=0.0001, kernel=rbf ...................................\n",
      "[CV] .................... C=1, gamma=0.0001, kernel=rbf, total=   0.0s\n",
      "[CV] C=1, gamma=0.0001, kernel=rbf ...................................\n",
      "[CV] .................... C=1, gamma=0.0001, kernel=rbf, total=   0.0s\n",
      "[CV] C=1, gamma=0.0001, kernel=rbf ...................................\n",
      "[CV] .................... C=1, gamma=0.0001, kernel=rbf, total=   0.0s\n",
      "[CV] C=1, gamma=0.0001, kernel=rbf ...................................\n",
      "[CV] .................... C=1, gamma=0.0001, kernel=rbf, total=   0.0s\n",
      "[CV] C=1, gamma=0.0001, kernel=rbf ...................................\n",
      "[CV] .................... C=1, gamma=0.0001, kernel=rbf, total=   0.0s\n",
      "[CV] C=1, gamma=0.0001, kernel=rbf ...................................\n",
      "[CV] .................... C=1, gamma=0.0001, kernel=rbf, total=   0.0s\n",
      "[CV] C=1, gamma=0.0001, kernel=rbf ...................................\n",
      "[CV] .................... C=1, gamma=0.0001, kernel=rbf, total=   0.0s\n",
      "[CV] C=1, gamma=0.0001, kernel=rbf ...................................\n",
      "[CV] .................... C=1, gamma=0.0001, kernel=rbf, total=   0.0s\n",
      "[CV] C=1, gamma=0.0001, kernel=linear ................................\n",
      "[CV] ................. C=1, gamma=0.0001, kernel=linear, total=   1.0s\n",
      "[CV] C=1, gamma=0.0001, kernel=linear ................................\n",
      "[CV] ................. C=1, gamma=0.0001, kernel=linear, total=   0.9s\n",
      "[CV] C=1, gamma=0.0001, kernel=linear ................................\n",
      "[CV] ................. C=1, gamma=0.0001, kernel=linear, total=   0.6s\n",
      "[CV] C=1, gamma=0.0001, kernel=linear ................................\n",
      "[CV] ................. C=1, gamma=0.0001, kernel=linear, total=   1.1s\n",
      "[CV] C=1, gamma=0.0001, kernel=linear ................................\n",
      "[CV] ................. C=1, gamma=0.0001, kernel=linear, total=   0.2s\n",
      "[CV] C=1, gamma=0.0001, kernel=linear ................................\n",
      "[CV] ................. C=1, gamma=0.0001, kernel=linear, total=   0.5s\n",
      "[CV] C=1, gamma=0.0001, kernel=linear ................................\n",
      "[CV] ................. C=1, gamma=0.0001, kernel=linear, total=   0.8s\n",
      "[CV] C=1, gamma=0.0001, kernel=linear ................................\n",
      "[CV] ................. C=1, gamma=0.0001, kernel=linear, total=   0.8s\n",
      "[CV] C=10, gamma=0.1, kernel=linear ..................................\n",
      "[CV] ................... C=10, gamma=0.1, kernel=linear, total=   2.6s\n",
      "[CV] C=10, gamma=0.1, kernel=linear ..................................\n",
      "[CV] ................... C=10, gamma=0.1, kernel=linear, total=   6.7s\n",
      "[CV] C=10, gamma=0.1, kernel=linear ..................................\n",
      "[CV] ................... C=10, gamma=0.1, kernel=linear, total=   5.8s\n",
      "[CV] C=10, gamma=0.1, kernel=linear ..................................\n",
      "[CV] ................... C=10, gamma=0.1, kernel=linear, total=   8.3s\n",
      "[CV] C=10, gamma=0.01, kernel=linear .................................\n",
      "[CV] .................. C=10, gamma=0.01, kernel=linear, total=   5.2s\n",
      "[CV] C=10, gamma=0.01, kernel=linear .................................\n",
      "[CV] .................. C=10, gamma=0.01, kernel=linear, total=  10.6s\n",
      "[CV] C=10, gamma=0.01, kernel=linear .................................\n",
      "[CV] .................. C=10, gamma=0.01, kernel=linear, total=   8.2s\n",
      "[CV] C=10, gamma=0.001, kernel=linear ................................\n",
      "[CV] ................. C=10, gamma=0.001, kernel=linear, total=   2.6s\n",
      "[CV] C=10, gamma=0.001, kernel=linear ................................\n",
      "[CV] ................. C=10, gamma=0.001, kernel=linear, total=   6.4s\n",
      "[CV] C=10, gamma=0.001, kernel=linear ................................\n",
      "[CV] ................. C=10, gamma=0.001, kernel=linear, total=   5.8s\n",
      "[CV] C=10, gamma=0.001, kernel=sigmoid ...............................\n",
      "[CV] ................ C=10, gamma=0.001, kernel=sigmoid, total=   0.0s\n",
      "[CV] C=10, gamma=0.001, kernel=sigmoid ...............................\n",
      "[CV] ................ C=10, gamma=0.001, kernel=sigmoid, total=   0.0s\n",
      "[CV] C=10, gamma=0.001, kernel=sigmoid ...............................\n",
      "[CV] ................ C=10, gamma=0.001, kernel=sigmoid, total=   0.0s\n",
      "[CV] C=10, gamma=0.001, kernel=sigmoid ...............................\n",
      "[CV] ................ C=10, gamma=0.001, kernel=sigmoid, total=   0.0s\n",
      "[CV] C=10, gamma=0.001, kernel=sigmoid ...............................\n",
      "[CV] ................ C=10, gamma=0.001, kernel=sigmoid, total=   0.0s\n",
      "[CV] C=10, gamma=0.001, kernel=sigmoid ...............................\n",
      "[CV] ................ C=10, gamma=0.001, kernel=sigmoid, total=   0.0s\n",
      "[CV] C=10, gamma=0.001, kernel=sigmoid ...............................\n",
      "[CV] ................ C=10, gamma=0.001, kernel=sigmoid, total=   0.0s\n",
      "[CV] C=10, gamma=0.001, kernel=sigmoid ...............................\n",
      "[CV] ................ C=10, gamma=0.001, kernel=sigmoid, total=   0.0s\n",
      "[CV] C=10, gamma=0.001, kernel=sigmoid ...............................\n",
      "[CV] ................ C=10, gamma=0.001, kernel=sigmoid, total=   0.0s\n",
      "[CV] C=10, gamma=0.001, kernel=sigmoid ...............................\n",
      "[CV] ................ C=10, gamma=0.001, kernel=sigmoid, total=   0.0s\n",
      "[CV] C=10, gamma=0.0001, kernel=rbf ..................................\n",
      "[CV] ................... C=10, gamma=0.0001, kernel=rbf, total=   0.0s\n",
      "[CV] C=10, gamma=0.0001, kernel=rbf ..................................\n",
      "[CV] ................... C=10, gamma=0.0001, kernel=rbf, total=   0.0s\n",
      "[CV] C=10, gamma=0.0001, kernel=rbf ..................................\n",
      "[CV] ................... C=10, gamma=0.0001, kernel=rbf, total=   0.0s\n",
      "[CV] C=10, gamma=0.0001, kernel=rbf ..................................\n",
      "[CV] ................... C=10, gamma=0.0001, kernel=rbf, total=   0.0s\n",
      "[CV] C=10, gamma=0.0001, kernel=rbf ..................................\n",
      "[CV] ................... C=10, gamma=0.0001, kernel=rbf, total=   0.0s\n",
      "[CV] C=10, gamma=0.0001, kernel=rbf ..................................\n",
      "[CV] ................... C=10, gamma=0.0001, kernel=rbf, total=   0.0s\n",
      "[CV] C=10, gamma=0.0001, kernel=rbf ..................................\n",
      "[CV] ................... C=10, gamma=0.0001, kernel=rbf, total=   0.0s\n",
      "[CV] C=10, gamma=0.0001, kernel=rbf ..................................\n",
      "[CV] ................... C=10, gamma=0.0001, kernel=rbf, total=   0.0s\n",
      "[CV] C=10, gamma=0.0001, kernel=rbf ..................................\n",
      "[CV] ................... C=10, gamma=0.0001, kernel=rbf, total=   0.0s\n",
      "[CV] C=10, gamma=0.0001, kernel=rbf ..................................\n",
      "[CV] ................... C=10, gamma=0.0001, kernel=rbf, total=   0.0s\n",
      "[CV] C=10, gamma=0.0001, kernel=linear ...............................\n",
      "[CV] ................ C=10, gamma=0.0001, kernel=linear, total=   3.1s\n",
      "[CV] C=10, gamma=0.0001, kernel=linear ...............................\n",
      "[CV] ................ C=10, gamma=0.0001, kernel=linear, total=   5.6s\n",
      "[CV] C=10, gamma=0.0001, kernel=linear ...............................\n",
      "[CV] ................ C=10, gamma=0.0001, kernel=linear, total=  10.4s\n",
      "[CV] C=100, gamma=1, kernel=linear ...................................\n",
      "[CV] .................... C=100, gamma=1, kernel=linear, total=   7.8s\n",
      "[CV] C=100, gamma=1, kernel=linear ...................................\n",
      "[CV] .................... C=100, gamma=1, kernel=linear, total=  36.0s\n",
      "[CV] C=1, gamma=0.001, kernel=sigmoid ................................\n",
      "[CV] ................. C=1, gamma=0.001, kernel=sigmoid, total=   0.0s\n",
      "[CV] C=1, gamma=0.001, kernel=sigmoid ................................\n",
      "[CV] ................. C=1, gamma=0.001, kernel=sigmoid, total=   0.0s\n",
      "[CV] C=1, gamma=0.001, kernel=sigmoid ................................\n",
      "[CV] ................. C=1, gamma=0.001, kernel=sigmoid, total=   0.0s\n",
      "[CV] C=1, gamma=0.0001, kernel=rbf ...................................\n",
      "[CV] .................... C=1, gamma=0.0001, kernel=rbf, total=   0.0s\n",
      "[CV] C=1, gamma=0.0001, kernel=rbf ...................................\n",
      "[CV] .................... C=1, gamma=0.0001, kernel=rbf, total=   0.0s\n",
      "[CV] C=10, gamma=1, kernel=sigmoid ...................................\n",
      "[CV] .................... C=10, gamma=1, kernel=sigmoid, total=   0.0s\n",
      "[CV] C=10, gamma=1, kernel=sigmoid ...................................\n",
      "[CV] .................... C=10, gamma=1, kernel=sigmoid, total=   0.0s\n",
      "[CV] C=10, gamma=1, kernel=sigmoid ...................................\n",
      "[CV] .................... C=10, gamma=1, kernel=sigmoid, total=   0.0s\n",
      "[CV] C=10, gamma=1, kernel=sigmoid ...................................\n",
      "[CV] .................... C=10, gamma=1, kernel=sigmoid, total=   0.0s\n",
      "[CV] C=10, gamma=1, kernel=sigmoid ...................................\n",
      "[CV] .................... C=10, gamma=1, kernel=sigmoid, total=   0.0s\n",
      "[CV] C=10, gamma=1, kernel=sigmoid ...................................\n",
      "[CV] .................... C=10, gamma=1, kernel=sigmoid, total=   0.0s\n",
      "[CV] C=10, gamma=1, kernel=sigmoid ...................................\n",
      "[CV] .................... C=10, gamma=1, kernel=sigmoid, total=   0.0s\n",
      "[CV] C=10, gamma=1, kernel=sigmoid ...................................\n",
      "[CV] .................... C=10, gamma=1, kernel=sigmoid, total=   0.0s\n",
      "[CV] C=10, gamma=1, kernel=sigmoid ...................................\n",
      "[CV] .................... C=10, gamma=1, kernel=sigmoid, total=   0.0s\n",
      "[CV] C=10, gamma=1, kernel=sigmoid ...................................\n",
      "[CV] .................... C=10, gamma=1, kernel=sigmoid, total=   0.0s\n",
      "[CV] C=10, gamma=0.1, kernel=rbf .....................................\n",
      "[CV] ...................... C=10, gamma=0.1, kernel=rbf, total=   0.0s\n",
      "[CV] C=10, gamma=0.1, kernel=rbf .....................................\n",
      "[CV] ...................... C=10, gamma=0.1, kernel=rbf, total=   0.0s\n",
      "[CV] C=10, gamma=0.1, kernel=rbf .....................................\n",
      "[CV] ...................... C=10, gamma=0.1, kernel=rbf, total=   0.0s\n",
      "[CV] C=10, gamma=0.1, kernel=rbf .....................................\n",
      "[CV] ...................... C=10, gamma=0.1, kernel=rbf, total=   0.0s\n",
      "[CV] C=10, gamma=0.1, kernel=rbf .....................................\n",
      "[CV] ...................... C=10, gamma=0.1, kernel=rbf, total=   0.0s\n",
      "[CV] C=10, gamma=0.1, kernel=rbf .....................................\n",
      "[CV] ...................... C=10, gamma=0.1, kernel=rbf, total=   0.0s\n",
      "[CV] C=10, gamma=0.1, kernel=rbf .....................................\n",
      "[CV] ...................... C=10, gamma=0.1, kernel=rbf, total=   0.0s\n",
      "[CV] C=10, gamma=0.1, kernel=rbf .....................................\n",
      "[CV] ...................... C=10, gamma=0.1, kernel=rbf, total=   0.0s\n",
      "[CV] C=10, gamma=0.1, kernel=rbf .....................................\n",
      "[CV] ...................... C=10, gamma=0.1, kernel=rbf, total=   0.0s\n",
      "[CV] C=10, gamma=0.1, kernel=rbf .....................................\n",
      "[CV] ...................... C=10, gamma=0.1, kernel=rbf, total=   0.0s\n",
      "[CV] C=10, gamma=0.1, kernel=linear ..................................\n",
      "[CV] ................... C=10, gamma=0.1, kernel=linear, total=   3.1s\n",
      "[CV] C=10, gamma=0.1, kernel=linear ..................................\n",
      "[CV] ................... C=10, gamma=0.1, kernel=linear, total=   6.7s\n",
      "[CV] C=10, gamma=0.1, kernel=linear ..................................\n",
      "[CV] ................... C=10, gamma=0.1, kernel=linear, total=  10.4s\n",
      "[CV] C=10, gamma=0.1, kernel=linear ..................................\n",
      "[CV] ................... C=10, gamma=0.1, kernel=linear, total=   8.2s\n",
      "[CV] C=10, gamma=0.01, kernel=linear .................................\n",
      "[CV] .................. C=10, gamma=0.01, kernel=linear, total=   2.6s\n",
      "[CV] C=10, gamma=0.01, kernel=linear .................................\n",
      "[CV] .................. C=10, gamma=0.01, kernel=linear, total=   6.4s\n",
      "[CV] C=10, gamma=0.01, kernel=linear .................................\n",
      "[CV] .................. C=10, gamma=0.01, kernel=linear, total=   6.4s\n",
      "[CV] C=10, gamma=0.001, kernel=linear ................................\n",
      "[CV] ................. C=10, gamma=0.001, kernel=linear, total=   6.5s\n",
      "[CV] C=10, gamma=0.001, kernel=linear ................................\n",
      "[CV] ................. C=10, gamma=0.001, kernel=linear, total=   5.2s\n",
      "[CV] C=10, gamma=0.001, kernel=linear ................................\n",
      "[CV] ................. C=10, gamma=0.001, kernel=linear, total=  10.4s\n",
      "[CV] C=10, gamma=0.0001, kernel=linear ...............................\n",
      "[CV] ................ C=10, gamma=0.0001, kernel=linear, total=   6.8s\n",
      "[CV] C=10, gamma=0.0001, kernel=linear ...............................\n",
      "[CV] ................ C=10, gamma=0.0001, kernel=linear, total=   2.6s\n",
      "[CV] C=10, gamma=0.0001, kernel=linear ...............................\n",
      "[CV] ................ C=10, gamma=0.0001, kernel=linear, total=   8.2s\n",
      "[CV] C=100, gamma=1, kernel=linear ...................................\n",
      "[CV] .................... C=100, gamma=1, kernel=linear, total=   8.8s\n",
      "[CV] C=100, gamma=1, kernel=linear ...................................\n",
      "[CV] .................... C=100, gamma=1, kernel=linear, total=  11.9s\n",
      "[CV] C=100, gamma=1, kernel=linear ...................................\n",
      "[CV] .................... C=100, gamma=1, kernel=linear, total=  17.5s\n",
      "[CV] C=100, gamma=0.1, kernel=linear .................................\n",
      "[CV] .................. C=100, gamma=0.1, kernel=linear, total=   8.8s\n",
      "[CV] C=100, gamma=0.1, kernel=linear .................................\n",
      "[CV] .................. C=100, gamma=0.1, kernel=linear, total=  36.0s\n",
      "[CV] C=100, gamma=0.01, kernel=linear ................................\n",
      "[CV] ................. C=100, gamma=0.01, kernel=linear, total=  10.7s\n",
      "[CV] C=100, gamma=0.01, kernel=linear ................................\n",
      "[CV] ................. C=100, gamma=0.01, kernel=linear, total=  12.6s\n",
      "[CV] C=100, gamma=0.01, kernel=linear ................................\n",
      "[CV] ................. C=100, gamma=0.01, kernel=linear, total=   5.1s\n",
      "[CV] C=100, gamma=0.01, kernel=sigmoid ...............................\n",
      "[CV] ................ C=100, gamma=0.01, kernel=sigmoid, total=   0.0s\n",
      "[CV] C=100, gamma=0.01, kernel=sigmoid ...............................\n",
      "[CV] ................ C=100, gamma=0.01, kernel=sigmoid, total=   0.0s\n",
      "[CV] C=100, gamma=0.01, kernel=sigmoid ...............................\n",
      "[CV] ................ C=100, gamma=0.01, kernel=sigmoid, total=   0.0s\n",
      "[CV] C=100, gamma=0.01, kernel=sigmoid ...............................\n",
      "[CV] ................ C=100, gamma=0.01, kernel=sigmoid, total=   0.0s\n",
      "[CV] C=100, gamma=0.01, kernel=sigmoid ...............................\n",
      "[CV] ................ C=100, gamma=0.01, kernel=sigmoid, total=   0.0s\n",
      "[CV] C=100, gamma=0.01, kernel=sigmoid ...............................\n",
      "[CV] ................ C=100, gamma=0.01, kernel=sigmoid, total=   0.0s\n",
      "[CV] C=100, gamma=0.01, kernel=sigmoid ...............................\n",
      "[CV] ................ C=100, gamma=0.01, kernel=sigmoid, total=   0.0s\n",
      "[CV] C=100, gamma=0.01, kernel=sigmoid ...............................\n",
      "[CV] ................ C=100, gamma=0.01, kernel=sigmoid, total=   0.0s\n",
      "[CV] C=100, gamma=0.01, kernel=sigmoid ...............................\n",
      "[CV] ................ C=100, gamma=0.01, kernel=sigmoid, total=   0.0s\n",
      "[CV] C=100, gamma=0.01, kernel=sigmoid ...............................\n",
      "[CV] ................ C=100, gamma=0.01, kernel=sigmoid, total=   0.0s\n",
      "[CV] C=100, gamma=0.001, kernel=rbf ..................................\n",
      "[CV] ................... C=100, gamma=0.001, kernel=rbf, total=   0.0s\n",
      "[CV] C=100, gamma=0.001, kernel=rbf ..................................\n",
      "[CV] ................... C=100, gamma=0.001, kernel=rbf, total=   0.0s"
     ]
    },
    {
     "name": "stderr",
     "output_type": "stream",
     "text": [
      "[Parallel(n_jobs=-1)]: Done 633 tasks      | elapsed:  5.7min\n"
     ]
    },
    {
     "name": "stdout",
     "output_type": "stream",
     "text": [
      "\n",
      "[CV] C=100, gamma=1, kernel=linear ...................................\n",
      "[CV] .................... C=100, gamma=1, kernel=linear, total=  18.8s\n",
      "[CV] C=100, gamma=1, kernel=linear ...................................\n",
      "[CV] .................... C=100, gamma=1, kernel=linear, total=  13.0s\n",
      "[CV] C=100, gamma=1, kernel=linear ...................................\n",
      "[CV] .................... C=100, gamma=1, kernel=linear, total=   5.1s\n",
      "[CV] C=100, gamma=1, kernel=sigmoid ..................................\n",
      "[CV] ................... C=100, gamma=1, kernel=sigmoid, total=   0.0s\n",
      "[CV] C=100, gamma=1, kernel=sigmoid ..................................\n",
      "[CV] ................... C=100, gamma=1, kernel=sigmoid, total=   0.0s\n",
      "[CV] C=100, gamma=1, kernel=sigmoid ..................................\n",
      "[CV] ................... C=100, gamma=1, kernel=sigmoid, total=   0.0s\n",
      "[CV] C=100, gamma=1, kernel=sigmoid ..................................\n",
      "[CV] ................... C=100, gamma=1, kernel=sigmoid, total=   0.0s\n",
      "[CV] C=100, gamma=1, kernel=sigmoid ..................................\n",
      "[CV] ................... C=100, gamma=1, kernel=sigmoid, total=   0.0s\n",
      "[CV] C=100, gamma=1, kernel=sigmoid ..................................\n",
      "[CV] ................... C=100, gamma=1, kernel=sigmoid, total=   0.0s\n",
      "[CV] C=100, gamma=1, kernel=sigmoid ..................................\n",
      "[CV] ................... C=100, gamma=1, kernel=sigmoid, total=   0.0s\n",
      "[CV] C=100, gamma=1, kernel=sigmoid ..................................\n",
      "[CV] ................... C=100, gamma=1, kernel=sigmoid, total=   0.0s\n",
      "[CV] C=100, gamma=1, kernel=sigmoid ..................................\n",
      "[CV] ................... C=100, gamma=1, kernel=sigmoid, total=   0.0s\n",
      "[CV] C=100, gamma=1, kernel=sigmoid ..................................\n",
      "[CV] ................... C=100, gamma=1, kernel=sigmoid, total=   0.0s\n",
      "[CV] C=100, gamma=0.1, kernel=rbf ....................................\n",
      "[CV] ..................... C=100, gamma=0.1, kernel=rbf, total=   0.0s\n",
      "[CV] C=100, gamma=0.1, kernel=rbf ....................................\n",
      "[CV] ..................... C=100, gamma=0.1, kernel=rbf, total=   0.0s\n",
      "[CV] C=100, gamma=0.1, kernel=rbf ....................................\n",
      "[CV] ..................... C=100, gamma=0.1, kernel=rbf, total=   0.0s\n",
      "[CV] C=100, gamma=0.1, kernel=rbf ....................................\n",
      "[CV] ..................... C=100, gamma=0.1, kernel=rbf, total=   0.0s\n",
      "[CV] C=100, gamma=0.1, kernel=rbf ....................................\n",
      "[CV] ..................... C=100, gamma=0.1, kernel=rbf, total=   0.0s\n",
      "[CV] C=100, gamma=0.1, kernel=rbf ....................................\n",
      "[CV] ..................... C=100, gamma=0.1, kernel=rbf, total=   0.0s\n",
      "[CV] C=100, gamma=0.1, kernel=rbf ....................................\n",
      "[CV] ..................... C=100, gamma=0.1, kernel=rbf, total=   0.0s\n",
      "[CV] C=100, gamma=0.1, kernel=rbf ....................................\n",
      "[CV] ..................... C=100, gamma=0.1, kernel=rbf, total=   0.0s\n",
      "[CV] C=100, gamma=0.1, kernel=rbf ....................................\n",
      "[CV] ..................... C=100, gamma=0.1, kernel=rbf, total=   0.0s\n",
      "[CV] C=100, gamma=0.1, kernel=rbf ....................................\n",
      "[CV] ..................... C=100, gamma=0.1, kernel=rbf, total=   0.0s\n",
      "[CV] C=100, gamma=0.1, kernel=linear .................................\n",
      "[CV] .................. C=100, gamma=0.1, kernel=linear, total=  19.1s\n",
      "[CV] C=100, gamma=0.1, kernel=linear .................................\n",
      "[CV] .................. C=100, gamma=0.1, kernel=linear, total=  24.9s\n",
      "[CV] C=100, gamma=0.01, kernel=linear ................................\n",
      "[CV] ................. C=100, gamma=0.01, kernel=linear, total=   8.1s\n",
      "[CV] C=100, gamma=0.01, kernel=linear ................................\n",
      "[CV] ................. C=100, gamma=0.01, kernel=linear, total=  11.8s\n",
      "[CV] C=100, gamma=0.01, kernel=linear ................................\n",
      "[CV] ................. C=100, gamma=0.01, kernel=linear, total=  17.2s\n",
      "[CV] C=100, gamma=0.001, kernel=linear ...............................\n",
      "[CV] ................ C=100, gamma=0.001, kernel=linear, total=   9.4s\n",
      "[CV] C=100, gamma=0.001, kernel=linear ...............................\n",
      "[CV] ................ C=100, gamma=0.001, kernel=linear, total=  11.8s\n",
      "[CV] C=100, gamma=0.001, kernel=linear ...............................\n",
      "[CV] ................ C=100, gamma=0.001, kernel=linear, total=  17.5s\n",
      "[CV] C=100, gamma=0.0001, kernel=linear ..............................\n",
      "[CV] ............... C=100, gamma=0.0001, kernel=linear, total=   8.8s\n",
      "[CV] C=100, gamma=0.0001, kernel=linear ..............................\n",
      "[CV] ............... C=100, gamma=0.0001, kernel=linear, total=  11.8s\n",
      "[CV] C=100, gamma=0.0001, kernel=linear ..............................\n",
      "[CV] ............... C=100, gamma=0.0001, kernel=linear, total=  17.6s\n",
      "[CV] C=1000, gamma=1, kernel=linear ..................................\n",
      "[CV] ................... C=1000, gamma=1, kernel=linear, total=  19.6s\n",
      "[CV] C=1000, gamma=1, kernel=linear ..................................\n",
      "[CV] ................... C=1000, gamma=1, kernel=linear, total=   8.0s\n",
      "[CV] C=1000, gamma=1, kernel=linear ..................................\n",
      "[CV] ................... C=1000, gamma=1, kernel=linear, total=  21.7s\n",
      "[CV] C=1000, gamma=1, kernel=sigmoid .................................\n",
      "[CV] .................. C=1000, gamma=1, kernel=sigmoid, total=   0.0s\n",
      "[CV] C=1000, gamma=1, kernel=sigmoid .................................\n",
      "[CV] .................. C=1000, gamma=1, kernel=sigmoid, total=   0.0s\n",
      "[CV] C=1000, gamma=1, kernel=sigmoid .................................\n",
      "[CV] .................. C=1000, gamma=1, kernel=sigmoid, total=   0.0s\n",
      "[CV] C=1000, gamma=1, kernel=sigmoid .................................\n",
      "[CV] .................. C=1000, gamma=1, kernel=sigmoid, total=   0.0s\n",
      "[CV] C=1000, gamma=1, kernel=sigmoid .................................\n",
      "[CV] .................. C=1000, gamma=1, kernel=sigmoid, total=   0.0s\n",
      "[CV] C=1000, gamma=1, kernel=sigmoid .................................\n",
      "[CV] .................. C=1000, gamma=1, kernel=sigmoid, total=   0.0s\n",
      "[CV] C=1000, gamma=1, kernel=sigmoid .................................\n",
      "[CV] .................. C=1000, gamma=1, kernel=sigmoid, total=   0.0s\n",
      "[CV] C=1000, gamma=1, kernel=sigmoid .................................\n",
      "[CV] .................. C=1000, gamma=1, kernel=sigmoid, total=   0.0s\n",
      "[CV] C=1000, gamma=1, kernel=sigmoid .................................\n",
      "[CV] .................. C=1000, gamma=1, kernel=sigmoid, total=   0.0s\n",
      "[CV] C=1000, gamma=1, kernel=sigmoid .................................\n",
      "[CV] .................. C=1000, gamma=1, kernel=sigmoid, total=   0.0s\n",
      "[CV] C=1000, gamma=0.1, kernel=rbf ...................................\n",
      "[CV] .................... C=1000, gamma=0.1, kernel=rbf, total=   0.0s\n",
      "[CV] C=1000, gamma=0.1, kernel=rbf ...................................\n",
      "[CV] .................... C=1000, gamma=0.1, kernel=rbf, total=   0.0s\n",
      "[CV] C=1000, gamma=0.1, kernel=rbf ...................................\n",
      "[CV] .................... C=1000, gamma=0.1, kernel=rbf, total=   0.0s\n",
      "[CV] C=1000, gamma=0.1, kernel=rbf ...................................\n",
      "[CV] .................... C=1000, gamma=0.1, kernel=rbf, total=   0.0s\n",
      "[CV] C=1000, gamma=0.1, kernel=rbf ...................................\n",
      "[CV] .................... C=1000, gamma=0.1, kernel=rbf, total=   0.0s\n",
      "[CV] C=1000, gamma=0.1, kernel=rbf ...................................\n",
      "[CV] .................... C=1000, gamma=0.1, kernel=rbf, total=   0.0s\n",
      "[CV] C=1000, gamma=0.1, kernel=rbf ...................................\n",
      "[CV] .................... C=1000, gamma=0.1, kernel=rbf, total=   0.0s\n",
      "[CV] C=1000, gamma=0.1, kernel=rbf ...................................\n",
      "[CV] .................... C=1000, gamma=0.1, kernel=rbf, total=   0.0s\n",
      "[CV] C=1000, gamma=0.1, kernel=rbf ...................................\n",
      "[CV] .................... C=1000, gamma=0.1, kernel=rbf, total=   0.0s\n",
      "[CV] C=1000, gamma=0.1, kernel=rbf ...................................\n",
      "[CV] .................... C=1000, gamma=0.1, kernel=rbf, total=   0.0s\n",
      "[CV] C=1000, gamma=0.1, kernel=linear ................................\n",
      "[CV] ................. C=1000, gamma=0.1, kernel=linear, total=  12.1s\n",
      "[CV] C=100, gamma=0.1, kernel=linear .................................\n",
      "[CV] .................. C=100, gamma=0.1, kernel=linear, total=  11.1s\n",
      "[CV] C=100, gamma=0.1, kernel=linear .................................\n",
      "[CV] .................. C=100, gamma=0.1, kernel=linear, total=  12.6s\n",
      "[CV] C=100, gamma=0.1, kernel=linear .................................\n",
      "[CV] .................. C=100, gamma=0.1, kernel=linear, total=   5.1s\n",
      "[CV] C=100, gamma=0.1, kernel=sigmoid ................................\n",
      "[CV] ................. C=100, gamma=0.1, kernel=sigmoid, total=   0.0s\n",
      "[CV] C=100, gamma=0.1, kernel=sigmoid ................................\n",
      "[CV] ................. C=100, gamma=0.1, kernel=sigmoid, total=   0.0s\n",
      "[CV] C=100, gamma=0.1, kernel=sigmoid ................................\n",
      "[CV] ................. C=100, gamma=0.1, kernel=sigmoid, total=   0.0s\n",
      "[CV] C=100, gamma=0.1, kernel=sigmoid ................................\n",
      "[CV] ................. C=100, gamma=0.1, kernel=sigmoid, total=   0.0s\n",
      "[CV] C=100, gamma=0.1, kernel=sigmoid ................................\n",
      "[CV] ................. C=100, gamma=0.1, kernel=sigmoid, total=   0.0s\n",
      "[CV] C=100, gamma=0.1, kernel=sigmoid ................................\n",
      "[CV] ................. C=100, gamma=0.1, kernel=sigmoid, total=   0.0s\n",
      "[CV] C=100, gamma=0.1, kernel=sigmoid ................................\n",
      "[CV] ................. C=100, gamma=0.1, kernel=sigmoid, total=   0.0s\n",
      "[CV] C=100, gamma=0.1, kernel=sigmoid ................................\n",
      "[CV] ................. C=100, gamma=0.1, kernel=sigmoid, total=   0.0s\n",
      "[CV] C=100, gamma=0.1, kernel=sigmoid ................................\n",
      "[CV] ................. C=100, gamma=0.1, kernel=sigmoid, total=   0.0s\n",
      "[CV] C=100, gamma=0.1, kernel=sigmoid ................................\n",
      "[CV] ................. C=100, gamma=0.1, kernel=sigmoid, total=   0.0s\n",
      "[CV] C=100, gamma=0.01, kernel=rbf ...................................\n",
      "[CV] .................... C=100, gamma=0.01, kernel=rbf, total=   0.0s\n",
      "[CV] C=100, gamma=0.01, kernel=rbf ...................................\n",
      "[CV] .................... C=100, gamma=0.01, kernel=rbf, total=   0.0s\n",
      "[CV] C=100, gamma=0.01, kernel=rbf ...................................\n",
      "[CV] .................... C=100, gamma=0.01, kernel=rbf, total=   0.0s\n",
      "[CV] C=100, gamma=0.01, kernel=rbf ...................................\n",
      "[CV] .................... C=100, gamma=0.01, kernel=rbf, total=   0.0s\n",
      "[CV] C=100, gamma=0.01, kernel=rbf ...................................\n",
      "[CV] .................... C=100, gamma=0.01, kernel=rbf, total=   0.0s\n",
      "[CV] C=100, gamma=0.01, kernel=rbf ...................................\n",
      "[CV] .................... C=100, gamma=0.01, kernel=rbf, total=   0.0s\n",
      "[CV] C=100, gamma=0.01, kernel=rbf ...................................\n",
      "[CV] .................... C=100, gamma=0.01, kernel=rbf, total=   0.0s\n",
      "[CV] C=100, gamma=0.01, kernel=rbf ...................................\n",
      "[CV] .................... C=100, gamma=0.01, kernel=rbf, total=   0.0s\n",
      "[CV] C=100, gamma=0.01, kernel=rbf ...................................\n",
      "[CV] .................... C=100, gamma=0.01, kernel=rbf, total=   0.0s\n",
      "[CV] C=100, gamma=0.01, kernel=rbf ...................................\n",
      "[CV] .................... C=100, gamma=0.01, kernel=rbf, total=   0.0s\n",
      "[CV] C=100, gamma=0.01, kernel=linear ................................\n",
      "[CV] ................. C=100, gamma=0.01, kernel=linear, total=  19.3s\n",
      "[CV] C=100, gamma=0.01, kernel=linear ................................\n",
      "[CV] ................. C=100, gamma=0.01, kernel=linear, total=  25.0s\n",
      "[CV] C=100, gamma=0.001, kernel=linear ...............................\n",
      "[CV] ................ C=100, gamma=0.001, kernel=linear, total=   8.3s\n",
      "[CV] C=100, gamma=0.001, kernel=linear ...............................\n",
      "[CV] ................ C=100, gamma=0.001, kernel=linear, total=  35.9s\n",
      "[CV] C=100, gamma=0.0001, kernel=linear ..............................\n",
      "[CV] ............... C=100, gamma=0.0001, kernel=linear, total=  10.5s\n",
      "[CV] C=100, gamma=0.0001, kernel=linear ..............................\n",
      "[CV] ............... C=100, gamma=0.0001, kernel=linear, total=  12.6s\n",
      "[CV] C=100, gamma=0.0001, kernel=linear ..............................\n",
      "[CV] ............... C=100, gamma=0.0001, kernel=linear, total=   5.5s\n",
      "[CV] C=100, gamma=0.0001, kernel=sigmoid .............................\n",
      "[CV] .............. C=100, gamma=0.0001, kernel=sigmoid, total=   0.0s\n",
      "[CV] C=100, gamma=0.0001, kernel=sigmoid .............................\n",
      "[CV] .............. C=100, gamma=0.0001, kernel=sigmoid, total=   0.0s\n",
      "[CV] C=100, gamma=0.0001, kernel=sigmoid .............................\n",
      "[CV] .............. C=100, gamma=0.0001, kernel=sigmoid, total=   0.0s\n",
      "[CV] C=100, gamma=0.0001, kernel=sigmoid .............................\n",
      "[CV] .............. C=100, gamma=0.0001, kernel=sigmoid, total=   0.0s\n",
      "[CV] C=100, gamma=0.0001, kernel=sigmoid .............................\n",
      "[CV] .............. C=100, gamma=0.0001, kernel=sigmoid, total=   0.0s\n",
      "[CV] C=100, gamma=0.0001, kernel=sigmoid .............................\n",
      "[CV] .............. C=100, gamma=0.0001, kernel=sigmoid, total=   0.0s\n",
      "[CV] C=100, gamma=0.0001, kernel=sigmoid .............................\n",
      "[CV] .............. C=100, gamma=0.0001, kernel=sigmoid, total=   0.0s\n",
      "[CV] C=100, gamma=0.0001, kernel=sigmoid .............................\n",
      "[CV] .............. C=100, gamma=0.0001, kernel=sigmoid, total=   0.0s\n",
      "[CV] C=100, gamma=0.0001, kernel=sigmoid .............................\n",
      "[CV] .............. C=100, gamma=0.0001, kernel=sigmoid, total=   0.0s\n",
      "[CV] C=100, gamma=0.0001, kernel=sigmoid .............................\n",
      "[CV] .............. C=100, gamma=0.0001, kernel=sigmoid, total=   0.0s\n",
      "[CV] C=1000, gamma=1, kernel=rbf .....................................\n",
      "[CV] ...................... C=1000, gamma=1, kernel=rbf, total=   0.0s\n",
      "[CV] C=1000, gamma=1, kernel=rbf .....................................\n",
      "[CV] ...................... C=1000, gamma=1, kernel=rbf, total=   0.0s\n",
      "[CV] C=1000, gamma=1, kernel=rbf .....................................\n",
      "[CV] ...................... C=1000, gamma=1, kernel=rbf, total=   0.0s\n",
      "[CV] C=1000, gamma=1, kernel=rbf .....................................\n",
      "[CV] ...................... C=1000, gamma=1, kernel=rbf, total=   0.0s\n",
      "[CV] C=1000, gamma=1, kernel=rbf .....................................\n",
      "[CV] ...................... C=1000, gamma=1, kernel=rbf, total=   0.0s\n",
      "[CV] C=1000, gamma=1, kernel=rbf .....................................\n",
      "[CV] ...................... C=1000, gamma=1, kernel=rbf, total=   0.0s\n",
      "[CV] C=1000, gamma=1, kernel=rbf .....................................\n",
      "[CV] ...................... C=1000, gamma=1, kernel=rbf, total=   0.0s\n",
      "[CV] C=1000, gamma=1, kernel=rbf .....................................\n",
      "[CV] ...................... C=1000, gamma=1, kernel=rbf, total=   0.0s\n",
      "[CV] C=1000, gamma=1, kernel=rbf .....................................\n",
      "[CV] ...................... C=1000, gamma=1, kernel=rbf, total=   0.0s\n",
      "[CV] C=1000, gamma=1, kernel=rbf .....................................\n",
      "[CV] ...................... C=1000, gamma=1, kernel=rbf, total=   0.0s\n",
      "[CV] C=1000, gamma=1, kernel=linear ..................................\n",
      "[CV] ................... C=1000, gamma=1, kernel=linear, total=  11.7s\n",
      "[CV] C=1000, gamma=1, kernel=linear ..................................\n",
      "[CV] ................... C=1000, gamma=1, kernel=linear, total=  51.0s\n",
      "[CV] C=1000, gamma=0.1, kernel=linear ................................\n",
      "[CV] ................. C=1000, gamma=0.1, kernel=linear, total=  17.0s\n",
      "[CV] C=1000, gamma=0.1, kernel=linear ................................\n",
      "[CV] ................. C=1000, gamma=0.1, kernel=linear, total=   7.5s\n",
      "[CV] C=1000, gamma=0.1, kernel=linear ................................\n",
      "[CV] ................. C=1000, gamma=0.1, kernel=linear, total=  22.2s\n",
      "[CV] C=1000, gamma=0.1, kernel=sigmoid ...............................\n",
      "[CV] ................ C=1000, gamma=0.1, kernel=sigmoid, total=   0.0s\n",
      "[CV] C=1000, gamma=0.1, kernel=sigmoid ...............................\n",
      "[CV] ................ C=1000, gamma=0.1, kernel=sigmoid, total=   0.0s\n",
      "[CV] C=1000, gamma=0.1, kernel=sigmoid ...............................\n",
      "[CV] ................ C=1000, gamma=0.1, kernel=sigmoid, total=   0.0s\n",
      "[CV] C=10, gamma=0.01, kernel=sigmoid ................................\n",
      "[CV] ................. C=10, gamma=0.01, kernel=sigmoid, total=   0.0s\n",
      "[CV] C=10, gamma=0.01, kernel=sigmoid ................................\n",
      "[CV] ................. C=10, gamma=0.01, kernel=sigmoid, total=   0.0s\n",
      "[CV] C=10, gamma=0.001, kernel=rbf ...................................\n",
      "[CV] .................... C=10, gamma=0.001, kernel=rbf, total=   0.0s\n",
      "[CV] C=10, gamma=0.001, kernel=rbf ...................................\n",
      "[CV] .................... C=10, gamma=0.001, kernel=rbf, total=   0.0s\n",
      "[CV] C=10, gamma=0.001, kernel=rbf ...................................\n",
      "[CV] .................... C=10, gamma=0.001, kernel=rbf, total=   0.0s\n",
      "[CV] C=10, gamma=0.001, kernel=rbf ...................................\n",
      "[CV] .................... C=10, gamma=0.001, kernel=rbf, total=   0.0s\n",
      "[CV] C=10, gamma=0.001, kernel=rbf ...................................\n",
      "[CV] .................... C=10, gamma=0.001, kernel=rbf, total=   0.0s\n",
      "[CV] C=10, gamma=0.001, kernel=rbf ...................................\n",
      "[CV] .................... C=10, gamma=0.001, kernel=rbf, total=   0.0s\n",
      "[CV] C=10, gamma=0.001, kernel=rbf ...................................\n",
      "[CV] .................... C=10, gamma=0.001, kernel=rbf, total=   0.0s\n",
      "[CV] C=10, gamma=0.001, kernel=rbf ...................................\n",
      "[CV] .................... C=10, gamma=0.001, kernel=rbf, total=   0.0s\n",
      "[CV] C=10, gamma=0.001, kernel=rbf ...................................\n",
      "[CV] .................... C=10, gamma=0.001, kernel=rbf, total=   0.0s\n",
      "[CV] C=10, gamma=0.001, kernel=rbf ...................................\n",
      "[CV] .................... C=10, gamma=0.001, kernel=rbf, total=   0.0s\n",
      "[CV] C=10, gamma=0.001, kernel=linear ................................\n",
      "[CV] ................. C=10, gamma=0.001, kernel=linear, total=   3.1s\n",
      "[CV] C=10, gamma=0.001, kernel=linear ................................\n",
      "[CV] ................. C=10, gamma=0.001, kernel=linear, total=   9.6s\n",
      "[CV] C=10, gamma=0.001, kernel=linear ................................\n",
      "[CV] ................. C=10, gamma=0.001, kernel=linear, total=   8.1s\n",
      "[CV] C=10, gamma=0.001, kernel=linear ................................\n",
      "[CV] ................. C=10, gamma=0.001, kernel=linear, total=   8.4s\n",
      "[CV] C=10, gamma=0.0001, kernel=linear ...............................\n",
      "[CV] ................ C=10, gamma=0.0001, kernel=linear, total=   6.4s\n",
      "[CV] C=10, gamma=0.0001, kernel=linear ...............................\n",
      "[CV] ................ C=10, gamma=0.0001, kernel=linear, total=   8.2s\n",
      "[CV] C=100, gamma=1, kernel=linear ...................................\n",
      "[CV] .................... C=100, gamma=1, kernel=linear, total=  10.5s\n",
      "[CV] C=100, gamma=1, kernel=linear ...................................\n",
      "[CV] .................... C=100, gamma=1, kernel=linear, total=  25.3s\n",
      "[CV] C=100, gamma=0.1, kernel=linear .................................\n",
      "[CV] .................. C=100, gamma=0.1, kernel=linear, total=   8.0s\n",
      "[CV] C=100, gamma=0.1, kernel=linear .................................\n",
      "[CV] .................. C=100, gamma=0.1, kernel=linear, total=  12.2s\n",
      "[CV] C=100, gamma=0.1, kernel=linear .................................\n",
      "[CV] .................. C=100, gamma=0.1, kernel=linear, total=  17.2s\n",
      "[CV] C=100, gamma=0.01, kernel=linear ................................\n",
      "[CV] ................. C=100, gamma=0.01, kernel=linear, total=   8.7s\n",
      "[CV] C=100, gamma=0.01, kernel=linear ................................\n",
      "[CV] ................. C=100, gamma=0.01, kernel=linear, total=  36.3s\n",
      "[CV] C=100, gamma=0.001, kernel=linear ...............................\n",
      "[CV] ................ C=100, gamma=0.001, kernel=linear, total=  10.6s\n",
      "[CV] C=100, gamma=0.001, kernel=linear ...............................\n",
      "[CV] ................ C=100, gamma=0.001, kernel=linear, total=  12.6s\n",
      "[CV] C=100, gamma=0.001, kernel=linear ...............................\n",
      "[CV] ................ C=100, gamma=0.001, kernel=linear, total=   5.1s\n",
      "[CV] C=100, gamma=0.001, kernel=sigmoid ..............................\n",
      "[CV] ............... C=100, gamma=0.001, kernel=sigmoid, total=   0.0s\n",
      "[CV] C=100, gamma=0.001, kernel=sigmoid ..............................\n",
      "[CV] ............... C=100, gamma=0.001, kernel=sigmoid, total=   0.0s\n",
      "[CV] C=100, gamma=0.001, kernel=sigmoid ..............................\n",
      "[CV] ............... C=100, gamma=0.001, kernel=sigmoid, total=   0.0s\n",
      "[CV] C=100, gamma=0.001, kernel=sigmoid ..............................\n",
      "[CV] ............... C=100, gamma=0.001, kernel=sigmoid, total=   0.0s\n",
      "[CV] C=100, gamma=0.001, kernel=sigmoid ..............................\n",
      "[CV] ............... C=100, gamma=0.001, kernel=sigmoid, total=   0.0s\n",
      "[CV] C=100, gamma=0.001, kernel=sigmoid ..............................\n",
      "[CV] ............... C=100, gamma=0.001, kernel=sigmoid, total=   0.0s\n",
      "[CV] C=100, gamma=0.001, kernel=sigmoid ..............................\n",
      "[CV] ............... C=100, gamma=0.001, kernel=sigmoid, total=   0.0s\n",
      "[CV] C=100, gamma=0.001, kernel=sigmoid ..............................\n",
      "[CV] ............... C=100, gamma=0.001, kernel=sigmoid, total=   0.0s\n",
      "[CV] C=100, gamma=0.001, kernel=sigmoid ..............................\n",
      "[CV] ............... C=100, gamma=0.001, kernel=sigmoid, total=   0.0s\n",
      "[CV] C=100, gamma=0.001, kernel=sigmoid ..............................\n",
      "[CV] ............... C=100, gamma=0.001, kernel=sigmoid, total=   0.0s\n",
      "[CV] C=100, gamma=0.0001, kernel=rbf .................................\n",
      "[CV] .................. C=100, gamma=0.0001, kernel=rbf, total=   0.0s\n",
      "[CV] C=100, gamma=0.0001, kernel=rbf .................................\n",
      "[CV] .................. C=100, gamma=0.0001, kernel=rbf, total=   0.0s\n",
      "[CV] C=100, gamma=0.0001, kernel=rbf .................................\n",
      "[CV] .................. C=100, gamma=0.0001, kernel=rbf, total=   0.0s\n",
      "[CV] C=100, gamma=0.0001, kernel=rbf .................................\n",
      "[CV] .................. C=100, gamma=0.0001, kernel=rbf, total=   0.0s\n",
      "[CV] C=100, gamma=0.0001, kernel=rbf .................................\n",
      "[CV] .................. C=100, gamma=0.0001, kernel=rbf, total=   0.0s\n",
      "[CV] C=100, gamma=0.0001, kernel=rbf .................................\n",
      "[CV] .................. C=100, gamma=0.0001, kernel=rbf, total=   0.0s\n",
      "[CV] C=100, gamma=0.0001, kernel=rbf .................................\n",
      "[CV] .................. C=100, gamma=0.0001, kernel=rbf, total=   0.0s\n",
      "[CV] C=100, gamma=0.0001, kernel=rbf .................................\n",
      "[CV] .................. C=100, gamma=0.0001, kernel=rbf, total=   0.0s\n",
      "[CV] C=100, gamma=0.0001, kernel=rbf .................................\n",
      "[CV] .................. C=100, gamma=0.0001, kernel=rbf, total=   0.0s\n",
      "[CV] C=100, gamma=0.0001, kernel=rbf .................................\n",
      "[CV] .................. C=100, gamma=0.0001, kernel=rbf, total=   0.0s\n",
      "[CV] C=100, gamma=0.0001, kernel=linear ..............................\n",
      "[CV] ............... C=100, gamma=0.0001, kernel=linear, total=  18.8s\n",
      "[CV] C=100, gamma=0.0001, kernel=linear ..............................\n",
      "[CV] ............... C=100, gamma=0.0001, kernel=linear, total=  25.3s\n",
      "[CV] C=1000, gamma=1, kernel=linear ..................................\n",
      "[CV] ................... C=1000, gamma=1, kernel=linear, total=  17.0s\n",
      "[CV] C=1000, gamma=1, kernel=linear ..................................\n",
      "[CV] ................... C=1000, gamma=1, kernel=linear, total=  17.6s\n",
      "[CV] C=1000, gamma=1, kernel=linear ..................................\n",
      "[CV] ................... C=1000, gamma=1, kernel=linear, total=  17.0s\n",
      "[CV] C=1000, gamma=0.1, kernel=linear ................................\n",
      "[CV] ................. C=1000, gamma=0.1, kernel=linear, total=  19.9s\n",
      "[CV] C=1000, gamma=0.1, kernel=linear ................................\n",
      "[CV] ................. C=1000, gamma=0.1, kernel=linear, total=  17.2s\n",
      "[CV] C=1000, gamma=0.1, kernel=linear ................................\n",
      "[CV] ................. C=1000, gamma=0.1, kernel=linear, total=  36.0s\n",
      "[CV] C=1000, gamma=0.01, kernel=linear ...............................\n",
      "[CV] ................ C=1000, gamma=0.01, kernel=linear, total=  50.6s\n",
      "[CV] C=1000, gamma=0.001, kernel=linear ..............................\n",
      "[CV] ............... C=1000, gamma=0.001, kernel=linear, total=  17.3s"
     ]
    },
    {
     "name": "stderr",
     "output_type": "stream",
     "text": [
      "[Parallel(n_jobs=-1)]: Done 750 out of 750 | elapsed:  9.6min finished\n"
     ]
    },
    {
     "name": "stdout",
     "output_type": "stream",
     "text": [
      "best grid =  {'C': 1, 'gamma': 1, 'kernel': 'linear'}\n",
      "Grid Score =  0.8688524590163934\n"
     ]
    }
   ],
   "source": [
    "np.random.seed(42)\n",
    "param_grid = {'C': [0.1, 1, 10, 100, 1000],\n",
    "              'gamma': [1, 0.1, 0.01, 0.001, 0.0001],\n",
    "              'kernel': ['rbf', 'linear', 'sigmoid']}\n",
    "\n",
    "grid_search = GridSearchCV(estimator = SVC(), param_grid = param_grid, \n",
    "                          cv = 10, n_jobs = -1, verbose = 2)\n",
    "grid_search.fit(X_train, y_train)\n",
    "best_grid = grid_search.best_params_\n",
    "print('best grid = ', best_grid)\n",
    "grid_accuracy = grid_search.score(X_test, y_test)\n",
    "print('Grid Score = ', grid_accuracy)"
   ]
  },
  {
   "cell_type": "code",
   "execution_count": 24,
   "id": "b925ab59",
   "metadata": {
    "execution": {
     "iopub.execute_input": "2021-11-02T17:43:07.717630Z",
     "iopub.status.busy": "2021-11-02T17:43:07.716716Z",
     "iopub.status.idle": "2021-11-02T17:43:07.720516Z",
     "shell.execute_reply": "2021-11-02T17:43:07.720026Z",
     "shell.execute_reply.started": "2021-11-02T15:51:35.089382Z"
    },
    "papermill": {
     "duration": 0.052096,
     "end_time": "2021-11-02T17:43:07.720659",
     "exception": false,
     "start_time": "2021-11-02T17:43:07.668563",
     "status": "completed"
    },
    "tags": []
   },
   "outputs": [
    {
     "data": {
      "text/plain": [
       "{'C': 1, 'gamma': 1, 'kernel': 'linear'}"
      ]
     },
     "execution_count": 24,
     "metadata": {},
     "output_type": "execute_result"
    }
   ],
   "source": [
    "best_grid\n"
   ]
  },
  {
   "cell_type": "code",
   "execution_count": 25,
   "id": "a84aba7a",
   "metadata": {
    "execution": {
     "iopub.execute_input": "2021-11-02T17:43:07.810353Z",
     "iopub.status.busy": "2021-11-02T17:43:07.809490Z",
     "iopub.status.idle": "2021-11-02T17:43:07.813276Z",
     "shell.execute_reply": "2021-11-02T17:43:07.812733Z",
     "shell.execute_reply.started": "2021-11-02T15:51:35.097915Z"
    },
    "papermill": {
     "duration": 0.050726,
     "end_time": "2021-11-02T17:43:07.813428",
     "exception": false,
     "start_time": "2021-11-02T17:43:07.762702",
     "status": "completed"
    },
    "tags": []
   },
   "outputs": [
    {
     "data": {
      "text/plain": [
       "0.8688524590163934"
      ]
     },
     "execution_count": 25,
     "metadata": {},
     "output_type": "execute_result"
    }
   ],
   "source": [
    "grid_accuracy"
   ]
  },
  {
   "cell_type": "markdown",
   "id": "3938630d",
   "metadata": {
    "papermill": {
     "duration": 0.042908,
     "end_time": "2021-11-02T17:43:07.899140",
     "exception": false,
     "start_time": "2021-11-02T17:43:07.856232",
     "status": "completed"
    },
    "tags": []
   },
   "source": [
    "## Comparing results"
   ]
  },
  {
   "cell_type": "code",
   "execution_count": 26,
   "id": "47327fbd",
   "metadata": {
    "collapsed": true,
    "execution": {
     "iopub.execute_input": "2021-11-02T17:43:07.989300Z",
     "iopub.status.busy": "2021-11-02T17:43:07.988349Z",
     "iopub.status.idle": "2021-11-02T17:43:10.477667Z",
     "shell.execute_reply": "2021-11-02T17:43:10.476838Z",
     "shell.execute_reply.started": "2021-11-02T15:51:35.115203Z"
    },
    "jupyter": {
     "outputs_hidden": true
    },
    "papermill": {
     "duration": 2.534679,
     "end_time": "2021-11-02T17:43:10.477823",
     "exception": false,
     "start_time": "2021-11-02T17:43:07.943144",
     "status": "completed"
    },
    "tags": []
   },
   "outputs": [
    {
     "data": {
      "text/html": [
       "        <script type=\"text/javascript\">\n",
       "        window.PlotlyConfig = {MathJaxConfig: 'local'};\n",
       "        if (window.MathJax) {MathJax.Hub.Config({SVG: {font: \"STIX-Web\"}});}\n",
       "        if (typeof require !== 'undefined') {\n",
       "        require.undef(\"plotly\");\n",
       "        requirejs.config({\n",
       "            paths: {\n",
       "                'plotly': ['https://cdn.plot.ly/plotly-2.4.2.min']\n",
       "            }\n",
       "        });\n",
       "        require(['plotly'], function(Plotly) {\n",
       "            window._Plotly = Plotly;\n",
       "        });\n",
       "        }\n",
       "        </script>\n",
       "        "
      ]
     },
     "metadata": {},
     "output_type": "display_data"
    },
    {
     "data": {
      "text/html": [
       "<div>                            <div id=\"ffc6e48a-003c-4196-b97d-105b59ccd3d6\" class=\"plotly-graph-div\" style=\"height:525px; width:100%;\"></div>            <script type=\"text/javascript\">                require([\"plotly\"], function(Plotly) {                    window.PLOTLYENV=window.PLOTLYENV || {};                                    if (document.getElementById(\"ffc6e48a-003c-4196-b97d-105b59ccd3d6\")) {                    Plotly.newPlot(                        \"ffc6e48a-003c-4196-b97d-105b59ccd3d6\",                        [{\"alignmentgroup\":\"True\",\"hovertemplate\":\"Models=%{x}<br>Score=%{y}<extra></extra>\",\"legendgroup\":\"SVM\",\"marker\":{\"color\":\"#636efa\",\"pattern\":{\"shape\":\"\"}},\"name\":\"SVM\",\"offsetgroup\":\"SVM\",\"orientation\":\"v\",\"showlegend\":true,\"textposition\":\"auto\",\"type\":\"bar\",\"x\":[\"SVM\"],\"xaxis\":\"x\",\"y\":[0.8688524590163934],\"yaxis\":\"y\"},{\"alignmentgroup\":\"True\",\"hovertemplate\":\"Models=%{x}<br>Score=%{y}<extra></extra>\",\"legendgroup\":\"SVM_grid\",\"marker\":{\"color\":\"#EF553B\",\"pattern\":{\"shape\":\"\"}},\"name\":\"SVM_grid\",\"offsetgroup\":\"SVM_grid\",\"orientation\":\"v\",\"showlegend\":true,\"textposition\":\"auto\",\"type\":\"bar\",\"x\":[\"SVM_grid\"],\"xaxis\":\"x\",\"y\":[0.8688524590163934],\"yaxis\":\"y\"}],                        {\"bargap\":0.5,\"barmode\":\"relative\",\"legend\":{\"title\":{\"text\":\"Models\"},\"tracegroupgap\":0},\"template\":{\"data\":{\"bar\":[{\"error_x\":{\"color\":\"#f2f5fa\"},\"error_y\":{\"color\":\"#f2f5fa\"},\"marker\":{\"line\":{\"color\":\"rgb(17,17,17)\",\"width\":0.5},\"pattern\":{\"fillmode\":\"overlay\",\"size\":10,\"solidity\":0.2}},\"type\":\"bar\"}],\"barpolar\":[{\"marker\":{\"line\":{\"color\":\"rgb(17,17,17)\",\"width\":0.5},\"pattern\":{\"fillmode\":\"overlay\",\"size\":10,\"solidity\":0.2}},\"type\":\"barpolar\"}],\"carpet\":[{\"aaxis\":{\"endlinecolor\":\"#A2B1C6\",\"gridcolor\":\"#506784\",\"linecolor\":\"#506784\",\"minorgridcolor\":\"#506784\",\"startlinecolor\":\"#A2B1C6\"},\"baxis\":{\"endlinecolor\":\"#A2B1C6\",\"gridcolor\":\"#506784\",\"linecolor\":\"#506784\",\"minorgridcolor\":\"#506784\",\"startlinecolor\":\"#A2B1C6\"},\"type\":\"carpet\"}],\"choropleth\":[{\"colorbar\":{\"outlinewidth\":0,\"ticks\":\"\"},\"type\":\"choropleth\"}],\"contour\":[{\"colorbar\":{\"outlinewidth\":0,\"ticks\":\"\"},\"colorscale\":[[0.0,\"#0d0887\"],[0.1111111111111111,\"#46039f\"],[0.2222222222222222,\"#7201a8\"],[0.3333333333333333,\"#9c179e\"],[0.4444444444444444,\"#bd3786\"],[0.5555555555555556,\"#d8576b\"],[0.6666666666666666,\"#ed7953\"],[0.7777777777777778,\"#fb9f3a\"],[0.8888888888888888,\"#fdca26\"],[1.0,\"#f0f921\"]],\"type\":\"contour\"}],\"contourcarpet\":[{\"colorbar\":{\"outlinewidth\":0,\"ticks\":\"\"},\"type\":\"contourcarpet\"}],\"heatmap\":[{\"colorbar\":{\"outlinewidth\":0,\"ticks\":\"\"},\"colorscale\":[[0.0,\"#0d0887\"],[0.1111111111111111,\"#46039f\"],[0.2222222222222222,\"#7201a8\"],[0.3333333333333333,\"#9c179e\"],[0.4444444444444444,\"#bd3786\"],[0.5555555555555556,\"#d8576b\"],[0.6666666666666666,\"#ed7953\"],[0.7777777777777778,\"#fb9f3a\"],[0.8888888888888888,\"#fdca26\"],[1.0,\"#f0f921\"]],\"type\":\"heatmap\"}],\"heatmapgl\":[{\"colorbar\":{\"outlinewidth\":0,\"ticks\":\"\"},\"colorscale\":[[0.0,\"#0d0887\"],[0.1111111111111111,\"#46039f\"],[0.2222222222222222,\"#7201a8\"],[0.3333333333333333,\"#9c179e\"],[0.4444444444444444,\"#bd3786\"],[0.5555555555555556,\"#d8576b\"],[0.6666666666666666,\"#ed7953\"],[0.7777777777777778,\"#fb9f3a\"],[0.8888888888888888,\"#fdca26\"],[1.0,\"#f0f921\"]],\"type\":\"heatmapgl\"}],\"histogram\":[{\"marker\":{\"pattern\":{\"fillmode\":\"overlay\",\"size\":10,\"solidity\":0.2}},\"type\":\"histogram\"}],\"histogram2d\":[{\"colorbar\":{\"outlinewidth\":0,\"ticks\":\"\"},\"colorscale\":[[0.0,\"#0d0887\"],[0.1111111111111111,\"#46039f\"],[0.2222222222222222,\"#7201a8\"],[0.3333333333333333,\"#9c179e\"],[0.4444444444444444,\"#bd3786\"],[0.5555555555555556,\"#d8576b\"],[0.6666666666666666,\"#ed7953\"],[0.7777777777777778,\"#fb9f3a\"],[0.8888888888888888,\"#fdca26\"],[1.0,\"#f0f921\"]],\"type\":\"histogram2d\"}],\"histogram2dcontour\":[{\"colorbar\":{\"outlinewidth\":0,\"ticks\":\"\"},\"colorscale\":[[0.0,\"#0d0887\"],[0.1111111111111111,\"#46039f\"],[0.2222222222222222,\"#7201a8\"],[0.3333333333333333,\"#9c179e\"],[0.4444444444444444,\"#bd3786\"],[0.5555555555555556,\"#d8576b\"],[0.6666666666666666,\"#ed7953\"],[0.7777777777777778,\"#fb9f3a\"],[0.8888888888888888,\"#fdca26\"],[1.0,\"#f0f921\"]],\"type\":\"histogram2dcontour\"}],\"mesh3d\":[{\"colorbar\":{\"outlinewidth\":0,\"ticks\":\"\"},\"type\":\"mesh3d\"}],\"parcoords\":[{\"line\":{\"colorbar\":{\"outlinewidth\":0,\"ticks\":\"\"}},\"type\":\"parcoords\"}],\"pie\":[{\"automargin\":true,\"type\":\"pie\"}],\"scatter\":[{\"marker\":{\"line\":{\"color\":\"#283442\"}},\"type\":\"scatter\"}],\"scatter3d\":[{\"line\":{\"colorbar\":{\"outlinewidth\":0,\"ticks\":\"\"}},\"marker\":{\"colorbar\":{\"outlinewidth\":0,\"ticks\":\"\"}},\"type\":\"scatter3d\"}],\"scattercarpet\":[{\"marker\":{\"colorbar\":{\"outlinewidth\":0,\"ticks\":\"\"}},\"type\":\"scattercarpet\"}],\"scattergeo\":[{\"marker\":{\"colorbar\":{\"outlinewidth\":0,\"ticks\":\"\"}},\"type\":\"scattergeo\"}],\"scattergl\":[{\"marker\":{\"line\":{\"color\":\"#283442\"}},\"type\":\"scattergl\"}],\"scattermapbox\":[{\"marker\":{\"colorbar\":{\"outlinewidth\":0,\"ticks\":\"\"}},\"type\":\"scattermapbox\"}],\"scatterpolar\":[{\"marker\":{\"colorbar\":{\"outlinewidth\":0,\"ticks\":\"\"}},\"type\":\"scatterpolar\"}],\"scatterpolargl\":[{\"marker\":{\"colorbar\":{\"outlinewidth\":0,\"ticks\":\"\"}},\"type\":\"scatterpolargl\"}],\"scatterternary\":[{\"marker\":{\"colorbar\":{\"outlinewidth\":0,\"ticks\":\"\"}},\"type\":\"scatterternary\"}],\"surface\":[{\"colorbar\":{\"outlinewidth\":0,\"ticks\":\"\"},\"colorscale\":[[0.0,\"#0d0887\"],[0.1111111111111111,\"#46039f\"],[0.2222222222222222,\"#7201a8\"],[0.3333333333333333,\"#9c179e\"],[0.4444444444444444,\"#bd3786\"],[0.5555555555555556,\"#d8576b\"],[0.6666666666666666,\"#ed7953\"],[0.7777777777777778,\"#fb9f3a\"],[0.8888888888888888,\"#fdca26\"],[1.0,\"#f0f921\"]],\"type\":\"surface\"}],\"table\":[{\"cells\":{\"fill\":{\"color\":\"#506784\"},\"line\":{\"color\":\"rgb(17,17,17)\"}},\"header\":{\"fill\":{\"color\":\"#2a3f5f\"},\"line\":{\"color\":\"rgb(17,17,17)\"}},\"type\":\"table\"}]},\"layout\":{\"annotationdefaults\":{\"arrowcolor\":\"#f2f5fa\",\"arrowhead\":0,\"arrowwidth\":1},\"autotypenumbers\":\"strict\",\"coloraxis\":{\"colorbar\":{\"outlinewidth\":0,\"ticks\":\"\"}},\"colorscale\":{\"diverging\":[[0,\"#8e0152\"],[0.1,\"#c51b7d\"],[0.2,\"#de77ae\"],[0.3,\"#f1b6da\"],[0.4,\"#fde0ef\"],[0.5,\"#f7f7f7\"],[0.6,\"#e6f5d0\"],[0.7,\"#b8e186\"],[0.8,\"#7fbc41\"],[0.9,\"#4d9221\"],[1,\"#276419\"]],\"sequential\":[[0.0,\"#0d0887\"],[0.1111111111111111,\"#46039f\"],[0.2222222222222222,\"#7201a8\"],[0.3333333333333333,\"#9c179e\"],[0.4444444444444444,\"#bd3786\"],[0.5555555555555556,\"#d8576b\"],[0.6666666666666666,\"#ed7953\"],[0.7777777777777778,\"#fb9f3a\"],[0.8888888888888888,\"#fdca26\"],[1.0,\"#f0f921\"]],\"sequentialminus\":[[0.0,\"#0d0887\"],[0.1111111111111111,\"#46039f\"],[0.2222222222222222,\"#7201a8\"],[0.3333333333333333,\"#9c179e\"],[0.4444444444444444,\"#bd3786\"],[0.5555555555555556,\"#d8576b\"],[0.6666666666666666,\"#ed7953\"],[0.7777777777777778,\"#fb9f3a\"],[0.8888888888888888,\"#fdca26\"],[1.0,\"#f0f921\"]]},\"colorway\":[\"#636efa\",\"#EF553B\",\"#00cc96\",\"#ab63fa\",\"#FFA15A\",\"#19d3f3\",\"#FF6692\",\"#B6E880\",\"#FF97FF\",\"#FECB52\"],\"font\":{\"color\":\"#f2f5fa\"},\"geo\":{\"bgcolor\":\"rgb(17,17,17)\",\"lakecolor\":\"rgb(17,17,17)\",\"landcolor\":\"rgb(17,17,17)\",\"showlakes\":true,\"showland\":true,\"subunitcolor\":\"#506784\"},\"hoverlabel\":{\"align\":\"left\"},\"hovermode\":\"closest\",\"mapbox\":{\"style\":\"dark\"},\"paper_bgcolor\":\"rgb(17,17,17)\",\"plot_bgcolor\":\"rgb(17,17,17)\",\"polar\":{\"angularaxis\":{\"gridcolor\":\"#506784\",\"linecolor\":\"#506784\",\"ticks\":\"\"},\"bgcolor\":\"rgb(17,17,17)\",\"radialaxis\":{\"gridcolor\":\"#506784\",\"linecolor\":\"#506784\",\"ticks\":\"\"}},\"scene\":{\"xaxis\":{\"backgroundcolor\":\"rgb(17,17,17)\",\"gridcolor\":\"#506784\",\"gridwidth\":2,\"linecolor\":\"#506784\",\"showbackground\":true,\"ticks\":\"\",\"zerolinecolor\":\"#C8D4E3\"},\"yaxis\":{\"backgroundcolor\":\"rgb(17,17,17)\",\"gridcolor\":\"#506784\",\"gridwidth\":2,\"linecolor\":\"#506784\",\"showbackground\":true,\"ticks\":\"\",\"zerolinecolor\":\"#C8D4E3\"},\"zaxis\":{\"backgroundcolor\":\"rgb(17,17,17)\",\"gridcolor\":\"#506784\",\"gridwidth\":2,\"linecolor\":\"#506784\",\"showbackground\":true,\"ticks\":\"\",\"zerolinecolor\":\"#C8D4E3\"}},\"shapedefaults\":{\"line\":{\"color\":\"#f2f5fa\"}},\"sliderdefaults\":{\"bgcolor\":\"#C8D4E3\",\"bordercolor\":\"rgb(17,17,17)\",\"borderwidth\":1,\"tickwidth\":0},\"ternary\":{\"aaxis\":{\"gridcolor\":\"#506784\",\"linecolor\":\"#506784\",\"ticks\":\"\"},\"baxis\":{\"gridcolor\":\"#506784\",\"linecolor\":\"#506784\",\"ticks\":\"\"},\"bgcolor\":\"rgb(17,17,17)\",\"caxis\":{\"gridcolor\":\"#506784\",\"linecolor\":\"#506784\",\"ticks\":\"\"}},\"title\":{\"x\":0.05},\"updatemenudefaults\":{\"bgcolor\":\"#506784\",\"borderwidth\":0},\"xaxis\":{\"automargin\":true,\"gridcolor\":\"#283442\",\"linecolor\":\"#506784\",\"ticks\":\"\",\"title\":{\"standoff\":15},\"zerolinecolor\":\"#283442\",\"zerolinewidth\":2},\"yaxis\":{\"automargin\":true,\"gridcolor\":\"#283442\",\"linecolor\":\"#506784\",\"ticks\":\"\",\"title\":{\"standoff\":15},\"zerolinecolor\":\"#283442\",\"zerolinewidth\":2}}},\"title\":{\"text\":\"<b>Models Score</b>\"},\"xaxis\":{\"anchor\":\"y\",\"categoryarray\":[\"SVM\",\"SVM_grid\"],\"categoryorder\":\"array\",\"domain\":[0.0,1.0],\"title\":{\"text\":\"Models\"}},\"yaxis\":{\"anchor\":\"x\",\"domain\":[0.0,1.0],\"title\":{\"text\":\"Score\"}}},                        {\"responsive\": true}                    ).then(function(){\n",
       "                            \n",
       "var gd = document.getElementById('ffc6e48a-003c-4196-b97d-105b59ccd3d6');\n",
       "var x = new MutationObserver(function (mutations, observer) {{\n",
       "        var display = window.getComputedStyle(gd).display;\n",
       "        if (!display || display === 'none') {{\n",
       "            console.log([gd, 'removed!']);\n",
       "            Plotly.purge(gd);\n",
       "            observer.disconnect();\n",
       "        }}\n",
       "}});\n",
       "\n",
       "// Listen for the removal of the full notebook cells\n",
       "var notebookContainer = gd.closest('#notebook-container');\n",
       "if (notebookContainer) {{\n",
       "    x.observe(notebookContainer, {childList: true});\n",
       "}}\n",
       "\n",
       "// Listen for the clearing of the current output cell\n",
       "var outputEl = gd.closest('.output');\n",
       "if (outputEl) {{\n",
       "    x.observe(outputEl, {childList: true});\n",
       "}}\n",
       "\n",
       "                        })                };                });            </script>        </div>"
      ]
     },
     "metadata": {},
     "output_type": "display_data"
    }
   ],
   "source": [
    "import plotly.express as px\n",
    "data = pd.DataFrame([[\"SVM\", clf_accuracy], [\"SVM_grid\", grid_accuracy]], columns = ['Models','Score'])\n",
    "fig = px.bar(data_frame = data,\n",
    "             x=\"Models\",\n",
    "             y=\"Score\",\n",
    "             color=\"Models\", title = \"<b>Models Score</b>\", template = 'plotly_dark')\n",
    "\n",
    "fig.update_layout(bargap=0.5)\n",
    "\n",
    "fig.show()"
   ]
  },
  {
   "cell_type": "code",
   "execution_count": null,
   "id": "6859fde0",
   "metadata": {
    "papermill": {
     "duration": 0.046107,
     "end_time": "2021-11-02T17:43:10.568891",
     "exception": false,
     "start_time": "2021-11-02T17:43:10.522784",
     "status": "completed"
    },
    "tags": []
   },
   "outputs": [],
   "source": []
  }
 ],
 "metadata": {
  "kernelspec": {
   "display_name": "Python 3",
   "language": "python",
   "name": "python3"
  },
  "language_info": {
   "codemirror_mode": {
    "name": "ipython",
    "version": 3
   },
   "file_extension": ".py",
   "mimetype": "text/x-python",
   "name": "python",
   "nbconvert_exporter": "python",
   "pygments_lexer": "ipython3",
   "version": "3.7.10"
  },
  "papermill": {
   "default_parameters": {},
   "duration": 602.541472,
   "end_time": "2021-11-02T17:43:11.528619",
   "environment_variables": {},
   "exception": null,
   "input_path": "__notebook__.ipynb",
   "output_path": "__notebook__.ipynb",
   "parameters": {},
   "start_time": "2021-11-02T17:33:08.987147",
   "version": "2.3.3"
  }
 },
 "nbformat": 4,
 "nbformat_minor": 5
}
