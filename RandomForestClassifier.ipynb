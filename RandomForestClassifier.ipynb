{
 "cells": [
  {
   "cell_type": "markdown",
   "id": "57b3e6cc",
   "metadata": {
    "papermill": {
     "duration": 0.035609,
     "end_time": "2021-11-02T09:47:07.604227",
     "exception": false,
     "start_time": "2021-11-02T09:47:07.568618",
     "status": "completed"
    },
    "tags": []
   },
   "source": [
    "## Imports"
   ]
  },
  {
   "cell_type": "code",
   "execution_count": 1,
   "id": "36801fe8",
   "metadata": {
    "_cell_guid": "b1076dfc-b9ad-4769-8c92-a6c4dae69d19",
    "_uuid": "8f2839f25d086af736a60e9eeb907d3b93b6e0e5",
    "execution": {
     "iopub.execute_input": "2021-11-02T09:47:07.673984Z",
     "iopub.status.busy": "2021-11-02T09:47:07.672089Z",
     "iopub.status.idle": "2021-11-02T09:47:09.357325Z",
     "shell.execute_reply": "2021-11-02T09:47:09.357962Z",
     "shell.execute_reply.started": "2021-11-02T09:39:57.975111Z"
    },
    "papermill": {
     "duration": 1.722379,
     "end_time": "2021-11-02T09:47:09.358384",
     "exception": false,
     "start_time": "2021-11-02T09:47:07.636005",
     "status": "completed"
    },
    "tags": []
   },
   "outputs": [],
   "source": [
    "import pandas as pd\n",
    "import numpy as np\n",
    "import matplotlib.pyplot as plt\n",
    "import seaborn as sns\n",
    "\n",
    "from sklearn.model_selection import train_test_split, GridSearchCV, cross_val_score, validation_curve\n",
    "\n",
    "from sklearn.ensemble import RandomForestClassifier\n",
    "\n",
    "from sklearn.metrics import accuracy_score, confusion_matrix, classification_report, plot_roc_curve"
   ]
  },
  {
   "cell_type": "markdown",
   "id": "35a53cd7",
   "metadata": {
    "papermill": {
     "duration": 0.031889,
     "end_time": "2021-11-02T09:47:09.421944",
     "exception": false,
     "start_time": "2021-11-02T09:47:09.390055",
     "status": "completed"
    },
    "tags": []
   },
   "source": [
    "## Loading the data"
   ]
  },
  {
   "cell_type": "code",
   "execution_count": 2,
   "id": "4a93524a",
   "metadata": {
    "execution": {
     "iopub.execute_input": "2021-11-02T09:47:09.489380Z",
     "iopub.status.busy": "2021-11-02T09:47:09.488324Z",
     "iopub.status.idle": "2021-11-02T09:47:09.535846Z",
     "shell.execute_reply": "2021-11-02T09:47:09.536402Z",
     "shell.execute_reply.started": "2021-11-02T09:39:58.454853Z"
    },
    "papermill": {
     "duration": 0.082641,
     "end_time": "2021-11-02T09:47:09.536609",
     "exception": false,
     "start_time": "2021-11-02T09:47:09.453968",
     "status": "completed"
    },
    "tags": []
   },
   "outputs": [
    {
     "data": {
      "text/html": [
       "<div>\n",
       "<style scoped>\n",
       "    .dataframe tbody tr th:only-of-type {\n",
       "        vertical-align: middle;\n",
       "    }\n",
       "\n",
       "    .dataframe tbody tr th {\n",
       "        vertical-align: top;\n",
       "    }\n",
       "\n",
       "    .dataframe thead th {\n",
       "        text-align: right;\n",
       "    }\n",
       "</style>\n",
       "<table border=\"1\" class=\"dataframe\">\n",
       "  <thead>\n",
       "    <tr style=\"text-align: right;\">\n",
       "      <th></th>\n",
       "      <th>age</th>\n",
       "      <th>sex</th>\n",
       "      <th>cp</th>\n",
       "      <th>trestbps</th>\n",
       "      <th>chol</th>\n",
       "      <th>fbs</th>\n",
       "      <th>restecg</th>\n",
       "      <th>thalach</th>\n",
       "      <th>exang</th>\n",
       "      <th>oldpeak</th>\n",
       "      <th>slope</th>\n",
       "      <th>ca</th>\n",
       "      <th>thal</th>\n",
       "      <th>target</th>\n",
       "    </tr>\n",
       "  </thead>\n",
       "  <tbody>\n",
       "    <tr>\n",
       "      <th>0</th>\n",
       "      <td>63</td>\n",
       "      <td>1</td>\n",
       "      <td>3</td>\n",
       "      <td>145</td>\n",
       "      <td>233</td>\n",
       "      <td>1</td>\n",
       "      <td>0</td>\n",
       "      <td>150</td>\n",
       "      <td>0</td>\n",
       "      <td>2.3</td>\n",
       "      <td>0</td>\n",
       "      <td>0</td>\n",
       "      <td>1</td>\n",
       "      <td>1</td>\n",
       "    </tr>\n",
       "    <tr>\n",
       "      <th>1</th>\n",
       "      <td>37</td>\n",
       "      <td>1</td>\n",
       "      <td>2</td>\n",
       "      <td>130</td>\n",
       "      <td>250</td>\n",
       "      <td>0</td>\n",
       "      <td>1</td>\n",
       "      <td>187</td>\n",
       "      <td>0</td>\n",
       "      <td>3.5</td>\n",
       "      <td>0</td>\n",
       "      <td>0</td>\n",
       "      <td>2</td>\n",
       "      <td>1</td>\n",
       "    </tr>\n",
       "    <tr>\n",
       "      <th>2</th>\n",
       "      <td>41</td>\n",
       "      <td>0</td>\n",
       "      <td>1</td>\n",
       "      <td>130</td>\n",
       "      <td>204</td>\n",
       "      <td>0</td>\n",
       "      <td>0</td>\n",
       "      <td>172</td>\n",
       "      <td>0</td>\n",
       "      <td>1.4</td>\n",
       "      <td>2</td>\n",
       "      <td>0</td>\n",
       "      <td>2</td>\n",
       "      <td>1</td>\n",
       "    </tr>\n",
       "    <tr>\n",
       "      <th>3</th>\n",
       "      <td>56</td>\n",
       "      <td>1</td>\n",
       "      <td>1</td>\n",
       "      <td>120</td>\n",
       "      <td>236</td>\n",
       "      <td>0</td>\n",
       "      <td>1</td>\n",
       "      <td>178</td>\n",
       "      <td>0</td>\n",
       "      <td>0.8</td>\n",
       "      <td>2</td>\n",
       "      <td>0</td>\n",
       "      <td>2</td>\n",
       "      <td>1</td>\n",
       "    </tr>\n",
       "    <tr>\n",
       "      <th>4</th>\n",
       "      <td>57</td>\n",
       "      <td>0</td>\n",
       "      <td>0</td>\n",
       "      <td>120</td>\n",
       "      <td>354</td>\n",
       "      <td>0</td>\n",
       "      <td>1</td>\n",
       "      <td>163</td>\n",
       "      <td>1</td>\n",
       "      <td>0.6</td>\n",
       "      <td>2</td>\n",
       "      <td>0</td>\n",
       "      <td>2</td>\n",
       "      <td>1</td>\n",
       "    </tr>\n",
       "  </tbody>\n",
       "</table>\n",
       "</div>"
      ],
      "text/plain": [
       "   age  sex  cp  trestbps  chol  fbs  restecg  thalach  exang  oldpeak  slope  \\\n",
       "0   63    1   3       145   233    1        0      150      0      2.3      0   \n",
       "1   37    1   2       130   250    0        1      187      0      3.5      0   \n",
       "2   41    0   1       130   204    0        0      172      0      1.4      2   \n",
       "3   56    1   1       120   236    0        1      178      0      0.8      2   \n",
       "4   57    0   0       120   354    0        1      163      1      0.6      2   \n",
       "\n",
       "   ca  thal  target  \n",
       "0   0     1       1  \n",
       "1   0     2       1  \n",
       "2   0     2       1  \n",
       "3   0     2       1  \n",
       "4   0     2       1  "
      ]
     },
     "execution_count": 2,
     "metadata": {},
     "output_type": "execute_result"
    }
   ],
   "source": [
    "df = pd.read_csv('../input/heart-disease-uci/heart.csv')\n",
    "df.head()"
   ]
  },
  {
   "cell_type": "code",
   "execution_count": 3,
   "id": "55858d46",
   "metadata": {
    "execution": {
     "iopub.execute_input": "2021-11-02T09:47:09.606840Z",
     "iopub.status.busy": "2021-11-02T09:47:09.605772Z",
     "iopub.status.idle": "2021-11-02T09:47:09.611997Z",
     "shell.execute_reply": "2021-11-02T09:47:09.612677Z",
     "shell.execute_reply.started": "2021-11-02T09:39:58.498433Z"
    },
    "papermill": {
     "duration": 0.043263,
     "end_time": "2021-11-02T09:47:09.612893",
     "exception": false,
     "start_time": "2021-11-02T09:47:09.569630",
     "status": "completed"
    },
    "tags": []
   },
   "outputs": [
    {
     "data": {
      "text/plain": [
       "(303, 14)"
      ]
     },
     "execution_count": 3,
     "metadata": {},
     "output_type": "execute_result"
    }
   ],
   "source": [
    "df.shape"
   ]
  },
  {
   "cell_type": "markdown",
   "id": "74c347a7",
   "metadata": {
    "papermill": {
     "duration": 0.031641,
     "end_time": "2021-11-02T09:47:09.676517",
     "exception": false,
     "start_time": "2021-11-02T09:47:09.644876",
     "status": "completed"
    },
    "tags": []
   },
   "source": [
    "#### as we can see this data this data is about 303 rows and 14 column"
   ]
  },
  {
   "cell_type": "markdown",
   "id": "3dbf0ae7",
   "metadata": {
    "papermill": {
     "duration": 0.032641,
     "end_time": "2021-11-02T09:47:09.741261",
     "exception": false,
     "start_time": "2021-11-02T09:47:09.708620",
     "status": "completed"
    },
    "tags": []
   },
   "source": [
    "## Exploring our dataset "
   ]
  },
  {
   "cell_type": "code",
   "execution_count": 4,
   "id": "eb1f2cf0",
   "metadata": {
    "execution": {
     "iopub.execute_input": "2021-11-02T09:47:09.814883Z",
     "iopub.status.busy": "2021-11-02T09:47:09.814154Z",
     "iopub.status.idle": "2021-11-02T09:47:09.821995Z",
     "shell.execute_reply": "2021-11-02T09:47:09.821391Z",
     "shell.execute_reply.started": "2021-11-02T09:39:58.507383Z"
    },
    "papermill": {
     "duration": 0.049769,
     "end_time": "2021-11-02T09:47:09.822158",
     "exception": false,
     "start_time": "2021-11-02T09:47:09.772389",
     "status": "completed"
    },
    "tags": []
   },
   "outputs": [
    {
     "data": {
      "text/plain": [
       "1    0.683168\n",
       "0    0.316832\n",
       "Name: sex, dtype: float64"
      ]
     },
     "execution_count": 4,
     "metadata": {},
     "output_type": "execute_result"
    }
   ],
   "source": [
    "df.sex.value_counts(normalize=True)"
   ]
  },
  {
   "cell_type": "markdown",
   "id": "59f81dcf",
   "metadata": {
    "papermill": {
     "duration": 0.03134,
     "end_time": "2021-11-02T09:47:09.887198",
     "exception": false,
     "start_time": "2021-11-02T09:47:09.855858",
     "status": "completed"
    },
    "tags": []
   },
   "source": [
    "#### this mean we have more female then male."
   ]
  },
  {
   "cell_type": "markdown",
   "id": "d23b8697",
   "metadata": {
    "papermill": {
     "duration": 0.031071,
     "end_time": "2021-11-02T09:47:09.949945",
     "exception": false,
     "start_time": "2021-11-02T09:47:09.918874",
     "status": "completed"
    },
    "tags": []
   },
   "source": [
    "#### let's plot only people who got disease by sex"
   ]
  },
  {
   "cell_type": "code",
   "execution_count": 5,
   "id": "ad4a02b2",
   "metadata": {
    "execution": {
     "iopub.execute_input": "2021-11-02T09:47:10.019840Z",
     "iopub.status.busy": "2021-11-02T09:47:10.019070Z",
     "iopub.status.idle": "2021-11-02T09:47:10.272618Z",
     "shell.execute_reply": "2021-11-02T09:47:10.273153Z",
     "shell.execute_reply.started": "2021-11-02T09:39:58.526643Z"
    },
    "papermill": {
     "duration": 0.289601,
     "end_time": "2021-11-02T09:47:10.273381",
     "exception": false,
     "start_time": "2021-11-02T09:47:09.983780",
     "status": "completed"
    },
    "tags": []
   },
   "outputs": [
    {
     "data": {
      "image/png": "[encoded data removed]",
      "text/plain": [
       "<Figure size 432x288 with 1 Axes>"
      ]
     },
     "metadata": {
      "needs_background": "light"
     },
     "output_type": "display_data"
    }
   ],
   "source": [
    "df.sex[df.target==1].value_counts().plot(kind=\"bar\")\n",
    "# commenting the plot \n",
    "plt.title(\"people who got disease by sex\")\n",
    "plt.xlabel(\"sex\")\n",
    "plt.ylabel(\"effected\"); \n",
    "plt.xticks(rotation = 0);"
   ]
  },
  {
   "cell_type": "code",
   "execution_count": 6,
   "id": "1a989eef",
   "metadata": {
    "execution": {
     "iopub.execute_input": "2021-11-02T09:47:10.343753Z",
     "iopub.status.busy": "2021-11-02T09:47:10.343022Z",
     "iopub.status.idle": "2021-11-02T09:47:10.349361Z",
     "shell.execute_reply": "2021-11-02T09:47:10.350004Z",
     "shell.execute_reply.started": "2021-11-02T09:39:58.730282Z"
    },
    "papermill": {
     "duration": 0.043584,
     "end_time": "2021-11-02T09:47:10.350215",
     "exception": false,
     "start_time": "2021-11-02T09:47:10.306631",
     "status": "completed"
    },
    "tags": []
   },
   "outputs": [
    {
     "data": {
      "text/plain": [
       "1    0.544554\n",
       "0    0.455446\n",
       "Name: target, dtype: float64"
      ]
     },
     "execution_count": 6,
     "metadata": {},
     "output_type": "execute_result"
    }
   ],
   "source": [
    "df.target.value_counts(normalize=True)"
   ]
  },
  {
   "cell_type": "markdown",
   "id": "319a4451",
   "metadata": {
    "papermill": {
     "duration": 0.032911,
     "end_time": "2021-11-02T09:47:10.416766",
     "exception": false,
     "start_time": "2021-11-02T09:47:10.383855",
     "status": "completed"
    },
    "tags": []
   },
   "source": [
    "#### the two classes are almost equal"
   ]
  },
  {
   "cell_type": "markdown",
   "id": "17471a46",
   "metadata": {
    "papermill": {
     "duration": 0.033265,
     "end_time": "2021-11-02T09:47:10.483665",
     "exception": false,
     "start_time": "2021-11-02T09:47:10.450400",
     "status": "completed"
    },
    "tags": []
   },
   "source": [
    "### Ploting Heart Disease by Age / Max Heart Rate"
   ]
  },
  {
   "cell_type": "code",
   "execution_count": 7,
   "id": "0c9a82ee",
   "metadata": {
    "execution": {
     "iopub.execute_input": "2021-11-02T09:47:10.554188Z",
     "iopub.status.busy": "2021-11-02T09:47:10.553509Z",
     "iopub.status.idle": "2021-11-02T09:47:10.883586Z",
     "shell.execute_reply": "2021-11-02T09:47:10.884075Z",
     "shell.execute_reply.started": "2021-11-02T09:39:58.739415Z"
    },
    "papermill": {
     "duration": 0.367224,
     "end_time": "2021-11-02T09:47:10.884306",
     "exception": false,
     "start_time": "2021-11-02T09:47:10.517082",
     "status": "completed"
    },
    "tags": []
   },
   "outputs": [
    {
     "data": {
      "image/png": "[encoded data removed]",
      "text/plain": [
       "<Figure size 432x288 with 1 Axes>"
      ]
     },
     "metadata": {
      "needs_background": "light"
     },
     "output_type": "display_data"
    }
   ],
   "source": [
    "sns.scatterplot(x=df.age, y=df.thalach, hue = df.target);\n",
    "# commenting the plot \n",
    "plt.title(\"Heart Disease by Age / Max Heart Rate\")\n",
    "plt.xlabel(\"Age\")\n",
    "plt.legend([\"Disease\", \"No Disease\"])\n",
    "plt.ylabel(\"Max Heart Rate\");"
   ]
  },
  {
   "cell_type": "markdown",
   "id": "6898561f",
   "metadata": {
    "papermill": {
     "duration": 0.036427,
     "end_time": "2021-11-02T09:47:10.954878",
     "exception": false,
     "start_time": "2021-11-02T09:47:10.918451",
     "status": "completed"
    },
    "tags": []
   },
   "source": [
    "### Correlation matrix  "
   ]
  },
  {
   "cell_type": "code",
   "execution_count": 8,
   "id": "ec33419f",
   "metadata": {
    "execution": {
     "iopub.execute_input": "2021-11-02T09:47:11.032512Z",
     "iopub.status.busy": "2021-11-02T09:47:11.031721Z",
     "iopub.status.idle": "2021-11-02T09:47:12.447168Z",
     "shell.execute_reply": "2021-11-02T09:47:12.446488Z",
     "shell.execute_reply.started": "2021-11-02T09:39:59.029190Z"
    },
    "papermill": {
     "duration": 1.45772,
     "end_time": "2021-11-02T09:47:12.447362",
     "exception": false,
     "start_time": "2021-11-02T09:47:10.989642",
     "status": "completed"
    },
    "tags": []
   },
   "outputs": [
    {
     "data": {
      "image/png": "[encoded data removed]",
      "text/plain": [
       "<Figure size 864x720 with 2 Axes>"
      ]
     },
     "metadata": {
      "needs_background": "light"
     },
     "output_type": "display_data"
    }
   ],
   "source": [
    "corr = df.corr()\n",
    "f, ax = plt.subplots(figsize=(12, 10))\n",
    "sns.heatmap(corr, annot=True, fmt='.2f', ax=ax);"
   ]
  },
  {
   "cell_type": "code",
   "execution_count": 9,
   "id": "b680e70c",
   "metadata": {
    "execution": {
     "iopub.execute_input": "2021-11-02T09:47:12.530022Z",
     "iopub.status.busy": "2021-11-02T09:47:12.529265Z",
     "iopub.status.idle": "2021-11-02T09:47:12.541585Z",
     "shell.execute_reply": "2021-11-02T09:47:12.542184Z",
     "shell.execute_reply.started": "2021-11-02T09:40:00.378987Z"
    },
    "papermill": {
     "duration": 0.056724,
     "end_time": "2021-11-02T09:47:12.542396",
     "exception": false,
     "start_time": "2021-11-02T09:47:12.485672",
     "status": "completed"
    },
    "tags": []
   },
   "outputs": [
    {
     "data": {
      "text/html": [
       "<div>\n",
       "<style scoped>\n",
       "    .dataframe tbody tr th:only-of-type {\n",
       "        vertical-align: middle;\n",
       "    }\n",
       "\n",
       "    .dataframe tbody tr th {\n",
       "        vertical-align: top;\n",
       "    }\n",
       "\n",
       "    .dataframe thead th {\n",
       "        text-align: right;\n",
       "    }\n",
       "</style>\n",
       "<table border=\"1\" class=\"dataframe\">\n",
       "  <thead>\n",
       "    <tr style=\"text-align: right;\">\n",
       "      <th></th>\n",
       "      <th>age</th>\n",
       "      <th>sex</th>\n",
       "      <th>cp</th>\n",
       "      <th>trestbps</th>\n",
       "      <th>chol</th>\n",
       "      <th>fbs</th>\n",
       "      <th>restecg</th>\n",
       "      <th>thalach</th>\n",
       "      <th>exang</th>\n",
       "      <th>oldpeak</th>\n",
       "      <th>slope</th>\n",
       "      <th>ca</th>\n",
       "      <th>thal</th>\n",
       "      <th>target</th>\n",
       "    </tr>\n",
       "  </thead>\n",
       "  <tbody>\n",
       "    <tr>\n",
       "      <th>0</th>\n",
       "      <td>63</td>\n",
       "      <td>1</td>\n",
       "      <td>3</td>\n",
       "      <td>145</td>\n",
       "      <td>233</td>\n",
       "      <td>1</td>\n",
       "      <td>0</td>\n",
       "      <td>150</td>\n",
       "      <td>0</td>\n",
       "      <td>2.3</td>\n",
       "      <td>0</td>\n",
       "      <td>0</td>\n",
       "      <td>1</td>\n",
       "      <td>1</td>\n",
       "    </tr>\n",
       "    <tr>\n",
       "      <th>1</th>\n",
       "      <td>37</td>\n",
       "      <td>1</td>\n",
       "      <td>2</td>\n",
       "      <td>130</td>\n",
       "      <td>250</td>\n",
       "      <td>0</td>\n",
       "      <td>1</td>\n",
       "      <td>187</td>\n",
       "      <td>0</td>\n",
       "      <td>3.5</td>\n",
       "      <td>0</td>\n",
       "      <td>0</td>\n",
       "      <td>2</td>\n",
       "      <td>1</td>\n",
       "    </tr>\n",
       "    <tr>\n",
       "      <th>2</th>\n",
       "      <td>41</td>\n",
       "      <td>0</td>\n",
       "      <td>1</td>\n",
       "      <td>130</td>\n",
       "      <td>204</td>\n",
       "      <td>0</td>\n",
       "      <td>0</td>\n",
       "      <td>172</td>\n",
       "      <td>0</td>\n",
       "      <td>1.4</td>\n",
       "      <td>2</td>\n",
       "      <td>0</td>\n",
       "      <td>2</td>\n",
       "      <td>1</td>\n",
       "    </tr>\n",
       "    <tr>\n",
       "      <th>3</th>\n",
       "      <td>56</td>\n",
       "      <td>1</td>\n",
       "      <td>1</td>\n",
       "      <td>120</td>\n",
       "      <td>236</td>\n",
       "      <td>0</td>\n",
       "      <td>1</td>\n",
       "      <td>178</td>\n",
       "      <td>0</td>\n",
       "      <td>0.8</td>\n",
       "      <td>2</td>\n",
       "      <td>0</td>\n",
       "      <td>2</td>\n",
       "      <td>1</td>\n",
       "    </tr>\n",
       "    <tr>\n",
       "      <th>4</th>\n",
       "      <td>57</td>\n",
       "      <td>0</td>\n",
       "      <td>0</td>\n",
       "      <td>120</td>\n",
       "      <td>354</td>\n",
       "      <td>0</td>\n",
       "      <td>1</td>\n",
       "      <td>163</td>\n",
       "      <td>1</td>\n",
       "      <td>0.6</td>\n",
       "      <td>2</td>\n",
       "      <td>0</td>\n",
       "      <td>2</td>\n",
       "      <td>1</td>\n",
       "    </tr>\n",
       "  </tbody>\n",
       "</table>\n",
       "</div>"
      ],
      "text/plain": [
       "   age  sex  cp  trestbps  chol  fbs  restecg  thalach  exang  oldpeak  slope  \\\n",
       "0   63    1   3       145   233    1        0      150      0      2.3      0   \n",
       "1   37    1   2       130   250    0        1      187      0      3.5      0   \n",
       "2   41    0   1       130   204    0        0      172      0      1.4      2   \n",
       "3   56    1   1       120   236    0        1      178      0      0.8      2   \n",
       "4   57    0   0       120   354    0        1      163      1      0.6      2   \n",
       "\n",
       "   ca  thal  target  \n",
       "0   0     1       1  \n",
       "1   0     2       1  \n",
       "2   0     2       1  \n",
       "3   0     2       1  \n",
       "4   0     2       1  "
      ]
     },
     "execution_count": 9,
     "metadata": {},
     "output_type": "execute_result"
    }
   ],
   "source": [
    "df.head()"
   ]
  },
  {
   "cell_type": "markdown",
   "id": "e682e888",
   "metadata": {
    "papermill": {
     "duration": 0.038195,
     "end_time": "2021-11-02T09:47:12.618521",
     "exception": false,
     "start_time": "2021-11-02T09:47:12.580326",
     "status": "completed"
    },
    "tags": []
   },
   "source": [
    "## Modeling"
   ]
  },
  {
   "cell_type": "code",
   "execution_count": 10,
   "id": "90fae2ef",
   "metadata": {
    "execution": {
     "iopub.execute_input": "2021-11-02T09:47:12.697849Z",
     "iopub.status.busy": "2021-11-02T09:47:12.697166Z",
     "iopub.status.idle": "2021-11-02T09:47:12.712660Z",
     "shell.execute_reply": "2021-11-02T09:47:12.713249Z",
     "shell.execute_reply.started": "2021-11-02T09:40:00.398417Z"
    },
    "papermill": {
     "duration": 0.057001,
     "end_time": "2021-11-02T09:47:12.713483",
     "exception": false,
     "start_time": "2021-11-02T09:47:12.656482",
     "status": "completed"
    },
    "tags": []
   },
   "outputs": [
    {
     "data": {
      "text/html": [
       "<div>\n",
       "<style scoped>\n",
       "    .dataframe tbody tr th:only-of-type {\n",
       "        vertical-align: middle;\n",
       "    }\n",
       "\n",
       "    .dataframe tbody tr th {\n",
       "        vertical-align: top;\n",
       "    }\n",
       "\n",
       "    .dataframe thead th {\n",
       "        text-align: right;\n",
       "    }\n",
       "</style>\n",
       "<table border=\"1\" class=\"dataframe\">\n",
       "  <thead>\n",
       "    <tr style=\"text-align: right;\">\n",
       "      <th></th>\n",
       "      <th>age</th>\n",
       "      <th>sex</th>\n",
       "      <th>cp</th>\n",
       "      <th>trestbps</th>\n",
       "      <th>chol</th>\n",
       "      <th>fbs</th>\n",
       "      <th>restecg</th>\n",
       "      <th>thalach</th>\n",
       "      <th>exang</th>\n",
       "      <th>oldpeak</th>\n",
       "      <th>slope</th>\n",
       "      <th>ca</th>\n",
       "      <th>thal</th>\n",
       "      <th>target</th>\n",
       "    </tr>\n",
       "  </thead>\n",
       "  <tbody>\n",
       "    <tr>\n",
       "      <th>0</th>\n",
       "      <td>63</td>\n",
       "      <td>1</td>\n",
       "      <td>3</td>\n",
       "      <td>145</td>\n",
       "      <td>233</td>\n",
       "      <td>1</td>\n",
       "      <td>0</td>\n",
       "      <td>150</td>\n",
       "      <td>0</td>\n",
       "      <td>2.3</td>\n",
       "      <td>0</td>\n",
       "      <td>0</td>\n",
       "      <td>1</td>\n",
       "      <td>1</td>\n",
       "    </tr>\n",
       "    <tr>\n",
       "      <th>1</th>\n",
       "      <td>37</td>\n",
       "      <td>1</td>\n",
       "      <td>2</td>\n",
       "      <td>130</td>\n",
       "      <td>250</td>\n",
       "      <td>0</td>\n",
       "      <td>1</td>\n",
       "      <td>187</td>\n",
       "      <td>0</td>\n",
       "      <td>3.5</td>\n",
       "      <td>0</td>\n",
       "      <td>0</td>\n",
       "      <td>2</td>\n",
       "      <td>1</td>\n",
       "    </tr>\n",
       "    <tr>\n",
       "      <th>2</th>\n",
       "      <td>41</td>\n",
       "      <td>0</td>\n",
       "      <td>1</td>\n",
       "      <td>130</td>\n",
       "      <td>204</td>\n",
       "      <td>0</td>\n",
       "      <td>0</td>\n",
       "      <td>172</td>\n",
       "      <td>0</td>\n",
       "      <td>1.4</td>\n",
       "      <td>2</td>\n",
       "      <td>0</td>\n",
       "      <td>2</td>\n",
       "      <td>1</td>\n",
       "    </tr>\n",
       "    <tr>\n",
       "      <th>3</th>\n",
       "      <td>56</td>\n",
       "      <td>1</td>\n",
       "      <td>1</td>\n",
       "      <td>120</td>\n",
       "      <td>236</td>\n",
       "      <td>0</td>\n",
       "      <td>1</td>\n",
       "      <td>178</td>\n",
       "      <td>0</td>\n",
       "      <td>0.8</td>\n",
       "      <td>2</td>\n",
       "      <td>0</td>\n",
       "      <td>2</td>\n",
       "      <td>1</td>\n",
       "    </tr>\n",
       "    <tr>\n",
       "      <th>4</th>\n",
       "      <td>57</td>\n",
       "      <td>0</td>\n",
       "      <td>0</td>\n",
       "      <td>120</td>\n",
       "      <td>354</td>\n",
       "      <td>0</td>\n",
       "      <td>1</td>\n",
       "      <td>163</td>\n",
       "      <td>1</td>\n",
       "      <td>0.6</td>\n",
       "      <td>2</td>\n",
       "      <td>0</td>\n",
       "      <td>2</td>\n",
       "      <td>1</td>\n",
       "    </tr>\n",
       "  </tbody>\n",
       "</table>\n",
       "</div>"
      ],
      "text/plain": [
       "   age  sex  cp  trestbps  chol  fbs  restecg  thalach  exang  oldpeak  slope  \\\n",
       "0   63    1   3       145   233    1        0      150      0      2.3      0   \n",
       "1   37    1   2       130   250    0        1      187      0      3.5      0   \n",
       "2   41    0   1       130   204    0        0      172      0      1.4      2   \n",
       "3   56    1   1       120   236    0        1      178      0      0.8      2   \n",
       "4   57    0   0       120   354    0        1      163      1      0.6      2   \n",
       "\n",
       "   ca  thal  target  \n",
       "0   0     1       1  \n",
       "1   0     2       1  \n",
       "2   0     2       1  \n",
       "3   0     2       1  \n",
       "4   0     2       1  "
      ]
     },
     "execution_count": 10,
     "metadata": {},
     "output_type": "execute_result"
    }
   ],
   "source": [
    "df.head()"
   ]
  },
  {
   "cell_type": "markdown",
   "id": "3b8fbb4c",
   "metadata": {
    "papermill": {
     "duration": 0.038913,
     "end_time": "2021-11-02T09:47:12.793572",
     "exception": false,
     "start_time": "2021-11-02T09:47:12.754659",
     "status": "completed"
    },
    "tags": []
   },
   "source": [
    "#### Features / Lable"
   ]
  },
  {
   "cell_type": "code",
   "execution_count": 11,
   "id": "b3b9f161",
   "metadata": {
    "execution": {
     "iopub.execute_input": "2021-11-02T09:47:12.876062Z",
     "iopub.status.busy": "2021-11-02T09:47:12.875082Z",
     "iopub.status.idle": "2021-11-02T09:47:12.890959Z",
     "shell.execute_reply": "2021-11-02T09:47:12.891437Z",
     "shell.execute_reply.started": "2021-11-02T09:40:00.415725Z"
    },
    "papermill": {
     "duration": 0.058787,
     "end_time": "2021-11-02T09:47:12.891641",
     "exception": false,
     "start_time": "2021-11-02T09:47:12.832854",
     "status": "completed"
    },
    "tags": []
   },
   "outputs": [
    {
     "data": {
      "text/html": [
       "<div>\n",
       "<style scoped>\n",
       "    .dataframe tbody tr th:only-of-type {\n",
       "        vertical-align: middle;\n",
       "    }\n",
       "\n",
       "    .dataframe tbody tr th {\n",
       "        vertical-align: top;\n",
       "    }\n",
       "\n",
       "    .dataframe thead th {\n",
       "        text-align: right;\n",
       "    }\n",
       "</style>\n",
       "<table border=\"1\" class=\"dataframe\">\n",
       "  <thead>\n",
       "    <tr style=\"text-align: right;\">\n",
       "      <th></th>\n",
       "      <th>age</th>\n",
       "      <th>sex</th>\n",
       "      <th>cp</th>\n",
       "      <th>trestbps</th>\n",
       "      <th>chol</th>\n",
       "      <th>fbs</th>\n",
       "      <th>restecg</th>\n",
       "      <th>thalach</th>\n",
       "      <th>exang</th>\n",
       "      <th>oldpeak</th>\n",
       "      <th>slope</th>\n",
       "      <th>ca</th>\n",
       "      <th>thal</th>\n",
       "    </tr>\n",
       "  </thead>\n",
       "  <tbody>\n",
       "    <tr>\n",
       "      <th>0</th>\n",
       "      <td>63</td>\n",
       "      <td>1</td>\n",
       "      <td>3</td>\n",
       "      <td>145</td>\n",
       "      <td>233</td>\n",
       "      <td>1</td>\n",
       "      <td>0</td>\n",
       "      <td>150</td>\n",
       "      <td>0</td>\n",
       "      <td>2.3</td>\n",
       "      <td>0</td>\n",
       "      <td>0</td>\n",
       "      <td>1</td>\n",
       "    </tr>\n",
       "    <tr>\n",
       "      <th>1</th>\n",
       "      <td>37</td>\n",
       "      <td>1</td>\n",
       "      <td>2</td>\n",
       "      <td>130</td>\n",
       "      <td>250</td>\n",
       "      <td>0</td>\n",
       "      <td>1</td>\n",
       "      <td>187</td>\n",
       "      <td>0</td>\n",
       "      <td>3.5</td>\n",
       "      <td>0</td>\n",
       "      <td>0</td>\n",
       "      <td>2</td>\n",
       "    </tr>\n",
       "    <tr>\n",
       "      <th>2</th>\n",
       "      <td>41</td>\n",
       "      <td>0</td>\n",
       "      <td>1</td>\n",
       "      <td>130</td>\n",
       "      <td>204</td>\n",
       "      <td>0</td>\n",
       "      <td>0</td>\n",
       "      <td>172</td>\n",
       "      <td>0</td>\n",
       "      <td>1.4</td>\n",
       "      <td>2</td>\n",
       "      <td>0</td>\n",
       "      <td>2</td>\n",
       "    </tr>\n",
       "    <tr>\n",
       "      <th>3</th>\n",
       "      <td>56</td>\n",
       "      <td>1</td>\n",
       "      <td>1</td>\n",
       "      <td>120</td>\n",
       "      <td>236</td>\n",
       "      <td>0</td>\n",
       "      <td>1</td>\n",
       "      <td>178</td>\n",
       "      <td>0</td>\n",
       "      <td>0.8</td>\n",
       "      <td>2</td>\n",
       "      <td>0</td>\n",
       "      <td>2</td>\n",
       "    </tr>\n",
       "    <tr>\n",
       "      <th>4</th>\n",
       "      <td>57</td>\n",
       "      <td>0</td>\n",
       "      <td>0</td>\n",
       "      <td>120</td>\n",
       "      <td>354</td>\n",
       "      <td>0</td>\n",
       "      <td>1</td>\n",
       "      <td>163</td>\n",
       "      <td>1</td>\n",
       "      <td>0.6</td>\n",
       "      <td>2</td>\n",
       "      <td>0</td>\n",
       "      <td>2</td>\n",
       "    </tr>\n",
       "  </tbody>\n",
       "</table>\n",
       "</div>"
      ],
      "text/plain": [
       "   age  sex  cp  trestbps  chol  fbs  restecg  thalach  exang  oldpeak  slope  \\\n",
       "0   63    1   3       145   233    1        0      150      0      2.3      0   \n",
       "1   37    1   2       130   250    0        1      187      0      3.5      0   \n",
       "2   41    0   1       130   204    0        0      172      0      1.4      2   \n",
       "3   56    1   1       120   236    0        1      178      0      0.8      2   \n",
       "4   57    0   0       120   354    0        1      163      1      0.6      2   \n",
       "\n",
       "   ca  thal  \n",
       "0   0     1  \n",
       "1   0     2  \n",
       "2   0     2  \n",
       "3   0     2  \n",
       "4   0     2  "
      ]
     },
     "execution_count": 11,
     "metadata": {},
     "output_type": "execute_result"
    }
   ],
   "source": [
    "X = df.drop('target', axis=1)\n",
    "X.head()"
   ]
  },
  {
   "cell_type": "code",
   "execution_count": 12,
   "id": "bc253611",
   "metadata": {
    "execution": {
     "iopub.execute_input": "2021-11-02T09:47:12.979840Z",
     "iopub.status.busy": "2021-11-02T09:47:12.979120Z",
     "iopub.status.idle": "2021-11-02T09:47:12.981804Z",
     "shell.execute_reply": "2021-11-02T09:47:12.982274Z",
     "shell.execute_reply.started": "2021-11-02T09:40:00.439481Z"
    },
    "papermill": {
     "duration": 0.049716,
     "end_time": "2021-11-02T09:47:12.982500",
     "exception": false,
     "start_time": "2021-11-02T09:47:12.932784",
     "status": "completed"
    },
    "tags": []
   },
   "outputs": [
    {
     "data": {
      "text/plain": [
       "0    1\n",
       "1    1\n",
       "2    1\n",
       "3    1\n",
       "4    1\n",
       "Name: target, dtype: int64"
      ]
     },
     "execution_count": 12,
     "metadata": {},
     "output_type": "execute_result"
    }
   ],
   "source": [
    "y = df.target\n",
    "y.head()"
   ]
  },
  {
   "cell_type": "markdown",
   "id": "66c493d9",
   "metadata": {
    "papermill": {
     "duration": 0.040532,
     "end_time": "2021-11-02T09:47:13.063111",
     "exception": false,
     "start_time": "2021-11-02T09:47:13.022579",
     "status": "completed"
    },
    "tags": []
   },
   "source": [
    "#### Spliting our dataset with 20% for test"
   ]
  },
  {
   "cell_type": "code",
   "execution_count": 13,
   "id": "7ba14fde",
   "metadata": {
    "execution": {
     "iopub.execute_input": "2021-11-02T09:47:13.153568Z",
     "iopub.status.busy": "2021-11-02T09:47:13.152462Z",
     "iopub.status.idle": "2021-11-02T09:47:13.156320Z",
     "shell.execute_reply": "2021-11-02T09:47:13.156886Z",
     "shell.execute_reply.started": "2021-11-02T09:40:00.447290Z"
    },
    "papermill": {
     "duration": 0.053628,
     "end_time": "2021-11-02T09:47:13.157091",
     "exception": false,
     "start_time": "2021-11-02T09:47:13.103463",
     "status": "completed"
    },
    "tags": []
   },
   "outputs": [],
   "source": [
    "np.random.seed(42)\n",
    "X_train, X_test, y_train, y_test = train_test_split(X, y, test_size=0.2)"
   ]
  },
  {
   "cell_type": "code",
   "execution_count": 14,
   "id": "59a31ad3",
   "metadata": {
    "execution": {
     "iopub.execute_input": "2021-11-02T09:47:13.242098Z",
     "iopub.status.busy": "2021-11-02T09:47:13.241014Z",
     "iopub.status.idle": "2021-11-02T09:47:13.248164Z",
     "shell.execute_reply": "2021-11-02T09:47:13.248807Z",
     "shell.execute_reply.started": "2021-11-02T09:40:00.460593Z"
    },
    "papermill": {
     "duration": 0.051578,
     "end_time": "2021-11-02T09:47:13.249015",
     "exception": false,
     "start_time": "2021-11-02T09:47:13.197437",
     "status": "completed"
    },
    "tags": []
   },
   "outputs": [
    {
     "data": {
      "text/plain": [
       "132    1\n",
       "202    0\n",
       "196    0\n",
       "75     1\n",
       "176    0\n",
       "Name: target, dtype: int64"
      ]
     },
     "execution_count": 14,
     "metadata": {},
     "output_type": "execute_result"
    }
   ],
   "source": [
    "y_train.head()"
   ]
  },
  {
   "cell_type": "markdown",
   "id": "05c65c61",
   "metadata": {
    "papermill": {
     "duration": 0.040457,
     "end_time": "2021-11-02T09:47:13.330070",
     "exception": false,
     "start_time": "2021-11-02T09:47:13.289613",
     "status": "completed"
    },
    "tags": []
   },
   "source": [
    "## Evaluation metrics"
   ]
  },
  {
   "cell_type": "markdown",
   "id": "be33687a",
   "metadata": {
    "papermill": {
     "duration": 0.040107,
     "end_time": "2021-11-02T09:47:13.410898",
     "exception": false,
     "start_time": "2021-11-02T09:47:13.370791",
     "status": "completed"
    },
    "tags": []
   },
   "source": [
    "#### Function for geting score (f1 and acc) and ploting the confusion metrix"
   ]
  },
  {
   "cell_type": "code",
   "execution_count": 15,
   "id": "eedd37cf",
   "metadata": {
    "execution": {
     "iopub.execute_input": "2021-11-02T09:47:13.584326Z",
     "iopub.status.busy": "2021-11-02T09:47:13.583279Z",
     "iopub.status.idle": "2021-11-02T09:47:13.590513Z",
     "shell.execute_reply": "2021-11-02T09:47:13.591176Z",
     "shell.execute_reply.started": "2021-11-02T09:40:00.474467Z"
    },
    "papermill": {
     "duration": 0.13962,
     "end_time": "2021-11-02T09:47:13.591408",
     "exception": false,
     "start_time": "2021-11-02T09:47:13.451788",
     "status": "completed"
    },
    "tags": []
   },
   "outputs": [],
   "source": [
    "from sklearn.metrics import plot_confusion_matrix\n",
    "import matplotlib.pyplot as plt\n",
    "from sklearn.metrics import accuracy_score\n",
    "from sklearn.metrics import f1_score\n",
    "\n",
    "def getScore(model, X_test, y_test):\n",
    "    y_pred = model.predict(X_test)\n",
    "    print('f1_score')\n",
    "    print(f1_score(y_test,y_pred,average='binary'))\n",
    "    print('accuracy')\n",
    "    acc = accuracy_score(y_test,y_pred, normalize=True)\n",
    "    print(acc)\n",
    "    print('Confusion Matrix :')\n",
    "    plot_confusion_matrix(model, X_test, y_test)\n",
    "    plt.show()\n",
    "    return acc"
   ]
  },
  {
   "cell_type": "code",
   "execution_count": 16,
   "id": "8e77e760",
   "metadata": {
    "execution": {
     "iopub.execute_input": "2021-11-02T09:47:13.676167Z",
     "iopub.status.busy": "2021-11-02T09:47:13.675470Z",
     "iopub.status.idle": "2021-11-02T09:47:14.179275Z",
     "shell.execute_reply": "2021-11-02T09:47:14.178694Z",
     "shell.execute_reply.started": "2021-11-02T09:40:00.486183Z"
    },
    "papermill": {
     "duration": 0.547532,
     "end_time": "2021-11-02T09:47:14.179529",
     "exception": false,
     "start_time": "2021-11-02T09:47:13.631997",
     "status": "completed"
    },
    "tags": []
   },
   "outputs": [
    {
     "name": "stdout",
     "output_type": "stream",
     "text": [
      "f1_score\n",
      "0.84375\n",
      "accuracy\n",
      "0.8360655737704918\n",
      "Confusion Matrix :\n"
     ]
    },
    {
     "data": {
      "image/png": "[encoded data removed]",
      "text/plain": [
       "<Figure size 432x288 with 2 Axes>"
      ]
     },
     "metadata": {
      "needs_background": "light"
     },
     "output_type": "display_data"
    }
   ],
   "source": [
    "np.random.seed(42)\n",
    "clf = RandomForestClassifier()\n",
    "clf.fit(X_train, y_train)\n",
    "clf_accuracy = getScore(clf, X_test, y_test)"
   ]
  },
  {
   "cell_type": "markdown",
   "id": "abaf7a0e",
   "metadata": {
    "execution": {
     "iopub.execute_input": "2021-11-02T05:53:13.520136Z",
     "iopub.status.busy": "2021-11-02T05:53:13.519882Z",
     "iopub.status.idle": "2021-11-02T05:53:13.525584Z",
     "shell.execute_reply": "2021-11-02T05:53:13.524519Z",
     "shell.execute_reply.started": "2021-11-02T05:53:13.520105Z"
    },
    "papermill": {
     "duration": 0.040324,
     "end_time": "2021-11-02T09:47:14.260997",
     "exception": false,
     "start_time": "2021-11-02T09:47:14.220673",
     "status": "completed"
    },
    "tags": []
   },
   "source": [
    "#### Classification report"
   ]
  },
  {
   "cell_type": "code",
   "execution_count": 17,
   "id": "101fa669",
   "metadata": {
    "execution": {
     "iopub.execute_input": "2021-11-02T09:47:14.353956Z",
     "iopub.status.busy": "2021-11-02T09:47:14.345516Z",
     "iopub.status.idle": "2021-11-02T09:47:14.369447Z",
     "shell.execute_reply": "2021-11-02T09:47:14.370340Z",
     "shell.execute_reply.started": "2021-11-02T09:40:00.960821Z"
    },
    "papermill": {
     "duration": 0.069066,
     "end_time": "2021-11-02T09:47:14.370567",
     "exception": false,
     "start_time": "2021-11-02T09:47:14.301501",
     "status": "completed"
    },
    "tags": []
   },
   "outputs": [
    {
     "name": "stdout",
     "output_type": "stream",
     "text": [
      "              precision    recall  f1-score   support\n",
      "\n",
      "           0       0.83      0.83      0.83        29\n",
      "           1       0.84      0.84      0.84        32\n",
      "\n",
      "    accuracy                           0.84        61\n",
      "   macro avg       0.84      0.84      0.84        61\n",
      "weighted avg       0.84      0.84      0.84        61\n",
      "\n"
     ]
    }
   ],
   "source": [
    "print(classification_report(y_test, clf.predict(X_test)))"
   ]
  },
  {
   "cell_type": "markdown",
   "id": "bc11f1c8",
   "metadata": {
    "papermill": {
     "duration": 0.043453,
     "end_time": "2021-11-02T09:47:14.457140",
     "exception": false,
     "start_time": "2021-11-02T09:47:14.413687",
     "status": "completed"
    },
    "tags": []
   },
   "source": [
    "### ROC curve"
   ]
  },
  {
   "cell_type": "code",
   "execution_count": 18,
   "id": "24db04e5",
   "metadata": {
    "execution": {
     "iopub.execute_input": "2021-11-02T09:47:14.546226Z",
     "iopub.status.busy": "2021-11-02T09:47:14.545163Z",
     "iopub.status.idle": "2021-11-02T09:47:14.804386Z",
     "shell.execute_reply": "2021-11-02T09:47:14.804921Z",
     "shell.execute_reply.started": "2021-11-02T09:40:00.983356Z"
    },
    "papermill": {
     "duration": 0.305756,
     "end_time": "2021-11-02T09:47:14.805132",
     "exception": false,
     "start_time": "2021-11-02T09:47:14.499376",
     "status": "completed"
    },
    "tags": []
   },
   "outputs": [
    {
     "data": {
      "image/png": "[encoded data removed]",
      "text/plain": [
       "<Figure size 432x288 with 1 Axes>"
      ]
     },
     "metadata": {
      "needs_background": "light"
     },
     "output_type": "display_data"
    }
   ],
   "source": [
    "plot_roc_curve(clf, X_test, y_test);"
   ]
  },
  {
   "cell_type": "markdown",
   "id": "c3e9b09e",
   "metadata": {
    "papermill": {
     "duration": 0.044172,
     "end_time": "2021-11-02T09:47:14.893604",
     "exception": false,
     "start_time": "2021-11-02T09:47:14.849432",
     "status": "completed"
    },
    "tags": []
   },
   "source": [
    "## Feature importance"
   ]
  },
  {
   "cell_type": "code",
   "execution_count": 19,
   "id": "8e6e1769",
   "metadata": {
    "execution": {
     "iopub.execute_input": "2021-11-02T09:47:14.987897Z",
     "iopub.status.busy": "2021-11-02T09:47:14.986768Z",
     "iopub.status.idle": "2021-11-02T09:47:15.290207Z",
     "shell.execute_reply": "2021-11-02T09:47:15.289329Z",
     "shell.execute_reply.started": "2021-11-02T09:40:01.226037Z"
    },
    "papermill": {
     "duration": 0.352969,
     "end_time": "2021-11-02T09:47:15.290409",
     "exception": false,
     "start_time": "2021-11-02T09:47:14.937440",
     "status": "completed"
    },
    "tags": []
   },
   "outputs": [
    {
     "data": {
      "image/png": "[encoded data removed]",
      "text/plain": [
       "<Figure size 432x288 with 1 Axes>"
      ]
     },
     "metadata": {
      "needs_background": "light"
     },
     "output_type": "display_data"
    }
   ],
   "source": [
    "f_dict = dict(zip(X.columns , list(clf.feature_importances_)))\n",
    "f_data = pd.DataFrame(f_dict, index=[0])\n",
    "f_data.T.plot.bar(title=\"Feature Importance\", legend=False);"
   ]
  },
  {
   "cell_type": "markdown",
   "id": "44ad9618",
   "metadata": {
    "papermill": {
     "duration": 0.043571,
     "end_time": "2021-11-02T09:47:15.377975",
     "exception": false,
     "start_time": "2021-11-02T09:47:15.334404",
     "status": "completed"
    },
    "tags": []
   },
   "source": [
    "#### from this plot we can see features who have importance or not"
   ]
  },
  {
   "cell_type": "markdown",
   "id": "c1320293",
   "metadata": {
    "papermill": {
     "duration": 0.052192,
     "end_time": "2021-11-02T09:47:15.474435",
     "exception": false,
     "start_time": "2021-11-02T09:47:15.422243",
     "status": "completed"
    },
    "tags": []
   },
   "source": [
    "## Cross-validation"
   ]
  },
  {
   "cell_type": "code",
   "execution_count": 20,
   "id": "8ddc5c9b",
   "metadata": {
    "execution": {
     "iopub.execute_input": "2021-11-02T09:47:15.585743Z",
     "iopub.status.busy": "2021-11-02T09:47:15.584712Z",
     "iopub.status.idle": "2021-11-02T09:47:16.652320Z",
     "shell.execute_reply": "2021-11-02T09:47:16.652830Z",
     "shell.execute_reply.started": "2021-11-02T09:40:01.510247Z"
    },
    "papermill": {
     "duration": 1.125562,
     "end_time": "2021-11-02T09:47:16.653054",
     "exception": false,
     "start_time": "2021-11-02T09:47:15.527492",
     "status": "completed"
    },
    "tags": []
   },
   "outputs": [
    {
     "data": {
      "text/plain": [
       "0.8241139165481272"
      ]
     },
     "execution_count": 20,
     "metadata": {},
     "output_type": "execute_result"
    }
   ],
   "source": [
    "cv_precision = np.mean(cross_val_score(clf,\n",
    "                                       X,\n",
    "                                       y,\n",
    "                                       cv=5, \n",
    "                                       scoring=\"precision\")) \n",
    "cv_precision"
   ]
  },
  {
   "cell_type": "code",
   "execution_count": 21,
   "id": "a14ff104",
   "metadata": {
    "execution": {
     "iopub.execute_input": "2021-11-02T09:47:16.748456Z",
     "iopub.status.busy": "2021-11-02T09:47:16.747384Z",
     "iopub.status.idle": "2021-11-02T09:47:32.440726Z",
     "shell.execute_reply": "2021-11-02T09:47:32.438322Z",
     "shell.execute_reply.started": "2021-11-02T09:40:02.552751Z"
    },
    "papermill": {
     "duration": 15.742283,
     "end_time": "2021-11-02T09:47:32.440989",
     "exception": false,
     "start_time": "2021-11-02T09:47:16.698706",
     "status": "completed"
    },
    "tags": []
   },
   "outputs": [
    {
     "data": {
      "image/png": "[encoded data removed]",
      "text/plain": [
       "<Figure size 432x288 with 1 Axes>"
      ]
     },
     "metadata": {
      "needs_background": "light"
     },
     "output_type": "display_data"
    }
   ],
   "source": [
    "model = RandomForestClassifier()\n",
    "k = range(1, 50)\n",
    "train_score, val_score = validation_curve(model, X_train, y_train, param_name='n_estimators', param_range=k, cv=5)\n",
    "plt.plot(k, val_score.mean(axis=1));"
   ]
  },
  {
   "cell_type": "markdown",
   "id": "067683c9",
   "metadata": {
    "papermill": {
     "duration": 0.044613,
     "end_time": "2021-11-02T09:47:32.531868",
     "exception": false,
     "start_time": "2021-11-02T09:47:32.487255",
     "status": "completed"
    },
    "tags": []
   },
   "source": [
    "## GreadSearcheCV"
   ]
  },
  {
   "cell_type": "code",
   "execution_count": 22,
   "id": "46c86178",
   "metadata": {
    "collapsed": true,
    "execution": {
     "iopub.execute_input": "2021-11-02T09:47:32.627039Z",
     "iopub.status.busy": "2021-11-02T09:47:32.626347Z",
     "iopub.status.idle": "2021-11-02T09:50:24.594584Z",
     "shell.execute_reply": "2021-11-02T09:50:24.593932Z"
    },
    "jupyter": {
     "outputs_hidden": true
    },
    "papermill": {
     "duration": 172.017821,
     "end_time": "2021-11-02T09:50:24.594772",
     "exception": false,
     "start_time": "2021-11-02T09:47:32.576951",
     "status": "completed"
    },
    "tags": []
   },
   "outputs": [
    {
     "name": "stdout",
     "output_type": "stream",
     "text": [
      "Fitting 10 folds for each of 60 candidates, totalling 600 fits\n"
     ]
    },
    {
     "name": "stderr",
     "output_type": "stream",
     "text": [
      "[Parallel(n_jobs=-1)]: Using backend LokyBackend with 4 concurrent workers.\n",
      "[Parallel(n_jobs=-1)]: Done  33 tasks      | elapsed:   11.8s\n",
      "[Parallel(n_jobs=-1)]: Done 154 tasks      | elapsed:   44.7s\n"
     ]
    },
    {
     "name": "stdout",
     "output_type": "stream",
     "text": [
      "[CV] criterion=gini, max_depth=4, max_features=auto, n_estimators=200 \n",
      "[CV]  criterion=gini, max_depth=4, max_features=auto, n_estimators=200, total=   0.6s\n",
      "[CV] criterion=gini, max_depth=4, max_features=auto, n_estimators=200 \n",
      "[CV]  criterion=gini, max_depth=4, max_features=auto, n_estimators=200, total=   0.7s\n",
      "[CV] criterion=gini, max_depth=4, max_features=auto, n_estimators=200 \n",
      "[CV]  criterion=gini, max_depth=4, max_features=auto, n_estimators=200, total=   0.8s\n",
      "[CV] criterion=gini, max_depth=4, max_features=auto, n_estimators=500 \n",
      "[CV]  criterion=gini, max_depth=4, max_features=auto, n_estimators=500, total=   1.6s\n",
      "[CV] criterion=gini, max_depth=4, max_features=auto, n_estimators=500 \n",
      "[CV]  criterion=gini, max_depth=4, max_features=auto, n_estimators=500, total=   1.5s\n",
      "[CV] criterion=gini, max_depth=4, max_features=sqrt, n_estimators=200 \n",
      "[CV]  criterion=gini, max_depth=4, max_features=sqrt, n_estimators=200, total=   0.6s\n",
      "[CV] criterion=gini, max_depth=4, max_features=sqrt, n_estimators=200 \n",
      "[CV]  criterion=gini, max_depth=4, max_features=sqrt, n_estimators=200, total=   0.6s\n",
      "[CV] criterion=gini, max_depth=4, max_features=sqrt, n_estimators=200 \n",
      "[CV]  criterion=gini, max_depth=4, max_features=sqrt, n_estimators=200, total=   0.6s\n",
      "[CV] criterion=gini, max_depth=4, max_features=sqrt, n_estimators=500 \n",
      "[CV]  criterion=gini, max_depth=4, max_features=sqrt, n_estimators=500, total=   1.7s\n",
      "[CV] criterion=gini, max_depth=4, max_features=sqrt, n_estimators=500 \n",
      "[CV]  criterion=gini, max_depth=4, max_features=sqrt, n_estimators=500, total=   1.5s\n",
      "[CV] criterion=gini, max_depth=4, max_features=sqrt, n_estimators=500 \n",
      "[CV]  criterion=gini, max_depth=4, max_features=sqrt, n_estimators=500, total=   1.5s\n",
      "[CV] criterion=gini, max_depth=4, max_features=log2, n_estimators=200 \n",
      "[CV]  criterion=gini, max_depth=4, max_features=log2, n_estimators=200, total=   0.6s\n",
      "[CV] criterion=gini, max_depth=4, max_features=log2, n_estimators=200 \n",
      "[CV]  criterion=gini, max_depth=4, max_features=log2, n_estimators=200, total=   0.6s\n",
      "[CV] criterion=gini, max_depth=4, max_features=log2, n_estimators=500 \n",
      "[CV]  criterion=gini, max_depth=4, max_features=log2, n_estimators=500, total=   1.5s\n",
      "[CV] criterion=gini, max_depth=4, max_features=log2, n_estimators=500 \n",
      "[CV]  criterion=gini, max_depth=4, max_features=log2, n_estimators=500, total=   1.5s\n",
      "[CV] criterion=gini, max_depth=5, max_features=auto, n_estimators=200 \n",
      "[CV]  criterion=gini, max_depth=5, max_features=auto, n_estimators=200, total=   0.6s\n",
      "[CV] criterion=gini, max_depth=5, max_features=auto, n_estimators=200 \n",
      "[CV]  criterion=gini, max_depth=5, max_features=auto, n_estimators=200, total=   0.6s\n",
      "[CV] criterion=gini, max_depth=5, max_features=auto, n_estimators=200 \n",
      "[CV]  criterion=gini, max_depth=5, max_features=auto, n_estimators=200, total=   0.6s\n",
      "[CV] criterion=gini, max_depth=5, max_features=auto, n_estimators=200 \n",
      "[CV]  criterion=gini, max_depth=5, max_features=auto, n_estimators=200, total=   0.6s\n",
      "[CV] criterion=gini, max_depth=5, max_features=auto, n_estimators=500 \n",
      "[CV]  criterion=gini, max_depth=5, max_features=auto, n_estimators=500, total=   1.5s\n",
      "[CV] criterion=gini, max_depth=5, max_features=auto, n_estimators=500 \n",
      "[CV]  criterion=gini, max_depth=5, max_features=auto, n_estimators=500, total=   1.5s\n",
      "[CV] criterion=gini, max_depth=5, max_features=sqrt, n_estimators=200 \n",
      "[CV]  criterion=gini, max_depth=5, max_features=sqrt, n_estimators=200, total=   0.6s\n",
      "[CV] criterion=gini, max_depth=5, max_features=sqrt, n_estimators=200 \n",
      "[CV]  criterion=gini, max_depth=5, max_features=sqrt, n_estimators=200, total=   0.6s\n",
      "[CV] criterion=gini, max_depth=5, max_features=sqrt, n_estimators=200 \n",
      "[CV]  criterion=gini, max_depth=5, max_features=sqrt, n_estimators=200, total=   0.6s\n",
      "[CV] criterion=gini, max_depth=5, max_features=sqrt, n_estimators=500 \n",
      "[CV]  criterion=gini, max_depth=5, max_features=sqrt, n_estimators=500, total=   1.6s\n",
      "[CV] criterion=gini, max_depth=5, max_features=sqrt, n_estimators=500 \n",
      "[CV]  criterion=gini, max_depth=5, max_features=sqrt, n_estimators=500, total=   1.5s\n",
      "[CV] criterion=gini, max_depth=5, max_features=sqrt, n_estimators=500 \n",
      "[CV]  criterion=gini, max_depth=5, max_features=sqrt, n_estimators=500, total=   1.5s\n",
      "[CV] criterion=gini, max_depth=5, max_features=log2, n_estimators=200 \n",
      "[CV]  criterion=gini, max_depth=5, max_features=log2, n_estimators=200, total=   0.6s\n",
      "[CV] criterion=gini, max_depth=5, max_features=log2, n_estimators=200 \n",
      "[CV]  criterion=gini, max_depth=5, max_features=log2, n_estimators=200, total=   0.6s\n",
      "[CV] criterion=gini, max_depth=5, max_features=log2, n_estimators=500 \n",
      "[CV]  criterion=gini, max_depth=5, max_features=log2, n_estimators=500, total=   1.5s\n",
      "[CV] criterion=gini, max_depth=5, max_features=log2, n_estimators=500 \n",
      "[CV]  criterion=gini, max_depth=5, max_features=log2, n_estimators=500, total=   1.5s\n",
      "[CV] criterion=gini, max_depth=6, max_features=auto, n_estimators=200 \n",
      "[CV]  criterion=gini, max_depth=6, max_features=auto, n_estimators=200, total=   0.7s\n",
      "[CV] criterion=gini, max_depth=6, max_features=auto, n_estimators=200 \n",
      "[CV]  criterion=gini, max_depth=6, max_features=auto, n_estimators=200, total=   0.6s\n",
      "[CV] criterion=gini, max_depth=6, max_features=auto, n_estimators=200 \n",
      "[CV]  criterion=gini, max_depth=6, max_features=auto, n_estimators=200, total=   0.6s\n",
      "[CV] criterion=gini, max_depth=6, max_features=auto, n_estimators=200 \n",
      "[CV]  criterion=gini, max_depth=6, max_features=auto, n_estimators=200, total=   0.6s\n",
      "[CV] criterion=gini, max_depth=6, max_features=auto, n_estimators=500 \n",
      "[CV]  criterion=gini, max_depth=6, max_features=auto, n_estimators=500, total=   1.6s\n",
      "[CV] criterion=gini, max_depth=6, max_features=auto, n_estimators=500 \n",
      "[CV]  criterion=gini, max_depth=6, max_features=auto, n_estimators=500, total=   1.5s\n",
      "[CV] criterion=gini, max_depth=6, max_features=sqrt, n_estimators=200 \n",
      "[CV]  criterion=gini, max_depth=6, max_features=sqrt, n_estimators=200, total=   0.6s\n",
      "[CV] criterion=gini, max_depth=6, max_features=sqrt, n_estimators=200 \n",
      "[CV]  criterion=gini, max_depth=6, max_features=sqrt, n_estimators=200, total=   0.6s\n",
      "[CV] criterion=gini, max_depth=6, max_features=sqrt, n_estimators=200 \n",
      "[CV]  criterion=gini, max_depth=6, max_features=sqrt, n_estimators=200, total=   0.6s\n",
      "[CV] criterion=gini, max_depth=6, max_features=sqrt, n_estimators=200 \n",
      "[CV]  criterion=gini, max_depth=6, max_features=sqrt, n_estimators=200, total=   0.6s\n",
      "[CV] criterion=gini, max_depth=6, max_features=sqrt, n_estimators=500 \n",
      "[CV]  criterion=gini, max_depth=6, max_features=sqrt, n_estimators=500, total=   1.5s\n",
      "[CV] criterion=gini, max_depth=6, max_features=sqrt, n_estimators=500 \n",
      "[CV]  criterion=gini, max_depth=6, max_features=sqrt, n_estimators=500, total=   1.5s\n",
      "[CV] criterion=gini, max_depth=6, max_features=log2, n_estimators=200 \n",
      "[CV]  criterion=gini, max_depth=6, max_features=log2, n_estimators=200, total=   0.6s\n",
      "[CV] criterion=gini, max_depth=6, max_features=log2, n_estimators=200 \n",
      "[CV]  criterion=gini, max_depth=6, max_features=log2, n_estimators=200, total=   0.6s\n",
      "[CV] criterion=gini, max_depth=6, max_features=log2, n_estimators=200 \n",
      "[CV]  criterion=gini, max_depth=6, max_features=log2, n_estimators=200, total=   0.6s\n",
      "[CV] criterion=gini, max_depth=6, max_features=log2, n_estimators=500 \n",
      "[CV]  criterion=gini, max_depth=6, max_features=log2, n_estimators=500, total=   1.6s\n",
      "[CV] criterion=gini, max_depth=6, max_features=log2, n_estimators=500 \n",
      "[CV]  criterion=gini, max_depth=6, max_features=log2, n_estimators=500, total=   1.5s\n",
      "[CV] criterion=gini, max_depth=6, max_features=log2, n_estimators=500 \n",
      "[CV]  criterion=gini, max_depth=6, max_features=log2, n_estimators=500, total=   1.5s\n",
      "[CV] criterion=gini, max_depth=7, max_features=auto, n_estimators=200 \n",
      "[CV]  criterion=gini, max_depth=7, max_features=auto, n_estimators=200, total=   0.6s\n",
      "[CV] criterion=gini, max_depth=7, max_features=auto, n_estimators=200 \n",
      "[CV]  criterion=gini, max_depth=7, max_features=auto, n_estimators=200, total=   0.6s\n",
      "[CV] criterion=gini, max_depth=7, max_features=auto, n_estimators=500 \n",
      "[CV]  criterion=gini, max_depth=7, max_features=auto, n_estimators=500, total=   1.6s\n",
      "[CV] criterion=gini, max_depth=7, max_features=auto, n_estimators=500 [CV] criterion=gini, max_depth=4, max_features=auto, n_estimators=200 \n",
      "[CV]  criterion=gini, max_depth=4, max_features=auto, n_estimators=200, total=   0.6s\n",
      "[CV] criterion=gini, max_depth=4, max_features=auto, n_estimators=200 \n",
      "[CV]  criterion=gini, max_depth=4, max_features=auto, n_estimators=200, total=   0.8s\n",
      "[CV] criterion=gini, max_depth=4, max_features=auto, n_estimators=200 \n",
      "[CV]  criterion=gini, max_depth=4, max_features=auto, n_estimators=200, total=   0.6s\n",
      "[CV] criterion=gini, max_depth=4, max_features=auto, n_estimators=500 \n",
      "[CV]  criterion=gini, max_depth=4, max_features=auto, n_estimators=500, total=   1.6s\n",
      "[CV] criterion=gini, max_depth=4, max_features=auto, n_estimators=500 \n",
      "[CV]  criterion=gini, max_depth=4, max_features=auto, n_estimators=500, total=   1.5s\n",
      "[CV] criterion=gini, max_depth=4, max_features=sqrt, n_estimators=200 \n",
      "[CV]  criterion=gini, max_depth=4, max_features=sqrt, n_estimators=200, total=   0.6s\n",
      "[CV] criterion=gini, max_depth=4, max_features=sqrt, n_estimators=200 \n",
      "[CV]  criterion=gini, max_depth=4, max_features=sqrt, n_estimators=200, total=   0.6s\n",
      "[CV] criterion=gini, max_depth=4, max_features=sqrt, n_estimators=200 \n",
      "[CV]  criterion=gini, max_depth=4, max_features=sqrt, n_estimators=200, total=   0.6s\n",
      "[CV] criterion=gini, max_depth=4, max_features=sqrt, n_estimators=200 \n",
      "[CV]  criterion=gini, max_depth=4, max_features=sqrt, n_estimators=200, total=   0.7s\n",
      "[CV] criterion=gini, max_depth=4, max_features=sqrt, n_estimators=500 \n",
      "[CV]  criterion=gini, max_depth=4, max_features=sqrt, n_estimators=500, total=   1.7s\n",
      "[CV] criterion=gini, max_depth=4, max_features=sqrt, n_estimators=500 \n",
      "[CV]  criterion=gini, max_depth=4, max_features=sqrt, n_estimators=500, total=   1.5s\n",
      "[CV] criterion=gini, max_depth=4, max_features=log2, n_estimators=200 \n",
      "[CV]  criterion=gini, max_depth=4, max_features=log2, n_estimators=200, total=   0.6s\n",
      "[CV] criterion=gini, max_depth=4, max_features=log2, n_estimators=200 \n",
      "[CV]  criterion=gini, max_depth=4, max_features=log2, n_estimators=200, total=   0.6s\n",
      "[CV] criterion=gini, max_depth=4, max_features=log2, n_estimators=200 \n",
      "[CV]  criterion=gini, max_depth=4, max_features=log2, n_estimators=200, total=   0.6s\n",
      "[CV] criterion=gini, max_depth=4, max_features=log2, n_estimators=500 \n",
      "[CV]  criterion=gini, max_depth=4, max_features=log2, n_estimators=500, total=   1.6s\n",
      "[CV] criterion=gini, max_depth=4, max_features=log2, n_estimators=500 \n",
      "[CV]  criterion=gini, max_depth=4, max_features=log2, n_estimators=500, total=   1.5s\n",
      "[CV] criterion=gini, max_depth=4, max_features=log2, n_estimators=500 \n",
      "[CV]  criterion=gini, max_depth=4, max_features=log2, n_estimators=500, total=   1.5s\n",
      "[CV] criterion=gini, max_depth=5, max_features=auto, n_estimators=200 \n",
      "[CV]  criterion=gini, max_depth=5, max_features=auto, n_estimators=200, total=   0.6s\n",
      "[CV] criterion=gini, max_depth=5, max_features=auto, n_estimators=500 \n",
      "[CV]  criterion=gini, max_depth=5, max_features=auto, n_estimators=500, total=   1.5s\n",
      "[CV] criterion=gini, max_depth=5, max_features=auto, n_estimators=500 \n",
      "[CV]  criterion=gini, max_depth=5, max_features=auto, n_estimators=500, total=   1.5s\n",
      "[CV] criterion=gini, max_depth=5, max_features=auto, n_estimators=500 \n",
      "[CV]  criterion=gini, max_depth=5, max_features=auto, n_estimators=500, total=   1.5s\n",
      "[CV] criterion=gini, max_depth=5, max_features=sqrt, n_estimators=200 \n",
      "[CV]  criterion=gini, max_depth=5, max_features=sqrt, n_estimators=200, total=   0.6s\n",
      "[CV] criterion=gini, max_depth=5, max_features=sqrt, n_estimators=500 \n",
      "[CV]  criterion=gini, max_depth=5, max_features=sqrt, n_estimators=500, total=   1.6s\n",
      "[CV] criterion=gini, max_depth=5, max_features=sqrt, n_estimators=500 \n",
      "[CV]  criterion=gini, max_depth=5, max_features=sqrt, n_estimators=500, total=   1.5s\n",
      "[CV] criterion=gini, max_depth=5, max_features=sqrt, n_estimators=500 \n",
      "[CV]  criterion=gini, max_depth=5, max_features=sqrt, n_estimators=500, total=   1.5s\n",
      "[CV] criterion=gini, max_depth=5, max_features=log2, n_estimators=200 \n",
      "[CV]  criterion=gini, max_depth=5, max_features=log2, n_estimators=200, total=   0.6s\n",
      "[CV] criterion=gini, max_depth=5, max_features=log2, n_estimators=200 \n",
      "[CV]  criterion=gini, max_depth=5, max_features=log2, n_estimators=200, total=   0.6s\n",
      "[CV] criterion=gini, max_depth=5, max_features=log2, n_estimators=500 \n",
      "[CV]  criterion=gini, max_depth=5, max_features=log2, n_estimators=500, total=   1.5s\n",
      "[CV] criterion=gini, max_depth=5, max_features=log2, n_estimators=500 \n",
      "[CV]  criterion=gini, max_depth=5, max_features=log2, n_estimators=500, total=   1.5s\n",
      "[CV] criterion=gini, max_depth=6, max_features=auto, n_estimators=200 \n",
      "[CV]  criterion=gini, max_depth=6, max_features=auto, n_estimators=200, total=   0.6s\n",
      "[CV] criterion=gini, max_depth=6, max_features=auto, n_estimators=200 \n",
      "[CV]  criterion=gini, max_depth=6, max_features=auto, n_estimators=200, total=   1.0s\n",
      "[CV] criterion=gini, max_depth=6, max_features=auto, n_estimators=200 \n",
      "[CV]  criterion=gini, max_depth=6, max_features=auto, n_estimators=200, total=   0.6s\n",
      "[CV] criterion=gini, max_depth=6, max_features=auto, n_estimators=500 \n",
      "[CV]  criterion=gini, max_depth=6, max_features=auto, n_estimators=500, total=   1.6s\n",
      "[CV] criterion=gini, max_depth=6, max_features=auto, n_estimators=500 \n",
      "[CV]  criterion=gini, max_depth=6, max_features=auto, n_estimators=500, total=   1.5s\n",
      "[CV] criterion=gini, max_depth=6, max_features=auto, n_estimators=500 \n",
      "[CV]  criterion=gini, max_depth=6, max_features=auto, n_estimators=500, total=   1.6s\n",
      "[CV] criterion=gini, max_depth=6, max_features=sqrt, n_estimators=200 \n",
      "[CV]  criterion=gini, max_depth=6, max_features=sqrt, n_estimators=200, total=   0.6s\n",
      "[CV] criterion=gini, max_depth=6, max_features=sqrt, n_estimators=200 \n",
      "[CV]  criterion=gini, max_depth=6, max_features=sqrt, n_estimators=200, total=   0.6s\n",
      "[CV] criterion=gini, max_depth=6, max_features=sqrt, n_estimators=500 \n",
      "[CV]  criterion=gini, max_depth=6, max_features=sqrt, n_estimators=500, total=   1.5s\n",
      "[CV] criterion=gini, max_depth=6, max_features=sqrt, n_estimators=500 \n",
      "[CV]  criterion=gini, max_depth=6, max_features=sqrt, n_estimators=500, total=   1.6s\n",
      "[CV] criterion=gini, max_depth=6, max_features=log2, n_estimators=200 \n",
      "[CV]  criterion=gini, max_depth=6, max_features=log2, n_estimators=200, total=   0.6s\n",
      "[CV] criterion=gini, max_depth=6, max_features=log2, n_estimators=200 \n",
      "[CV]  criterion=gini, max_depth=6, max_features=log2, n_estimators=200, total=   0.6s\n",
      "[CV] criterion=gini, max_depth=6, max_features=log2, n_estimators=200 \n",
      "[CV]  criterion=gini, max_depth=6, max_features=log2, n_estimators=200, total=   0.6s\n",
      "[CV] criterion=gini, max_depth=6, max_features=log2, n_estimators=500 \n",
      "[CV]  criterion=gini, max_depth=6, max_features=log2, n_estimators=500, total=   1.6s\n",
      "[CV] criterion=gini, max_depth=6, max_features=log2, n_estimators=500 \n",
      "[CV]  criterion=gini, max_depth=6, max_features=log2, n_estimators=500, total=   1.5s\n",
      "[CV] criterion=gini, max_depth=6, max_features=log2, n_estimators=500 \n",
      "[CV]  criterion=gini, max_depth=6, max_features=log2, n_estimators=500, total=   1.6s\n",
      "[CV] criterion=gini, max_depth=7, max_features=auto, n_estimators=200 \n",
      "[CV]  criterion=gini, max_depth=7, max_features=auto, n_estimators=200, total=   0.6s\n",
      "[CV] criterion=gini, max_depth=7, max_features=auto, n_estimators=200 \n",
      "[CV]  criterion=gini, max_depth=7, max_features=auto, n_estimators=200, total=   0.6s\n",
      "[CV] criterion=gini, max_depth=7, max_features=auto, n_estimators=500 \n",
      "[CV]  criterion=gini, max_depth=7, max_features=auto, n_estimators=500, total=   1.6s\n",
      "[CV] criterion=gini, max_depth=7, max_features=auto, n_estimators=500 \n",
      "[CV]  criterion=gini, max_depth=7, max_features=auto, n_estimators=500, total=   1.5s\n",
      "[CV] criterion=gini, max_depth=7, max_features=sqrt, n_estimators=200 \n",
      "[CV]  criterion=gini, max_depth=7, max_features=sqrt, n_estimators=200, total=   0.6s\n",
      "[CV] criterion=gini, max_depth=7, max_features=sqrt, n_estimators=200 \n",
      "[CV]  criterion=gini, max_depth=7, max_features=sqrt, n_estimators=200, total=   0.6s\n",
      "[CV] criterion=gini, max_depth=7, max_features=sqrt, n_estimators=200 \n",
      "[CV]  criterion=gini, max_depth=7, max_features=sqrt, n_estimators=200, total=   0.6s\n",
      "[CV] criterion=gini, max_depth=7, max_features=sqrt, n_estimators=500 [CV] criterion=gini, max_depth=4, max_features=auto, n_estimators=200 \n",
      "[CV]  criterion=gini, max_depth=4, max_features=auto, n_estimators=200, total=   0.7s\n",
      "[CV] criterion=gini, max_depth=4, max_features=auto, n_estimators=200 \n",
      "[CV]  criterion=gini, max_depth=4, max_features=auto, n_estimators=200, total=   0.9s\n",
      "[CV] criterion=gini, max_depth=4, max_features=auto, n_estimators=500 \n",
      "[CV]  criterion=gini, max_depth=4, max_features=auto, n_estimators=500, total=   1.7s\n",
      "[CV] criterion=gini, max_depth=4, max_features=auto, n_estimators=500 \n",
      "[CV]  criterion=gini, max_depth=4, max_features=auto, n_estimators=500, total=   1.5s\n",
      "[CV] criterion=gini, max_depth=4, max_features=auto, n_estimators=500 \n",
      "[CV]  criterion=gini, max_depth=4, max_features=auto, n_estimators=500, total=   1.5s\n",
      "[CV] criterion=gini, max_depth=4, max_features=sqrt, n_estimators=200 \n",
      "[CV]  criterion=gini, max_depth=4, max_features=sqrt, n_estimators=200, total=   0.6s\n",
      "[CV] criterion=gini, max_depth=4, max_features=sqrt, n_estimators=200 \n",
      "[CV]  criterion=gini, max_depth=4, max_features=sqrt, n_estimators=200, total=   0.7s\n",
      "[CV] criterion=gini, max_depth=4, max_features=sqrt, n_estimators=500 \n",
      "[CV]  criterion=gini, max_depth=4, max_features=sqrt, n_estimators=500, total=   1.6s\n",
      "[CV] criterion=gini, max_depth=4, max_features=sqrt, n_estimators=500 \n",
      "[CV]  criterion=gini, max_depth=4, max_features=sqrt, n_estimators=500, total=   1.5s\n",
      "[CV] criterion=gini, max_depth=4, max_features=log2, n_estimators=200 \n",
      "[CV]  criterion=gini, max_depth=4, max_features=log2, n_estimators=200, total=   0.6s\n",
      "[CV] criterion=gini, max_depth=4, max_features=log2, n_estimators=200 \n",
      "[CV]  criterion=gini, max_depth=4, max_features=log2, n_estimators=200, total=   0.6s\n",
      "[CV] criterion=gini, max_depth=4, max_features=log2, n_estimators=200 \n",
      "[CV]  criterion=gini, max_depth=4, max_features=log2, n_estimators=200, total=   0.6s\n",
      "[CV] criterion=gini, max_depth=4, max_features=log2, n_estimators=500 \n",
      "[CV]  criterion=gini, max_depth=4, max_features=log2, n_estimators=500, total=   1.5s\n",
      "[CV] criterion=gini, max_depth=4, max_features=log2, n_estimators=500 \n",
      "[CV]  criterion=gini, max_depth=4, max_features=log2, n_estimators=500, total=   1.5s\n",
      "[CV] criterion=gini, max_depth=4, max_features=log2, n_estimators=500 \n",
      "[CV]  criterion=gini, max_depth=4, max_features=log2, n_estimators=500, total=   1.5s\n",
      "[CV] criterion=gini, max_depth=5, max_features=auto, n_estimators=200 \n",
      "[CV]  criterion=gini, max_depth=5, max_features=auto, n_estimators=200, total=   0.6s\n",
      "[CV] criterion=gini, max_depth=5, max_features=auto, n_estimators=200 \n",
      "[CV]  criterion=gini, max_depth=5, max_features=auto, n_estimators=200, total=   0.6s\n",
      "[CV] criterion=gini, max_depth=5, max_features=auto, n_estimators=500 \n",
      "[CV]  criterion=gini, max_depth=5, max_features=auto, n_estimators=500, total=   1.5s\n",
      "[CV] criterion=gini, max_depth=5, max_features=auto, n_estimators=500 \n",
      "[CV]  criterion=gini, max_depth=5, max_features=auto, n_estimators=500, total=   1.5s\n",
      "[CV] criterion=gini, max_depth=5, max_features=sqrt, n_estimators=200 \n",
      "[CV]  criterion=gini, max_depth=5, max_features=sqrt, n_estimators=200, total=   0.6s\n",
      "[CV] criterion=gini, max_depth=5, max_features=sqrt, n_estimators=200 \n",
      "[CV]  criterion=gini, max_depth=5, max_features=sqrt, n_estimators=200, total=   0.6s\n",
      "[CV] criterion=gini, max_depth=5, max_features=sqrt, n_estimators=200 \n",
      "[CV]  criterion=gini, max_depth=5, max_features=sqrt, n_estimators=200, total=   0.6s\n",
      "[CV] criterion=gini, max_depth=5, max_features=sqrt, n_estimators=200 \n",
      "[CV]  criterion=gini, max_depth=5, max_features=sqrt, n_estimators=200, total=   0.6s\n",
      "[CV] criterion=gini, max_depth=5, max_features=sqrt, n_estimators=500 \n",
      "[CV]  criterion=gini, max_depth=5, max_features=sqrt, n_estimators=500, total=   1.6s\n",
      "[CV] criterion=gini, max_depth=5, max_features=sqrt, n_estimators=500 \n",
      "[CV]  criterion=gini, max_depth=5, max_features=sqrt, n_estimators=500, total=   1.6s\n",
      "[CV] criterion=gini, max_depth=5, max_features=log2, n_estimators=200 \n",
      "[CV]  criterion=gini, max_depth=5, max_features=log2, n_estimators=200, total=   0.6s\n",
      "[CV] criterion=gini, max_depth=5, max_features=log2, n_estimators=200 \n",
      "[CV]  criterion=gini, max_depth=5, max_features=log2, n_estimators=200, total=   0.6s\n",
      "[CV] criterion=gini, max_depth=5, max_features=log2, n_estimators=200 \n",
      "[CV]  criterion=gini, max_depth=5, max_features=log2, n_estimators=200, total=   0.6s\n",
      "[CV] criterion=gini, max_depth=5, max_features=log2, n_estimators=500 \n",
      "[CV]  criterion=gini, max_depth=5, max_features=log2, n_estimators=500, total=   1.5s\n",
      "[CV] criterion=gini, max_depth=5, max_features=log2, n_estimators=500 \n",
      "[CV]  criterion=gini, max_depth=5, max_features=log2, n_estimators=500, total=   1.6s\n",
      "[CV] criterion=gini, max_depth=5, max_features=log2, n_estimators=500 \n",
      "[CV]  criterion=gini, max_depth=5, max_features=log2, n_estimators=500, total=   1.8s\n",
      "[CV] criterion=gini, max_depth=6, max_features=auto, n_estimators=200 \n",
      "[CV]  criterion=gini, max_depth=6, max_features=auto, n_estimators=200, total=   0.8s\n",
      "[CV] criterion=gini, max_depth=6, max_features=auto, n_estimators=500 \n",
      "[CV]  criterion=gini, max_depth=6, max_features=auto, n_estimators=500, total=   1.6s\n",
      "[CV] criterion=gini, max_depth=6, max_features=auto, n_estimators=500 \n",
      "[CV]  criterion=gini, max_depth=6, max_features=auto, n_estimators=500, total=   1.6s\n",
      "[CV] criterion=gini, max_depth=6, max_features=auto, n_estimators=500 \n",
      "[CV]  criterion=gini, max_depth=6, max_features=auto, n_estimators=500, total=   1.5s\n",
      "[CV] criterion=gini, max_depth=6, max_features=sqrt, n_estimators=200 \n",
      "[CV]  criterion=gini, max_depth=6, max_features=sqrt, n_estimators=200, total=   0.6s\n",
      "[CV] criterion=gini, max_depth=6, max_features=sqrt, n_estimators=500 \n",
      "[CV]  criterion=gini, max_depth=6, max_features=sqrt, n_estimators=500, total=   1.5s\n",
      "[CV] criterion=gini, max_depth=6, max_features=sqrt, n_estimators=500 \n",
      "[CV]  criterion=gini, max_depth=6, max_features=sqrt, n_estimators=500, total=   1.6s\n",
      "[CV] criterion=gini, max_depth=6, max_features=sqrt, n_estimators=500 \n",
      "[CV]  criterion=gini, max_depth=6, max_features=sqrt, n_estimators=500, total=   1.5s\n",
      "[CV] criterion=gini, max_depth=6, max_features=log2, n_estimators=200 \n",
      "[CV]  criterion=gini, max_depth=6, max_features=log2, n_estimators=200, total=   0.7s\n",
      "[CV] criterion=gini, max_depth=6, max_features=log2, n_estimators=200 \n",
      "[CV]  criterion=gini, max_depth=6, max_features=log2, n_estimators=200, total=   0.6s\n",
      "[CV] criterion=gini, max_depth=6, max_features=log2, n_estimators=500 \n",
      "[CV]  criterion=gini, max_depth=6, max_features=log2, n_estimators=500, total=   1.6s\n",
      "[CV] criterion=gini, max_depth=6, max_features=log2, n_estimators=500 \n",
      "[CV]  criterion=gini, max_depth=6, max_features=log2, n_estimators=500, total=   1.5s\n",
      "[CV] criterion=gini, max_depth=7, max_features=auto, n_estimators=200 \n",
      "[CV]  criterion=gini, max_depth=7, max_features=auto, n_estimators=200, total=   0.6s\n",
      "[CV] criterion=gini, max_depth=7, max_features=auto, n_estimators=200 \n",
      "[CV]  criterion=gini, max_depth=7, max_features=auto, n_estimators=200, total=   0.6s\n",
      "[CV] criterion=gini, max_depth=7, max_features=auto, n_estimators=200 \n",
      "[CV]  criterion=gini, max_depth=7, max_features=auto, n_estimators=200, total=   0.6s\n",
      "[CV] criterion=gini, max_depth=7, max_features=auto, n_estimators=500 \n",
      "[CV]  criterion=gini, max_depth=7, max_features=auto, n_estimators=500, total=   1.5s\n",
      "[CV] criterion=gini, max_depth=7, max_features=auto, n_estimators=500 \n",
      "[CV]  criterion=gini, max_depth=7, max_features=auto, n_estimators=500, total=   1.6s\n",
      "[CV] criterion=gini, max_depth=7, max_features=auto, n_estimators=500 \n",
      "[CV]  criterion=gini, max_depth=7, max_features=auto, n_estimators=500, total=   1.5s\n",
      "[CV] criterion=gini, max_depth=7, max_features=sqrt, n_estimators=200 \n",
      "[CV]  criterion=gini, max_depth=7, max_features=sqrt, n_estimators=200, total=   0.6s\n",
      "[CV] criterion=gini, max_depth=7, max_features=sqrt, n_estimators=200 \n",
      "[CV]  criterion=gini, max_depth=7, max_features=sqrt, n_estimators=200, total=   0.6s\n",
      "[CV] criterion=gini, max_depth=7, max_features=sqrt, n_estimators=500 \n",
      "[CV]  criterion=gini, max_depth=7, max_features=sqrt, n_estimators=500, total=   1.6s\n",
      "[CV] criterion=gini, max_depth=7, max_features=sqrt, n_estimators=500 [CV] criterion=gini, max_depth=4, max_features=auto, n_estimators=200 \n",
      "[CV]  criterion=gini, max_depth=4, max_features=auto, n_estimators=200, total=   0.8s\n",
      "[CV] criterion=gini, max_depth=4, max_features=auto, n_estimators=200 \n",
      "[CV]  criterion=gini, max_depth=4, max_features=auto, n_estimators=200, total=   0.9s\n",
      "[CV] criterion=gini, max_depth=4, max_features=auto, n_estimators=500 \n",
      "[CV]  criterion=gini, max_depth=4, max_features=auto, n_estimators=500, total=   1.6s\n",
      "[CV] criterion=gini, max_depth=4, max_features=auto, n_estimators=500 \n",
      "[CV]  criterion=gini, max_depth=4, max_features=auto, n_estimators=500, total=   1.5s\n",
      "[CV] criterion=gini, max_depth=4, max_features=auto, n_estimators=500 \n",
      "[CV]  criterion=gini, max_depth=4, max_features=auto, n_estimators=500, total=   1.5s\n",
      "[CV] criterion=gini, max_depth=4, max_features=sqrt, n_estimators=200 \n",
      "[CV]  criterion=gini, max_depth=4, max_features=sqrt, n_estimators=200, total=   0.6s\n",
      "[CV] criterion=gini, max_depth=4, max_features=sqrt, n_estimators=500 \n",
      "[CV]  criterion=gini, max_depth=4, max_features=sqrt, n_estimators=500, total=   1.7s\n",
      "[CV] criterion=gini, max_depth=4, max_features=sqrt, n_estimators=500 \n",
      "[CV]  criterion=gini, max_depth=4, max_features=sqrt, n_estimators=500, total=   1.5s\n",
      "[CV] criterion=gini, max_depth=4, max_features=sqrt, n_estimators=500 \n",
      "[CV]  criterion=gini, max_depth=4, max_features=sqrt, n_estimators=500, total=   1.5s\n",
      "[CV] criterion=gini, max_depth=4, max_features=log2, n_estimators=200 \n",
      "[CV]  criterion=gini, max_depth=4, max_features=log2, n_estimators=200, total=   0.6s\n",
      "[CV] criterion=gini, max_depth=4, max_features=log2, n_estimators=200 \n",
      "[CV]  criterion=gini, max_depth=4, max_features=log2, n_estimators=200, total=   0.6s\n",
      "[CV] criterion=gini, max_depth=4, max_features=log2, n_estimators=500 \n",
      "[CV]  criterion=gini, max_depth=4, max_features=log2, n_estimators=500, total=   1.6s\n",
      "[CV] criterion=gini, max_depth=4, max_features=log2, n_estimators=500 \n",
      "[CV]  criterion=gini, max_depth=4, max_features=log2, n_estimators=500, total=   1.5s\n",
      "[CV] criterion=gini, max_depth=5, max_features=auto, n_estimators=200 \n",
      "[CV]  criterion=gini, max_depth=5, max_features=auto, n_estimators=200, total=   0.6s\n",
      "[CV] criterion=gini, max_depth=5, max_features=auto, n_estimators=200 \n",
      "[CV]  criterion=gini, max_depth=5, max_features=auto, n_estimators=200, total=   0.6s\n",
      "[CV] criterion=gini, max_depth=5, max_features=auto, n_estimators=200 \n",
      "[CV]  criterion=gini, max_depth=5, max_features=auto, n_estimators=200, total=   0.6s\n",
      "[CV] criterion=gini, max_depth=5, max_features=auto, n_estimators=500 \n",
      "[CV]  criterion=gini, max_depth=5, max_features=auto, n_estimators=500, total=   1.5s\n",
      "[CV] criterion=gini, max_depth=5, max_features=auto, n_estimators=500 \n",
      "[CV]  criterion=gini, max_depth=5, max_features=auto, n_estimators=500, total=   1.5s\n",
      "[CV] criterion=gini, max_depth=5, max_features=auto, n_estimators=500 \n",
      "[CV]  criterion=gini, max_depth=5, max_features=auto, n_estimators=500, total=   1.5s\n",
      "[CV] criterion=gini, max_depth=5, max_features=sqrt, n_estimators=200 \n",
      "[CV]  criterion=gini, max_depth=5, max_features=sqrt, n_estimators=200, total=   0.6s\n",
      "[CV] criterion=gini, max_depth=5, max_features=sqrt, n_estimators=200 \n",
      "[CV]  criterion=gini, max_depth=5, max_features=sqrt, n_estimators=200, total=   0.6s\n",
      "[CV] criterion=gini, max_depth=5, max_features=sqrt, n_estimators=500 \n",
      "[CV]  criterion=gini, max_depth=5, max_features=sqrt, n_estimators=500, total=   1.6s\n",
      "[CV] criterion=gini, max_depth=5, max_features=sqrt, n_estimators=500 \n",
      "[CV]  criterion=gini, max_depth=5, max_features=sqrt, n_estimators=500, total=   1.6s\n",
      "[CV] criterion=gini, max_depth=5, max_features=log2, n_estimators=200 \n",
      "[CV]  criterion=gini, max_depth=5, max_features=log2, n_estimators=200, total=   0.6s\n",
      "[CV] criterion=gini, max_depth=5, max_features=log2, n_estimators=200 \n",
      "[CV]  criterion=gini, max_depth=5, max_features=log2, n_estimators=200, total=   0.6s\n",
      "[CV] criterion=gini, max_depth=5, max_features=log2, n_estimators=200 \n",
      "[CV]  criterion=gini, max_depth=5, max_features=log2, n_estimators=200, total=   0.6s\n",
      "[CV] criterion=gini, max_depth=5, max_features=log2, n_estimators=500 \n",
      "[CV]  criterion=gini, max_depth=5, max_features=log2, n_estimators=500, total=   1.5s\n",
      "[CV] criterion=gini, max_depth=5, max_features=log2, n_estimators=500 \n",
      "[CV]  criterion=gini, max_depth=5, max_features=log2, n_estimators=500, total=   1.6s\n",
      "[CV] criterion=gini, max_depth=5, max_features=log2, n_estimators=500 \n",
      "[CV]  criterion=gini, max_depth=5, max_features=log2, n_estimators=500, total=   1.8s\n",
      "[CV] criterion=gini, max_depth=6, max_features=auto, n_estimators=200 \n",
      "[CV]  criterion=gini, max_depth=6, max_features=auto, n_estimators=200, total=   0.8s\n",
      "[CV] criterion=gini, max_depth=6, max_features=auto, n_estimators=200 \n",
      "[CV]  criterion=gini, max_depth=6, max_features=auto, n_estimators=200, total=   0.6s\n",
      "[CV] criterion=gini, max_depth=6, max_features=auto, n_estimators=500 \n",
      "[CV]  criterion=gini, max_depth=6, max_features=auto, n_estimators=500, total=   1.6s\n",
      "[CV] criterion=gini, max_depth=6, max_features=auto, n_estimators=500 \n",
      "[CV]  criterion=gini, max_depth=6, max_features=auto, n_estimators=500, total=   1.5s\n",
      "[CV] criterion=gini, max_depth=6, max_features=sqrt, n_estimators=200 \n",
      "[CV]  criterion=gini, max_depth=6, max_features=sqrt, n_estimators=200, total=   0.6s\n",
      "[CV] criterion=gini, max_depth=6, max_features=sqrt, n_estimators=200 \n",
      "[CV]  criterion=gini, max_depth=6, max_features=sqrt, n_estimators=200, total=   0.6s\n",
      "[CV] criterion=gini, max_depth=6, max_features=sqrt, n_estimators=200 \n",
      "[CV]  criterion=gini, max_depth=6, max_features=sqrt, n_estimators=200, total=   0.6s\n",
      "[CV] criterion=gini, max_depth=6, max_features=sqrt, n_estimators=500 \n",
      "[CV]  criterion=gini, max_depth=6, max_features=sqrt, n_estimators=500, total=   1.5s\n",
      "[CV] criterion=gini, max_depth=6, max_features=sqrt, n_estimators=500 \n",
      "[CV]  criterion=gini, max_depth=6, max_features=sqrt, n_estimators=500, total=   1.6s\n",
      "[CV] criterion=gini, max_depth=6, max_features=sqrt, n_estimators=500 \n",
      "[CV]  criterion=gini, max_depth=6, max_features=sqrt, n_estimators=500, total=   1.5s\n",
      "[CV] criterion=gini, max_depth=6, max_features=log2, n_estimators=200 \n",
      "[CV]  criterion=gini, max_depth=6, max_features=log2, n_estimators=200, total=   0.6s\n",
      "[CV] criterion=gini, max_depth=6, max_features=log2, n_estimators=200 \n",
      "[CV]  criterion=gini, max_depth=6, max_features=log2, n_estimators=200, total=   0.6s\n",
      "[CV] criterion=gini, max_depth=6, max_features=log2, n_estimators=500 \n",
      "[CV]  criterion=gini, max_depth=6, max_features=log2, n_estimators=500, total=   1.6s\n",
      "[CV] criterion=gini, max_depth=6, max_features=log2, n_estimators=500 \n",
      "[CV]  criterion=gini, max_depth=6, max_features=log2, n_estimators=500, total=   1.6s\n",
      "[CV] criterion=gini, max_depth=7, max_features=auto, n_estimators=200 \n",
      "[CV]  criterion=gini, max_depth=7, max_features=auto, n_estimators=200, total=   0.6s\n",
      "[CV] criterion=gini, max_depth=7, max_features=auto, n_estimators=200 \n",
      "[CV]  criterion=gini, max_depth=7, max_features=auto, n_estimators=200, total=   0.6s\n",
      "[CV] criterion=gini, max_depth=7, max_features=auto, n_estimators=200 \n",
      "[CV]  criterion=gini, max_depth=7, max_features=auto, n_estimators=200, total=   0.6s\n",
      "[CV] criterion=gini, max_depth=7, max_features=auto, n_estimators=500 \n",
      "[CV]  criterion=gini, max_depth=7, max_features=auto, n_estimators=500, total=   1.6s\n",
      "[CV] criterion=gini, max_depth=7, max_features=auto, n_estimators=500 \n",
      "[CV]  criterion=gini, max_depth=7, max_features=auto, n_estimators=500, total=   1.5s\n",
      "[CV] criterion=gini, max_depth=7, max_features=auto, n_estimators=500 \n",
      "[CV]  criterion=gini, max_depth=7, max_features=auto, n_estimators=500, total=   1.6s\n",
      "[CV] criterion=gini, max_depth=7, max_features=sqrt, n_estimators=200 \n",
      "[CV]  criterion=gini, max_depth=7, max_features=sqrt, n_estimators=200, total=   0.6s\n",
      "[CV] criterion=gini, max_depth=7, max_features=sqrt, n_estimators=200 \n",
      "[CV]  criterion=gini, max_depth=7, max_features=sqrt, n_estimators=200, total=   0.6s\n",
      "[CV] criterion=gini, max_depth=7, max_features=sqrt, n_estimators=500 \n",
      "[CV]  criterion=gini, max_depth=7, max_features=sqrt, n_estimators=500, total=   1.6s\n",
      "[CV] criterion=gini, max_depth=7, max_features=sqrt, n_estimators=500 "
     ]
    },
    {
     "name": "stderr",
     "output_type": "stream",
     "text": [
      "[Parallel(n_jobs=-1)]: Done 357 tasks      | elapsed:  1.7min\n"
     ]
    },
    {
     "name": "stdout",
     "output_type": "stream",
     "text": [
      "\n",
      "[CV]  criterion=gini, max_depth=7, max_features=auto, n_estimators=500, total=   1.5s\n",
      "[CV] criterion=gini, max_depth=7, max_features=sqrt, n_estimators=200 \n",
      "[CV]  criterion=gini, max_depth=7, max_features=sqrt, n_estimators=200, total=   0.6s\n",
      "[CV] criterion=gini, max_depth=7, max_features=sqrt, n_estimators=200 \n",
      "[CV]  criterion=gini, max_depth=7, max_features=sqrt, n_estimators=200, total=   0.6s\n",
      "[CV] criterion=gini, max_depth=7, max_features=sqrt, n_estimators=200 \n",
      "[CV]  criterion=gini, max_depth=7, max_features=sqrt, n_estimators=200, total=   0.6s\n",
      "[CV] criterion=gini, max_depth=7, max_features=sqrt, n_estimators=500 \n",
      "[CV]  criterion=gini, max_depth=7, max_features=sqrt, n_estimators=500, total=   1.6s\n",
      "[CV] criterion=gini, max_depth=7, max_features=sqrt, n_estimators=500 \n",
      "[CV]  criterion=gini, max_depth=7, max_features=sqrt, n_estimators=500, total=   1.6s\n",
      "[CV] criterion=gini, max_depth=7, max_features=sqrt, n_estimators=500 \n",
      "[CV]  criterion=gini, max_depth=7, max_features=sqrt, n_estimators=500, total=   1.6s\n",
      "[CV] criterion=gini, max_depth=7, max_features=log2, n_estimators=200 \n",
      "[CV]  criterion=gini, max_depth=7, max_features=log2, n_estimators=200, total=   0.6s\n",
      "[CV] criterion=gini, max_depth=7, max_features=log2, n_estimators=200 \n",
      "[CV]  criterion=gini, max_depth=7, max_features=log2, n_estimators=200, total=   0.6s\n",
      "[CV] criterion=gini, max_depth=7, max_features=log2, n_estimators=500 \n",
      "[CV]  criterion=gini, max_depth=7, max_features=log2, n_estimators=500, total=   1.5s\n",
      "[CV] criterion=gini, max_depth=7, max_features=log2, n_estimators=500 \n",
      "[CV]  criterion=gini, max_depth=7, max_features=log2, n_estimators=500, total=   1.5s\n",
      "[CV] criterion=gini, max_depth=8, max_features=auto, n_estimators=200 \n",
      "[CV]  criterion=gini, max_depth=8, max_features=auto, n_estimators=200, total=   0.6s\n",
      "[CV] criterion=gini, max_depth=8, max_features=auto, n_estimators=200 \n",
      "[CV]  criterion=gini, max_depth=8, max_features=auto, n_estimators=200, total=   0.8s\n",
      "[CV] criterion=gini, max_depth=8, max_features=auto, n_estimators=200 \n",
      "[CV]  criterion=gini, max_depth=8, max_features=auto, n_estimators=200, total=   0.7s\n",
      "[CV] criterion=gini, max_depth=8, max_features=auto, n_estimators=500 \n",
      "[CV]  criterion=gini, max_depth=8, max_features=auto, n_estimators=500, total=   1.6s\n",
      "[CV] criterion=gini, max_depth=8, max_features=auto, n_estimators=500 \n",
      "[CV]  criterion=gini, max_depth=8, max_features=auto, n_estimators=500, total=   1.5s\n",
      "[CV] criterion=gini, max_depth=8, max_features=auto, n_estimators=500 \n",
      "[CV]  criterion=gini, max_depth=8, max_features=auto, n_estimators=500, total=   1.6s\n",
      "[CV] criterion=gini, max_depth=8, max_features=sqrt, n_estimators=200 \n",
      "[CV]  criterion=gini, max_depth=8, max_features=sqrt, n_estimators=200, total=   0.6s\n",
      "[CV] criterion=gini, max_depth=8, max_features=sqrt, n_estimators=200 \n",
      "[CV]  criterion=gini, max_depth=8, max_features=sqrt, n_estimators=200, total=   0.6s\n",
      "[CV] criterion=gini, max_depth=8, max_features=sqrt, n_estimators=500 \n",
      "[CV]  criterion=gini, max_depth=8, max_features=sqrt, n_estimators=500, total=   1.5s\n",
      "[CV] criterion=gini, max_depth=8, max_features=sqrt, n_estimators=500 \n",
      "[CV]  criterion=gini, max_depth=8, max_features=sqrt, n_estimators=500, total=   1.6s\n",
      "[CV] criterion=gini, max_depth=8, max_features=log2, n_estimators=200 \n",
      "[CV]  criterion=gini, max_depth=8, max_features=log2, n_estimators=200, total=   0.6s\n",
      "[CV] criterion=gini, max_depth=8, max_features=log2, n_estimators=200 \n",
      "[CV]  criterion=gini, max_depth=8, max_features=log2, n_estimators=200, total=   0.6s\n",
      "[CV] criterion=gini, max_depth=8, max_features=log2, n_estimators=200 \n",
      "[CV]  criterion=gini, max_depth=8, max_features=log2, n_estimators=200, total=   0.6s\n",
      "[CV] criterion=gini, max_depth=8, max_features=log2, n_estimators=200 \n",
      "[CV]  criterion=gini, max_depth=8, max_features=log2, n_estimators=200, total=   0.6s\n",
      "[CV] criterion=gini, max_depth=8, max_features=log2, n_estimators=500 \n",
      "[CV]  criterion=gini, max_depth=8, max_features=log2, n_estimators=500, total=   1.6s\n",
      "[CV] criterion=gini, max_depth=8, max_features=log2, n_estimators=500 \n",
      "[CV]  criterion=gini, max_depth=8, max_features=log2, n_estimators=500, total=   1.5s\n",
      "[CV] criterion=entropy, max_depth=4, max_features=auto, n_estimators=200 \n",
      "[CV]  criterion=entropy, max_depth=4, max_features=auto, n_estimators=200, total=   0.6s\n",
      "[CV] criterion=entropy, max_depth=4, max_features=auto, n_estimators=200 \n",
      "[CV]  criterion=entropy, max_depth=4, max_features=auto, n_estimators=200, total=   0.6s\n",
      "[CV] criterion=entropy, max_depth=4, max_features=auto, n_estimators=200 \n",
      "[CV]  criterion=entropy, max_depth=4, max_features=auto, n_estimators=200, total=   0.6s\n",
      "[CV] criterion=entropy, max_depth=4, max_features=auto, n_estimators=500 \n",
      "[CV]  criterion=entropy, max_depth=4, max_features=auto, n_estimators=500, total=   1.5s\n",
      "[CV] criterion=entropy, max_depth=4, max_features=auto, n_estimators=500 \n",
      "[CV]  criterion=entropy, max_depth=4, max_features=auto, n_estimators=500, total=   1.5s\n",
      "[CV] criterion=entropy, max_depth=4, max_features=auto, n_estimators=500 \n",
      "[CV]  criterion=entropy, max_depth=4, max_features=auto, n_estimators=500, total=   1.5s\n",
      "[CV] criterion=entropy, max_depth=4, max_features=sqrt, n_estimators=200 \n",
      "[CV]  criterion=entropy, max_depth=4, max_features=sqrt, n_estimators=200, total=   0.6s\n",
      "[CV] criterion=entropy, max_depth=4, max_features=sqrt, n_estimators=200 \n",
      "[CV]  criterion=entropy, max_depth=4, max_features=sqrt, n_estimators=200, total=   0.6s\n",
      "[CV] criterion=entropy, max_depth=4, max_features=sqrt, n_estimators=500 \n",
      "[CV]  criterion=entropy, max_depth=4, max_features=sqrt, n_estimators=500, total=   1.6s\n",
      "[CV] criterion=entropy, max_depth=4, max_features=sqrt, n_estimators=500 \n",
      "[CV]  criterion=entropy, max_depth=4, max_features=sqrt, n_estimators=500, total=   1.5s\n",
      "[CV] criterion=entropy, max_depth=4, max_features=log2, n_estimators=200 \n",
      "[CV]  criterion=entropy, max_depth=4, max_features=log2, n_estimators=200, total=   0.6s\n",
      "[CV] criterion=entropy, max_depth=4, max_features=log2, n_estimators=200 \n",
      "[CV]  criterion=entropy, max_depth=4, max_features=log2, n_estimators=200, total=   0.6s\n",
      "[CV] criterion=entropy, max_depth=4, max_features=log2, n_estimators=200 \n",
      "[CV]  criterion=entropy, max_depth=4, max_features=log2, n_estimators=200, total=   0.6s\n",
      "[CV] criterion=entropy, max_depth=4, max_features=log2, n_estimators=500 \n",
      "[CV]  criterion=entropy, max_depth=4, max_features=log2, n_estimators=500, total=   1.5s\n",
      "[CV] criterion=entropy, max_depth=4, max_features=log2, n_estimators=500 \n",
      "[CV]  criterion=entropy, max_depth=4, max_features=log2, n_estimators=500, total=   1.5s\n",
      "[CV] criterion=entropy, max_depth=4, max_features=log2, n_estimators=500 \n",
      "[CV]  criterion=entropy, max_depth=4, max_features=log2, n_estimators=500, total=   2.0s\n",
      "[CV] criterion=entropy, max_depth=5, max_features=auto, n_estimators=200 \n",
      "[CV]  criterion=entropy, max_depth=5, max_features=auto, n_estimators=200, total=   0.6s\n",
      "[CV] criterion=entropy, max_depth=5, max_features=auto, n_estimators=200 \n",
      "[CV]  criterion=entropy, max_depth=5, max_features=auto, n_estimators=200, total=   0.8s\n",
      "[CV] criterion=entropy, max_depth=5, max_features=auto, n_estimators=500 \n",
      "[CV]  criterion=entropy, max_depth=5, max_features=auto, n_estimators=500, total=   1.6s\n",
      "[CV] criterion=entropy, max_depth=5, max_features=auto, n_estimators=500 \n",
      "[CV]  criterion=entropy, max_depth=5, max_features=auto, n_estimators=500, total=   1.6s\n",
      "[CV] criterion=entropy, max_depth=5, max_features=sqrt, n_estimators=200 \n",
      "[CV]  criterion=entropy, max_depth=5, max_features=sqrt, n_estimators=200, total=   0.6s\n",
      "[CV] criterion=entropy, max_depth=5, max_features=sqrt, n_estimators=200 \n",
      "[CV]  criterion=entropy, max_depth=5, max_features=sqrt, n_estimators=200, total=   0.6s\n",
      "[CV] criterion=entropy, max_depth=5, max_features=sqrt, n_estimators=200 \n",
      "[CV]  criterion=entropy, max_depth=5, max_features=sqrt, n_estimators=200, total=   0.6s\n",
      "[CV] criterion=entropy, max_depth=5, max_features=sqrt, n_estimators=500 \n",
      "[CV]  criterion=entropy, max_depth=5, max_features=sqrt, n_estimators=500, total=   1.6s\n",
      "[CV] criterion=entropy, max_depth=5, max_features=sqrt, n_estimators=500 \n",
      "[CV]  criterion=entropy, max_depth=5, max_features=sqrt, n_estimators=500, total=   1.6s\n",
      "[CV]  criterion=gini, max_depth=7, max_features=sqrt, n_estimators=500, total=   1.6s\n",
      "[CV] criterion=gini, max_depth=7, max_features=sqrt, n_estimators=500 \n",
      "[CV]  criterion=gini, max_depth=7, max_features=sqrt, n_estimators=500, total=   1.5s\n",
      "[CV] criterion=gini, max_depth=7, max_features=sqrt, n_estimators=500 \n",
      "[CV]  criterion=gini, max_depth=7, max_features=sqrt, n_estimators=500, total=   1.5s\n",
      "[CV] criterion=gini, max_depth=7, max_features=log2, n_estimators=200 \n",
      "[CV]  criterion=gini, max_depth=7, max_features=log2, n_estimators=200, total=   0.6s\n",
      "[CV] criterion=gini, max_depth=7, max_features=log2, n_estimators=200 \n",
      "[CV]  criterion=gini, max_depth=7, max_features=log2, n_estimators=200, total=   0.6s\n",
      "[CV] criterion=gini, max_depth=7, max_features=log2, n_estimators=500 \n",
      "[CV]  criterion=gini, max_depth=7, max_features=log2, n_estimators=500, total=   1.6s\n",
      "[CV] criterion=gini, max_depth=7, max_features=log2, n_estimators=500 \n",
      "[CV]  criterion=gini, max_depth=7, max_features=log2, n_estimators=500, total=   1.5s\n",
      "[CV] criterion=gini, max_depth=8, max_features=auto, n_estimators=200 \n",
      "[CV]  criterion=gini, max_depth=8, max_features=auto, n_estimators=200, total=   0.8s\n",
      "[CV] criterion=gini, max_depth=8, max_features=auto, n_estimators=200 \n",
      "[CV]  criterion=gini, max_depth=8, max_features=auto, n_estimators=200, total=   0.8s\n",
      "[CV] criterion=gini, max_depth=8, max_features=auto, n_estimators=200 \n",
      "[CV]  criterion=gini, max_depth=8, max_features=auto, n_estimators=200, total=   0.6s\n",
      "[CV] criterion=gini, max_depth=8, max_features=auto, n_estimators=500 \n",
      "[CV]  criterion=gini, max_depth=8, max_features=auto, n_estimators=500, total=   1.6s\n",
      "[CV] criterion=gini, max_depth=8, max_features=auto, n_estimators=500 \n",
      "[CV]  criterion=gini, max_depth=8, max_features=auto, n_estimators=500, total=   1.5s\n",
      "[CV] criterion=gini, max_depth=8, max_features=auto, n_estimators=500 \n",
      "[CV]  criterion=gini, max_depth=8, max_features=auto, n_estimators=500, total=   1.6s\n",
      "[CV] criterion=gini, max_depth=8, max_features=sqrt, n_estimators=200 \n",
      "[CV]  criterion=gini, max_depth=8, max_features=sqrt, n_estimators=200, total=   0.6s\n",
      "[CV] criterion=gini, max_depth=8, max_features=sqrt, n_estimators=200 \n",
      "[CV]  criterion=gini, max_depth=8, max_features=sqrt, n_estimators=200, total=   0.6s\n",
      "[CV] criterion=gini, max_depth=8, max_features=sqrt, n_estimators=500 \n",
      "[CV]  criterion=gini, max_depth=8, max_features=sqrt, n_estimators=500, total=   1.5s\n",
      "[CV] criterion=gini, max_depth=8, max_features=sqrt, n_estimators=500 \n",
      "[CV]  criterion=gini, max_depth=8, max_features=sqrt, n_estimators=500, total=   1.5s\n",
      "[CV] criterion=gini, max_depth=8, max_features=log2, n_estimators=200 \n",
      "[CV]  criterion=gini, max_depth=8, max_features=log2, n_estimators=200, total=   0.6s\n",
      "[CV] criterion=gini, max_depth=8, max_features=log2, n_estimators=200 \n",
      "[CV]  criterion=gini, max_depth=8, max_features=log2, n_estimators=200, total=   0.6s\n",
      "[CV] criterion=gini, max_depth=8, max_features=log2, n_estimators=200 \n",
      "[CV]  criterion=gini, max_depth=8, max_features=log2, n_estimators=200, total=   0.6s\n",
      "[CV] criterion=gini, max_depth=8, max_features=log2, n_estimators=500 \n",
      "[CV]  criterion=gini, max_depth=8, max_features=log2, n_estimators=500, total=   1.6s\n",
      "[CV] criterion=gini, max_depth=8, max_features=log2, n_estimators=500 \n",
      "[CV]  criterion=gini, max_depth=8, max_features=log2, n_estimators=500, total=   1.5s\n",
      "[CV] criterion=gini, max_depth=8, max_features=log2, n_estimators=500 \n",
      "[CV]  criterion=gini, max_depth=8, max_features=log2, n_estimators=500, total=   1.5s\n",
      "[CV] criterion=entropy, max_depth=4, max_features=auto, n_estimators=200 \n",
      "[CV]  criterion=entropy, max_depth=4, max_features=auto, n_estimators=200, total=   0.6s\n",
      "[CV] criterion=entropy, max_depth=4, max_features=auto, n_estimators=200 \n",
      "[CV]  criterion=entropy, max_depth=4, max_features=auto, n_estimators=200, total=   0.6s\n",
      "[CV] criterion=entropy, max_depth=4, max_features=auto, n_estimators=500 \n",
      "[CV]  criterion=entropy, max_depth=4, max_features=auto, n_estimators=500, total=   1.5s\n",
      "[CV] criterion=entropy, max_depth=4, max_features=auto, n_estimators=500 \n",
      "[CV]  criterion=entropy, max_depth=4, max_features=auto, n_estimators=500, total=   1.5s\n",
      "[CV] criterion=entropy, max_depth=4, max_features=sqrt, n_estimators=200 \n",
      "[CV]  criterion=entropy, max_depth=4, max_features=sqrt, n_estimators=200, total=   0.6s\n",
      "[CV] criterion=entropy, max_depth=4, max_features=sqrt, n_estimators=200 \n",
      "[CV]  criterion=entropy, max_depth=4, max_features=sqrt, n_estimators=200, total=   0.6s\n",
      "[CV] criterion=entropy, max_depth=4, max_features=sqrt, n_estimators=200 \n",
      "[CV]  criterion=entropy, max_depth=4, max_features=sqrt, n_estimators=200, total=   0.6s\n",
      "[CV] criterion=entropy, max_depth=4, max_features=sqrt, n_estimators=500 \n",
      "[CV]  criterion=entropy, max_depth=4, max_features=sqrt, n_estimators=500, total=   1.6s\n",
      "[CV] criterion=entropy, max_depth=4, max_features=sqrt, n_estimators=500 \n",
      "[CV]  criterion=entropy, max_depth=4, max_features=sqrt, n_estimators=500, total=   1.5s\n",
      "[CV] criterion=entropy, max_depth=4, max_features=sqrt, n_estimators=500 \n",
      "[CV]  criterion=entropy, max_depth=4, max_features=sqrt, n_estimators=500, total=   1.5s\n",
      "[CV] criterion=entropy, max_depth=4, max_features=log2, n_estimators=200 \n",
      "[CV]  criterion=entropy, max_depth=4, max_features=log2, n_estimators=200, total=   0.6s\n",
      "[CV] criterion=entropy, max_depth=4, max_features=log2, n_estimators=200 \n",
      "[CV]  criterion=entropy, max_depth=4, max_features=log2, n_estimators=200, total=   0.6s\n",
      "[CV] criterion=entropy, max_depth=4, max_features=log2, n_estimators=500 \n",
      "[CV]  criterion=entropy, max_depth=4, max_features=log2, n_estimators=500, total=   1.5s\n",
      "[CV] criterion=entropy, max_depth=4, max_features=log2, n_estimators=500 \n",
      "[CV]  criterion=entropy, max_depth=4, max_features=log2, n_estimators=500, total=   1.5s\n",
      "[CV] criterion=entropy, max_depth=5, max_features=auto, n_estimators=200 \n",
      "[CV]  criterion=entropy, max_depth=5, max_features=auto, n_estimators=200, total=   0.7s\n",
      "[CV] criterion=entropy, max_depth=5, max_features=auto, n_estimators=200 \n",
      "[CV]  criterion=entropy, max_depth=5, max_features=auto, n_estimators=200, total=   0.8s\n",
      "[CV] criterion=entropy, max_depth=5, max_features=auto, n_estimators=200 \n",
      "[CV]  criterion=entropy, max_depth=5, max_features=auto, n_estimators=200, total=   0.6s\n",
      "[CV] criterion=entropy, max_depth=5, max_features=auto, n_estimators=200 \n",
      "[CV]  criterion=entropy, max_depth=5, max_features=auto, n_estimators=200, total=   0.7s\n",
      "[CV] criterion=entropy, max_depth=5, max_features=auto, n_estimators=500 \n",
      "[CV]  criterion=entropy, max_depth=5, max_features=auto, n_estimators=500, total=   1.6s\n",
      "[CV] criterion=entropy, max_depth=5, max_features=auto, n_estimators=500 \n",
      "[CV]  criterion=entropy, max_depth=5, max_features=auto, n_estimators=500, total=   1.6s\n",
      "[CV] criterion=entropy, max_depth=5, max_features=sqrt, n_estimators=200 \n",
      "[CV]  criterion=entropy, max_depth=5, max_features=sqrt, n_estimators=200, total=   0.6s\n",
      "[CV] criterion=entropy, max_depth=5, max_features=sqrt, n_estimators=200 \n",
      "[CV]  criterion=entropy, max_depth=5, max_features=sqrt, n_estimators=200, total=   0.6s\n",
      "[CV] criterion=entropy, max_depth=5, max_features=sqrt, n_estimators=200 \n",
      "[CV]  criterion=entropy, max_depth=5, max_features=sqrt, n_estimators=200, total=   0.6s\n",
      "[CV] criterion=entropy, max_depth=5, max_features=sqrt, n_estimators=500 \n",
      "[CV]  criterion=entropy, max_depth=5, max_features=sqrt, n_estimators=500, total=   1.6s\n",
      "[CV] criterion=entropy, max_depth=5, max_features=sqrt, n_estimators=500 \n",
      "[CV]  criterion=entropy, max_depth=5, max_features=sqrt, n_estimators=500, total=   1.5s\n",
      "[CV] criterion=entropy, max_depth=5, max_features=sqrt, n_estimators=500 \n",
      "[CV]  criterion=entropy, max_depth=5, max_features=sqrt, n_estimators=500, total=   1.6s\n",
      "[CV] criterion=entropy, max_depth=5, max_features=log2, n_estimators=200 \n",
      "[CV]  criterion=entropy, max_depth=5, max_features=log2, n_estimators=200, total=   0.7s\n",
      "[CV] criterion=entropy, max_depth=5, max_features=log2, n_estimators=200 \n",
      "[CV]  criterion=entropy, max_depth=5, max_features=log2, n_estimators=200, total=   0.7s\n",
      "[CV] criterion=entropy, max_depth=5, max_features=log2, n_estimators=500 \n",
      "[CV]  criterion=entropy, max_depth=5, max_features=log2, n_estimators=500, total=   1.5s\n",
      "[CV]  criterion=gini, max_depth=7, max_features=sqrt, n_estimators=500, total=   1.5s\n",
      "[CV] criterion=gini, max_depth=7, max_features=log2, n_estimators=200 \n",
      "[CV]  criterion=gini, max_depth=7, max_features=log2, n_estimators=200, total=   0.6s\n",
      "[CV] criterion=gini, max_depth=7, max_features=log2, n_estimators=200 \n",
      "[CV]  criterion=gini, max_depth=7, max_features=log2, n_estimators=200, total=   0.6s\n",
      "[CV] criterion=gini, max_depth=7, max_features=log2, n_estimators=200 \n",
      "[CV]  criterion=gini, max_depth=7, max_features=log2, n_estimators=200, total=   0.6s\n",
      "[CV] criterion=gini, max_depth=7, max_features=log2, n_estimators=500 \n",
      "[CV]  criterion=gini, max_depth=7, max_features=log2, n_estimators=500, total=   1.5s\n",
      "[CV] criterion=gini, max_depth=7, max_features=log2, n_estimators=500 \n",
      "[CV]  criterion=gini, max_depth=7, max_features=log2, n_estimators=500, total=   1.5s\n",
      "[CV] criterion=gini, max_depth=7, max_features=log2, n_estimators=500 \n",
      "[CV]  criterion=gini, max_depth=7, max_features=log2, n_estimators=500, total=   1.9s\n",
      "[CV] criterion=gini, max_depth=8, max_features=auto, n_estimators=200 \n",
      "[CV]  criterion=gini, max_depth=8, max_features=auto, n_estimators=200, total=   0.8s\n",
      "[CV] criterion=gini, max_depth=8, max_features=auto, n_estimators=200 \n",
      "[CV]  criterion=gini, max_depth=8, max_features=auto, n_estimators=200, total=   0.7s\n",
      "[CV] criterion=gini, max_depth=8, max_features=auto, n_estimators=500 \n",
      "[CV]  criterion=gini, max_depth=8, max_features=auto, n_estimators=500, total=   1.6s\n",
      "[CV] criterion=gini, max_depth=8, max_features=auto, n_estimators=500 \n",
      "[CV]  criterion=gini, max_depth=8, max_features=auto, n_estimators=500, total=   1.6s\n",
      "[CV] criterion=gini, max_depth=8, max_features=sqrt, n_estimators=200 \n",
      "[CV]  criterion=gini, max_depth=8, max_features=sqrt, n_estimators=200, total=   0.6s\n",
      "[CV] criterion=gini, max_depth=8, max_features=sqrt, n_estimators=200 \n",
      "[CV]  criterion=gini, max_depth=8, max_features=sqrt, n_estimators=200, total=   0.6s\n",
      "[CV] criterion=gini, max_depth=8, max_features=sqrt, n_estimators=200 \n",
      "[CV]  criterion=gini, max_depth=8, max_features=sqrt, n_estimators=200, total=   0.6s\n",
      "[CV] criterion=gini, max_depth=8, max_features=sqrt, n_estimators=500 \n",
      "[CV]  criterion=gini, max_depth=8, max_features=sqrt, n_estimators=500, total=   1.6s\n",
      "[CV] criterion=gini, max_depth=8, max_features=sqrt, n_estimators=500 \n",
      "[CV]  criterion=gini, max_depth=8, max_features=sqrt, n_estimators=500, total=   1.5s\n",
      "[CV] criterion=gini, max_depth=8, max_features=sqrt, n_estimators=500 \n",
      "[CV]  criterion=gini, max_depth=8, max_features=sqrt, n_estimators=500, total=   1.6s\n",
      "[CV] criterion=gini, max_depth=8, max_features=log2, n_estimators=200 \n",
      "[CV]  criterion=gini, max_depth=8, max_features=log2, n_estimators=200, total=   0.6s\n",
      "[CV] criterion=gini, max_depth=8, max_features=log2, n_estimators=500 \n",
      "[CV]  criterion=gini, max_depth=8, max_features=log2, n_estimators=500, total=   1.7s\n",
      "[CV] criterion=gini, max_depth=8, max_features=log2, n_estimators=500 \n",
      "[CV]  criterion=gini, max_depth=8, max_features=log2, n_estimators=500, total=   1.6s\n",
      "[CV] criterion=gini, max_depth=8, max_features=log2, n_estimators=500 \n",
      "[CV]  criterion=gini, max_depth=8, max_features=log2, n_estimators=500, total=   1.5s\n",
      "[CV] criterion=entropy, max_depth=4, max_features=auto, n_estimators=200 \n",
      "[CV]  criterion=entropy, max_depth=4, max_features=auto, n_estimators=200, total=   0.6s\n",
      "[CV] criterion=entropy, max_depth=4, max_features=auto, n_estimators=200 \n",
      "[CV]  criterion=entropy, max_depth=4, max_features=auto, n_estimators=200, total=   0.6s\n",
      "[CV] criterion=entropy, max_depth=4, max_features=auto, n_estimators=500 \n",
      "[CV]  criterion=entropy, max_depth=4, max_features=auto, n_estimators=500, total=   1.5s\n",
      "[CV] criterion=entropy, max_depth=4, max_features=auto, n_estimators=500 \n",
      "[CV]  criterion=entropy, max_depth=4, max_features=auto, n_estimators=500, total=   1.6s\n",
      "[CV] criterion=entropy, max_depth=4, max_features=sqrt, n_estimators=200 \n",
      "[CV]  criterion=entropy, max_depth=4, max_features=sqrt, n_estimators=200, total=   0.6s\n",
      "[CV] criterion=entropy, max_depth=4, max_features=sqrt, n_estimators=200 \n",
      "[CV]  criterion=entropy, max_depth=4, max_features=sqrt, n_estimators=200, total=   0.6s\n",
      "[CV] criterion=entropy, max_depth=4, max_features=sqrt, n_estimators=200 \n",
      "[CV]  criterion=entropy, max_depth=4, max_features=sqrt, n_estimators=200, total=   0.6s\n",
      "[CV] criterion=entropy, max_depth=4, max_features=sqrt, n_estimators=500 \n",
      "[CV]  criterion=entropy, max_depth=4, max_features=sqrt, n_estimators=500, total=   1.6s\n",
      "[CV] criterion=entropy, max_depth=4, max_features=sqrt, n_estimators=500 \n",
      "[CV]  criterion=entropy, max_depth=4, max_features=sqrt, n_estimators=500, total=   1.5s\n",
      "[CV] criterion=entropy, max_depth=4, max_features=sqrt, n_estimators=500 \n",
      "[CV]  criterion=entropy, max_depth=4, max_features=sqrt, n_estimators=500, total=   1.6s\n",
      "[CV] criterion=entropy, max_depth=4, max_features=log2, n_estimators=200 \n",
      "[CV]  criterion=entropy, max_depth=4, max_features=log2, n_estimators=200, total=   0.6s\n",
      "[CV] criterion=entropy, max_depth=4, max_features=log2, n_estimators=200 \n",
      "[CV]  criterion=entropy, max_depth=4, max_features=log2, n_estimators=200, total=   0.6s\n",
      "[CV] criterion=entropy, max_depth=4, max_features=log2, n_estimators=500 \n",
      "[CV]  criterion=entropy, max_depth=4, max_features=log2, n_estimators=500, total=   1.6s\n",
      "[CV] criterion=entropy, max_depth=4, max_features=log2, n_estimators=500 \n",
      "[CV]  criterion=entropy, max_depth=4, max_features=log2, n_estimators=500, total=   1.6s\n",
      "[CV] criterion=entropy, max_depth=5, max_features=auto, n_estimators=200 \n",
      "[CV]  criterion=entropy, max_depth=5, max_features=auto, n_estimators=200, total=   0.8s\n",
      "[CV] criterion=entropy, max_depth=5, max_features=auto, n_estimators=200 \n",
      "[CV]  criterion=entropy, max_depth=5, max_features=auto, n_estimators=200, total=   0.8s\n",
      "[CV] criterion=entropy, max_depth=5, max_features=auto, n_estimators=200 \n",
      "[CV]  criterion=entropy, max_depth=5, max_features=auto, n_estimators=200, total=   0.6s\n",
      "[CV] criterion=entropy, max_depth=5, max_features=auto, n_estimators=500 \n",
      "[CV]  criterion=entropy, max_depth=5, max_features=auto, n_estimators=500, total=   1.6s\n",
      "[CV] criterion=entropy, max_depth=5, max_features=auto, n_estimators=500 \n",
      "[CV]  criterion=entropy, max_depth=5, max_features=auto, n_estimators=500, total=   1.6s\n",
      "[CV] criterion=entropy, max_depth=5, max_features=auto, n_estimators=500 \n",
      "[CV]  criterion=entropy, max_depth=5, max_features=auto, n_estimators=500, total=   1.6s\n",
      "[CV] criterion=entropy, max_depth=5, max_features=sqrt, n_estimators=200 \n",
      "[CV]  criterion=entropy, max_depth=5, max_features=sqrt, n_estimators=200, total=   0.6s\n",
      "[CV] criterion=entropy, max_depth=5, max_features=sqrt, n_estimators=200 \n",
      "[CV]  criterion=entropy, max_depth=5, max_features=sqrt, n_estimators=200, total=   0.6s\n",
      "[CV] criterion=entropy, max_depth=5, max_features=sqrt, n_estimators=500 \n",
      "[CV]  criterion=entropy, max_depth=5, max_features=sqrt, n_estimators=500, total=   1.6s\n",
      "[CV] criterion=entropy, max_depth=5, max_features=sqrt, n_estimators=500 \n",
      "[CV]  criterion=entropy, max_depth=5, max_features=sqrt, n_estimators=500, total=   1.5s\n",
      "[CV] criterion=entropy, max_depth=5, max_features=log2, n_estimators=200 \n",
      "[CV]  criterion=entropy, max_depth=5, max_features=log2, n_estimators=200, total=   0.6s\n",
      "[CV] criterion=entropy, max_depth=5, max_features=log2, n_estimators=200 \n",
      "[CV]  criterion=entropy, max_depth=5, max_features=log2, n_estimators=200, total=   0.7s\n",
      "[CV] criterion=entropy, max_depth=5, max_features=log2, n_estimators=200 \n",
      "[CV]  criterion=entropy, max_depth=5, max_features=log2, n_estimators=200, total=   0.7s\n",
      "[CV] criterion=entropy, max_depth=5, max_features=log2, n_estimators=500 \n",
      "[CV]  criterion=entropy, max_depth=5, max_features=log2, n_estimators=500, total=   1.5s\n",
      "[CV] criterion=entropy, max_depth=5, max_features=log2, n_estimators=500 \n",
      "[CV]  criterion=entropy, max_depth=5, max_features=log2, n_estimators=500, total=   1.6s\n",
      "[CV] criterion=entropy, max_depth=5, max_features=log2, n_estimators=500 \n",
      "[CV]  criterion=entropy, max_depth=5, max_features=log2, n_estimators=500, total=   1.5s\n",
      "[CV] criterion=entropy, max_depth=6, max_features=auto, n_estimators=200 \n",
      "[CV]  criterion=entropy, max_depth=6, max_features=auto, n_estimators=200, total=   0.6s\n",
      "[CV]  criterion=gini, max_depth=7, max_features=sqrt, n_estimators=500, total=   1.6s\n",
      "[CV] criterion=gini, max_depth=7, max_features=log2, n_estimators=200 \n",
      "[CV]  criterion=gini, max_depth=7, max_features=log2, n_estimators=200, total=   0.6s\n",
      "[CV] criterion=gini, max_depth=7, max_features=log2, n_estimators=200 \n",
      "[CV]  criterion=gini, max_depth=7, max_features=log2, n_estimators=200, total=   0.6s\n",
      "[CV] criterion=gini, max_depth=7, max_features=log2, n_estimators=200 \n",
      "[CV]  criterion=gini, max_depth=7, max_features=log2, n_estimators=200, total=   0.6s\n",
      "[CV] criterion=gini, max_depth=7, max_features=log2, n_estimators=500 \n",
      "[CV]  criterion=gini, max_depth=7, max_features=log2, n_estimators=500, total=   1.6s\n",
      "[CV] criterion=gini, max_depth=7, max_features=log2, n_estimators=500 \n",
      "[CV]  criterion=gini, max_depth=7, max_features=log2, n_estimators=500, total=   1.6s\n",
      "[CV] criterion=gini, max_depth=7, max_features=log2, n_estimators=500 \n",
      "[CV]  criterion=gini, max_depth=7, max_features=log2, n_estimators=500, total=   1.8s\n",
      "[CV] criterion=gini, max_depth=8, max_features=auto, n_estimators=200 \n",
      "[CV]  criterion=gini, max_depth=8, max_features=auto, n_estimators=200, total=   0.6s\n",
      "[CV] criterion=gini, max_depth=8, max_features=auto, n_estimators=200 \n",
      "[CV]  criterion=gini, max_depth=8, max_features=auto, n_estimators=200, total=   0.6s\n",
      "[CV] criterion=gini, max_depth=8, max_features=auto, n_estimators=500 \n",
      "[CV]  criterion=gini, max_depth=8, max_features=auto, n_estimators=500, total=   1.6s\n",
      "[CV] criterion=gini, max_depth=8, max_features=auto, n_estimators=500 \n",
      "[CV]  criterion=gini, max_depth=8, max_features=auto, n_estimators=500, total=   1.6s\n",
      "[CV] criterion=gini, max_depth=8, max_features=sqrt, n_estimators=200 \n",
      "[CV]  criterion=gini, max_depth=8, max_features=sqrt, n_estimators=200, total=   0.6s\n",
      "[CV] criterion=gini, max_depth=8, max_features=sqrt, n_estimators=200 \n",
      "[CV]  criterion=gini, max_depth=8, max_features=sqrt, n_estimators=200, total=   0.6s\n",
      "[CV] criterion=gini, max_depth=8, max_features=sqrt, n_estimators=200 \n",
      "[CV]  criterion=gini, max_depth=8, max_features=sqrt, n_estimators=200, total=   0.6s\n",
      "[CV] criterion=gini, max_depth=8, max_features=sqrt, n_estimators=500 \n",
      "[CV]  criterion=gini, max_depth=8, max_features=sqrt, n_estimators=500, total=   1.6s\n",
      "[CV] criterion=gini, max_depth=8, max_features=sqrt, n_estimators=500 \n",
      "[CV]  criterion=gini, max_depth=8, max_features=sqrt, n_estimators=500, total=   1.5s\n",
      "[CV] criterion=gini, max_depth=8, max_features=sqrt, n_estimators=500 \n",
      "[CV]  criterion=gini, max_depth=8, max_features=sqrt, n_estimators=500, total=   1.6s\n",
      "[CV] criterion=gini, max_depth=8, max_features=log2, n_estimators=200 \n",
      "[CV]  criterion=gini, max_depth=8, max_features=log2, n_estimators=200, total=   0.6s\n",
      "[CV] criterion=gini, max_depth=8, max_features=log2, n_estimators=200 \n",
      "[CV]  criterion=gini, max_depth=8, max_features=log2, n_estimators=200, total=   0.7s\n",
      "[CV] criterion=gini, max_depth=8, max_features=log2, n_estimators=500 \n",
      "[CV]  criterion=gini, max_depth=8, max_features=log2, n_estimators=500, total=   1.6s\n",
      "[CV] criterion=gini, max_depth=8, max_features=log2, n_estimators=500 \n",
      "[CV]  criterion=gini, max_depth=8, max_features=log2, n_estimators=500, total=   1.6s\n",
      "[CV] criterion=entropy, max_depth=4, max_features=auto, n_estimators=200 \n",
      "[CV]  criterion=entropy, max_depth=4, max_features=auto, n_estimators=200, total=   0.6s\n",
      "[CV] criterion=entropy, max_depth=4, max_features=auto, n_estimators=200 \n",
      "[CV]  criterion=entropy, max_depth=4, max_features=auto, n_estimators=200, total=   0.6s\n",
      "[CV] criterion=entropy, max_depth=4, max_features=auto, n_estimators=200 \n",
      "[CV]  criterion=entropy, max_depth=4, max_features=auto, n_estimators=200, total=   0.6s\n",
      "[CV] criterion=entropy, max_depth=4, max_features=auto, n_estimators=500 \n",
      "[CV]  criterion=entropy, max_depth=4, max_features=auto, n_estimators=500, total=   1.5s\n",
      "[CV] criterion=entropy, max_depth=4, max_features=auto, n_estimators=500 \n",
      "[CV]  criterion=entropy, max_depth=4, max_features=auto, n_estimators=500, total=   1.6s\n",
      "[CV] criterion=entropy, max_depth=4, max_features=auto, n_estimators=500 \n",
      "[CV]  criterion=entropy, max_depth=4, max_features=auto, n_estimators=500, total=   1.5s\n",
      "[CV] criterion=entropy, max_depth=4, max_features=sqrt, n_estimators=200 \n",
      "[CV]  criterion=entropy, max_depth=4, max_features=sqrt, n_estimators=200, total=   0.6s\n",
      "[CV] criterion=entropy, max_depth=4, max_features=sqrt, n_estimators=200 \n",
      "[CV]  criterion=entropy, max_depth=4, max_features=sqrt, n_estimators=200, total=   0.7s\n",
      "[CV] criterion=entropy, max_depth=4, max_features=sqrt, n_estimators=500 \n",
      "[CV]  criterion=entropy, max_depth=4, max_features=sqrt, n_estimators=500, total=   1.5s\n",
      "[CV] criterion=entropy, max_depth=4, max_features=sqrt, n_estimators=500 \n",
      "[CV]  criterion=entropy, max_depth=4, max_features=sqrt, n_estimators=500, total=   1.5s\n",
      "[CV] criterion=entropy, max_depth=4, max_features=log2, n_estimators=200 \n",
      "[CV]  criterion=entropy, max_depth=4, max_features=log2, n_estimators=200, total=   0.6s\n",
      "[CV] criterion=entropy, max_depth=4, max_features=log2, n_estimators=200 \n",
      "[CV]  criterion=entropy, max_depth=4, max_features=log2, n_estimators=200, total=   0.6s\n",
      "[CV] criterion=entropy, max_depth=4, max_features=log2, n_estimators=200 \n",
      "[CV]  criterion=entropy, max_depth=4, max_features=log2, n_estimators=200, total=   0.6s\n",
      "[CV] criterion=entropy, max_depth=4, max_features=log2, n_estimators=500 \n",
      "[CV]  criterion=entropy, max_depth=4, max_features=log2, n_estimators=500, total=   1.5s\n",
      "[CV] criterion=entropy, max_depth=4, max_features=log2, n_estimators=500 \n",
      "[CV]  criterion=entropy, max_depth=4, max_features=log2, n_estimators=500, total=   1.6s\n",
      "[CV] criterion=entropy, max_depth=4, max_features=log2, n_estimators=500 \n",
      "[CV]  criterion=entropy, max_depth=4, max_features=log2, n_estimators=500, total=   1.9s\n",
      "[CV] criterion=entropy, max_depth=5, max_features=auto, n_estimators=200 \n",
      "[CV]  criterion=entropy, max_depth=5, max_features=auto, n_estimators=200, total=   0.7s\n",
      "[CV] criterion=entropy, max_depth=5, max_features=auto, n_estimators=500 \n",
      "[CV]  criterion=entropy, max_depth=5, max_features=auto, n_estimators=500, total=   1.6s\n",
      "[CV] criterion=entropy, max_depth=5, max_features=auto, n_estimators=500 \n",
      "[CV]  criterion=entropy, max_depth=5, max_features=auto, n_estimators=500, total=   1.6s\n",
      "[CV] criterion=entropy, max_depth=5, max_features=auto, n_estimators=500 \n",
      "[CV]  criterion=entropy, max_depth=5, max_features=auto, n_estimators=500, total=   1.6s\n",
      "[CV] criterion=entropy, max_depth=5, max_features=sqrt, n_estimators=200 \n",
      "[CV]  criterion=entropy, max_depth=5, max_features=sqrt, n_estimators=200, total=   0.6s\n",
      "[CV] criterion=entropy, max_depth=5, max_features=sqrt, n_estimators=200 \n",
      "[CV]  criterion=entropy, max_depth=5, max_features=sqrt, n_estimators=200, total=   0.7s\n",
      "[CV] criterion=entropy, max_depth=5, max_features=sqrt, n_estimators=500 \n",
      "[CV]  criterion=entropy, max_depth=5, max_features=sqrt, n_estimators=500, total=   1.5s\n",
      "[CV] criterion=entropy, max_depth=5, max_features=sqrt, n_estimators=500 \n",
      "[CV]  criterion=entropy, max_depth=5, max_features=sqrt, n_estimators=500, total=   1.6s\n",
      "[CV] criterion=entropy, max_depth=5, max_features=log2, n_estimators=200 \n",
      "[CV]  criterion=entropy, max_depth=5, max_features=log2, n_estimators=200, total=   0.6s\n",
      "[CV] criterion=entropy, max_depth=5, max_features=log2, n_estimators=200 \n",
      "[CV]  criterion=entropy, max_depth=5, max_features=log2, n_estimators=200, total=   0.6s\n",
      "[CV] criterion=entropy, max_depth=5, max_features=log2, n_estimators=200 \n",
      "[CV]  criterion=entropy, max_depth=5, max_features=log2, n_estimators=200, total=   0.7s\n",
      "[CV] criterion=entropy, max_depth=5, max_features=log2, n_estimators=500 \n",
      "[CV]  criterion=entropy, max_depth=5, max_features=log2, n_estimators=500, total=   1.6s\n",
      "[CV] criterion=entropy, max_depth=5, max_features=log2, n_estimators=500 \n",
      "[CV]  criterion=entropy, max_depth=5, max_features=log2, n_estimators=500, total=   1.6s\n",
      "[CV] criterion=entropy, max_depth=5, max_features=log2, n_estimators=500 \n",
      "[CV]  criterion=entropy, max_depth=5, max_features=log2, n_estimators=500, total=   1.6s\n",
      "[CV] criterion=entropy, max_depth=6, max_features=auto, n_estimators=200 \n",
      "[CV]  criterion=entropy, max_depth=6, max_features=auto, n_estimators=200, total=   0.6s"
     ]
    },
    {
     "name": "stderr",
     "output_type": "stream",
     "text": [
      "[Parallel(n_jobs=-1)]: Done 600 out of 600 | elapsed:  2.9min finished\n"
     ]
    },
    {
     "name": "stdout",
     "output_type": "stream",
     "text": [
      "best grid =  {'criterion': 'entropy', 'max_depth': 7, 'max_features': 'sqrt', 'n_estimators': 200}\n",
      "Grid Score =  0.8688524590163934\n"
     ]
    }
   ],
   "source": [
    "np.random.seed(42)\n",
    "param_grid = { \n",
    "    'n_estimators': [200, 500],\n",
    "    'max_features': ['auto', 'sqrt', 'log2'],\n",
    "    'max_depth' : [4,5,6,7,8],\n",
    "    'criterion' :['gini', 'entropy']\n",
    "}\n",
    "grid_search = GridSearchCV(estimator = RandomForestClassifier(), param_grid = param_grid, \n",
    "                          cv = 10, n_jobs = -1, verbose = 2)\n",
    "grid_search.fit(X_train, y_train)\n",
    "best_grid = grid_search.best_params_\n",
    "print('best grid = ', best_grid)\n",
    "grid_accuracy = grid_search.score(X_test, y_test)\n",
    "print('Grid Score = ', grid_accuracy)"
   ]
  },
  {
   "cell_type": "code",
   "execution_count": 23,
   "id": "44fa4152",
   "metadata": {
    "execution": {
     "iopub.execute_input": "2021-11-02T09:50:24.703000Z",
     "iopub.status.busy": "2021-11-02T09:50:24.701960Z",
     "iopub.status.idle": "2021-11-02T09:50:24.707526Z",
     "shell.execute_reply": "2021-11-02T09:50:24.706803Z"
    },
    "papermill": {
     "duration": 0.062668,
     "end_time": "2021-11-02T09:50:24.707691",
     "exception": false,
     "start_time": "2021-11-02T09:50:24.645023",
     "status": "completed"
    },
    "tags": []
   },
   "outputs": [
    {
     "data": {
      "text/plain": [
       "{'criterion': 'entropy',\n",
       " 'max_depth': 7,\n",
       " 'max_features': 'sqrt',\n",
       " 'n_estimators': 200}"
      ]
     },
     "execution_count": 23,
     "metadata": {},
     "output_type": "execute_result"
    }
   ],
   "source": [
    "best_grid\n"
   ]
  },
  {
   "cell_type": "code",
   "execution_count": 24,
   "id": "89081dff",
   "metadata": {
    "execution": {
     "iopub.execute_input": "2021-11-02T09:50:24.817104Z",
     "iopub.status.busy": "2021-11-02T09:50:24.816399Z",
     "iopub.status.idle": "2021-11-02T09:50:24.821046Z",
     "shell.execute_reply": "2021-11-02T09:50:24.821709Z"
    },
    "papermill": {
     "duration": 0.061713,
     "end_time": "2021-11-02T09:50:24.821911",
     "exception": false,
     "start_time": "2021-11-02T09:50:24.760198",
     "status": "completed"
    },
    "tags": []
   },
   "outputs": [
    {
     "data": {
      "text/plain": [
       "0.8688524590163934"
      ]
     },
     "execution_count": 24,
     "metadata": {},
     "output_type": "execute_result"
    }
   ],
   "source": [
    "grid_accuracy"
   ]
  },
  {
   "cell_type": "markdown",
   "id": "b33f4536",
   "metadata": {
    "papermill": {
     "duration": 0.054822,
     "end_time": "2021-11-02T09:50:24.931529",
     "exception": false,
     "start_time": "2021-11-02T09:50:24.876707",
     "status": "completed"
    },
    "tags": []
   },
   "source": [
    "## Comparing results"
   ]
  },
  {
   "cell_type": "code",
   "execution_count": 25,
   "id": "104ac201",
   "metadata": {
    "execution": {
     "iopub.execute_input": "2021-11-02T09:50:25.043834Z",
     "iopub.status.busy": "2021-11-02T09:50:25.043041Z",
     "iopub.status.idle": "2021-11-02T09:50:25.258119Z",
     "shell.execute_reply": "2021-11-02T09:50:25.257559Z"
    },
    "papermill": {
     "duration": 0.272476,
     "end_time": "2021-11-02T09:50:25.258305",
     "exception": false,
     "start_time": "2021-11-02T09:50:24.985829",
     "status": "completed"
    },
    "tags": []
   },
   "outputs": [
    {
     "data": {
      "image/png": "[encoded data removed]",
      "text/plain": [
       "<Figure size 432x288 with 1 Axes>"
      ]
     },
     "metadata": {
      "needs_background": "light"
     },
     "output_type": "display_data"
    }
   ],
   "source": [
    "model_scores = {'clf': clf_accuracy, 'grid_searche': grid_accuracy}\n",
    "model_compare = pd.DataFrame(model_scores, index=['accuracy'])\n",
    "model_compare.T.plot.bar();\n",
    "plt.xticks(rotation = 0);"
   ]
  },
  {
   "cell_type": "code",
   "execution_count": null,
   "id": "cfb6a28f",
   "metadata": {
    "papermill": {
     "duration": 0.053431,
     "end_time": "2021-11-02T09:50:25.365557",
     "exception": false,
     "start_time": "2021-11-02T09:50:25.312126",
     "status": "completed"
    },
    "tags": []
   },
   "outputs": [],
   "source": []
  }
 ],
 "metadata": {
  "kernelspec": {
   "display_name": "Python 3",
   "language": "python",
   "name": "python3"
  },
  "language_info": {
   "codemirror_mode": {
    "name": "ipython",
    "version": 3
   },
   "file_extension": ".py",
   "mimetype": "text/x-python",
   "name": "python",
   "nbconvert_exporter": "python",
   "pygments_lexer": "ipython3",
   "version": "3.7.10"
  },
  "papermill": {
   "default_parameters": {},
   "duration": 210.909464,
   "end_time": "2021-11-02T09:50:26.737001",
   "environment_variables": {},
   "exception": null,
   "input_path": "__notebook__.ipynb",
   "output_path": "__notebook__.ipynb",
   "parameters": {},
   "start_time": "2021-11-02T09:46:55.827537",
   "version": "2.3.3"
  }
 },
 "nbformat": 4,
 "nbformat_minor": 5
}
